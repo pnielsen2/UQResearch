{
 "cells": [
  {
   "cell_type": "code",
   "execution_count": 46,
   "metadata": {},
   "outputs": [],
   "source": [
    "import torch\n",
    "import torchvision\n",
    "import matplotlib.pyplot as plt\n",
    "from tqdm import tqdm\n",
    "from torchvision import datasets, transforms\n",
    "import general_models\n",
    "import scipy\n",
    "import numpy as np"
   ]
  },
  {
   "cell_type": "code",
   "execution_count": 2,
   "metadata": {},
   "outputs": [],
   "source": [
    "transform = transforms.Compose([transforms.ToTensor(),\n",
    "                              transforms.Normalize((0.1307,), (0.3081,)),\n",
    "                              ])\n",
    "\n",
    "train_dataset = datasets.MNIST('./mnist/MNIST_data/', download=True, train=True, transform=transform)\n",
    "test_dataset = datasets.MNIST('./mnist/MNIST_data/', download=True, train=False, transform=transform)\n",
    "\n",
    "train_dataloader = torch.utils.data.DataLoader(train_dataset, batch_size=1024, shuffle=True)\n",
    "test_dataloader = torch.utils.data.DataLoader(test_dataset, batch_size=len(test_dataset), shuffle=True)"
   ]
  },
  {
   "cell_type": "code",
   "execution_count": 3,
   "metadata": {},
   "outputs": [],
   "source": [
    "def loss(y_hat, y):\n",
    "    # y_hat has shape (N, 10) for 10 classes, y has shape (N,)\n",
    "    f = torch.nn.CrossEntropyLoss()\n",
    "    return f(y_hat, y)"
   ]
  },
  {
   "cell_type": "code",
   "execution_count": 4,
   "metadata": {},
   "outputs": [],
   "source": [
    "def probabilties_from_scores(y):\n",
    "    f = torch.nn.Softmax(dim=1)\n",
    "    p = f(y)\n",
    "    return p"
   ]
  },
  {
   "cell_type": "code",
   "execution_count": 12,
   "metadata": {},
   "outputs": [
    {
     "data": {
      "text/plain": [
       "0.9061938024368232"
      ]
     },
     "execution_count": 12,
     "metadata": {},
     "output_type": "execute_result"
    }
   ],
   "source": [
    "scipy.special.erfinv(1-1/5)"
   ]
  },
  {
   "cell_type": "code",
   "execution_count": 34,
   "metadata": {},
   "outputs": [],
   "source": [
    "def evaluate(dataloader, model, device, log=False):\n",
    "    correct_count, total_count = 0, 0\n",
    "    for images_batch, labels_batch in dataloader:\n",
    "        images = images_batch.reshape(images_batch.shape[0], 28*28)\n",
    "        alphas, betas = model(images.to(device))\n",
    "        probabilities = alphas/(alphas+betas)\n",
    "        # probabilities = probabilties_from_scores(scores)\n",
    "\n",
    "        pred_label = probabilities.max(1, keepdim=True)[1]\n",
    "        correct_count += pred_label.eq(labels_batch.to(device).view_as(pred_label)).sum().item()\n",
    "        total_count += labels_batch.shape[0]\n",
    "\n",
    "    if log:\n",
    "        print(\"Number Of Images Tested =\", total_count)\n",
    "        print(\"Model Accuracy =\", (correct_count/total_count))\n",
    "\n",
    "    return (correct_count/total_count)"
   ]
  },
  {
   "cell_type": "code",
   "execution_count": 27,
   "metadata": {},
   "outputs": [],
   "source": [
    "class Net(torch.nn.Module):\n",
    "    def __init__(self, layer_sizes, inference_type='regression'):\n",
    "        super(Net, self).__init__()\n",
    "        self.layers = torch.nn.ModuleList([torch.nn.Linear(layer_sizes[i], layer_sizes[i+1]) for i in range(len(layer_sizes)-2)])\n",
    "        self.output_layer = torch.nn.Linear(layer_sizes[-2], layer_sizes[-1])\n",
    "        self.inference_type = inference_type\n",
    "\n",
    "    def forward(self, x):\n",
    "        # x = self.input_instance_norm(x)\n",
    "        for i in range(len(self.layers)):\n",
    "            x = self.layers[i](x)\n",
    "            x = torch.nn.functional.hardtanh_(x) + x\n",
    "        x = self.output_layer(x)\n",
    "        if self.inference_type == 'classification':\n",
    "            x = torch.nn.functional.softmax(x,dim=-1)\n",
    "        return x\n",
    "\n",
    "class EvidentialNet(torch.nn.Module):\n",
    "    def __init__(self, layer_sizes, inference_type='classification'):\n",
    "        super(EvidentialNet, self).__init__()\n",
    "        self.layers = torch.nn.ModuleList([torch.nn.Linear(layer_sizes[i], layer_sizes[i+1]) for i in range(len(layer_sizes)-2)])\n",
    "        self.output_alpha_layer = torch.nn.Linear(layer_sizes[-2], layer_sizes[-1])\n",
    "        self.output_beta_layer = torch.nn.Linear(layer_sizes[-2], layer_sizes[-1])\n",
    "        self.inference_type = inference_type\n",
    "\n",
    "    def forward(self, x):\n",
    "        # x = self.input_instance_norm(x)\n",
    "        for i in range(len(self.layers)):\n",
    "            x = self.layers[i](x)\n",
    "            x = torch.nn.functional.hardtanh_(x) + x\n",
    "        alphas = torch.exp(self.output_alpha_layer(x))\n",
    "        betas = torch.exp(self.output_beta_layer(x))\n",
    "        return alphas, betas"
   ]
  },
  {
   "cell_type": "code",
   "execution_count": 28,
   "metadata": {},
   "outputs": [],
   "source": [
    "def evidential_classification_loss(evidential_output, target):\n",
    "    alphas, betas = evidential_output\n",
    "    return loss(alphas/(alphas+betas), target)"
   ]
  },
  {
   "cell_type": "code",
   "execution_count": 6,
   "metadata": {},
   "outputs": [],
   "source": [
    "device = torch.device(\"cuda:0\" if torch.cuda.is_available() else ('mps' if torch.backends.mps.is_available() else \"cpu\"))"
   ]
  },
  {
   "cell_type": "code",
   "execution_count": 38,
   "metadata": {},
   "outputs": [],
   "source": [
    "# model = general_models.FFNetwork([784, 100, 10], 'classification').to(device)\n",
    "model = EvidentialNet([784, 200, 100, 10], 'classification').to(device)\n",
    "optimizer = torch.optim.Adam(model.parameters(), lr=0.001)"
   ]
  },
  {
   "cell_type": "code",
   "execution_count": 39,
   "metadata": {},
   "outputs": [
    {
     "name": "stderr",
     "output_type": "stream",
     "text": [
      "100%|██████████| 59/59 [00:02<00:00, 23.06it/s]\n"
     ]
    },
    {
     "name": "stdout",
     "output_type": "stream",
     "text": [
      "Epoch 0 - Training loss: 1.6420034998554294  Test Accuracy: 0.9278\n"
     ]
    },
    {
     "name": "stderr",
     "output_type": "stream",
     "text": [
      "100%|██████████| 59/59 [00:02<00:00, 24.24it/s]\n"
     ]
    },
    {
     "name": "stdout",
     "output_type": "stream",
     "text": [
      "Epoch 1 - Training loss: 1.5281803001791745  Test Accuracy: 0.9457\n"
     ]
    },
    {
     "name": "stderr",
     "output_type": "stream",
     "text": [
      "100%|██████████| 59/59 [00:02<00:00, 23.50it/s]\n"
     ]
    },
    {
     "name": "stdout",
     "output_type": "stream",
     "text": [
      "Epoch 2 - Training loss: 1.5077944711103277  Test Accuracy: 0.9578\n"
     ]
    },
    {
     "name": "stderr",
     "output_type": "stream",
     "text": [
      "100%|██████████| 59/59 [00:02<00:00, 24.54it/s]\n"
     ]
    },
    {
     "name": "stdout",
     "output_type": "stream",
     "text": [
      "Epoch 3 - Training loss: 1.4964462700536696  Test Accuracy: 0.9642\n"
     ]
    },
    {
     "name": "stderr",
     "output_type": "stream",
     "text": [
      "100%|██████████| 59/59 [00:02<00:00, 24.34it/s]\n"
     ]
    },
    {
     "name": "stdout",
     "output_type": "stream",
     "text": [
      "Epoch 4 - Training loss: 1.4891036405401714  Test Accuracy: 0.969\n"
     ]
    },
    {
     "name": "stderr",
     "output_type": "stream",
     "text": [
      "100%|██████████| 59/59 [00:02<00:00, 22.94it/s]\n"
     ]
    },
    {
     "name": "stdout",
     "output_type": "stream",
     "text": [
      "Epoch 5 - Training loss: 1.483880826982401  Test Accuracy: 0.9707\n"
     ]
    },
    {
     "name": "stderr",
     "output_type": "stream",
     "text": [
      "100%|██████████| 59/59 [00:02<00:00, 24.85it/s]\n"
     ]
    },
    {
     "name": "stdout",
     "output_type": "stream",
     "text": [
      "Epoch 6 - Training loss: 1.4801020945532848  Test Accuracy: 0.9722\n"
     ]
    },
    {
     "name": "stderr",
     "output_type": "stream",
     "text": [
      "100%|██████████| 59/59 [00:02<00:00, 24.79it/s]\n"
     ]
    },
    {
     "name": "stdout",
     "output_type": "stream",
     "text": [
      "Epoch 7 - Training loss: 1.477302545208042  Test Accuracy: 0.9751\n"
     ]
    },
    {
     "name": "stderr",
     "output_type": "stream",
     "text": [
      "100%|██████████| 59/59 [00:02<00:00, 23.52it/s]\n"
     ]
    },
    {
     "name": "stdout",
     "output_type": "stream",
     "text": [
      "Epoch 8 - Training loss: 1.4747352963787015  Test Accuracy: 0.9744\n"
     ]
    },
    {
     "name": "stderr",
     "output_type": "stream",
     "text": [
      "100%|██████████| 59/59 [00:02<00:00, 25.40it/s]\n"
     ]
    },
    {
     "name": "stdout",
     "output_type": "stream",
     "text": [
      "Epoch 9 - Training loss: 1.4729705402406597  Test Accuracy: 0.9765\n"
     ]
    },
    {
     "name": "stderr",
     "output_type": "stream",
     "text": [
      "100%|██████████| 59/59 [00:02<00:00, 25.24it/s]\n"
     ]
    },
    {
     "name": "stdout",
     "output_type": "stream",
     "text": [
      "Epoch 10 - Training loss: 1.4714028936321453  Test Accuracy: 0.977\n"
     ]
    },
    {
     "name": "stderr",
     "output_type": "stream",
     "text": [
      "100%|██████████| 59/59 [00:02<00:00, 24.08it/s]\n"
     ]
    },
    {
     "name": "stdout",
     "output_type": "stream",
     "text": [
      "Epoch 11 - Training loss: 1.4699572668237202  Test Accuracy: 0.9781\n"
     ]
    },
    {
     "name": "stderr",
     "output_type": "stream",
     "text": [
      "100%|██████████| 59/59 [00:02<00:00, 25.53it/s]\n"
     ]
    },
    {
     "name": "stdout",
     "output_type": "stream",
     "text": [
      "Epoch 12 - Training loss: 1.469052157159579  Test Accuracy: 0.9792\n"
     ]
    },
    {
     "name": "stderr",
     "output_type": "stream",
     "text": [
      "100%|██████████| 59/59 [00:02<00:00, 25.53it/s]\n"
     ]
    },
    {
     "name": "stdout",
     "output_type": "stream",
     "text": [
      "Epoch 13 - Training loss: 1.4680548785096508  Test Accuracy: 0.9782\n"
     ]
    },
    {
     "name": "stderr",
     "output_type": "stream",
     "text": [
      "100%|██████████| 59/59 [00:02<00:00, 25.24it/s]\n"
     ]
    },
    {
     "name": "stdout",
     "output_type": "stream",
     "text": [
      "Epoch 14 - Training loss: 1.4673969179896984  Test Accuracy: 0.9796\n"
     ]
    },
    {
     "name": "stderr",
     "output_type": "stream",
     "text": [
      "100%|██████████| 59/59 [00:02<00:00, 25.26it/s]\n"
     ]
    },
    {
     "name": "stdout",
     "output_type": "stream",
     "text": [
      "Epoch 15 - Training loss: 1.4668430190975383  Test Accuracy: 0.9793\n"
     ]
    },
    {
     "name": "stderr",
     "output_type": "stream",
     "text": [
      "100%|██████████| 59/59 [00:02<00:00, 24.83it/s]\n"
     ]
    },
    {
     "name": "stdout",
     "output_type": "stream",
     "text": [
      "Epoch 16 - Training loss: 1.4663685438996654  Test Accuracy: 0.9807\n"
     ]
    }
   ],
   "source": [
    "epochs = 100\n",
    "for epoch in range(epochs):\n",
    "    running_loss = 0\n",
    "\n",
    "    for images_batch, labels_batch in tqdm(train_dataloader):\n",
    "        images_batch = images_batch.reshape(images_batch.shape[0], 28*28)   # Flatten MNIST images into a 784 long vector\n",
    "\n",
    "        # forward pass\n",
    "        y_hat = model(images_batch.to(device))\n",
    "        y = labels_batch.to(device)\n",
    "        L = evidential_classification_loss(y_hat, y)\n",
    "\n",
    "        # backward pass\n",
    "        optimizer.zero_grad()\n",
    "        L.backward()\n",
    "\n",
    "        # update parameters\n",
    "        optimizer.step()\n",
    "\n",
    "        running_loss += L.item()\n",
    "\n",
    "    training_loss = running_loss/len(train_dataloader)\n",
    "    #train_accuracy = evaluate(train_dataloader, model)\n",
    "    test_accuracy = evaluate(test_dataloader, model, device)\n",
    "\n",
    "    if epoch % 1 == 0:\n",
    "        print(\"Epoch {} - Training loss: {}  Test Accuracy: {}\".format(epoch, training_loss, test_accuracy))\n",
    "\n",
    "    if test_accuracy > .98:\n",
    "        break"
   ]
  },
  {
   "cell_type": "code",
   "execution_count": 40,
   "metadata": {},
   "outputs": [],
   "source": [
    "for images_batch, labels_batch in test_dataloader:\n",
    "    images = images_batch.reshape(images_batch.shape[0], 28*28)\n",
    "    alphas, betas = model(images.to(device))"
   ]
  },
  {
   "cell_type": "code",
   "execution_count": 42,
   "metadata": {},
   "outputs": [
    {
     "data": {
      "text/plain": [
       "tensor([1, 3, 6,  ..., 7, 1, 6])"
      ]
     },
     "execution_count": 42,
     "metadata": {},
     "output_type": "execute_result"
    }
   ],
   "source": [
    "labels_batch"
   ]
  },
  {
   "cell_type": "code",
   "execution_count": 43,
   "metadata": {},
   "outputs": [
    {
     "data": {
      "text/plain": [
       "tensor([[3.8439e-03, 9.2269e-04, 7.8416e-03,  ..., 1.4908e-03, 5.9892e-04,\n",
       "         6.5439e-02],\n",
       "        [1.2096e-02, 4.2533e-03, 3.3414e-04,  ..., 3.4290e-02, 2.5534e-03,\n",
       "         9.6897e+01],\n",
       "        [8.5815e+02, 5.2137e-03, 2.5098e-03,  ..., 6.1372e-02, 1.0391e-03,\n",
       "         3.8280e-02],\n",
       "        ...,\n",
       "        [3.7767e-03, 3.2389e-03, 1.9796e-03,  ..., 3.1685e-03, 9.6762e-03,\n",
       "         6.3980e-03],\n",
       "        [3.8439e-03, 9.2269e-04, 7.8416e-03,  ..., 1.4908e-03, 5.9892e-04,\n",
       "         6.5439e-02],\n",
       "        [8.5815e+02, 5.2137e-03, 2.5098e-03,  ..., 6.1372e-02, 1.0391e-03,\n",
       "         3.8280e-02]], device='mps:0', grad_fn=<IndexBackward0>)"
      ]
     },
     "execution_count": 43,
     "metadata": {},
     "output_type": "execute_result"
    }
   ],
   "source": [
    "alphas[labels_batch]"
   ]
  },
  {
   "cell_type": "code",
   "execution_count": 67,
   "metadata": {},
   "outputs": [
    {
     "name": "stderr",
     "output_type": "stream",
     "text": [
      "/var/folders/y3/v5bw1qds23152m_g_1tzz7q80000gn/T/ipykernel_91448/4201146245.py:1: UserWarning: To copy construct from a tensor, it is recommended to use sourceTensor.clone().detach() or sourceTensor.clone().detach().requires_grad_(True), rather than torch.tensor(sourceTensor).\n",
      "  alphas.gather(1,torch.tensor(labels_batch.view(-1,1)).to(device))\n"
     ]
    },
    {
     "data": {
      "text/plain": [
       "tensor([[ 547.4056],\n",
       "        [ 942.0099],\n",
       "        [ 924.6964],\n",
       "        ...,\n",
       "        [5358.8926],\n",
       "        [ 138.7685],\n",
       "        [ 568.7893]], device='mps:0', grad_fn=<GatherBackward0>)"
      ]
     },
     "execution_count": 67,
     "metadata": {},
     "output_type": "execute_result"
    }
   ],
   "source": [
    "alphas.gather(1,torch.tensor(labels_batch.view(-1,1)).to(device))"
   ]
  },
  {
   "cell_type": "code",
   "execution_count": null,
   "metadata": {},
   "outputs": [],
   "source": []
  }
 ],
 "metadata": {
  "kernelspec": {
   "display_name": "base",
   "language": "python",
   "name": "python3"
  },
  "language_info": {
   "codemirror_mode": {
    "name": "ipython",
    "version": 3
   },
   "file_extension": ".py",
   "mimetype": "text/x-python",
   "name": "python",
   "nbconvert_exporter": "python",
   "pygments_lexer": "ipython3",
   "version": "3.11.5"
  },
  "orig_nbformat": 4
 },
 "nbformat": 4,
 "nbformat_minor": 2
}
