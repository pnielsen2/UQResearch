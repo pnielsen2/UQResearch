{
 "cells": [
  {
   "cell_type": "code",
   "execution_count": 1,
   "metadata": {},
   "outputs": [],
   "source": [
    "import sympy\n",
    "from sympy import symbols, Function, diff, simplify, Eq\n",
    "from sympy.solvers import solve\n",
    "import numpy as np\n",
    "import matplotlib.pyplot as plt"
   ]
  },
  {
   "cell_type": "code",
   "execution_count": 4,
   "metadata": {},
   "outputs": [],
   "source": [
    "theta_0, k = symbols(r'\\theta_0 k')"
   ]
  },
  {
   "cell_type": "code",
   "execution_count": 7,
   "metadata": {},
   "outputs": [
    {
     "data": {
      "text/latex": [
       "$\\displaystyle \\log{\\left(\\sin^{2}{\\left(\\theta_{0} + \\frac{\\sqrt{2} \\sqrt{k}}{2} \\right)} \\right)}$"
      ],
      "text/plain": [
       "log(sin(\\theta_0 + sqrt(2)*sqrt(k)/2)**2)"
      ]
     },
     "execution_count": 7,
     "metadata": {},
     "output_type": "execute_result"
    }
   ],
   "source": [
    "loss = sympy.log(sympy.sin(theta_0+sympy.sqrt(k/2))**2)\n",
    "loss"
   ]
  },
  {
   "cell_type": "code",
   "execution_count": 8,
   "metadata": {},
   "outputs": [
    {
     "data": {
      "text/latex": [
       "$\\displaystyle \\frac{\\sqrt{2} \\cos{\\left(\\theta_{0} + \\frac{\\sqrt{2} \\sqrt{k}}{2} \\right)}}{2 \\sqrt{k} \\sin{\\left(\\theta_{0} + \\frac{\\sqrt{2} \\sqrt{k}}{2} \\right)}}$"
      ],
      "text/plain": [
       "sqrt(2)*cos(\\theta_0 + sqrt(2)*sqrt(k)/2)/(2*sqrt(k)*sin(\\theta_0 + sqrt(2)*sqrt(k)/2))"
      ]
     },
     "execution_count": 8,
     "metadata": {},
     "output_type": "execute_result"
    }
   ],
   "source": [
    "loss.diff(k)"
   ]
  },
  {
   "cell_type": "code",
   "execution_count": 20,
   "metadata": {},
   "outputs": [],
   "source": [
    "p = Function('p')\n",
    "x, x_0 = symbols('x x_0')\n",
    "l = Function('l')"
   ]
  },
  {
   "cell_type": "code",
   "execution_count": 16,
   "metadata": {},
   "outputs": [
    {
     "data": {
      "text/latex": [
       "$\\displaystyle - \\left(1 - p{\\left(x_{0} \\right)}\\right) \\log{\\left(1 - p{\\left(x \\right)} \\right)} - p{\\left(x_{0} \\right)} \\log{\\left(p{\\left(x \\right)} \\right)}$"
      ],
      "text/plain": [
       "-(1 - p(x_0))*log(1 - p(x)) - p(x_0)*log(p(x))"
      ]
     },
     "execution_count": 16,
     "metadata": {},
     "output_type": "execute_result"
    }
   ],
   "source": [
    "kl = -p(x_0)*sympy.log(p(x)) - (1-p(x_0))*sympy.log(1-p(x))\n",
    "kl"
   ]
  },
  {
   "cell_type": "code",
   "execution_count": 27,
   "metadata": {},
   "outputs": [
    {
     "data": {
      "text/latex": [
       "$\\displaystyle - \\frac{\\left(\\frac{d}{d x} p{\\left(x \\right)}\\right)^{2}}{\\left(p{\\left(x \\right)} - 1\\right) p{\\left(x \\right)}}$"
      ],
      "text/plain": [
       "-Derivative(p(x), x)**2/((p(x) - 1)*p(x))"
      ]
     },
     "execution_count": 27,
     "metadata": {},
     "output_type": "execute_result"
    }
   ],
   "source": [
    "simplify(kl.diff(x,x).subs(x_0,x))"
   ]
  },
  {
   "cell_type": "code",
   "execution_count": 25,
   "metadata": {},
   "outputs": [],
   "source": [
    "div = l(p(x),p(x_0))"
   ]
  },
  {
   "cell_type": "code",
   "execution_count": 26,
   "metadata": {},
   "outputs": [
    {
     "data": {
      "text/latex": [
       "$\\displaystyle \\frac{d}{d p{\\left(x \\right)}} l{\\left(p{\\left(x \\right)},p{\\left(x \\right)} \\right)} \\frac{d^{2}}{d x^{2}} p{\\left(x \\right)} + \\frac{d^{2}}{d p{\\left(x \\right)}^{2}} l{\\left(p{\\left(x \\right)},p{\\left(x \\right)} \\right)} \\left(\\frac{d}{d x} p{\\left(x \\right)}\\right)^{2}$"
      ],
      "text/plain": [
       "Derivative(l(p(x), p(x)), p(x))*Derivative(p(x), (x, 2)) + Derivative(l(p(x), p(x)), (p(x), 2))*Derivative(p(x), x)**2"
      ]
     },
     "execution_count": 26,
     "metadata": {},
     "output_type": "execute_result"
    }
   ],
   "source": [
    "div.diff(x,x).subs(x_0,x)"
   ]
  },
  {
   "cell_type": "code",
   "execution_count": 31,
   "metadata": {},
   "outputs": [
    {
     "data": {
      "text/latex": [
       "$\\displaystyle 0.5 \\sin{\\left(\\sqrt{2} x \\right)} + 0.5$"
      ],
      "text/plain": [
       "0.5*sin(sqrt(2)*x) + 0.5"
      ]
     },
     "execution_count": 31,
     "metadata": {},
     "output_type": "execute_result"
    }
   ],
   "source": [
    "p = 1/2*(1+sympy.cos(sympy.sqrt(2)*x-sympy.pi/2))\n",
    "p"
   ]
  },
  {
   "cell_type": "code",
   "execution_count": 33,
   "metadata": {},
   "outputs": [
    {
     "data": {
      "text/latex": [
       "$\\displaystyle 0.5 \\left(\\sin{\\left(\\sqrt{2} x_{0} \\right)} - 1\\right) \\log{\\left(0.5 - 0.5 \\sin{\\left(\\sqrt{2} x \\right)} \\right)} - 0.5 \\left(\\sin{\\left(\\sqrt{2} x_{0} \\right)} + 1\\right) \\log{\\left(0.5 \\sin{\\left(\\sqrt{2} x \\right)} + 0.5 \\right)}$"
      ],
      "text/plain": [
       "0.5*(sin(sqrt(2)*x_0) - 1)*log(0.5 - 0.5*sin(sqrt(2)*x)) - 0.5*(sin(sqrt(2)*x_0) + 1)*log(0.5*sin(sqrt(2)*x) + 0.5)"
      ]
     },
     "execution_count": 33,
     "metadata": {},
     "output_type": "execute_result"
    }
   ],
   "source": [
    "div = -p.subs(x,x_0)*sympy.log(p) -(1-p.subs(x,x_0))*sympy.log((1-p))\n",
    "simplify(div)"
   ]
  },
  {
   "cell_type": "code",
   "execution_count": 36,
   "metadata": {},
   "outputs": [
    {
     "data": {
      "text/latex": [
       "$\\displaystyle \\frac{2.0 \\cdot \\left(1 - \\sin^{2}{\\left(\\sqrt{2} x_{0} \\right)}\\right)}{\\cos^{2}{\\left(\\sqrt{2} x_{0} \\right)}}$"
      ],
      "text/plain": [
       "2.0*(1 - sin(sqrt(2)*x_0)**2)/cos(sqrt(2)*x_0)**2"
      ]
     },
     "execution_count": 36,
     "metadata": {},
     "output_type": "execute_result"
    }
   ],
   "source": [
    "simplify(div.diff(x,x)).subs(x,x_0)"
   ]
  },
  {
   "cell_type": "code",
   "execution_count": 40,
   "metadata": {},
   "outputs": [
    {
     "data": {
      "text/latex": [
       "$\\displaystyle \\frac{1}{\\sqrt{\\left(0.5 - 0.5 \\sin{\\left(\\sqrt{2} x \\right)}\\right) \\left(\\sin{\\left(\\sqrt{2} x \\right)} + 1.0\\right)}}$"
      ],
      "text/plain": [
       "1/sqrt((0.5 - 0.5*sin(sqrt(2)*x))*(sin(sqrt(2)*x) + 1.0))"
      ]
     },
     "execution_count": 40,
     "metadata": {},
     "output_type": "execute_result"
    }
   ],
   "source": [
    "1/sympy.sqrt(2*p*(1-p))"
   ]
  },
  {
   "cell_type": "code",
   "execution_count": 43,
   "metadata": {},
   "outputs": [
    {
     "data": {
      "text/latex": [
       "$\\displaystyle \\frac{0.5 \\sqrt{2} \\cos{\\left(\\sqrt{2} x \\right)}}{0.5 \\sin{\\left(\\sqrt{2} x \\right)} + 0.5}$"
      ],
      "text/plain": [
       "0.5*sqrt(2)*cos(sqrt(2)*x)/(0.5*sin(sqrt(2)*x) + 0.5)"
      ]
     },
     "execution_count": 43,
     "metadata": {},
     "output_type": "execute_result"
    }
   ],
   "source": [
    "sympy.log(p).diff(x)"
   ]
  },
  {
   "cell_type": "code",
   "execution_count": 48,
   "metadata": {},
   "outputs": [],
   "source": [
    "def kl(p_0, p):\n",
    "    return -p_0*sympy.log(p) - (1-p_0)*sympy.log(1-p)\n",
    "def logistic(x):\n",
    "    return 1/(1+sympy.exp(-x))"
   ]
  },
  {
   "cell_type": "code",
   "execution_count": 121,
   "metadata": {},
   "outputs": [],
   "source": [
    "p = Function('p')"
   ]
  },
  {
   "cell_type": "code",
   "execution_count": 129,
   "metadata": {},
   "outputs": [
    {
     "data": {
      "text/latex": [
       "$\\displaystyle \\frac{\\left(\\frac{d}{d x} p{\\left(x \\right)}\\right)^{2}}{p{\\left(x \\right)}} - \\frac{\\left(\\frac{d}{d x} p{\\left(x \\right)}\\right)^{2}}{p{\\left(x \\right)} - 1}$"
      ],
      "text/plain": [
       "Derivative(p(x), x)**2/p(x) - Derivative(p(x), x)**2/(p(x) - 1)"
      ]
     },
     "execution_count": 129,
     "metadata": {},
     "output_type": "execute_result"
    }
   ],
   "source": [
    "kl(p(x_0),p(x)).diff(x,x).subs(x_0,x)"
   ]
  },
  {
   "cell_type": "code",
   "execution_count": 53,
   "metadata": {},
   "outputs": [
    {
     "data": {
      "text/latex": [
       "$\\displaystyle \\frac{1}{4 \\cosh^{2}{\\left(\\frac{x_{0}}{2} \\right)}}$"
      ],
      "text/plain": [
       "1/(4*cosh(x_0/2)**2)"
      ]
     },
     "execution_count": 53,
     "metadata": {},
     "output_type": "execute_result"
    }
   ],
   "source": [
    "simplify(kl(logistic(x_0),logistic(x)).diff(x,x).subs(x,x_0))"
   ]
  },
  {
   "cell_type": "code",
   "execution_count": 54,
   "metadata": {},
   "outputs": [
    {
     "data": {
      "text/latex": [
       "$\\displaystyle \\frac{1}{1 + e^{- 2 x}}$"
      ],
      "text/plain": [
       "1/(1 + exp(-2*x))"
      ]
     },
     "execution_count": 54,
     "metadata": {},
     "output_type": "execute_result"
    }
   ],
   "source": [
    "p = 1/(1+sympy.exp(-2*x))\n",
    "p"
   ]
  },
  {
   "cell_type": "code",
   "execution_count": 57,
   "metadata": {},
   "outputs": [],
   "source": [
    "eta = symbols(r'\\eta')"
   ]
  },
  {
   "cell_type": "code",
   "execution_count": 59,
   "metadata": {},
   "outputs": [
    {
     "data": {
      "text/latex": [
       "$\\displaystyle \\frac{2 \\eta e^{- 2 x}}{1 + e^{- 2 x}} + x$"
      ],
      "text/plain": [
       "2*\\eta*exp(-2*x)/(1 + exp(-2*x)) + x"
      ]
     },
     "execution_count": 59,
     "metadata": {},
     "output_type": "execute_result"
    }
   ],
   "source": [
    "step_size = eta*sympy.log(p).diff(x)\n",
    "new_x = x+step_size\n",
    "new_x"
   ]
  },
  {
   "cell_type": "code",
   "execution_count": 118,
   "metadata": {},
   "outputs": [
    {
     "data": {
      "text/latex": [
       "$\\displaystyle \\frac{2 \\eta p^{2}}{2 p^{2} - 2 p + 1} - \\frac{4 \\eta p}{2 p^{2} - 2 p + 1} + \\frac{2 \\eta}{2 p^{2} - 2 p + 1} + \\log{\\left(\\frac{p}{1 - p} \\right)}$"
      ],
      "text/plain": [
       "2*\\eta*p**2/(2*p**2 - 2*p + 1) - 4*\\eta*p/(2*p**2 - 2*p + 1) + 2*\\eta/(2*p**2 - 2*p + 1) + log(p/(1 - p))"
      ]
     },
     "execution_count": 118,
     "metadata": {},
     "output_type": "execute_result"
    }
   ],
   "source": [
    "sympy.expand(new_x.subs(x,sympy.log(p/(1-p))))"
   ]
  },
  {
   "cell_type": "code",
   "execution_count": 65,
   "metadata": {},
   "outputs": [],
   "source": [
    "p=symbols('p')"
   ]
  },
  {
   "cell_type": "code",
   "execution_count": 69,
   "metadata": {},
   "outputs": [
    {
     "data": {
      "text/latex": [
       "$\\displaystyle \\frac{\\left(- \\frac{p}{p - 1}\\right)^{0.5} e^{\\frac{2 \\eta}{\\left(- \\frac{p}{p - 1}\\right)^{1.0} + 1}}}{\\left(- \\frac{p}{p - 1}\\right)^{0.5} e^{\\frac{2 \\eta}{\\left(- \\frac{p}{p - 1}\\right)^{1.0} + 1}} + 1}$"
      ],
      "text/plain": [
       "(-p/(p - 1))**0.5*exp(2*\\eta/((-p/(p - 1))**1.0 + 1))/((-p/(p - 1))**0.5*exp(2*\\eta/((-p/(p - 1))**1.0 + 1)) + 1)"
      ]
     },
     "execution_count": 69,
     "metadata": {},
     "output_type": "execute_result"
    }
   ],
   "source": [
    "new_p = logistic(new_x)\n",
    "new_p = simplify(new_p.subs(x,1/2*sympy.log(p/(1-p))))\n",
    "new_p"
   ]
  },
  {
   "cell_type": "code",
   "execution_count": 70,
   "metadata": {},
   "outputs": [
    {
     "data": {
      "text/latex": [
       "$\\displaystyle \\frac{1}{\\frac{e^{- 2 \\eta \\left(1 - p\\right)}}{\\left(\\frac{p}{1 - p}\\right)^{0.5}} + 1}$"
      ],
      "text/plain": [
       "1/(exp(-2*\\eta*(1 - p))/(p/(1 - p))**0.5 + 1)"
      ]
     },
     "execution_count": 70,
     "metadata": {},
     "output_type": "execute_result"
    }
   ],
   "source": [
    "new_p = 1/(1+sympy.exp(-(1/2*sympy.log(p/(1-p))+2*eta*(1-p))))\n",
    "new_p"
   ]
  },
  {
   "cell_type": "code",
   "execution_count": 119,
   "metadata": {},
   "outputs": [
    {
     "data": {
      "text/latex": [
       "$\\displaystyle \\frac{1}{\\frac{e^{- 2 \\eta \\left(1 - p\\right)}}{\\left(\\frac{p}{1 - p}\\right)^{0.5}} + 1}$"
      ],
      "text/plain": [
       "1/(exp(-2*\\eta*(1 - p))/(p/(1 - p))**0.5 + 1)"
      ]
     },
     "execution_count": 119,
     "metadata": {},
     "output_type": "execute_result"
    }
   ],
   "source": [
    "new_p"
   ]
  },
  {
   "cell_type": "code",
   "execution_count": 113,
   "metadata": {},
   "outputs": [
    {
     "data": {
      "text/latex": [
       "$\\displaystyle \\frac{2 \\left(- \\frac{p}{p - 1}\\right)^{0.5} \\cdot \\left(1 - p\\right)}{\\left(\\left(- \\frac{p}{p - 1}\\right)^{0.5} + 1\\right)^{2}}$"
      ],
      "text/plain": [
       "2*(-p/(p - 1))**0.5*(1 - p)/((-p/(p - 1))**0.5 + 1)**2"
      ]
     },
     "execution_count": 113,
     "metadata": {},
     "output_type": "execute_result"
    }
   ],
   "source": [
    "simplify(new_p.diff(eta).subs(eta,0))"
   ]
  },
  {
   "cell_type": "code",
   "execution_count": 74,
   "metadata": {},
   "outputs": [
    {
     "data": {
      "text/latex": [
       "$\\displaystyle - \\frac{\\sqrt{2} \\operatorname{asin}{\\left(1 - \\frac{2}{\\frac{e^{- 2 \\eta \\left(1 - p\\right)}}{\\left(\\frac{p}{1 - p}\\right)^{0.5}} + 1} \\right)}}{2}$"
      ],
      "text/plain": [
       "-sqrt(2)*asin(1 - 2/(exp(-2*\\eta*(1 - p))/(p/(1 - p))**0.5 + 1))/2"
      ]
     },
     "execution_count": 74,
     "metadata": {},
     "output_type": "execute_result"
    }
   ],
   "source": [
    "new_circular_x = sympy.asin(2*new_p-1)/sympy.sqrt(2)\n",
    "new_circular_x"
   ]
  },
  {
   "cell_type": "code",
   "execution_count": 75,
   "metadata": {},
   "outputs": [
    {
     "data": {
      "text/latex": [
       "$\\displaystyle \\frac{\\sqrt{2} \\operatorname{asin}{\\left(2 p - 1 \\right)}}{2}$"
      ],
      "text/plain": [
       "sqrt(2)*asin(2*p - 1)/2"
      ]
     },
     "execution_count": 75,
     "metadata": {},
     "output_type": "execute_result"
    }
   ],
   "source": [
    "old_circular_x = sympy.asin(2*p-1)/sympy.sqrt(2)\n",
    "old_circular_x"
   ]
  },
  {
   "cell_type": "code",
   "execution_count": 79,
   "metadata": {},
   "outputs": [
    {
     "data": {
      "text/latex": [
       "$\\displaystyle \\frac{\\sqrt{2} \\left(- \\operatorname{asin}{\\left(\\frac{- \\left(- \\frac{p}{p - 1}\\right)^{0.5} + e^{2 \\eta \\left(p - 1\\right)}}{\\left(- \\frac{p}{p - 1}\\right)^{0.5} + e^{2 \\eta \\left(p - 1\\right)}} \\right)} - \\operatorname{asin}{\\left(2 p - 1 \\right)}\\right)}{2 \\eta}$"
      ],
      "text/plain": [
       "sqrt(2)*(-asin((-(-p/(p - 1))**0.5 + exp(2*\\eta*(p - 1)))/((-p/(p - 1))**0.5 + exp(2*\\eta*(p - 1)))) - asin(2*p - 1))/(2*\\eta)"
      ]
     },
     "execution_count": 79,
     "metadata": {},
     "output_type": "execute_result"
    }
   ],
   "source": [
    "circular_x_secant = simplify((new_circular_x-old_circular_x)/eta)\n",
    "circular_x_secant"
   ]
  },
  {
   "cell_type": "code",
   "execution_count": 102,
   "metadata": {},
   "outputs": [
    {
     "data": {
      "text/latex": [
       "$\\displaystyle \\frac{\\sqrt{2} \\left(- \\operatorname{asin}{\\left(\\frac{- \\left(- \\frac{p}{p - 1}\\right)^{0.5} + e^{2 \\eta \\left(p - 1\\right)}}{\\left(- \\frac{p}{p - 1}\\right)^{0.5} + e^{2 \\eta \\left(p - 1\\right)}} \\right)} - \\operatorname{asin}{\\left(2 p - 1 \\right)}\\right)}{2 \\eta}$"
      ],
      "text/plain": [
       "sqrt(2)*(-asin((-(-p/(p - 1))**0.5 + exp(2*\\eta*(p - 1)))/((-p/(p - 1))**0.5 + exp(2*\\eta*(p - 1)))) - asin(2*p - 1))/(2*\\eta)"
      ]
     },
     "execution_count": 102,
     "metadata": {},
     "output_type": "execute_result"
    }
   ],
   "source": [
    "circular_x_secant"
   ]
  },
  {
   "cell_type": "code",
   "execution_count": 103,
   "metadata": {},
   "outputs": [
    {
     "data": {
      "text/latex": [
       "$\\displaystyle - \\frac{\\sqrt{2} \\operatorname{asin}{\\left(1 - \\frac{2}{\\frac{e^{- 2 \\eta \\left(1 - p\\right)}}{\\left(\\frac{p}{1 - p}\\right)^{0.5}} + 1} \\right)}}{2}$"
      ],
      "text/plain": [
       "-sqrt(2)*asin(1 - 2/(exp(-2*\\eta*(1 - p))/(p/(1 - p))**0.5 + 1))/2"
      ]
     },
     "execution_count": 103,
     "metadata": {},
     "output_type": "execute_result"
    }
   ],
   "source": [
    "new_circular_x"
   ]
  },
  {
   "cell_type": "code",
   "execution_count": 110,
   "metadata": {},
   "outputs": [
    {
     "data": {
      "text/latex": [
       "$\\displaystyle \\frac{2 \\sqrt{2} \\left(- \\frac{p}{p - 1}\\right)^{0.5} \\cdot \\left(1 - p\\right)}{\\sqrt{\\frac{- \\left(1 - \\left(\\frac{p}{1 - p}\\right)^{0.5}\\right)^{2} + \\left(\\left(\\frac{p}{1 - p}\\right)^{0.5} + 1\\right)^{2}}{\\left(\\left(\\frac{p}{1 - p}\\right)^{0.5} + 1\\right)^{2}}} \\left(\\left(- \\frac{p}{p - 1}\\right)^{0.5} + 1\\right)^{2}}$"
      ],
      "text/plain": [
       "2*sqrt(2)*(-p/(p - 1))**0.5*(1 - p)/(sqrt((-(1 - (p/(1 - p))**0.5)**2 + ((p/(1 - p))**0.5 + 1)**2)/((p/(1 - p))**0.5 + 1)**2)*((-p/(p - 1))**0.5 + 1)**2)"
      ]
     },
     "execution_count": 110,
     "metadata": {},
     "output_type": "execute_result"
    }
   ],
   "source": [
    "simplify(new_circular_x.diff(eta).subs(eta,0))"
   ]
  },
  {
   "cell_type": "code",
   "execution_count": null,
   "metadata": {},
   "outputs": [
    {
     "data": {
      "text/latex": [
       "$\\displaystyle - \\frac{\\sqrt{2} \\operatorname{asin}{\\left(1 - \\frac{1}{1 + e^{- 2 x}} \\right)}}{2}$"
      ],
      "text/plain": [
       "-sqrt(2)*asin(1 - 1/(1 + exp(-2*x)))/2"
      ]
     },
     "execution_count": 82,
     "metadata": {},
     "output_type": "execute_result"
    }
   ],
   "source": [
    "transform = 1/sympy.sqrt(2)*sympy.asin(1/(1+sympy.exp(-2*x))-1)\n",
    "transform"
   ]
  },
  {
   "cell_type": "code",
   "execution_count": 85,
   "metadata": {},
   "outputs": [
    {
     "data": {
      "text/latex": [
       "$\\displaystyle \\frac{\\sqrt{2} p^{2} \\left(p - 1\\right)^{2}}{\\left(p^{2} + \\left(p - 1\\right)^{2}\\right)^{2} \\sqrt{- \\frac{\\left(1 - p\\right)^{4}}{\\left(p^{2} + \\left(1 - p\\right)^{2}\\right)^{2}} + 1}}$"
      ],
      "text/plain": [
       "sqrt(2)*p**2*(p - 1)**2/((p**2 + (p - 1)**2)**2*sqrt(-(1 - p)**4/(p**2 + (1 - p)**2)**2 + 1))"
      ]
     },
     "execution_count": 85,
     "metadata": {},
     "output_type": "execute_result"
    }
   ],
   "source": [
    "simplify(transform.diff(x).subs(x,sympy.log(p/(1-p))))"
   ]
  },
  {
   "cell_type": "code",
   "execution_count": 86,
   "metadata": {},
   "outputs": [
    {
     "data": {
      "text/latex": [
       "$\\displaystyle \\frac{\\sqrt{2} e^{- 2 x}}{\\sqrt{1 - \\left(1 - \\frac{1}{1 + e^{- 2 x}}\\right)^{2}} \\left(1 + e^{- 2 x}\\right)^{2}}$"
      ],
      "text/plain": [
       "sqrt(2)*exp(-2*x)/(sqrt(1 - (1 - 1/(1 + exp(-2*x)))**2)*(1 + exp(-2*x))**2)"
      ]
     },
     "execution_count": 86,
     "metadata": {},
     "output_type": "execute_result"
    }
   ],
   "source": [
    "transform.diff(x)"
   ]
  },
  {
   "cell_type": "code",
   "execution_count": 89,
   "metadata": {},
   "outputs": [
    {
     "data": {
      "text/latex": [
       "$\\displaystyle \\frac{2 e^{- 2 x}}{1 + e^{- 2 x}}$"
      ],
      "text/plain": [
       "2*exp(-2*x)/(1 + exp(-2*x))"
      ]
     },
     "execution_count": 89,
     "metadata": {},
     "output_type": "execute_result"
    }
   ],
   "source": [
    "x_step = sympy.log(1/(1+sympy.exp(-2*x))).diff(x)\n",
    "x_step"
   ]
  },
  {
   "cell_type": "code",
   "execution_count": 91,
   "metadata": {},
   "outputs": [
    {
     "data": {
      "text/latex": [
       "$\\displaystyle \\frac{2 \\left(p - 1\\right)^{2}}{p^{2} + \\left(p - 1\\right)^{2}}$"
      ],
      "text/plain": [
       "2*(p - 1)**2/(p**2 + (p - 1)**2)"
      ]
     },
     "execution_count": 91,
     "metadata": {},
     "output_type": "execute_result"
    }
   ],
   "source": [
    "simplify(x_step.subs(x, sympy.log(p/(1-p))))"
   ]
  },
  {
   "cell_type": "code",
   "execution_count": 98,
   "metadata": {},
   "outputs": [
    {
     "data": {
      "text/latex": [
       "$\\displaystyle \\frac{2 e^{- 2 x}}{\\left(1 + e^{- 2 x}\\right)^{2}}$"
      ],
      "text/plain": [
       "2*exp(-2*x)/(1 + exp(-2*x))**2"
      ]
     },
     "execution_count": 98,
     "metadata": {},
     "output_type": "execute_result"
    }
   ],
   "source": [
    "(1/(1+sympy.exp(-2*x))).diff(x)"
   ]
  },
  {
   "cell_type": "code",
   "execution_count": 95,
   "metadata": {},
   "outputs": [
    {
     "data": {
      "text/latex": [
       "$\\displaystyle \\frac{2 p^{2} \\left(p - 1\\right)^{2}}{\\left(p^{2} + \\left(p - 1\\right)^{2}\\right)^{2}}$"
      ],
      "text/plain": [
       "2*p**2*(p - 1)**2/(p**2 + (p - 1)**2)**2"
      ]
     },
     "execution_count": 95,
     "metadata": {},
     "output_type": "execute_result"
    }
   ],
   "source": [
    "simplify((1/(1+sympy.exp(-2*x))).diff(x).subs(x, sympy.log(p/(1-p))))"
   ]
  },
  {
   "cell_type": "code",
   "execution_count": 99,
   "metadata": {},
   "outputs": [
    {
     "data": {
      "text/latex": [
       "$\\displaystyle \\frac{2 e^{- 2 x}}{1 + e^{- 2 x}}$"
      ],
      "text/plain": [
       "2*exp(-2*x)/(1 + exp(-2*x))"
      ]
     },
     "execution_count": 99,
     "metadata": {},
     "output_type": "execute_result"
    }
   ],
   "source": [
    "sympy.log(1/(1+sympy.exp(-2*x))).diff(x)"
   ]
  },
  {
   "cell_type": "code",
   "execution_count": 100,
   "metadata": {},
   "outputs": [
    {
     "data": {
      "text/latex": [
       "$\\displaystyle 0.5 \\sin{\\left(\\sqrt{2} x \\right)} + 0.5$"
      ],
      "text/plain": [
       "0.5*sin(sqrt(2)*x) + 0.5"
      ]
     },
     "execution_count": 100,
     "metadata": {},
     "output_type": "execute_result"
    }
   ],
   "source": [
    "g = 1/2*(1+sympy.sin(sympy.sqrt(2)*x))\n",
    "g"
   ]
  },
  {
   "cell_type": "code",
   "execution_count": 101,
   "metadata": {},
   "outputs": [
    {
     "data": {
      "text/latex": [
       "$\\displaystyle 0.5 \\sqrt{2} \\cos{\\left(\\sqrt{2} x \\right)}$"
      ],
      "text/plain": [
       "0.5*sqrt(2)*cos(sqrt(2)*x)"
      ]
     },
     "execution_count": 101,
     "metadata": {},
     "output_type": "execute_result"
    }
   ],
   "source": [
    "g.diff(x)"
   ]
  },
  {
   "cell_type": "markdown",
   "metadata": {},
   "source": [
    "sigma_p, sigma_r, x, y, z, r, p= symbols(r'\\sigma_p \\sigma_r x y z r p')"
   ]
  },
  {
   "cell_type": "code",
   "execution_count": 11,
   "metadata": {},
   "outputs": [],
   "source": [
    "r = 1/(sigma_r*sympy.sqrt(2*sympy.pi))*sympy.exp(-1/2*(x/sigma_r)**2)"
   ]
  },
  {
   "cell_type": "code",
   "execution_count": 12,
   "metadata": {},
   "outputs": [],
   "source": [
    "p=1/(sigma_p*sympy.sqrt(2*sympy.pi))*sympy.exp(-1/2*(x/sigma_r)**2)"
   ]
  },
  {
   "cell_type": "code",
   "execution_count": 27,
   "metadata": {},
   "outputs": [
    {
     "data": {
      "text/latex": [
       "$\\displaystyle \\frac{e^{\\frac{0.5 \\left(- y^{2} - \\left(x - y\\right)^{2} + \\left(x - z\\right)^{2} - \\left(y - z\\right)^{2}\\right)}{\\sigma_{r}^{2}}}}{2 \\pi \\sigma_{p} \\sigma_{r}}$"
      ],
      "text/plain": [
       "exp(0.5*(-y**2 - (x - y)**2 + (x - z)**2 - (y - z)**2)/\\sigma_r**2)/(2*pi*\\sigma_p*\\sigma_r)"
      ]
     },
     "execution_count": 27,
     "metadata": {},
     "output_type": "execute_result"
    }
   ],
   "source": [
    "simplify(r.subs(x,y-x)*p.subs(x,y)*r.subs(x,z-y)/r.subs(x,z-x))"
   ]
  },
  {
   "cell_type": "code",
   "execution_count": 25,
   "metadata": {},
   "outputs": [
    {
     "data": {
      "text/latex": [
       "$\\displaystyle 2 x y - 2 x z - 3 y^{2} + 2 y z$"
      ],
      "text/plain": [
       "2*x*y - 2*x*z - 3*y**2 + 2*y*z"
      ]
     },
     "execution_count": 25,
     "metadata": {},
     "output_type": "execute_result"
    }
   ],
   "source": [
    "sympy.simplify(sympy.expand(-y**2-(x-y)**2+(x-z)**2-(y-z)**2))"
   ]
  },
  {
   "cell_type": "code",
   "execution_count": 98,
   "metadata": {},
   "outputs": [],
   "source": [
    "x, c = symbols('x c')"
   ]
  },
  {
   "cell_type": "code",
   "execution_count": 6,
   "metadata": {},
   "outputs": [
    {
     "data": {
      "text/latex": [
       "$\\displaystyle e^{x}$"
      ],
      "text/plain": [
       "exp(x)"
      ]
     },
     "execution_count": 6,
     "metadata": {},
     "output_type": "execute_result"
    }
   ],
   "source": [
    "sympy.exp(x)"
   ]
  },
  {
   "cell_type": "code",
   "execution_count": 84,
   "metadata": {},
   "outputs": [
    {
     "data": {
      "text/latex": [
       "$\\displaystyle \\frac{1}{1 + e^{- x}}$"
      ],
      "text/plain": [
       "1/(1 + exp(-x))"
      ]
     },
     "execution_count": 84,
     "metadata": {},
     "output_type": "execute_result"
    }
   ],
   "source": [
    "p = 1/(1+sympy.exp(-x))\n",
    "p"
   ]
  },
  {
   "cell_type": "code",
   "execution_count": 510,
   "metadata": {},
   "outputs": [
    {
     "data": {
      "text/latex": [
       "$\\displaystyle \\frac{1}{e^{- c - 1 + \\frac{1}{e^{x} + 2}} + 2}$"
      ],
      "text/plain": [
       "1/(exp(-c - 1 + 1/(exp(x) + 2)) + 2)"
      ]
     },
     "execution_count": 510,
     "metadata": {},
     "output_type": "execute_result"
    }
   ],
   "source": [
    "w = 1/(sympy.exp(1/(sympy.exp(x)+2)-1-c)+2)\n",
    "w"
   ]
  },
  {
   "cell_type": "code",
   "execution_count": 511,
   "metadata": {},
   "outputs": [
    {
     "data": {
      "text/latex": [
       "$\\displaystyle - \\frac{e^{x}}{e^{- c - 1 + \\frac{1}{e^{x} + 2}} + 2}$"
      ],
      "text/plain": [
       "-exp(x)/(exp(-c - 1 + 1/(exp(x) + 2)) + 2)"
      ]
     },
     "execution_count": 511,
     "metadata": {},
     "output_type": "execute_result"
    }
   ],
   "source": [
    "l = -sympy.exp(x)*w\n",
    "l"
   ]
  },
  {
   "cell_type": "code",
   "execution_count": 512,
   "metadata": {},
   "outputs": [
    {
     "data": {
      "text/latex": [
       "$\\displaystyle \\frac{\\left(1 - \\frac{1}{1 + e^{- x}}\\right) e^{2 x}}{\\left(e^{- c - 1 + \\frac{1}{e^{x} + 2}} + 2\\right)^{2}} + \\frac{1}{\\left(1 + e^{- x}\\right) \\left(e^{- c - 1 + \\frac{1}{e^{x} + 2}} + 2\\right)^{2}}$"
      ],
      "text/plain": [
       "(1 - 1/(1 + exp(-x)))*exp(2*x)/(exp(-c - 1 + 1/(exp(x) + 2)) + 2)**2 + 1/((1 + exp(-x))*(exp(-c - 1 + 1/(exp(x) + 2)) + 2)**2)"
      ]
     },
     "execution_count": 512,
     "metadata": {},
     "output_type": "execute_result"
    }
   ],
   "source": [
    "p*w**2+(1-p)*l**2"
   ]
  },
  {
   "cell_type": "code",
   "execution_count": 18,
   "metadata": {},
   "outputs": [
    {
     "name": "stdout",
     "output_type": "stream",
     "text": [
      "\\frac{1}{1 + e^{- x}}\n"
     ]
    }
   ],
   "source": [
    "sympy.print_latex(p)"
   ]
  },
  {
   "cell_type": "code",
   "execution_count": 19,
   "metadata": {},
   "outputs": [
    {
     "data": {
      "text/latex": [
       "$\\displaystyle \\frac{e^{x} e^{- c - 1 + \\frac{1}{e^{x} + 2}}}{\\left(e^{x} + 2\\right)^{2} \\left(e^{- c - 1 + \\frac{1}{e^{x} + 2}} + 2\\right)^{2}}$"
      ],
      "text/plain": [
       "exp(x)*exp(-c - 1 + 1/(exp(x) + 2))/((exp(x) + 2)**2*(exp(-c - 1 + 1/(exp(x) + 2)) + 2)**2)"
      ]
     },
     "execution_count": 19,
     "metadata": {},
     "output_type": "execute_result"
    }
   ],
   "source": [
    "sympy.diff(w,x)"
   ]
  },
  {
   "cell_type": "code",
   "execution_count": 515,
   "metadata": {},
   "outputs": [],
   "source": [
    "v = p*w**2+(1-p)*l**2\n",
    "r = p*sympy.diff(w,x)+(1-p)*sympy.diff(l,x)"
   ]
  },
  {
   "cell_type": "code",
   "execution_count": 516,
   "metadata": {},
   "outputs": [
    {
     "data": {
      "text/latex": [
       "$\\displaystyle \\left(1 - \\frac{1}{1 + e^{- x}}\\right) \\left(- \\frac{e^{x}}{e^{- c - 1 + \\frac{1}{e^{x} + 2}} + 2} - \\frac{e^{2 x} e^{- c - 1 + \\frac{1}{e^{x} + 2}}}{\\left(e^{x} + 2\\right)^{2} \\left(e^{- c - 1 + \\frac{1}{e^{x} + 2}} + 2\\right)^{2}}\\right) + \\frac{e^{x} e^{- c - 1 + \\frac{1}{e^{x} + 2}}}{\\left(1 + e^{- x}\\right) \\left(e^{x} + 2\\right)^{2} \\left(e^{- c - 1 + \\frac{1}{e^{x} + 2}} + 2\\right)^{2}}$"
      ],
      "text/plain": [
       "(1 - 1/(1 + exp(-x)))*(-exp(x)/(exp(-c - 1 + 1/(exp(x) + 2)) + 2) - exp(2*x)*exp(-c - 1 + 1/(exp(x) + 2))/((exp(x) + 2)**2*(exp(-c - 1 + 1/(exp(x) + 2)) + 2)**2)) + exp(x)*exp(-c - 1 + 1/(exp(x) + 2))/((1 + exp(-x))*(exp(x) + 2)**2*(exp(-c - 1 + 1/(exp(x) + 2)) + 2)**2)"
      ]
     },
     "execution_count": 516,
     "metadata": {},
     "output_type": "execute_result"
    }
   ],
   "source": [
    "r"
   ]
  },
  {
   "cell_type": "code",
   "execution_count": 517,
   "metadata": {},
   "outputs": [
    {
     "data": {
      "text/latex": [
       "$\\displaystyle \\frac{\\left(1 - \\frac{1}{1 + e^{- x}}\\right) e^{2 x}}{\\left(e^{- c - 1 + \\frac{1}{e^{x} + 2}} + 2\\right)^{2}} + \\frac{1}{\\left(1 + e^{- x}\\right) \\left(e^{- c - 1 + \\frac{1}{e^{x} + 2}} + 2\\right)^{2}}$"
      ],
      "text/plain": [
       "(1 - 1/(1 + exp(-x)))*exp(2*x)/(exp(-c - 1 + 1/(exp(x) + 2)) + 2)**2 + 1/((1 + exp(-x))*(exp(-c - 1 + 1/(exp(x) + 2)) + 2)**2)"
      ]
     },
     "execution_count": 517,
     "metadata": {},
     "output_type": "execute_result"
    }
   ],
   "source": [
    "v"
   ]
  },
  {
   "cell_type": "code",
   "execution_count": 518,
   "metadata": {},
   "outputs": [],
   "source": [
    "stationary_variance = -1/2*v/r"
   ]
  },
  {
   "cell_type": "code",
   "execution_count": 519,
   "metadata": {},
   "outputs": [
    {
     "data": {
      "text/latex": [
       "$\\displaystyle \\frac{0.5 \\left(e^{x} + 1\\right)}{e^{\\frac{- \\left(c + 1\\right) \\left(e^{x} + 2\\right) + 1}{e^{x} + 2}} + 2}$"
      ],
      "text/plain": [
       "0.5*(exp(x) + 1)/(exp((-(c + 1)*(exp(x) + 2) + 1)/(exp(x) + 2)) + 2)"
      ]
     },
     "execution_count": 519,
     "metadata": {},
     "output_type": "execute_result"
    }
   ],
   "source": [
    "sympy.simplify(stationary_variance)"
   ]
  },
  {
   "cell_type": "code",
   "execution_count": 28,
   "metadata": {},
   "outputs": [],
   "source": [
    "a = symbols('a')"
   ]
  },
  {
   "cell_type": "code",
   "execution_count": 29,
   "metadata": {},
   "outputs": [
    {
     "data": {
      "text/latex": [
       "$\\displaystyle 0$"
      ],
      "text/plain": [
       "0"
      ]
     },
     "execution_count": 29,
     "metadata": {},
     "output_type": "execute_result"
    }
   ],
   "source": [
    "sympy.diff(a,x)"
   ]
  },
  {
   "cell_type": "code",
   "execution_count": 31,
   "metadata": {},
   "outputs": [],
   "source": [
    "g = Function('g')(x)"
   ]
  },
  {
   "cell_type": "code",
   "execution_count": 33,
   "metadata": {},
   "outputs": [
    {
     "data": {
      "text/latex": [
       "$\\displaystyle \\frac{d}{d x} g{\\left(x \\right)}$"
      ],
      "text/plain": [
       "Derivative(g(x), x)"
      ]
     },
     "execution_count": 33,
     "metadata": {},
     "output_type": "execute_result"
    }
   ],
   "source": [
    "diff(g,x)"
   ]
  },
  {
   "cell_type": "code",
   "execution_count": 34,
   "metadata": {},
   "outputs": [
    {
     "data": {
      "text/latex": [
       "$\\displaystyle g{\\left(x \\right)}$"
      ],
      "text/plain": [
       "g(x)"
      ]
     },
     "execution_count": 34,
     "metadata": {},
     "output_type": "execute_result"
    }
   ],
   "source": [
    "g"
   ]
  },
  {
   "cell_type": "code",
   "execution_count": 35,
   "metadata": {},
   "outputs": [],
   "source": [
    "w = Function('w')(x)"
   ]
  },
  {
   "cell_type": "code",
   "execution_count": 36,
   "metadata": {},
   "outputs": [
    {
     "data": {
      "text/latex": [
       "$\\displaystyle w{\\left(x \\right)}$"
      ],
      "text/plain": [
       "w(x)"
      ]
     },
     "execution_count": 36,
     "metadata": {},
     "output_type": "execute_result"
    }
   ],
   "source": [
    "w"
   ]
  },
  {
   "cell_type": "code",
   "execution_count": 37,
   "metadata": {},
   "outputs": [],
   "source": [
    "l = -sympy.exp(x)*w"
   ]
  },
  {
   "cell_type": "code",
   "execution_count": 38,
   "metadata": {},
   "outputs": [
    {
     "data": {
      "text/latex": [
       "$\\displaystyle - w{\\left(x \\right)} e^{x}$"
      ],
      "text/plain": [
       "-w(x)*exp(x)"
      ]
     },
     "execution_count": 38,
     "metadata": {},
     "output_type": "execute_result"
    }
   ],
   "source": [
    "l"
   ]
  },
  {
   "cell_type": "code",
   "execution_count": 41,
   "metadata": {},
   "outputs": [],
   "source": [
    "p = 1/(1+sympy.exp(-x))"
   ]
  },
  {
   "cell_type": "code",
   "execution_count": 47,
   "metadata": {},
   "outputs": [
    {
     "data": {
      "text/latex": [
       "$\\displaystyle 0.5 \\left(e^{x} + 1\\right) w{\\left(x \\right)}$"
      ],
      "text/plain": [
       "0.5*(exp(x) + 1)*w(x)"
      ]
     },
     "execution_count": 47,
     "metadata": {},
     "output_type": "execute_result"
    }
   ],
   "source": [
    "simplify(-1/2*(p*w**2+(1-p)*l**2)/(p*diff(w,x)+(1-p)*diff(l,x)))"
   ]
  },
  {
   "cell_type": "code",
   "execution_count": 65,
   "metadata": {},
   "outputs": [],
   "source": [
    "w = 2/(1+sympy.exp(x))\n",
    "l = -2/(1+sympy.exp(-x))"
   ]
  },
  {
   "cell_type": "code",
   "execution_count": 51,
   "metadata": {},
   "outputs": [
    {
     "data": {
      "text/latex": [
       "$\\displaystyle -2$"
      ],
      "text/plain": [
       "-2"
      ]
     },
     "execution_count": 51,
     "metadata": {},
     "output_type": "execute_result"
    }
   ],
   "source": [
    "simplify((p*w**2+(1-p)*l**2)/(p*diff(w,x)+(1-p)*diff(l,x)))"
   ]
  },
  {
   "cell_type": "code",
   "execution_count": 67,
   "metadata": {},
   "outputs": [],
   "source": [
    "v= simplify(p*w**2+(1-p)*l**2)"
   ]
  },
  {
   "cell_type": "code",
   "execution_count": 69,
   "metadata": {},
   "outputs": [],
   "source": [
    "r = simplify(p*diff(w,x)+ (1-p)*diff(l,x))"
   ]
  },
  {
   "cell_type": "code",
   "execution_count": 73,
   "metadata": {},
   "outputs": [
    {
     "data": {
      "text/latex": [
       "$\\displaystyle - \\frac{1}{2 \\cosh^{2}{\\left(\\frac{x}{2} \\right)}}$"
      ],
      "text/plain": [
       "-1/(2*cosh(x/2)**2)"
      ]
     },
     "execution_count": 73,
     "metadata": {},
     "output_type": "execute_result"
    }
   ],
   "source": [
    "r"
   ]
  },
  {
   "cell_type": "code",
   "execution_count": 92,
   "metadata": {},
   "outputs": [
    {
     "data": {
      "text/latex": [
       "$\\displaystyle \\frac{\\sqrt{\\frac{1}{\\cosh^{2}{\\left(\\frac{x}{2} \\right)}}}}{2}$"
      ],
      "text/plain": [
       "sqrt(cosh(x/2)**(-2))/2"
      ]
     },
     "execution_count": 92,
     "metadata": {},
     "output_type": "execute_result"
    }
   ],
   "source": [
    "simplify(1/sympy.sqrt(p*(1-p))*diff(p,x))"
   ]
  },
  {
   "cell_type": "code",
   "execution_count": 94,
   "metadata": {},
   "outputs": [
    {
     "data": {
      "text/plain": [
       "[<matplotlib.lines.Line2D at 0x12705c690>]"
      ]
     },
     "execution_count": 94,
     "metadata": {},
     "output_type": "execute_result"
    },
    {
     "data": {
      "image/png": "[encoded data removed]",
      "text/plain": [
       "<Figure size 640x480 with 1 Axes>"
      ]
     },
     "metadata": {},
     "output_type": "display_data"
    }
   ],
   "source": [
    "x = np.linspace(-10,10,1000)\n",
    "plt.plot(x,.5*np.sqrt(1/np.cosh(x/2)**2))"
   ]
  },
  {
   "cell_type": "code",
   "execution_count": 82,
   "metadata": {},
   "outputs": [
    {
     "ename": "AttributeError",
     "evalue": "'ImmutableDenseNDimArray' object has no attribute 'as_coefficient'",
     "output_type": "error",
     "traceback": [
      "\u001b[0;31m---------------------------------------------------------------------------\u001b[0m",
      "\u001b[0;31mTypeError\u001b[0m                                 Traceback (most recent call last)",
      "File \u001b[0;32m~/anaconda3/lib/python3.11/site-packages/sympy/core/cache.py:70\u001b[0m, in \u001b[0;36m__cacheit.<locals>.func_wrapper.<locals>.wrapper\u001b[0;34m(*args, **kwargs)\u001b[0m\n\u001b[1;32m     69\u001b[0m \u001b[39mtry\u001b[39;00m:\n\u001b[0;32m---> 70\u001b[0m     retval \u001b[39m=\u001b[39m cfunc(\u001b[39m*\u001b[39margs, \u001b[39m*\u001b[39m\u001b[39m*\u001b[39mkwargs)\n\u001b[1;32m     71\u001b[0m \u001b[39mexcept\u001b[39;00m \u001b[39mTypeError\u001b[39;00m \u001b[39mas\u001b[39;00m e:\n",
      "\u001b[0;31mTypeError\u001b[0m: unhashable type: 'numpy.ndarray'",
      "\nDuring handling of the above exception, another exception occurred:\n",
      "\u001b[0;31mTypeError\u001b[0m                                 Traceback (most recent call last)",
      "File \u001b[0;32m~/anaconda3/lib/python3.11/site-packages/sympy/core/cache.py:70\u001b[0m, in \u001b[0;36m__cacheit.<locals>.func_wrapper.<locals>.wrapper\u001b[0;34m(*args, **kwargs)\u001b[0m\n\u001b[1;32m     69\u001b[0m \u001b[39mtry\u001b[39;00m:\n\u001b[0;32m---> 70\u001b[0m     retval \u001b[39m=\u001b[39m cfunc(\u001b[39m*\u001b[39margs, \u001b[39m*\u001b[39m\u001b[39m*\u001b[39mkwargs)\n\u001b[1;32m     71\u001b[0m \u001b[39mexcept\u001b[39;00m \u001b[39mTypeError\u001b[39;00m \u001b[39mas\u001b[39;00m e:\n",
      "\u001b[0;31mTypeError\u001b[0m: unhashable type: 'numpy.ndarray'",
      "\nDuring handling of the above exception, another exception occurred:\n",
      "\u001b[0;31mAttributeError\u001b[0m                            Traceback (most recent call last)",
      "\u001b[1;32mUntitled-1.ipynb Cell 30\u001b[0m line \u001b[0;36m1\n\u001b[0;32m----> <a href='vscode-notebook-cell:Untitled-1.ipynb?jupyter-notebook#X44sdW50aXRsZWQ%3D?line=0'>1</a>\u001b[0m sympy\u001b[39m.\u001b[39mlog(x\u001b[39m/\u001b[39m(\u001b[39m1\u001b[39m\u001b[39m-\u001b[39mx))\n",
      "File \u001b[0;32m~/anaconda3/lib/python3.11/site-packages/sympy/core/cache.py:74\u001b[0m, in \u001b[0;36m__cacheit.<locals>.func_wrapper.<locals>.wrapper\u001b[0;34m(*args, **kwargs)\u001b[0m\n\u001b[1;32m     72\u001b[0m     \u001b[39mif\u001b[39;00m \u001b[39mnot\u001b[39;00m e\u001b[39m.\u001b[39margs \u001b[39mor\u001b[39;00m \u001b[39mnot\u001b[39;00m e\u001b[39m.\u001b[39margs[\u001b[39m0\u001b[39m]\u001b[39m.\u001b[39mstartswith(\u001b[39m'\u001b[39m\u001b[39munhashable type:\u001b[39m\u001b[39m'\u001b[39m):\n\u001b[1;32m     73\u001b[0m         \u001b[39mraise\u001b[39;00m\n\u001b[0;32m---> 74\u001b[0m     retval \u001b[39m=\u001b[39m func(\u001b[39m*\u001b[39margs, \u001b[39m*\u001b[39m\u001b[39m*\u001b[39mkwargs)\n\u001b[1;32m     75\u001b[0m \u001b[39mreturn\u001b[39;00m retval\n",
      "File \u001b[0;32m~/anaconda3/lib/python3.11/site-packages/sympy/core/function.py:469\u001b[0m, in \u001b[0;36mFunction.__new__\u001b[0;34m(cls, *args, **options)\u001b[0m\n\u001b[1;32m    461\u001b[0m     \u001b[39mraise\u001b[39;00m \u001b[39mTypeError\u001b[39;00m(temp \u001b[39m%\u001b[39m {\n\u001b[1;32m    462\u001b[0m         \u001b[39m'\u001b[39m\u001b[39mname\u001b[39m\u001b[39m'\u001b[39m: \u001b[39mcls\u001b[39m,\n\u001b[1;32m    463\u001b[0m         \u001b[39m'\u001b[39m\u001b[39mqual\u001b[39m\u001b[39m'\u001b[39m: \u001b[39m'\u001b[39m\u001b[39mexactly\u001b[39m\u001b[39m'\u001b[39m \u001b[39mif\u001b[39;00m \u001b[39mlen\u001b[39m(\u001b[39mcls\u001b[39m\u001b[39m.\u001b[39mnargs) \u001b[39m==\u001b[39m \u001b[39m1\u001b[39m \u001b[39melse\u001b[39;00m \u001b[39m'\u001b[39m\u001b[39mat least\u001b[39m\u001b[39m'\u001b[39m,\n\u001b[1;32m    464\u001b[0m         \u001b[39m'\u001b[39m\u001b[39margs\u001b[39m\u001b[39m'\u001b[39m: \u001b[39mmin\u001b[39m(\u001b[39mcls\u001b[39m\u001b[39m.\u001b[39mnargs),\n\u001b[1;32m    465\u001b[0m         \u001b[39m'\u001b[39m\u001b[39mplural\u001b[39m\u001b[39m'\u001b[39m: \u001b[39m'\u001b[39m\u001b[39ms\u001b[39m\u001b[39m'\u001b[39m\u001b[39m*\u001b[39m(\u001b[39mmin\u001b[39m(\u001b[39mcls\u001b[39m\u001b[39m.\u001b[39mnargs) \u001b[39m!=\u001b[39m \u001b[39m1\u001b[39m),\n\u001b[1;32m    466\u001b[0m         \u001b[39m'\u001b[39m\u001b[39mgiven\u001b[39m\u001b[39m'\u001b[39m: n})\n\u001b[1;32m    468\u001b[0m evaluate \u001b[39m=\u001b[39m options\u001b[39m.\u001b[39mget(\u001b[39m'\u001b[39m\u001b[39mevaluate\u001b[39m\u001b[39m'\u001b[39m, global_parameters\u001b[39m.\u001b[39mevaluate)\n\u001b[0;32m--> 469\u001b[0m result \u001b[39m=\u001b[39m \u001b[39msuper\u001b[39m()\u001b[39m.\u001b[39m\u001b[39m__new__\u001b[39m(\u001b[39mcls\u001b[39m, \u001b[39m*\u001b[39margs, \u001b[39m*\u001b[39m\u001b[39m*\u001b[39moptions)\n\u001b[1;32m    470\u001b[0m \u001b[39mif\u001b[39;00m evaluate \u001b[39mand\u001b[39;00m \u001b[39misinstance\u001b[39m(result, \u001b[39mcls\u001b[39m) \u001b[39mand\u001b[39;00m result\u001b[39m.\u001b[39margs:\n\u001b[1;32m    471\u001b[0m     _should_evalf \u001b[39m=\u001b[39m [\u001b[39mcls\u001b[39m\u001b[39m.\u001b[39m_should_evalf(a) \u001b[39mfor\u001b[39;00m a \u001b[39min\u001b[39;00m result\u001b[39m.\u001b[39margs]\n",
      "File \u001b[0;32m~/anaconda3/lib/python3.11/site-packages/sympy/core/cache.py:74\u001b[0m, in \u001b[0;36m__cacheit.<locals>.func_wrapper.<locals>.wrapper\u001b[0;34m(*args, **kwargs)\u001b[0m\n\u001b[1;32m     72\u001b[0m     \u001b[39mif\u001b[39;00m \u001b[39mnot\u001b[39;00m e\u001b[39m.\u001b[39margs \u001b[39mor\u001b[39;00m \u001b[39mnot\u001b[39;00m e\u001b[39m.\u001b[39margs[\u001b[39m0\u001b[39m]\u001b[39m.\u001b[39mstartswith(\u001b[39m'\u001b[39m\u001b[39munhashable type:\u001b[39m\u001b[39m'\u001b[39m):\n\u001b[1;32m     73\u001b[0m         \u001b[39mraise\u001b[39;00m\n\u001b[0;32m---> 74\u001b[0m     retval \u001b[39m=\u001b[39m func(\u001b[39m*\u001b[39margs, \u001b[39m*\u001b[39m\u001b[39m*\u001b[39mkwargs)\n\u001b[1;32m     75\u001b[0m \u001b[39mreturn\u001b[39;00m retval\n",
      "File \u001b[0;32m~/anaconda3/lib/python3.11/site-packages/sympy/core/function.py:309\u001b[0m, in \u001b[0;36mApplication.__new__\u001b[0;34m(cls, *args, **options)\u001b[0m\n\u001b[1;32m    306\u001b[0m     \u001b[39mraise\u001b[39;00m \u001b[39mValueError\u001b[39;00m(\u001b[39m\"\u001b[39m\u001b[39mUnknown options: \u001b[39m\u001b[39m%s\u001b[39;00m\u001b[39m\"\u001b[39m \u001b[39m%\u001b[39m options)\n\u001b[1;32m    308\u001b[0m \u001b[39mif\u001b[39;00m evaluate:\n\u001b[0;32m--> 309\u001b[0m     evaluated \u001b[39m=\u001b[39m \u001b[39mcls\u001b[39m\u001b[39m.\u001b[39meval(\u001b[39m*\u001b[39margs)\n\u001b[1;32m    310\u001b[0m     \u001b[39mif\u001b[39;00m evaluated \u001b[39mis\u001b[39;00m \u001b[39mnot\u001b[39;00m \u001b[39mNone\u001b[39;00m:\n\u001b[1;32m    311\u001b[0m         \u001b[39mreturn\u001b[39;00m evaluated\n",
      "File \u001b[0;32m~/anaconda3/lib/python3.11/site-packages/sympy/functions/elementary/exponential.py:738\u001b[0m, in \u001b[0;36mlog.eval\u001b[0;34m(cls, arg, base)\u001b[0m\n\u001b[1;32m    736\u001b[0m \u001b[39m# don't autoexpand Pow or Mul (see the issue 3351):\u001b[39;00m\n\u001b[1;32m    737\u001b[0m \u001b[39mif\u001b[39;00m \u001b[39mnot\u001b[39;00m arg\u001b[39m.\u001b[39mis_Add:\n\u001b[0;32m--> 738\u001b[0m     coeff \u001b[39m=\u001b[39m arg\u001b[39m.\u001b[39mas_coefficient(I)\n\u001b[1;32m    740\u001b[0m     \u001b[39mif\u001b[39;00m coeff \u001b[39mis\u001b[39;00m \u001b[39mnot\u001b[39;00m \u001b[39mNone\u001b[39;00m:\n\u001b[1;32m    741\u001b[0m         \u001b[39mif\u001b[39;00m coeff \u001b[39mis\u001b[39;00m S\u001b[39m.\u001b[39mInfinity:\n",
      "\u001b[0;31mAttributeError\u001b[0m: 'ImmutableDenseNDimArray' object has no attribute 'as_coefficient'"
     ]
    }
   ],
   "source": [
    "sympy.log(x/(1-x))"
   ]
  },
  {
   "cell_type": "code",
   "execution_count": 91,
   "metadata": {},
   "outputs": [
    {
     "data": {
      "text/latex": [
       "$\\displaystyle \\frac{\\sqrt{\\frac{1}{\\cosh^{2}{\\left(\\frac{x}{2} \\right)}}}}{2}$"
      ],
      "text/plain": [
       "sqrt(cosh(x/2)**(-2))/2"
      ]
     },
     "execution_count": 91,
     "metadata": {},
     "output_type": "execute_result"
    }
   ],
   "source": []
  },
  {
   "cell_type": "code",
   "execution_count": 88,
   "metadata": {},
   "outputs": [
    {
     "data": {
      "text/latex": [
       "$\\displaystyle \\frac{1}{1 + e^{- x}}$"
      ],
      "text/plain": [
       "1/(1 + exp(-x))"
      ]
     },
     "execution_count": 88,
     "metadata": {},
     "output_type": "execute_result"
    }
   ],
   "source": [
    "p"
   ]
  },
  {
   "cell_type": "code",
   "execution_count": 89,
   "metadata": {},
   "outputs": [
    {
     "data": {
      "text/latex": [
       "$\\displaystyle \\frac{e^{- x}}{\\left(1 + e^{- x}\\right)^{2}}$"
      ],
      "text/plain": [
       "exp(-x)/(1 + exp(-x))**2"
      ]
     },
     "execution_count": 89,
     "metadata": {},
     "output_type": "execute_result"
    }
   ],
   "source": []
  },
  {
   "cell_type": "code",
   "execution_count": 193,
   "metadata": {},
   "outputs": [],
   "source": [
    "w = Function('w')(x)\n",
    "l=-sympy.exp(x)*w\n",
    "p = 1/(1+sympy.exp(-x))"
   ]
  },
  {
   "cell_type": "code",
   "execution_count": 100,
   "metadata": {},
   "outputs": [
    {
     "data": {
      "text/latex": [
       "$\\displaystyle w{\\left(x \\right)}$"
      ],
      "text/plain": [
       "w(x)"
      ]
     },
     "execution_count": 100,
     "metadata": {},
     "output_type": "execute_result"
    }
   ],
   "source": [
    "w"
   ]
  },
  {
   "cell_type": "code",
   "execution_count": 125,
   "metadata": {},
   "outputs": [],
   "source": [
    "sigma = symbols(r'\\sigma')\n",
    "eta = symbols(r'\\eta')"
   ]
  },
  {
   "cell_type": "code",
   "execution_count": 126,
   "metadata": {},
   "outputs": [
    {
     "data": {
      "text/latex": [
       "$\\displaystyle \\sigma$"
      ],
      "text/plain": [
       "\\sigma"
      ]
     },
     "execution_count": 126,
     "metadata": {},
     "output_type": "execute_result"
    }
   ],
   "source": [
    "sigma"
   ]
  },
  {
   "cell_type": "code",
   "execution_count": 124,
   "metadata": {},
   "outputs": [],
   "source": [
    "w=2/(sympy.exp(x)+1)\n",
    "l=-2/(1+sympy.exp(-x))"
   ]
  },
  {
   "cell_type": "code",
   "execution_count": 197,
   "metadata": {},
   "outputs": [],
   "source": [
    "next_var = simplify(p*sigma**2*(1+eta*diff(w,x))**2 + (1-p)*sigma**2*(1+eta*diff(l,x))**2+p*(x+eta*w)**2+(1-p)*(x+eta*l)**2-(p*(x+eta*w)+(1-p)*(x+eta*l))**2)"
   ]
  },
  {
   "cell_type": "code",
   "execution_count": 245,
   "metadata": {},
   "outputs": [
    {
     "ename": "NotImplementedError",
     "evalue": "The given ODE \\eta*\\sigma**2*w(x)**2*exp(2*x) + 2*\\eta*\\sigma**2*w(x)**2*exp(x) + 4*\\eta*\\sigma**2*w(x)*exp(2*x)*Derivative(w(x), x) + 2*\\eta*\\sigma**2*w(x)*exp(2*x)*Derivative(w(x), (x, 2)) + 6*\\eta*\\sigma**2*w(x)*exp(x)*Derivative(w(x), x) + 2*\\eta*\\sigma**2*w(x)*exp(x)*Derivative(w(x), (x, 2)) + 3*\\eta*\\sigma**2*exp(2*x)*Derivative(w(x), x)**2 + 2*\\eta*\\sigma**2*exp(2*x)*Derivative(w(x), x)*Derivative(w(x), (x, 2)) + 4*\\eta*\\sigma**2*exp(x)*Derivative(w(x), x)**2 + 4*\\eta*\\sigma**2*exp(x)*Derivative(w(x), x)*Derivative(w(x), (x, 2)) + \\eta*\\sigma**2*Derivative(w(x), x)**2 + 2*\\eta*\\sigma**2*Derivative(w(x), x)*Derivative(w(x), (x, 2)) + \\eta*w(x)**2*exp(2*x) + 2*\\eta*w(x)**2*exp(x) + \\eta*w(x)**2 + 2*\\eta*w(x)*exp(2*x)*Derivative(w(x), x) + 4*\\eta*w(x)*exp(x)*Derivative(w(x), x) + 2*\\eta*w(x)*Derivative(w(x), x) - 2*\\sigma**2*w(x) - 2*\\sigma**2*exp(x)*Derivative(w(x), x) - 2*\\sigma**2*Derivative(w(x), x) cannot be solved by the factorable group method",
     "output_type": "error",
     "traceback": [
      "\u001b[0;31m---------------------------------------------------------------------------\u001b[0m",
      "\u001b[0;31mNotImplementedError\u001b[0m                       Traceback (most recent call last)",
      "\u001b[1;32mUntitled-1.ipynb Cell 41\u001b[0m line \u001b[0;36m1\n\u001b[0;32m----> <a href='vscode-notebook-cell:Untitled-1.ipynb?jupyter-notebook#Y113sdW50aXRsZWQ%3D?line=0'>1</a>\u001b[0m sympy\u001b[39m.\u001b[39mdsolve(diff(next_var,x),w)\n",
      "File \u001b[0;32m~/anaconda3/lib/python3.11/site-packages/sympy/solvers/ode/ode.py:640\u001b[0m, in \u001b[0;36mdsolve\u001b[0;34m(eq, func, hint, simplify, ics, xi, eta, x0, n, **kwargs)\u001b[0m\n\u001b[1;32m    637\u001b[0m \u001b[39melse\u001b[39;00m:\n\u001b[1;32m    638\u001b[0m     \u001b[39m# The key 'hint' stores the hint needed to be solved for.\u001b[39;00m\n\u001b[1;32m    639\u001b[0m     hint \u001b[39m=\u001b[39m hints[\u001b[39m'\u001b[39m\u001b[39mhint\u001b[39m\u001b[39m'\u001b[39m]\n\u001b[0;32m--> 640\u001b[0m     \u001b[39mreturn\u001b[39;00m _helper_simplify(eq, hint, hints, simplify, ics\u001b[39m=\u001b[39mics)\n",
      "File \u001b[0;32m~/anaconda3/lib/python3.11/site-packages/sympy/solvers/ode/ode.py:669\u001b[0m, in \u001b[0;36m_helper_simplify\u001b[0;34m(eq, hint, match, simplify, ics, **kwargs)\u001b[0m\n\u001b[1;32m    664\u001b[0m \u001b[39mif\u001b[39;00m simplify:\n\u001b[1;32m    665\u001b[0m     \u001b[39m# odesimp() will attempt to integrate, if necessary, apply constantsimp(),\u001b[39;00m\n\u001b[1;32m    666\u001b[0m     \u001b[39m# attempt to solve for func, and apply any other hint specific\u001b[39;00m\n\u001b[1;32m    667\u001b[0m     \u001b[39m# simplifications\u001b[39;00m\n\u001b[1;32m    668\u001b[0m     \u001b[39mif\u001b[39;00m \u001b[39misinstance\u001b[39m(solvefunc, SingleODESolver):\n\u001b[0;32m--> 669\u001b[0m         sols \u001b[39m=\u001b[39m solvefunc\u001b[39m.\u001b[39mget_general_solution()\n\u001b[1;32m    670\u001b[0m     \u001b[39melse\u001b[39;00m:\n\u001b[1;32m    671\u001b[0m         sols \u001b[39m=\u001b[39m solvefunc(eq, func, order, match)\n",
      "File \u001b[0;32m~/anaconda3/lib/python3.11/site-packages/sympy/solvers/ode/single.py:285\u001b[0m, in \u001b[0;36mSingleODESolver.get_general_solution\u001b[0;34m(self, simplify)\u001b[0m\n\u001b[1;32m    283\u001b[0m     msg \u001b[39m=\u001b[39m \u001b[39m\"\u001b[39m\u001b[39m%s\u001b[39;00m\u001b[39m solver cannot solve:\u001b[39m\u001b[39m\\n\u001b[39;00m\u001b[39m%s\u001b[39;00m\u001b[39m\"\u001b[39m\n\u001b[1;32m    284\u001b[0m     \u001b[39mraise\u001b[39;00m ODEMatchError(msg \u001b[39m%\u001b[39m (\u001b[39mself\u001b[39m\u001b[39m.\u001b[39mhint, \u001b[39mself\u001b[39m\u001b[39m.\u001b[39mode_problem\u001b[39m.\u001b[39meq))\n\u001b[0;32m--> 285\u001b[0m \u001b[39mreturn\u001b[39;00m \u001b[39mself\u001b[39m\u001b[39m.\u001b[39m_get_general_solution(simplify_flag\u001b[39m=\u001b[39msimplify)\n",
      "File \u001b[0;32m~/anaconda3/lib/python3.11/site-packages/sympy/solvers/ode/single.py:909\u001b[0m, in \u001b[0;36mFactorable._get_general_solution\u001b[0;34m(self, simplify_flag)\u001b[0m\n\u001b[1;32m    906\u001b[0m             sols\u001b[39m.\u001b[39mappend(sol)\n\u001b[1;32m    908\u001b[0m \u001b[39mif\u001b[39;00m sols \u001b[39m==\u001b[39m []:\n\u001b[0;32m--> 909\u001b[0m     \u001b[39mraise\u001b[39;00m \u001b[39mNotImplementedError\u001b[39;00m(\u001b[39m\"\u001b[39m\u001b[39mThe given ODE \u001b[39m\u001b[39m\"\u001b[39m \u001b[39m+\u001b[39m \u001b[39mstr\u001b[39m(eq) \u001b[39m+\u001b[39m \u001b[39m\"\u001b[39m\u001b[39m cannot be solved by\u001b[39m\u001b[39m\"\u001b[39m\n\u001b[1;32m    910\u001b[0m         \u001b[39m+\u001b[39m \u001b[39m\"\u001b[39m\u001b[39m the factorable group method\u001b[39m\u001b[39m\"\u001b[39m)\n\u001b[1;32m    911\u001b[0m \u001b[39mreturn\u001b[39;00m sols\n",
      "\u001b[0;31mNotImplementedError\u001b[0m: The given ODE \\eta*\\sigma**2*w(x)**2*exp(2*x) + 2*\\eta*\\sigma**2*w(x)**2*exp(x) + 4*\\eta*\\sigma**2*w(x)*exp(2*x)*Derivative(w(x), x) + 2*\\eta*\\sigma**2*w(x)*exp(2*x)*Derivative(w(x), (x, 2)) + 6*\\eta*\\sigma**2*w(x)*exp(x)*Derivative(w(x), x) + 2*\\eta*\\sigma**2*w(x)*exp(x)*Derivative(w(x), (x, 2)) + 3*\\eta*\\sigma**2*exp(2*x)*Derivative(w(x), x)**2 + 2*\\eta*\\sigma**2*exp(2*x)*Derivative(w(x), x)*Derivative(w(x), (x, 2)) + 4*\\eta*\\sigma**2*exp(x)*Derivative(w(x), x)**2 + 4*\\eta*\\sigma**2*exp(x)*Derivative(w(x), x)*Derivative(w(x), (x, 2)) + \\eta*\\sigma**2*Derivative(w(x), x)**2 + 2*\\eta*\\sigma**2*Derivative(w(x), x)*Derivative(w(x), (x, 2)) + \\eta*w(x)**2*exp(2*x) + 2*\\eta*w(x)**2*exp(x) + \\eta*w(x)**2 + 2*\\eta*w(x)*exp(2*x)*Derivative(w(x), x) + 4*\\eta*w(x)*exp(x)*Derivative(w(x), x) + 2*\\eta*w(x)*Derivative(w(x), x) - 2*\\sigma**2*w(x) - 2*\\sigma**2*exp(x)*Derivative(w(x), x) - 2*\\sigma**2*Derivative(w(x), x) cannot be solved by the factorable group method"
     ]
    }
   ],
   "source": [
    "sympy.dsolve(diff(next_var,x),w)"
   ]
  },
  {
   "cell_type": "code",
   "execution_count": 108,
   "metadata": {},
   "outputs": [
    {
     "data": {
      "text/latex": [
       "$\\displaystyle \\eta$"
      ],
      "text/plain": [
       "\\eta"
      ]
     },
     "execution_count": 108,
     "metadata": {},
     "output_type": "execute_result"
    }
   ],
   "source": [
    "eta"
   ]
  },
  {
   "cell_type": "code",
   "execution_count": 286,
   "metadata": {},
   "outputs": [],
   "source": [
    "mu = symbols(r'\\mu')\n",
    "theta = symbols(r'\\theta')"
   ]
  },
  {
   "cell_type": "code",
   "execution_count": 127,
   "metadata": {},
   "outputs": [
    {
     "data": {
      "text/latex": [
       "$\\displaystyle \\mu$"
      ],
      "text/plain": [
       "\\mu"
      ]
     },
     "execution_count": 127,
     "metadata": {},
     "output_type": "execute_result"
    }
   ],
   "source": [
    "mu"
   ]
  },
  {
   "cell_type": "code",
   "execution_count": 204,
   "metadata": {},
   "outputs": [],
   "source": [
    "sigma = Function(r'\\sigma')\n",
    "prior = Function(r'\\pi')(x)"
   ]
  },
  {
   "cell_type": "code",
   "execution_count": 166,
   "metadata": {},
   "outputs": [
    {
     "data": {
      "text/latex": [
       "$\\displaystyle \\pi{\\left(x \\right)}$"
      ],
      "text/plain": [
       "\\pi(x)"
      ]
     },
     "execution_count": 166,
     "metadata": {},
     "output_type": "execute_result"
    }
   ],
   "source": [
    "prior"
   ]
  },
  {
   "cell_type": "code",
   "execution_count": 279,
   "metadata": {},
   "outputs": [
    {
     "data": {
      "text/latex": [
       "$\\displaystyle 1.0 \\mu + \\frac{1.0 \\sqrt{\\left(\\frac{d}{d \\mu} \\sigma{\\left(\\mu \\right)}\\right)^{4} + 0.25} \\sigma{\\left(\\mu \\right)}}{\\frac{d}{d \\mu} \\sigma{\\left(\\mu \\right)}} - 1.0 \\sigma{\\left(\\mu \\right)} \\frac{d}{d \\mu} \\sigma{\\left(\\mu \\right)} - \\frac{0.5 \\sigma{\\left(\\mu \\right)}}{\\frac{d}{d \\mu} \\sigma{\\left(\\mu \\right)}}$"
      ],
      "text/plain": [
       "1.0*\\mu + 1.0*sqrt(Derivative(\\sigma(\\mu), \\mu)**4 + 0.25)*\\sigma(\\mu)/Derivative(\\sigma(\\mu), \\mu) - 1.0*\\sigma(\\mu)*Derivative(\\sigma(\\mu), \\mu) - 0.5*\\sigma(\\mu)/Derivative(\\sigma(\\mu), \\mu)"
      ]
     },
     "execution_count": 279,
     "metadata": {},
     "output_type": "execute_result"
    }
   ],
   "source": [
    "simplify(solve(diff(-1/2*(x-mu)**2/(sigma(mu)**2+diff(sigma(mu),mu)*(x-mu)*2*sigma(mu)) - 1/2*sympy.log(sigma(mu)**2+diff(sigma(mu),mu)*(x-mu)*2*sigma(mu)),x),x)[1])"
   ]
  },
  {
   "cell_type": "code",
   "execution_count": 258,
   "metadata": {},
   "outputs": [
    {
     "data": {
      "text/latex": [
       "$\\displaystyle \\mu + \\frac{\\sqrt{4 \\left(\\frac{d}{d \\mu} \\sigma{\\left(\\mu \\right)}\\right)^{4} + 1} \\sigma{\\left(\\mu \\right)}}{2 \\frac{d}{d \\mu} \\sigma{\\left(\\mu \\right)}} - \\sigma{\\left(\\mu \\right)} \\frac{d}{d \\mu} \\sigma{\\left(\\mu \\right)} - \\frac{\\sigma{\\left(\\mu \\right)}}{2 \\frac{d}{d \\mu} \\sigma{\\left(\\mu \\right)}}$"
      ],
      "text/plain": [
       "\\mu + sqrt(4*Derivative(\\sigma(\\mu), \\mu)**4 + 1)*\\sigma(\\mu)/(2*Derivative(\\sigma(\\mu), \\mu)) - \\sigma(\\mu)*Derivative(\\sigma(\\mu), \\mu) - \\sigma(\\mu)/(2*Derivative(\\sigma(\\mu), \\mu))"
      ]
     },
     "execution_count": 258,
     "metadata": {},
     "output_type": "execute_result"
    }
   ],
   "source": [
    "solve((x-mu)**2*diff(sigma(mu),mu)+(2*(mu-x)*diff(sigma(mu),mu)-sigma(mu))*(-mu+x+sigma(mu)*diff(sigma(mu),mu)),x)[1]"
   ]
  },
  {
   "cell_type": "code",
   "execution_count": 217,
   "metadata": {},
   "outputs": [
    {
     "data": {
      "text/latex": [
       "$\\displaystyle - \\frac{0.5 \\left(- \\mu + x\\right)^{2}}{\\sigma^{2}{\\left(x \\right)}} - 0.5 \\log{\\left(\\sigma^{2}{\\left(x \\right)} \\right)}$"
      ],
      "text/plain": [
       "-0.5*(-\\mu + x)**2/\\sigma(x)**2 - 0.5*log(\\sigma(x)**2)"
      ]
     },
     "execution_count": 217,
     "metadata": {},
     "output_type": "execute_result"
    }
   ],
   "source": [
    "log_proportional = -.5*((x-mu)**2/(sigma(mu)+2*diff(sigma(x),x)(mu)()))-.5*sympy.log(sigma(x)**2)\n",
    "log_proportional"
   ]
  },
  {
   "cell_type": "code",
   "execution_count": 216,
   "metadata": {},
   "outputs": [
    {
     "data": {
      "text/latex": [
       "$\\displaystyle \\frac{1.0 \\left(\\mu - x\\right)^{2} \\frac{d}{d x} \\sigma{\\left(x \\right)} + 1.0 \\left(\\mu - x\\right) \\sigma{\\left(x \\right)} - \\sigma^{2}{\\left(x \\right)} \\frac{d}{d x} \\sigma{\\left(x \\right)}}{\\sigma^{3}{\\left(x \\right)}}$"
      ],
      "text/plain": [
       "(1.0*(\\mu - x)**2*Derivative(\\sigma(x), x) + 1.0*(\\mu - x)*\\sigma(x) - \\sigma(x)**2*Derivative(\\sigma(x), x))/\\sigma(x)**3"
      ]
     },
     "execution_count": 216,
     "metadata": {},
     "output_type": "execute_result"
    }
   ],
   "source": [
    "simplify(diff(log_proportional,x))"
   ]
  },
  {
   "cell_type": "code",
   "execution_count": 211,
   "metadata": {},
   "outputs": [
    {
     "data": {
      "text/latex": [
       "$\\displaystyle x + 0.999000124999992 \\sigma{\\left(x \\right)}$"
      ],
      "text/plain": [
       "x + 0.999000124999992*\\sigma(x)"
      ]
     },
     "execution_count": 211,
     "metadata": {},
     "output_type": "execute_result"
    }
   ],
   "source": [
    "(x*1000+sympy.sqrt(1000**2+1/4)*sigma(x)-sigma(x))/1000"
   ]
  },
  {
   "cell_type": "code",
   "execution_count": 162,
   "metadata": {},
   "outputs": [
    {
     "data": {
      "text/latex": [
       "$\\displaystyle x - \\frac{\\left(\\sqrt{4 \\left(\\frac{d}{d x} \\sigma{\\left(x \\right)}\\right)^{2} + 1} - 1\\right) \\sigma{\\left(x \\right)}}{2 \\frac{d}{d x} \\sigma{\\left(x \\right)}}$"
      ],
      "text/plain": [
       "x - (sqrt(4*Derivative(\\sigma(x), x)**2 + 1) - 1)*\\sigma(x)/(2*Derivative(\\sigma(x), x))"
      ]
     },
     "execution_count": 162,
     "metadata": {},
     "output_type": "execute_result"
    }
   ],
   "source": [
    "x-sigma/(2*diff(sigma,x))*(-1+sympy.sqrt(1+4*diff(sigma,x)**2))"
   ]
  },
  {
   "cell_type": "code",
   "execution_count": 160,
   "metadata": {},
   "outputs": [
    {
     "data": {
      "text/latex": [
       "$\\displaystyle \\frac{2.0 \\left(- 2 \\mu + 2 x\\right) \\frac{d}{d x} \\sigma{\\left(x \\right)}}{\\sigma^{3}{\\left(x \\right)}} + \\frac{1.0 \\left(- \\mu + x\\right)^{2} \\frac{d^{2}}{d x^{2}} \\sigma{\\left(x \\right)}}{\\sigma^{3}{\\left(x \\right)}} - \\frac{3.0 \\left(- \\mu + x\\right)^{2} \\left(\\frac{d}{d x} \\sigma{\\left(x \\right)}\\right)^{2}}{\\sigma^{4}{\\left(x \\right)}} - \\frac{\\frac{d^{2}}{d x^{2}} \\sigma{\\left(x \\right)}}{\\sigma{\\left(x \\right)}} + \\frac{\\left(\\frac{d}{d x} \\sigma{\\left(x \\right)}\\right)^{2}}{\\sigma^{2}{\\left(x \\right)}} - \\frac{1.0}{\\sigma^{2}{\\left(x \\right)}}$"
      ],
      "text/plain": [
       "2.0*(-2*\\mu + 2*x)*Derivative(\\sigma(x), x)/\\sigma(x)**3 + 1.0*(-\\mu + x)**2*Derivative(\\sigma(x), (x, 2))/\\sigma(x)**3 - 3.0*(-\\mu + x)**2*Derivative(\\sigma(x), x)**2/\\sigma(x)**4 - Derivative(\\sigma(x), (x, 2))/\\sigma(x) + Derivative(\\sigma(x), x)**2/\\sigma(x)**2 - 1.0/\\sigma(x)**2"
      ]
     },
     "execution_count": 160,
     "metadata": {},
     "output_type": "execute_result"
    }
   ],
   "source": [
    "diff(diff(log_proportional,x),x)"
   ]
  },
  {
   "cell_type": "code",
   "execution_count": 167,
   "metadata": {},
   "outputs": [
    {
     "data": {
      "text/latex": [
       "$\\displaystyle \\frac{1.0 \\left(- 0.5 \\sqrt{4 \\left(\\frac{d}{d x} \\sigma{\\left(x \\right)}\\right)^{2} + 1} \\sigma{\\left(x \\right)} \\frac{d^{2}}{d x^{2}} \\sigma{\\left(x \\right)} + 3.5 \\sqrt{4 \\left(\\frac{d}{d x} \\sigma{\\left(x \\right)}\\right)^{2} + 1} \\left(\\frac{d}{d x} \\sigma{\\left(x \\right)}\\right)^{2} + 0.5 \\sigma{\\left(x \\right)} \\frac{d^{2}}{d x^{2}} \\sigma{\\left(x \\right)} - 2.0 \\left(\\frac{d}{d x} \\sigma{\\left(x \\right)}\\right)^{4} - 4.5 \\left(\\frac{d}{d x} \\sigma{\\left(x \\right)}\\right)^{2}\\right)}{\\sigma^{2}{\\left(x \\right)} \\left(\\frac{d}{d x} \\sigma{\\left(x \\right)}\\right)^{2}}$"
      ],
      "text/plain": [
       "1.0*(-0.5*sqrt(4*Derivative(\\sigma(x), x)**2 + 1)*\\sigma(x)*Derivative(\\sigma(x), (x, 2)) + 3.5*sqrt(4*Derivative(\\sigma(x), x)**2 + 1)*Derivative(\\sigma(x), x)**2 + 0.5*\\sigma(x)*Derivative(\\sigma(x), (x, 2)) - 2.0*Derivative(\\sigma(x), x)**4 - 4.5*Derivative(\\sigma(x), x)**2)/(\\sigma(x)**2*Derivative(\\sigma(x), x)**2)"
      ]
     },
     "execution_count": 167,
     "metadata": {},
     "output_type": "execute_result"
    }
   ],
   "source": [
    "simplify(diff(diff(log_proportional,x),x).subs(mu,x-sigma/(2*diff(sigma,x))*(-1+sympy.sqrt(1+4*diff(sigma,x)**2))))"
   ]
  },
  {
   "cell_type": "code",
   "execution_count": 172,
   "metadata": {},
   "outputs": [
    {
     "data": {
      "text/latex": [
       "$\\displaystyle - \\frac{0.5 \\left(- 2 \\mu + 2 x\\right)}{\\sigma^{2}{\\left(x \\right)}} + \\frac{1.0 \\left(- \\mu + x\\right)^{2} \\frac{d}{d x} \\sigma{\\left(x \\right)}}{\\sigma^{3}{\\left(x \\right)}} - \\frac{\\frac{d}{d x} \\sigma{\\left(x \\right)}}{\\sigma{\\left(x \\right)}} + \\frac{\\frac{d}{d x} \\pi{\\left(x \\right)}}{\\pi{\\left(x \\right)}}$"
      ],
      "text/plain": [
       "-0.5*(-2*\\mu + 2*x)/\\sigma(x)**2 + 1.0*(-\\mu + x)**2*Derivative(\\sigma(x), x)/\\sigma(x)**3 - Derivative(\\sigma(x), x)/\\sigma(x) + Derivative(\\pi(x), x)/\\pi(x)"
      ]
     },
     "execution_count": 172,
     "metadata": {},
     "output_type": "execute_result"
    }
   ],
   "source": [
    "diff(log_proportional+sympy.log(prior),x)"
   ]
  },
  {
   "cell_type": "code",
   "execution_count": 150,
   "metadata": {},
   "outputs": [
    {
     "data": {
      "text/latex": [
       "$\\displaystyle x - \\frac{\\sigma{\\left(x \\right)}}{\\frac{d}{d x} \\sigma{\\left(x \\right)}}$"
      ],
      "text/plain": [
       "x - \\sigma(x)/Derivative(\\sigma(x), x)"
      ]
     },
     "execution_count": 150,
     "metadata": {},
     "output_type": "execute_result"
    }
   ],
   "source": [
    "x-sigma/diff(sigma,x)"
   ]
  },
  {
   "cell_type": "code",
   "execution_count": 151,
   "metadata": {},
   "outputs": [
    {
     "data": {
      "text/latex": [
       "$\\displaystyle - \\frac{2 \\frac{d^{2}}{d x^{2}} \\sigma{\\left(x \\right)}}{\\sigma{\\left(x \\right)} \\left(\\frac{d}{d x} \\sigma{\\left(x \\right)}\\right)^{2}}$"
      ],
      "text/plain": [
       "-2*Derivative(\\sigma(x), (x, 2))/(\\sigma(x)*Derivative(\\sigma(x), x)**2)"
      ]
     },
     "execution_count": 151,
     "metadata": {},
     "output_type": "execute_result"
    }
   ],
   "source": [
    "diff(diff(((x-mu)/sigma)**2,x),x).subs(mu,x-sigma/diff(sigma,x))"
   ]
  },
  {
   "cell_type": "code",
   "execution_count": 146,
   "metadata": {},
   "outputs": [
    {
     "ename": "NotImplementedError",
     "evalue": "multiple generators [x, \\sigma(x)]\nNo algorithms are implemented to solve equation -2*_Dummy_406*(-\\mu + x)**2/\\sigma(x)**3 + (-2*\\mu + 2*x)/\\sigma(x)**2",
     "output_type": "error",
     "traceback": [
      "\u001b[0;31m---------------------------------------------------------------------------\u001b[0m",
      "\u001b[0;31mNotImplementedError\u001b[0m                       Traceback (most recent call last)",
      "\u001b[1;32mUntitled-1.ipynb Cell 47\u001b[0m line \u001b[0;36m1\n\u001b[0;32m----> <a href='vscode-notebook-cell:Untitled-1.ipynb?jupyter-notebook#Y100sdW50aXRsZWQ%3D?line=0'>1</a>\u001b[0m solve(diff(((x\u001b[39m-\u001b[39mmu)\u001b[39m/\u001b[39msigma)\u001b[39m*\u001b[39m\u001b[39m*\u001b[39m\u001b[39m2\u001b[39m,x),x)\n",
      "File \u001b[0;32m~/anaconda3/lib/python3.11/site-packages/sympy/solvers/solvers.py:1112\u001b[0m, in \u001b[0;36msolve\u001b[0;34m(f, *symbols, **flags)\u001b[0m\n\u001b[1;32m   1108\u001b[0m \u001b[39m#\u001b[39;00m\n\u001b[1;32m   1109\u001b[0m \u001b[39m# try to get a solution\u001b[39;00m\n\u001b[1;32m   1110\u001b[0m \u001b[39m###########################################################################\u001b[39;00m\n\u001b[1;32m   1111\u001b[0m \u001b[39mif\u001b[39;00m bare_f:\n\u001b[0;32m-> 1112\u001b[0m     solution \u001b[39m=\u001b[39m _solve(f[\u001b[39m0\u001b[39m], \u001b[39m*\u001b[39msymbols, \u001b[39m*\u001b[39m\u001b[39m*\u001b[39mflags)\n\u001b[1;32m   1113\u001b[0m \u001b[39melse\u001b[39;00m:\n\u001b[1;32m   1114\u001b[0m     solution \u001b[39m=\u001b[39m _solve_system(f, symbols, \u001b[39m*\u001b[39m\u001b[39m*\u001b[39mflags)\n",
      "File \u001b[0;32m~/anaconda3/lib/python3.11/site-packages/sympy/solvers/solvers.py:1744\u001b[0m, in \u001b[0;36m_solve\u001b[0;34m(f, *symbols, **flags)\u001b[0m\n\u001b[1;32m   1741\u001b[0m \u001b[39m# ----------- end of fallback ----------------------------\u001b[39;00m\n\u001b[1;32m   1743\u001b[0m \u001b[39mif\u001b[39;00m result \u001b[39mis\u001b[39;00m \u001b[39mFalse\u001b[39;00m:\n\u001b[0;32m-> 1744\u001b[0m     \u001b[39mraise\u001b[39;00m \u001b[39mNotImplementedError\u001b[39;00m(\u001b[39m'\u001b[39m\u001b[39m\\n\u001b[39;00m\u001b[39m'\u001b[39m\u001b[39m.\u001b[39mjoin([msg, not_impl_msg \u001b[39m%\u001b[39m f]))\n\u001b[1;32m   1746\u001b[0m \u001b[39mif\u001b[39;00m flags\u001b[39m.\u001b[39mget(\u001b[39m'\u001b[39m\u001b[39msimplify\u001b[39m\u001b[39m'\u001b[39m, \u001b[39mTrue\u001b[39;00m):\n\u001b[1;32m   1747\u001b[0m     result \u001b[39m=\u001b[39m \u001b[39mlist\u001b[39m(\u001b[39mmap\u001b[39m(simplify, result))\n",
      "\u001b[0;31mNotImplementedError\u001b[0m: multiple generators [x, \\sigma(x)]\nNo algorithms are implemented to solve equation -2*_Dummy_406*(-\\mu + x)**2/\\sigma(x)**3 + (-2*\\mu + 2*x)/\\sigma(x)**2"
     ]
    }
   ],
   "source": [
    "solve(diff(((x-mu)/sigma)**2,x),x)"
   ]
  },
  {
   "cell_type": "code",
   "execution_count": 284,
   "metadata": {},
   "outputs": [
    {
     "data": {
      "text/latex": [
       "$\\displaystyle - \\frac{e^{x}}{e^{x} + 1}$"
      ],
      "text/plain": [
       "-exp(x)/(exp(x) + 1)"
      ]
     },
     "execution_count": 284,
     "metadata": {},
     "output_type": "execute_result"
    }
   ],
   "source": [
    "simplify(diff(sympy.log(1-1/(1+sympy.exp(-x))),x))"
   ]
  },
  {
   "cell_type": "code",
   "execution_count": 288,
   "metadata": {},
   "outputs": [
    {
     "data": {
      "text/latex": [
       "$\\displaystyle - \\eta \\theta$"
      ],
      "text/plain": [
       "-\\eta*\\theta"
      ]
     },
     "execution_count": 288,
     "metadata": {},
     "output_type": "execute_result"
    }
   ],
   "source": []
  },
  {
   "cell_type": "code",
   "execution_count": 313,
   "metadata": {},
   "outputs": [],
   "source": [
    "sigma_0 = symbols(r'\\sigma_0')\n",
    "sigma = symbols(r'\\sigma')\n",
    "mu = symbols(r'\\mu')\n",
    "mu_0 = symbols(r'\\mu_0')\n",
    "eta = symbols(r'\\eta')\n",
    "theta = symbols(r'\\theta')\n",
    "t, t_prime = symbols(\"t t'\")"
   ]
  },
  {
   "cell_type": "code",
   "execution_count": 314,
   "metadata": {},
   "outputs": [
    {
     "data": {
      "text/latex": [
       "$\\displaystyle t'$"
      ],
      "text/plain": [
       "t'"
      ]
     },
     "execution_count": 314,
     "metadata": {},
     "output_type": "execute_result"
    }
   ],
   "source": [
    "t_prime"
   ]
  },
  {
   "cell_type": "code",
   "execution_count": 369,
   "metadata": {},
   "outputs": [],
   "source": [
    "mean = mu+(mu_0-mu)*sympy.exp(-eta*theta*(t-t_prime))\n",
    "variance = eta*sigma**2/(2*theta)+(sigma_0**2-eta*sigma**2/(2*theta))*sympy.exp(-2*eta*theta*(t-t_prime))"
   ]
  },
  {
   "cell_type": "code",
   "execution_count": 377,
   "metadata": {},
   "outputs": [
    {
     "data": {
      "text/latex": [
       "$\\displaystyle \\frac{\\left(\\frac{\\eta \\sigma^{2} e^{2 \\eta \\theta \\left(t - t'\\right)}}{2} - \\frac{\\eta \\sigma^{2}}{2} + \\mu^{2} \\theta - 2 \\mu \\mu_{0} \\theta + \\mu_{0}^{2} \\theta + \\sigma_{0}^{2} \\theta\\right) e^{2 \\eta \\theta \\left(- t + t'\\right)}}{\\theta}$"
      ],
      "text/plain": [
       "(\\eta*\\sigma**2*exp(2*\\eta*\\theta*(t - t'))/2 - \\eta*\\sigma**2/2 + \\mu**2*\\theta - 2*\\mu*\\mu_0*\\theta + \\mu_0**2*\\theta + \\sigma_0**2*\\theta)*exp(2*\\eta*\\theta*(-t + t'))/\\theta"
      ]
     },
     "execution_count": 377,
     "metadata": {},
     "output_type": "execute_result"
    }
   ],
   "source": [
    "loss = simplify(variance+mean**2-2*mu*mean+mu**2)\n",
    "loss"
   ]
  },
  {
   "cell_type": "code",
   "execution_count": 394,
   "metadata": {},
   "outputs": [],
   "source": [
    "optimal_loss_eta = solve(diff(diff(loss,t).subs(t,t_prime),eta),eta)[0]"
   ]
  },
  {
   "cell_type": "code",
   "execution_count": 396,
   "metadata": {},
   "outputs": [
    {
     "data": {
      "text/latex": [
       "$\\displaystyle \\frac{\\mu^{2} \\theta - 2 \\mu \\mu_{0} \\theta + \\mu_{0}^{2} \\theta + \\sigma_{0}^{2} \\theta}{\\theta}$"
      ],
      "text/plain": [
       "(\\mu**2*\\theta - 2*\\mu*\\mu_0*\\theta + \\mu_0**2*\\theta + \\sigma_0**2*\\theta)/\\theta"
      ]
     },
     "execution_count": 396,
     "metadata": {},
     "output_type": "execute_result"
    }
   ],
   "source": [
    "loss.subs(t,t_prime)"
   ]
  },
  {
   "cell_type": "code",
   "execution_count": 400,
   "metadata": {},
   "outputs": [
    {
     "data": {
      "text/latex": [
       "$\\displaystyle - \\eta \\theta \\left(- \\mu + \\mu_{0}\\right)$"
      ],
      "text/plain": [
       "-\\eta*\\theta*(-\\mu + \\mu_0)"
      ]
     },
     "execution_count": 400,
     "metadata": {},
     "output_type": "execute_result"
    }
   ],
   "source": [
    "diff(mean,t).subs(t,t_prime)"
   ]
  },
  {
   "cell_type": "code",
   "execution_count": 402,
   "metadata": {},
   "outputs": [
    {
     "data": {
      "text/latex": [
       "$\\displaystyle - 2 \\eta \\theta \\left(- \\frac{\\eta \\sigma^{2}}{2 \\theta} + \\sigma_{0}^{2}\\right)$"
      ],
      "text/plain": [
       "-2*\\eta*\\theta*(-\\eta*\\sigma**2/(2*\\theta) + \\sigma_0**2)"
      ]
     },
     "execution_count": 402,
     "metadata": {},
     "output_type": "execute_result"
    }
   ],
   "source": [
    "diff(variance,t).subs(t,t_prime)"
   ]
  },
  {
   "cell_type": "code",
   "execution_count": 406,
   "metadata": {},
   "outputs": [],
   "source": [
    "mu_0 = Function(r'\\mu_0')(t)\n",
    "sigma_0 = Function(r'\\sigma_0')(t)"
   ]
  },
  {
   "cell_type": "code",
   "execution_count": 407,
   "metadata": {},
   "outputs": [],
   "source": [
    "eta = theta*((mu-mu_0)**2+sigma_0**2)/sigma**2"
   ]
  },
  {
   "cell_type": "code",
   "execution_count": 410,
   "metadata": {},
   "outputs": [
    {
     "data": {
      "text/latex": [
       "$\\displaystyle \\frac{\\theta^{2} \\left(\\mu - \\mu_{0}{\\left(t \\right)}\\right) \\left(\\left(\\mu - \\mu_{0}{\\left(t \\right)}\\right)^{2} + \\sigma_{0}^{2}{\\left(t \\right)}\\right)}{\\sigma^{2}}$"
      ],
      "text/plain": [
       "\\theta**2*(\\mu - \\mu_0(t))*((\\mu - \\mu_0(t))**2 + \\sigma_0(t)**2)/\\sigma**2"
      ]
     },
     "execution_count": 410,
     "metadata": {},
     "output_type": "execute_result"
    }
   ],
   "source": [
    "simplify(-eta*theta*(mu_0-mu))"
   ]
  },
  {
   "cell_type": "code",
   "execution_count": 412,
   "metadata": {},
   "outputs": [
    {
     "data": {
      "text/latex": [
       "$\\displaystyle \\frac{\\theta^{2} \\left(\\left(\\mu - \\mu_{0}{\\left(t \\right)}\\right)^{2} - \\sigma_{0}^{2}{\\left(t \\right)}\\right) \\left(\\left(\\mu - \\mu_{0}{\\left(t \\right)}\\right)^{2} + \\sigma_{0}^{2}{\\left(t \\right)}\\right)}{\\sigma^{2}}$"
      ],
      "text/plain": [
       "\\theta**2*((\\mu - \\mu_0(t))**2 - \\sigma_0(t)**2)*((\\mu - \\mu_0(t))**2 + \\sigma_0(t)**2)/\\sigma**2"
      ]
     },
     "execution_count": 412,
     "metadata": {},
     "output_type": "execute_result"
    }
   ],
   "source": [
    "simplify(eta**2*sigma**2-2*theta*eta*sigma_0**2)"
   ]
  },
  {
   "cell_type": "code",
   "execution_count": 419,
   "metadata": {},
   "outputs": [
    {
     "data": {
      "text/latex": [
       "$\\displaystyle \\frac{d}{d t} \\mu_{0}{\\left(t \\right)} - \\frac{\\theta^{2} \\left(\\mu - \\mu_{0}{\\left(t \\right)}\\right) \\left(\\left(\\mu - \\mu_{0}{\\left(t \\right)}\\right)^{2} + \\sigma_{0}^{2}{\\left(t \\right)}\\right)}{\\sigma^{2}}$"
      ],
      "text/plain": [
       "Derivative(\\mu_0(t), t) - \\theta**2*(\\mu - \\mu_0(t))*((\\mu - \\mu_0(t))**2 + \\sigma_0(t)**2)/\\sigma**2"
      ]
     },
     "execution_count": 419,
     "metadata": {},
     "output_type": "execute_result"
    }
   ],
   "source": [
    "diff(mu_0,t)-theta**2*(mu-mu_0)*((mu-mu_0)**2+sigma_0**2)/sigma**2"
   ]
  },
  {
   "cell_type": "code",
   "execution_count": 420,
   "metadata": {},
   "outputs": [
    {
     "data": {
      "text/latex": [
       "$\\displaystyle \\frac{d}{d t} \\sigma_{0}{\\left(t \\right)} - \\frac{\\theta^{2} \\left(\\left(\\mu - \\mu_{0}{\\left(t \\right)}\\right)^{4} - \\sigma_{0}^{4}{\\left(t \\right)}\\right)}{2 \\sigma^{2} \\sigma_{0}{\\left(t \\right)}}$"
      ],
      "text/plain": [
       "Derivative(\\sigma_0(t), t) - \\theta**2*((\\mu - \\mu_0(t))**4 - \\sigma_0(t)**4)/(2*\\sigma**2*\\sigma_0(t))"
      ]
     },
     "execution_count": 420,
     "metadata": {},
     "output_type": "execute_result"
    }
   ],
   "source": [
    "diff(sigma_0,t)-theta**2/(2*sigma**2*sigma_0)*((mu-mu_0)**4-sigma_0**4)"
   ]
  },
  {
   "cell_type": "code",
   "execution_count": 425,
   "metadata": {},
   "outputs": [],
   "source": [
    "mu_prime_eq = Eq(diff(mu_0,t),theta**2*(mu-mu_0)*((mu-mu_0)**2+sigma_0**2)/sigma**2)"
   ]
  },
  {
   "cell_type": "code",
   "execution_count": 426,
   "metadata": {},
   "outputs": [],
   "source": [
    "sigma_prime_eq = Eq(diff(sigma_0,t),theta**2/(2*sigma**2*sigma_0)*((mu-mu_0)**4-sigma_0**4))"
   ]
  },
  {
   "cell_type": "code",
   "execution_count": 429,
   "metadata": {},
   "outputs": [
    {
     "data": {
      "text/latex": [
       "$\\displaystyle \\frac{\\mu^{3} \\theta^{2}}{\\sigma^{2}} - \\frac{3 \\mu^{2} \\theta^{2} \\mu_{0}{\\left(t \\right)}}{\\sigma^{2}} + \\frac{3 \\mu \\theta^{2} \\mu_{0}^{2}{\\left(t \\right)}}{\\sigma^{2}} + \\frac{\\mu \\theta^{2} \\sigma_{0}^{2}{\\left(t \\right)}}{\\sigma^{2}} - \\frac{\\theta^{2} \\mu_{0}^{3}{\\left(t \\right)}}{\\sigma^{2}} - \\frac{\\theta^{2} \\mu_{0}{\\left(t \\right)} \\sigma_{0}^{2}{\\left(t \\right)}}{\\sigma^{2}}$"
      ],
      "text/plain": [
       "\\mu**3*\\theta**2/\\sigma**2 - 3*\\mu**2*\\theta**2*\\mu_0(t)/\\sigma**2 + 3*\\mu*\\theta**2*\\mu_0(t)**2/\\sigma**2 + \\mu*\\theta**2*\\sigma_0(t)**2/\\sigma**2 - \\theta**2*\\mu_0(t)**3/\\sigma**2 - \\theta**2*\\mu_0(t)*\\sigma_0(t)**2/\\sigma**2"
      ]
     },
     "execution_count": 429,
     "metadata": {},
     "output_type": "execute_result"
    }
   ],
   "source": [
    "sympy.expand(theta**2*(mu-mu_0)*((mu-mu_0)**2+sigma_0**2)/sigma**2)"
   ]
  },
  {
   "cell_type": "code",
   "execution_count": 434,
   "metadata": {},
   "outputs": [
    {
     "data": {
      "text/latex": [
       "$\\displaystyle c_{2}$"
      ],
      "text/plain": [
       "c_2"
      ]
     },
     "execution_count": 434,
     "metadata": {},
     "output_type": "execute_result"
    }
   ],
   "source": [
    "c_1, c_2= symbols('c_1 c_2')\n"
   ]
  },
  {
   "cell_type": "code",
   "execution_count": 435,
   "metadata": {},
   "outputs": [],
   "source": [
    "mu_0 = 1/(theta**2/sigma**2*c_1*t-c_2)"
   ]
  },
  {
   "cell_type": "code",
   "execution_count": 444,
   "metadata": {},
   "outputs": [],
   "source": [
    "sigma_0 = sympy.sqrt(simplify((1/(theta**2/sigma**2*c_1*t-c_2)+c_1)*1/(theta**2/sigma**2*c_1*t-c_2)))"
   ]
  },
  {
   "cell_type": "code",
   "execution_count": 450,
   "metadata": {},
   "outputs": [
    {
     "data": {
      "text/latex": [
       "$\\displaystyle - \\frac{\\sigma^{2} \\theta^{2} c_{1}}{\\left(\\sigma^{2} c_{2} - \\theta^{2} c_{1} t\\right)^{2}}$"
      ],
      "text/plain": [
       "-\\sigma**2*\\theta**2*c_1/(\\sigma**2*c_2 - \\theta**2*c_1*t)**2"
      ]
     },
     "execution_count": 450,
     "metadata": {},
     "output_type": "execute_result"
    }
   ],
   "source": [
    "simplify(diff(mu_0,t))"
   ]
  },
  {
   "cell_type": "code",
   "execution_count": 446,
   "metadata": {},
   "outputs": [
    {
     "data": {
      "text/latex": [
       "$\\displaystyle \\frac{\\theta^{2} c_{1} \\sqrt{\\frac{\\sigma^{2} \\left(\\sigma^{2} - c_{1} \\left(\\sigma^{2} c_{2} - \\theta^{2} c_{1} t\\right)\\right)}{\\left(\\sigma^{2} c_{2} - \\theta^{2} c_{1} t\\right)^{2}}} \\cdot \\left(2 \\sigma^{2} - c_{1} \\left(\\sigma^{2} c_{2} - \\theta^{2} c_{1} t\\right)\\right)}{2 \\left(\\sigma^{2} - c_{1} \\left(\\sigma^{2} c_{2} - \\theta^{2} c_{1} t\\right)\\right) \\left(\\sigma^{2} c_{2} - \\theta^{2} c_{1} t\\right)}$"
      ],
      "text/plain": [
       "\\theta**2*c_1*sqrt(\\sigma**2*(\\sigma**2 - c_1*(\\sigma**2*c_2 - \\theta**2*c_1*t))/(\\sigma**2*c_2 - \\theta**2*c_1*t)**2)*(2*\\sigma**2 - c_1*(\\sigma**2*c_2 - \\theta**2*c_1*t))/(2*(\\sigma**2 - c_1*(\\sigma**2*c_2 - \\theta**2*c_1*t))*(\\sigma**2*c_2 - \\theta**2*c_1*t))"
      ]
     },
     "execution_count": 446,
     "metadata": {},
     "output_type": "execute_result"
    }
   ],
   "source": [
    "simplify(diff(sigma_0,t))"
   ]
  },
  {
   "cell_type": "code",
   "execution_count": 449,
   "metadata": {},
   "outputs": [
    {
     "data": {
      "text/latex": [
       "$\\displaystyle - \\frac{\\sigma^{2} \\theta^{2} c_{1}}{\\left(\\sigma^{2} c_{2} - \\theta^{2} c_{1} t\\right)^{2}}$"
      ],
      "text/plain": [
       "-\\sigma**2*\\theta**2*c_1/(\\sigma**2*c_2 - \\theta**2*c_1*t)**2"
      ]
     },
     "execution_count": 449,
     "metadata": {},
     "output_type": "execute_result"
    }
   ],
   "source": [
    "simplify(theta**2/sigma**2*mu_0*(mu_0**2-sigma_0**2))"
   ]
  },
  {
   "cell_type": "code",
   "execution_count": 456,
   "metadata": {},
   "outputs": [
    {
     "data": {
      "text/latex": [
       "$\\displaystyle \\frac{\\sigma^{2} \\theta^{2} \\left(\\sigma^{4} - \\left(\\sigma^{2} - c_{1} \\left(\\sigma^{2} c_{2} - \\theta^{2} c_{1} t\\right)\\right)^{2}\\right)}{2 \\sqrt{\\frac{\\sigma^{2} \\left(\\sigma^{2} - c_{1} \\left(\\sigma^{2} c_{2} - \\theta^{2} c_{1} t\\right)\\right)}{\\left(\\sigma^{2} c_{2} - \\theta^{2} c_{1} t\\right)^{2}}} \\left(\\sigma^{2} c_{2} - \\theta^{2} c_{1} t\\right)^{4}}$"
      ],
      "text/plain": [
       "\\sigma**2*\\theta**2*(\\sigma**4 - (\\sigma**2 - c_1*(\\sigma**2*c_2 - \\theta**2*c_1*t))**2)/(2*sqrt(\\sigma**2*(\\sigma**2 - c_1*(\\sigma**2*c_2 - \\theta**2*c_1*t))/(\\sigma**2*c_2 - \\theta**2*c_1*t)**2)*(\\sigma**2*c_2 - \\theta**2*c_1*t)**4)"
      ]
     },
     "execution_count": 456,
     "metadata": {},
     "output_type": "execute_result"
    }
   ],
   "source": [
    "simplify(theta**2/(2*sigma**2*sigma_0)*(mu_0**4-sigma_0**4))"
   ]
  },
  {
   "cell_type": "code",
   "execution_count": 465,
   "metadata": {},
   "outputs": [],
   "source": [
    "x_0 = symbols('x_0')\n",
    "s_0 = symbols('s_0')"
   ]
  },
  {
   "cell_type": "code",
   "execution_count": 461,
   "metadata": {},
   "outputs": [
    {
     "data": {
      "text/latex": [
       "$\\displaystyle \\frac{1}{- \\frac{1}{\\mu - x_{0}} + \\frac{\\theta^{2} c_{1} t}{\\sigma^{2}}}$"
      ],
      "text/plain": [
       "1/(-1/(\\mu - x_0) + \\theta**2*c_1*t/\\sigma**2)"
      ]
     },
     "execution_count": 461,
     "metadata": {},
     "output_type": "execute_result"
    }
   ],
   "source": [
    "mu_0.subs(c_2,1/(mu-x_0))"
   ]
  },
  {
   "cell_type": "code",
   "execution_count": 467,
   "metadata": {},
   "outputs": [
    {
     "data": {
      "text/latex": [
       "$\\displaystyle \\sqrt{\\frac{\\sigma^{2} \\left(\\sigma^{2} - c_{1} \\left(\\sigma^{2} c_{2} - \\theta^{2} c_{1} t\\right)\\right)}{\\left(\\sigma^{2} c_{2} - \\theta^{2} c_{1} t\\right)^{2}}}$"
      ],
      "text/plain": [
       "sqrt(\\sigma**2*(\\sigma**2 - c_1*(\\sigma**2*c_2 - \\theta**2*c_1*t))/(\\sigma**2*c_2 - \\theta**2*c_1*t)**2)"
      ]
     },
     "execution_count": 467,
     "metadata": {},
     "output_type": "execute_result"
    }
   ],
   "source": [
    "sigma_0"
   ]
  },
  {
   "cell_type": "code",
   "execution_count": 472,
   "metadata": {},
   "outputs": [],
   "source": [
    "c_1_solved = solve(sigma_0.subs(c_2,1/(mu-x_0)).subs(t,0)-s_0,c_1)[0]"
   ]
  },
  {
   "cell_type": "code",
   "execution_count": 480,
   "metadata": {},
   "outputs": [],
   "source": [
    "determined_mu_0 = simplify(mu_0.subs(c_2,1/(mu-x_0)).subs(c_1,c_1_solved))"
   ]
  },
  {
   "cell_type": "code",
   "execution_count": 478,
   "metadata": {},
   "outputs": [
    {
     "data": {
      "text/latex": [
       "$\\displaystyle \\frac{\\sigma^{2} \\left(\\sigma^{2} \\left(\\mu - x_{0}\\right)^{2} - \\left(\\sigma^{2} - \\theta^{2} t \\left(\\mu^{2} - 2 \\mu x_{0} - s_{0}^{2} + x_{0}^{2}\\right)\\right) \\left(\\mu^{2} - 2 \\mu x_{0} - s_{0}^{2} + x_{0}^{2}\\right)\\right)}{\\left(\\sigma^{2} - \\theta^{2} t \\left(\\mu^{2} - 2 \\mu x_{0} - s_{0}^{2} + x_{0}^{2}\\right)\\right)^{2}}$"
      ],
      "text/plain": [
       "\\sigma**2*(\\sigma**2*(\\mu - x_0)**2 - (\\sigma**2 - \\theta**2*t*(\\mu**2 - 2*\\mu*x_0 - s_0**2 + x_0**2))*(\\mu**2 - 2*\\mu*x_0 - s_0**2 + x_0**2))/(\\sigma**2 - \\theta**2*t*(\\mu**2 - 2*\\mu*x_0 - s_0**2 + x_0**2))**2"
      ]
     },
     "execution_count": 478,
     "metadata": {},
     "output_type": "execute_result"
    }
   ],
   "source": [
    "determined_sigma_0 = simplify(sigma_0.subs(c_2,1/(mu-x_0)).subs(c_1,c_1_solved)**2)\n",
    "determined_sigma_0"
   ]
  },
  {
   "cell_type": "code",
   "execution_count": 488,
   "metadata": {},
   "outputs": [
    {
     "data": {
      "text/latex": [
       "$\\displaystyle \\frac{\\sigma^{2} \\left(\\sigma^{2} x_{0}^{2} + \\left(\\sigma^{2} + \\theta^{2} t \\left(s_{0}^{2} - x_{0}^{2}\\right)\\right) \\left(s_{0}^{2} - x_{0}^{2}\\right)\\right)}{\\left(\\sigma^{2} + \\theta^{2} t \\left(s_{0}^{2} - x_{0}^{2}\\right)\\right)^{2}}$"
      ],
      "text/plain": [
       "\\sigma**2*(\\sigma**2*x_0**2 + (\\sigma**2 + \\theta**2*t*(s_0**2 - x_0**2))*(s_0**2 - x_0**2))/(\\sigma**2 + \\theta**2*t*(s_0**2 - x_0**2))**2"
      ]
     },
     "execution_count": 488,
     "metadata": {},
     "output_type": "execute_result"
    }
   ],
   "source": [
    "simplify(determined_sigma_0.subs(mu,0))"
   ]
  },
  {
   "cell_type": "code",
   "execution_count": 498,
   "metadata": {},
   "outputs": [],
   "source": [
    "determined_eta = simplify(theta*((mu-determined_mu_0)**2+determined_sigma_0**2)/sigma**2)"
   ]
  },
  {
   "cell_type": "code",
   "execution_count": 520,
   "metadata": {},
   "outputs": [
    {
     "data": {
      "text/latex": [
       "$\\displaystyle \\frac{\\left(\\frac{\\eta \\sigma^{2} e^{2 \\eta \\theta \\left(t - t'\\right)}}{2} - \\frac{\\eta \\sigma^{2}}{2} + \\mu^{2} \\theta - 2 \\mu \\mu_{0} \\theta + \\mu_{0}^{2} \\theta + \\sigma_{0}^{2} \\theta\\right) e^{2 \\eta \\theta \\left(- t + t'\\right)}}{\\theta}$"
      ],
      "text/plain": [
       "(\\eta*\\sigma**2*exp(2*\\eta*\\theta*(t - t'))/2 - \\eta*\\sigma**2/2 + \\mu**2*\\theta - 2*\\mu*\\mu_0*\\theta + \\mu_0**2*\\theta + \\sigma_0**2*\\theta)*exp(2*\\eta*\\theta*(-t + t'))/\\theta"
      ]
     },
     "execution_count": 520,
     "metadata": {},
     "output_type": "execute_result"
    }
   ],
   "source": [
    "loss"
   ]
  },
  {
   "cell_type": "code",
   "execution_count": 523,
   "metadata": {},
   "outputs": [
    {
     "data": {
      "text/latex": [
       "$\\displaystyle \\frac{\\mu^{10} \\theta^{9} t^{4}}{\\mu^{8} \\sigma^{2} \\theta^{8} t^{4} - 4 \\mu^{6} \\sigma^{4} \\theta^{6} t^{3} + 6 \\mu^{4} \\sigma^{6} \\theta^{4} t^{2} - 4 \\mu^{2} \\sigma^{8} \\theta^{2} t + \\sigma^{10}} + \\frac{\\mu^{8} \\sigma^{4} \\theta^{5} t^{2}}{\\mu^{8} \\sigma^{2} \\theta^{8} t^{4} - 4 \\mu^{6} \\sigma^{4} \\theta^{6} t^{3} + 6 \\mu^{4} \\sigma^{6} \\theta^{4} t^{2} - 4 \\mu^{2} \\sigma^{8} \\theta^{2} t + \\sigma^{10}} - \\frac{6 \\mu^{8} \\sigma^{2} \\theta^{7} t^{3}}{\\mu^{8} \\sigma^{2} \\theta^{8} t^{4} - 4 \\mu^{6} \\sigma^{4} \\theta^{6} t^{3} + 6 \\mu^{4} \\sigma^{6} \\theta^{4} t^{2} - 4 \\mu^{2} \\sigma^{8} \\theta^{2} t + \\sigma^{10}} + \\frac{13 \\mu^{6} \\sigma^{4} \\theta^{5} t^{2}}{\\mu^{8} \\sigma^{2} \\theta^{8} t^{4} - 4 \\mu^{6} \\sigma^{4} \\theta^{6} t^{3} + 6 \\mu^{4} \\sigma^{6} \\theta^{4} t^{2} - 4 \\mu^{2} \\sigma^{8} \\theta^{2} t + \\sigma^{10}} - \\frac{12 \\mu^{4} \\sigma^{6} \\theta^{3} t}{\\mu^{8} \\sigma^{2} \\theta^{8} t^{4} - 4 \\mu^{6} \\sigma^{4} \\theta^{6} t^{3} + 6 \\mu^{4} \\sigma^{6} \\theta^{4} t^{2} - 4 \\mu^{2} \\sigma^{8} \\theta^{2} t + \\sigma^{10}} + \\frac{4 \\mu^{2} \\sigma^{8} \\theta}{\\mu^{8} \\sigma^{2} \\theta^{8} t^{4} - 4 \\mu^{6} \\sigma^{4} \\theta^{6} t^{3} + 6 \\mu^{4} \\sigma^{6} \\theta^{4} t^{2} - 4 \\mu^{2} \\sigma^{8} \\theta^{2} t + \\sigma^{10}}$"
      ],
      "text/plain": [
       "\\mu**10*\\theta**9*t**4/(\\mu**8*\\sigma**2*\\theta**8*t**4 - 4*\\mu**6*\\sigma**4*\\theta**6*t**3 + 6*\\mu**4*\\sigma**6*\\theta**4*t**2 - 4*\\mu**2*\\sigma**8*\\theta**2*t + \\sigma**10) + \\mu**8*\\sigma**4*\\theta**5*t**2/(\\mu**8*\\sigma**2*\\theta**8*t**4 - 4*\\mu**6*\\sigma**4*\\theta**6*t**3 + 6*\\mu**4*\\sigma**6*\\theta**4*t**2 - 4*\\mu**2*\\sigma**8*\\theta**2*t + \\sigma**10) - 6*\\mu**8*\\sigma**2*\\theta**7*t**3/(\\mu**8*\\sigma**2*\\theta**8*t**4 - 4*\\mu**6*\\sigma**4*\\theta**6*t**3 + 6*\\mu**4*\\sigma**6*\\theta**4*t**2 - 4*\\mu**2*\\sigma**8*\\theta**2*t + \\sigma**10) + 13*\\mu**6*\\sigma**4*\\theta**5*t**2/(\\mu**8*\\sigma**2*\\theta**8*t**4 - 4*\\mu**6*\\sigma**4*\\theta**6*t**3 + 6*\\mu**4*\\sigma**6*\\theta**4*t**2 - 4*\\mu**2*\\sigma**8*\\theta**2*t + \\sigma**10) - 12*\\mu**4*\\sigma**6*\\theta**3*t/(\\mu**8*\\sigma**2*\\theta**8*t**4 - 4*\\mu**6*\\sigma**4*\\theta**6*t**3 + 6*\\mu**4*\\sigma**6*\\theta**4*t**2 - 4*\\mu**2*\\sigma**8*\\theta**2*t + \\sigma**10) + 4*\\mu**2*\\sigma**8*\\theta/(\\mu**8*\\sigma**2*\\theta**8*t**4 - 4*\\mu**6*\\sigma**4*\\theta**6*t**3 + 6*\\mu**4*\\sigma**6*\\theta**4*t**2 - 4*\\mu**2*\\sigma**8*\\theta**2*t + \\sigma**10)"
      ]
     },
     "execution_count": 523,
     "metadata": {},
     "output_type": "execute_result"
    }
   ],
   "source": [
    "sympy.expand(determined_eta.subs(s_0,0).subs(x_0,0))"
   ]
  },
  {
   "cell_type": "code",
   "execution_count": 525,
   "metadata": {},
   "outputs": [
    {
     "data": {
      "text/latex": [
       "$\\displaystyle \\frac{\\sigma^{2} \\left(- \\mu + x_{0}\\right)}{\\sigma^{2} - \\theta^{2} t \\left(\\mu^{2} - 2 \\mu x_{0} - s_{0}^{2} + x_{0}^{2}\\right)}$"
      ],
      "text/plain": [
       "\\sigma**2*(-\\mu + x_0)/(\\sigma**2 - \\theta**2*t*(\\mu**2 - 2*\\mu*x_0 - s_0**2 + x_0**2))"
      ]
     },
     "execution_count": 525,
     "metadata": {},
     "output_type": "execute_result"
    }
   ],
   "source": [
    "determined_mu_0"
   ]
  },
  {
   "cell_type": "code",
   "execution_count": 531,
   "metadata": {},
   "outputs": [
    {
     "data": {
      "text/latex": [
       "$\\displaystyle \\frac{1}{\\mu - x_{0}}$"
      ],
      "text/plain": [
       "1/(\\mu - x_0)"
      ]
     },
     "execution_count": 531,
     "metadata": {},
     "output_type": "execute_result"
    }
   ],
   "source": [
    "solve(mu_0.subs(t,0)-x_0,c_2)[0]"
   ]
  },
  {
   "cell_type": "code",
   "execution_count": 533,
   "metadata": {},
   "outputs": [
    {
     "data": {
      "text/latex": [
       "$\\displaystyle \\frac{\\mu \\left(\\sigma^{2} - \\theta^{2} t \\left(\\mu^{2} - 2 \\mu x_{0} - s_{0}^{2} + x_{0}^{2}\\right)\\right) - \\sigma^{2} \\left(\\mu - x_{0}\\right)}{\\sigma^{2} - \\theta^{2} t \\left(\\mu^{2} - 2 \\mu x_{0} - s_{0}^{2} + x_{0}^{2}\\right)}$"
      ],
      "text/plain": [
       "(\\mu*(\\sigma**2 - \\theta**2*t*(\\mu**2 - 2*\\mu*x_0 - s_0**2 + x_0**2)) - \\sigma**2*(\\mu - x_0))/(\\sigma**2 - \\theta**2*t*(\\mu**2 - 2*\\mu*x_0 - s_0**2 + x_0**2))"
      ]
     },
     "execution_count": 533,
     "metadata": {},
     "output_type": "execute_result"
    }
   ],
   "source": [
    "simplify(mu_0.subs(c_2,1/(mu-x_0)).subs(c_1,c_1_solved))"
   ]
  },
  {
   "cell_type": "code",
   "execution_count": 495,
   "metadata": {},
   "outputs": [
    {
     "data": {
      "text/latex": [
       "$\\displaystyle \\frac{\\sigma^{2} \\theta \\left(x_{0}^{2} \\left(\\sigma^{2} + \\theta^{2} t \\left(s_{0}^{2} - x_{0}^{2}\\right)\\right)^{2} + \\left(\\sigma^{2} x_{0}^{2} + \\left(\\sigma^{2} + \\theta^{2} t \\left(s_{0}^{2} - x_{0}^{2}\\right)\\right) \\left(s_{0}^{2} - x_{0}^{2}\\right)\\right)^{2}\\right)}{\\left(\\sigma^{2} + \\theta^{2} t \\left(s_{0}^{2} - x_{0}^{2}\\right)\\right)^{4}}$"
      ],
      "text/plain": [
       "\\sigma**2*\\theta*(x_0**2*(\\sigma**2 + \\theta**2*t*(s_0**2 - x_0**2))**2 + (\\sigma**2*x_0**2 + (\\sigma**2 + \\theta**2*t*(s_0**2 - x_0**2))*(s_0**2 - x_0**2))**2)/(\\sigma**2 + \\theta**2*t*(s_0**2 - x_0**2))**4"
      ]
     },
     "execution_count": 495,
     "metadata": {},
     "output_type": "execute_result"
    }
   ],
   "source": [
    "simplify((theta*((mu-determined_mu_0)**2+determined_sigma_0**2)/sigma**2).subs(mu,0))"
   ]
  },
  {
   "cell_type": "code",
   "execution_count": 427,
   "metadata": {},
   "outputs": [
    {
     "ename": "NotImplementedError",
     "evalue": "\nThe system of ODEs passed cannot be solved by dsolve_system.",
     "output_type": "error",
     "traceback": [
      "\u001b[0;31m---------------------------------------------------------------------------\u001b[0m",
      "\u001b[0;31mNotImplementedError\u001b[0m                       Traceback (most recent call last)",
      "\u001b[1;32mUntitled-1.ipynb Cell 77\u001b[0m line \u001b[0;36m1\n\u001b[0;32m----> <a href='vscode-notebook-cell:Untitled-1.ipynb?jupyter-notebook#Y165sdW50aXRsZWQ%3D?line=0'>1</a>\u001b[0m sympy\u001b[39m.\u001b[39msolvers\u001b[39m.\u001b[39mode\u001b[39m.\u001b[39msystems\u001b[39m.\u001b[39mdsolve_system([mu_prime_eq,sigma_prime_eq])\n",
      "File \u001b[0;32m~/anaconda3/lib/python3.11/site-packages/sympy/solvers/ode/systems.py:2116\u001b[0m, in \u001b[0;36mdsolve_system\u001b[0;34m(eqs, funcs, t, ics, doit, simplify)\u001b[0m\n\u001b[1;32m   2113\u001b[0m         sol \u001b[39m=\u001b[39m \u001b[39mNone\u001b[39;00m\n\u001b[1;32m   2115\u001b[0m     \u001b[39mif\u001b[39;00m sol \u001b[39mis\u001b[39;00m \u001b[39mNone\u001b[39;00m:\n\u001b[0;32m-> 2116\u001b[0m         sol \u001b[39m=\u001b[39m _component_solver(canon_eq, funcs, t)\n\u001b[1;32m   2118\u001b[0m     sols\u001b[39m.\u001b[39mappend(sol)\n\u001b[1;32m   2120\u001b[0m \u001b[39mif\u001b[39;00m sols:\n",
      "File \u001b[0;32m~/anaconda3/lib/python3.11/site-packages/sympy/solvers/ode/systems.py:1785\u001b[0m, in \u001b[0;36m_component_solver\u001b[0;34m(eqs, funcs, t)\u001b[0m\n\u001b[1;32m   1780\u001b[0m sol \u001b[39m=\u001b[39m []\n\u001b[1;32m   1782\u001b[0m \u001b[39mfor\u001b[39;00m wcc \u001b[39min\u001b[39;00m components:\n\u001b[1;32m   1783\u001b[0m \n\u001b[1;32m   1784\u001b[0m     \u001b[39m# wcc_sol: List of Equations\u001b[39;00m\n\u001b[0;32m-> 1785\u001b[0m     sol \u001b[39m+\u001b[39m\u001b[39m=\u001b[39m _weak_component_solver(wcc, t)\n\u001b[1;32m   1787\u001b[0m \u001b[39m# sol: List of Equations\u001b[39;00m\n\u001b[1;32m   1788\u001b[0m \u001b[39mreturn\u001b[39;00m sol\n",
      "File \u001b[0;32m~/anaconda3/lib/python3.11/site-packages/sympy/solvers/ode/systems.py:1766\u001b[0m, in \u001b[0;36m_weak_component_solver\u001b[0;34m(wcc, t)\u001b[0m\n\u001b[1;32m   1763\u001b[0m scc_sol \u001b[39m=\u001b[39m _strong_component_solver(comp_eqs, funcs, t)\n\u001b[1;32m   1765\u001b[0m \u001b[39mif\u001b[39;00m scc_sol \u001b[39mis\u001b[39;00m \u001b[39mNone\u001b[39;00m:\n\u001b[0;32m-> 1766\u001b[0m     \u001b[39mraise\u001b[39;00m \u001b[39mNotImplementedError\u001b[39;00m(filldedent(\u001b[39m'''\u001b[39m\n\u001b[1;32m   1767\u001b[0m \u001b[39m        The system of ODEs passed cannot be solved by dsolve_system.\u001b[39m\n\u001b[1;32m   1768\u001b[0m \u001b[39m    \u001b[39m\u001b[39m'''\u001b[39m))\n\u001b[1;32m   1770\u001b[0m \u001b[39m# scc_sol: List of equations\u001b[39;00m\n\u001b[1;32m   1771\u001b[0m \u001b[39m# scc_sol is a solution\u001b[39;00m\n\u001b[1;32m   1772\u001b[0m sol \u001b[39m+\u001b[39m\u001b[39m=\u001b[39m scc_sol\n",
      "\u001b[0;31mNotImplementedError\u001b[0m: \nThe system of ODEs passed cannot be solved by dsolve_system."
     ]
    }
   ],
   "source": [
    "sympy.solvers.ode.systems.dsolve_system([mu_prime_eq,sigma_prime_eq])"
   ]
  },
  {
   "cell_type": "code",
   "execution_count": 414,
   "metadata": {},
   "outputs": [
    {
     "data": {
      "text/latex": [
       "$\\displaystyle \\frac{d}{d t} \\mu_{0}{\\left(t \\right)}$"
      ],
      "text/plain": [
       "Derivative(\\mu_0(t), t)"
      ]
     },
     "execution_count": 414,
     "metadata": {},
     "output_type": "execute_result"
    }
   ],
   "source": [
    "sympy.Derivative(mu_0,t)"
   ]
  },
  {
   "cell_type": "code",
   "execution_count": 372,
   "metadata": {},
   "outputs": [],
   "source": [
    "optimal_loss_eta = solve(diff(diff(loss,t),eta),eta)[1]"
   ]
  },
  {
   "cell_type": "code",
   "execution_count": 389,
   "metadata": {},
   "outputs": [
    {
     "data": {
      "text/latex": [
       "$\\displaystyle \\frac{1.0 \\mu^{2} \\theta^{2} - 2.0 \\mu \\mu_{0} \\theta^{2} + 1.0 \\mu_{0}^{2} \\theta^{2} + 50000.0 \\sigma^{2} + 1.0 \\sigma_{0}^{2} \\theta^{2} + 50000.0 \\sqrt{4.0 \\cdot 10^{-10} \\mu^{4} \\theta^{4} - 1.6 \\cdot 10^{-9} \\mu^{3} \\mu_{0} \\theta^{4} + 2.4 \\cdot 10^{-9} \\mu^{2} \\mu_{0}^{2} \\theta^{4} + 8.0 \\cdot 10^{-10} \\mu^{2} \\sigma_{0}^{2} \\theta^{4} - 1.6 \\cdot 10^{-9} \\mu \\mu_{0}^{3} \\theta^{4} - 1.6 \\cdot 10^{-9} \\mu \\mu_{0} \\sigma_{0}^{2} \\theta^{4} + 4.0 \\cdot 10^{-10} \\mu_{0}^{4} \\theta^{4} + 8.0 \\cdot 10^{-10} \\mu_{0}^{2} \\sigma_{0}^{2} \\theta^{4} + \\sigma^{4} + 4.0 \\cdot 10^{-10} \\sigma_{0}^{4} \\theta^{4}}}{\\sigma^{2} \\theta}$"
      ],
      "text/plain": [
       "(1.0*\\mu**2*\\theta**2 - 2.0*\\mu*\\mu_0*\\theta**2 + 1.0*\\mu_0**2*\\theta**2 + 50000.0*\\sigma**2 + 1.0*\\sigma_0**2*\\theta**2 + 50000.0*sqrt(4.0e-10*\\mu**4*\\theta**4 - 1.6e-9*\\mu**3*\\mu_0*\\theta**4 + 2.4e-9*\\mu**2*\\mu_0**2*\\theta**4 + 8.0e-10*\\mu**2*\\sigma_0**2*\\theta**4 - 1.6e-9*\\mu*\\mu_0**3*\\theta**4 - 1.6e-9*\\mu*\\mu_0*\\sigma_0**2*\\theta**4 + 4.0e-10*\\mu_0**4*\\theta**4 + 8.0e-10*\\mu_0**2*\\sigma_0**2*\\theta**4 + \\sigma**4 + 4.0e-10*\\sigma_0**4*\\theta**4))/(\\sigma**2*\\theta)"
      ]
     },
     "execution_count": 389,
     "metadata": {},
     "output_type": "execute_result"
    }
   ],
   "source": [
    "simplify(optimal_loss_eta.subs(t_prime,0).subs(t,.00001))"
   ]
  },
  {
   "cell_type": "code",
   "execution_count": 380,
   "metadata": {},
   "outputs": [],
   "source": [
    "optimal_loss_over_time = simplify(loss.subs(eta,optimal_loss_eta))"
   ]
  },
  {
   "cell_type": "code",
   "execution_count": 381,
   "metadata": {},
   "outputs": [
    {
     "data": {
      "text/latex": [
       "$\\displaystyle \\frac{\\left(- \\frac{\\mu^{2} \\theta^{2} t}{2} + \\frac{\\mu^{2} \\theta^{2} t'}{2} + \\mu \\mu_{0} \\theta^{2} t - \\mu \\mu_{0} \\theta^{2} t' - \\frac{\\mu_{0}^{2} \\theta^{2} t}{2} + \\frac{\\mu_{0}^{2} \\theta^{2} t'}{2} - \\frac{\\sigma^{2}}{4} - \\frac{\\sigma_{0}^{2} \\theta^{2} t}{2} + \\frac{\\sigma_{0}^{2} \\theta^{2} t'}{2} + \\theta^{2} \\left(t - t'\\right) \\left(\\mu^{2} - 2 \\mu \\mu_{0} + \\mu_{0}^{2} + \\sigma_{0}^{2}\\right) + \\frac{\\left(2 \\mu^{2} \\theta^{2} t - 2 \\mu^{2} \\theta^{2} t' - 4 \\mu \\mu_{0} \\theta^{2} t + 4 \\mu \\mu_{0} \\theta^{2} t' + 2 \\mu_{0}^{2} \\theta^{2} t - 2 \\mu_{0}^{2} \\theta^{2} t' + \\sigma^{2} + 2 \\sigma_{0}^{2} \\theta^{2} t - 2 \\sigma_{0}^{2} \\theta^{2} t' + \\sqrt{4 \\mu^{4} \\theta^{4} t^{2} - 8 \\mu^{4} \\theta^{4} t t' + 4 \\mu^{4} \\theta^{4} t'^{2} - 16 \\mu^{3} \\mu_{0} \\theta^{4} t^{2} + 32 \\mu^{3} \\mu_{0} \\theta^{4} t t' - 16 \\mu^{3} \\mu_{0} \\theta^{4} t'^{2} + 24 \\mu^{2} \\mu_{0}^{2} \\theta^{4} t^{2} - 48 \\mu^{2} \\mu_{0}^{2} \\theta^{4} t t' + 24 \\mu^{2} \\mu_{0}^{2} \\theta^{4} t'^{2} + 8 \\mu^{2} \\sigma_{0}^{2} \\theta^{4} t^{2} - 16 \\mu^{2} \\sigma_{0}^{2} \\theta^{4} t t' + 8 \\mu^{2} \\sigma_{0}^{2} \\theta^{4} t'^{2} - 16 \\mu \\mu_{0}^{3} \\theta^{4} t^{2} + 32 \\mu \\mu_{0}^{3} \\theta^{4} t t' - 16 \\mu \\mu_{0}^{3} \\theta^{4} t'^{2} - 16 \\mu \\mu_{0} \\sigma_{0}^{2} \\theta^{4} t^{2} + 32 \\mu \\mu_{0} \\sigma_{0}^{2} \\theta^{4} t t' - 16 \\mu \\mu_{0} \\sigma_{0}^{2} \\theta^{4} t'^{2} + 4 \\mu_{0}^{4} \\theta^{4} t^{2} - 8 \\mu_{0}^{4} \\theta^{4} t t' + 4 \\mu_{0}^{4} \\theta^{4} t'^{2} + 8 \\mu_{0}^{2} \\sigma_{0}^{2} \\theta^{4} t^{2} - 16 \\mu_{0}^{2} \\sigma_{0}^{2} \\theta^{4} t t' + 8 \\mu_{0}^{2} \\sigma_{0}^{2} \\theta^{4} t'^{2} + \\sigma^{4} + 4 \\sigma_{0}^{4} \\theta^{4} t^{2} - 8 \\sigma_{0}^{4} \\theta^{4} t t' + 4 \\sigma_{0}^{4} \\theta^{4} t'^{2}}\\right) e^{\\frac{2 \\mu^{2} \\theta^{2} t - 2 \\mu^{2} \\theta^{2} t' - 4 \\mu \\mu_{0} \\theta^{2} t + 4 \\mu \\mu_{0} \\theta^{2} t' + 2 \\mu_{0}^{2} \\theta^{2} t - 2 \\mu_{0}^{2} \\theta^{2} t' + \\sigma^{2} + 2 \\sigma_{0}^{2} \\theta^{2} t - 2 \\sigma_{0}^{2} \\theta^{2} t' + \\sqrt{4 \\mu^{4} \\theta^{4} t^{2} - 8 \\mu^{4} \\theta^{4} t t' + 4 \\mu^{4} \\theta^{4} t'^{2} - 16 \\mu^{3} \\mu_{0} \\theta^{4} t^{2} + 32 \\mu^{3} \\mu_{0} \\theta^{4} t t' - 16 \\mu^{3} \\mu_{0} \\theta^{4} t'^{2} + 24 \\mu^{2} \\mu_{0}^{2} \\theta^{4} t^{2} - 48 \\mu^{2} \\mu_{0}^{2} \\theta^{4} t t' + 24 \\mu^{2} \\mu_{0}^{2} \\theta^{4} t'^{2} + 8 \\mu^{2} \\sigma_{0}^{2} \\theta^{4} t^{2} - 16 \\mu^{2} \\sigma_{0}^{2} \\theta^{4} t t' + 8 \\mu^{2} \\sigma_{0}^{2} \\theta^{4} t'^{2} - 16 \\mu \\mu_{0}^{3} \\theta^{4} t^{2} + 32 \\mu \\mu_{0}^{3} \\theta^{4} t t' - 16 \\mu \\mu_{0}^{3} \\theta^{4} t'^{2} - 16 \\mu \\mu_{0} \\sigma_{0}^{2} \\theta^{4} t^{2} + 32 \\mu \\mu_{0} \\sigma_{0}^{2} \\theta^{4} t t' - 16 \\mu \\mu_{0} \\sigma_{0}^{2} \\theta^{4} t'^{2} + 4 \\mu_{0}^{4} \\theta^{4} t^{2} - 8 \\mu_{0}^{4} \\theta^{4} t t' + 4 \\mu_{0}^{4} \\theta^{4} t'^{2} + 8 \\mu_{0}^{2} \\sigma_{0}^{2} \\theta^{4} t^{2} - 16 \\mu_{0}^{2} \\sigma_{0}^{2} \\theta^{4} t t' + 8 \\mu_{0}^{2} \\sigma_{0}^{2} \\theta^{4} t'^{2} + \\sigma^{4} + 4 \\sigma_{0}^{4} \\theta^{4} t^{2} - 8 \\sigma_{0}^{4} \\theta^{4} t t' + 4 \\sigma_{0}^{4} \\theta^{4} t'^{2}}}{\\sigma^{2}}}}{4} - \\frac{\\sqrt{4 \\mu^{4} \\theta^{4} t^{2} - 8 \\mu^{4} \\theta^{4} t t' + 4 \\mu^{4} \\theta^{4} t'^{2} - 16 \\mu^{3} \\mu_{0} \\theta^{4} t^{2} + 32 \\mu^{3} \\mu_{0} \\theta^{4} t t' - 16 \\mu^{3} \\mu_{0} \\theta^{4} t'^{2} + 24 \\mu^{2} \\mu_{0}^{2} \\theta^{4} t^{2} - 48 \\mu^{2} \\mu_{0}^{2} \\theta^{4} t t' + 24 \\mu^{2} \\mu_{0}^{2} \\theta^{4} t'^{2} + 8 \\mu^{2} \\sigma_{0}^{2} \\theta^{4} t^{2} - 16 \\mu^{2} \\sigma_{0}^{2} \\theta^{4} t t' + 8 \\mu^{2} \\sigma_{0}^{2} \\theta^{4} t'^{2} - 16 \\mu \\mu_{0}^{3} \\theta^{4} t^{2} + 32 \\mu \\mu_{0}^{3} \\theta^{4} t t' - 16 \\mu \\mu_{0}^{3} \\theta^{4} t'^{2} - 16 \\mu \\mu_{0} \\sigma_{0}^{2} \\theta^{4} t^{2} + 32 \\mu \\mu_{0} \\sigma_{0}^{2} \\theta^{4} t t' - 16 \\mu \\mu_{0} \\sigma_{0}^{2} \\theta^{4} t'^{2} + 4 \\mu_{0}^{4} \\theta^{4} t^{2} - 8 \\mu_{0}^{4} \\theta^{4} t t' + 4 \\mu_{0}^{4} \\theta^{4} t'^{2} + 8 \\mu_{0}^{2} \\sigma_{0}^{2} \\theta^{4} t^{2} - 16 \\mu_{0}^{2} \\sigma_{0}^{2} \\theta^{4} t t' + 8 \\mu_{0}^{2} \\sigma_{0}^{2} \\theta^{4} t'^{2} + \\sigma^{4} + 4 \\sigma_{0}^{4} \\theta^{4} t^{2} - 8 \\sigma_{0}^{4} \\theta^{4} t t' + 4 \\sigma_{0}^{4} \\theta^{4} t'^{2}}}{4}\\right) e^{\\frac{- 2 \\mu^{2} \\theta^{2} t + 2 \\mu^{2} \\theta^{2} t' + 4 \\mu \\mu_{0} \\theta^{2} t - 4 \\mu \\mu_{0} \\theta^{2} t' - 2 \\mu_{0}^{2} \\theta^{2} t + 2 \\mu_{0}^{2} \\theta^{2} t' - \\sigma^{2} - 2 \\sigma_{0}^{2} \\theta^{2} t + 2 \\sigma_{0}^{2} \\theta^{2} t' - \\sqrt{4 \\mu^{4} \\theta^{4} t^{2} - 8 \\mu^{4} \\theta^{4} t t' + 4 \\mu^{4} \\theta^{4} t'^{2} - 16 \\mu^{3} \\mu_{0} \\theta^{4} t^{2} + 32 \\mu^{3} \\mu_{0} \\theta^{4} t t' - 16 \\mu^{3} \\mu_{0} \\theta^{4} t'^{2} + 24 \\mu^{2} \\mu_{0}^{2} \\theta^{4} t^{2} - 48 \\mu^{2} \\mu_{0}^{2} \\theta^{4} t t' + 24 \\mu^{2} \\mu_{0}^{2} \\theta^{4} t'^{2} + 8 \\mu^{2} \\sigma_{0}^{2} \\theta^{4} t^{2} - 16 \\mu^{2} \\sigma_{0}^{2} \\theta^{4} t t' + 8 \\mu^{2} \\sigma_{0}^{2} \\theta^{4} t'^{2} - 16 \\mu \\mu_{0}^{3} \\theta^{4} t^{2} + 32 \\mu \\mu_{0}^{3} \\theta^{4} t t' - 16 \\mu \\mu_{0}^{3} \\theta^{4} t'^{2} - 16 \\mu \\mu_{0} \\sigma_{0}^{2} \\theta^{4} t^{2} + 32 \\mu \\mu_{0} \\sigma_{0}^{2} \\theta^{4} t t' - 16 \\mu \\mu_{0} \\sigma_{0}^{2} \\theta^{4} t'^{2} + 4 \\mu_{0}^{4} \\theta^{4} t^{2} - 8 \\mu_{0}^{4} \\theta^{4} t t' + 4 \\mu_{0}^{4} \\theta^{4} t'^{2} + 8 \\mu_{0}^{2} \\sigma_{0}^{2} \\theta^{4} t^{2} - 16 \\mu_{0}^{2} \\sigma_{0}^{2} \\theta^{4} t t' + 8 \\mu_{0}^{2} \\sigma_{0}^{2} \\theta^{4} t'^{2} + \\sigma^{4} + 4 \\sigma_{0}^{4} \\theta^{4} t^{2} - 8 \\sigma_{0}^{4} \\theta^{4} t t' + 4 \\sigma_{0}^{4} \\theta^{4} t'^{2}}}{\\sigma^{2}}}}{\\theta^{2} \\left(t - t'\\right)}$"
      ],
      "text/plain": [
       "(-\\mu**2*\\theta**2*t/2 + \\mu**2*\\theta**2*t'/2 + \\mu*\\mu_0*\\theta**2*t - \\mu*\\mu_0*\\theta**2*t' - \\mu_0**2*\\theta**2*t/2 + \\mu_0**2*\\theta**2*t'/2 - \\sigma**2/4 - \\sigma_0**2*\\theta**2*t/2 + \\sigma_0**2*\\theta**2*t'/2 + \\theta**2*(t - t')*(\\mu**2 - 2*\\mu*\\mu_0 + \\mu_0**2 + \\sigma_0**2) + (2*\\mu**2*\\theta**2*t - 2*\\mu**2*\\theta**2*t' - 4*\\mu*\\mu_0*\\theta**2*t + 4*\\mu*\\mu_0*\\theta**2*t' + 2*\\mu_0**2*\\theta**2*t - 2*\\mu_0**2*\\theta**2*t' + \\sigma**2 + 2*\\sigma_0**2*\\theta**2*t - 2*\\sigma_0**2*\\theta**2*t' + sqrt(4*\\mu**4*\\theta**4*t**2 - 8*\\mu**4*\\theta**4*t*t' + 4*\\mu**4*\\theta**4*t'**2 - 16*\\mu**3*\\mu_0*\\theta**4*t**2 + 32*\\mu**3*\\mu_0*\\theta**4*t*t' - 16*\\mu**3*\\mu_0*\\theta**4*t'**2 + 24*\\mu**2*\\mu_0**2*\\theta**4*t**2 - 48*\\mu**2*\\mu_0**2*\\theta**4*t*t' + 24*\\mu**2*\\mu_0**2*\\theta**4*t'**2 + 8*\\mu**2*\\sigma_0**2*\\theta**4*t**2 - 16*\\mu**2*\\sigma_0**2*\\theta**4*t*t' + 8*\\mu**2*\\sigma_0**2*\\theta**4*t'**2 - 16*\\mu*\\mu_0**3*\\theta**4*t**2 + 32*\\mu*\\mu_0**3*\\theta**4*t*t' - 16*\\mu*\\mu_0**3*\\theta**4*t'**2 - 16*\\mu*\\mu_0*\\sigma_0**2*\\theta**4*t**2 + 32*\\mu*\\mu_0*\\sigma_0**2*\\theta**4*t*t' - 16*\\mu*\\mu_0*\\sigma_0**2*\\theta**4*t'**2 + 4*\\mu_0**4*\\theta**4*t**2 - 8*\\mu_0**4*\\theta**4*t*t' + 4*\\mu_0**4*\\theta**4*t'**2 + 8*\\mu_0**2*\\sigma_0**2*\\theta**4*t**2 - 16*\\mu_0**2*\\sigma_0**2*\\theta**4*t*t' + 8*\\mu_0**2*\\sigma_0**2*\\theta**4*t'**2 + \\sigma**4 + 4*\\sigma_0**4*\\theta**4*t**2 - 8*\\sigma_0**4*\\theta**4*t*t' + 4*\\sigma_0**4*\\theta**4*t'**2))*exp((2*\\mu**2*\\theta**2*t - 2*\\mu**2*\\theta**2*t' - 4*\\mu*\\mu_0*\\theta**2*t + 4*\\mu*\\mu_0*\\theta**2*t' + 2*\\mu_0**2*\\theta**2*t - 2*\\mu_0**2*\\theta**2*t' + \\sigma**2 + 2*\\sigma_0**2*\\theta**2*t - 2*\\sigma_0**2*\\theta**2*t' + sqrt(4*\\mu**4*\\theta**4*t**2 - 8*\\mu**4*\\theta**4*t*t' + 4*\\mu**4*\\theta**4*t'**2 - 16*\\mu**3*\\mu_0*\\theta**4*t**2 + 32*\\mu**3*\\mu_0*\\theta**4*t*t' - 16*\\mu**3*\\mu_0*\\theta**4*t'**2 + 24*\\mu**2*\\mu_0**2*\\theta**4*t**2 - 48*\\mu**2*\\mu_0**2*\\theta**4*t*t' + 24*\\mu**2*\\mu_0**2*\\theta**4*t'**2 + 8*\\mu**2*\\sigma_0**2*\\theta**4*t**2 - 16*\\mu**2*\\sigma_0**2*\\theta**4*t*t' + 8*\\mu**2*\\sigma_0**2*\\theta**4*t'**2 - 16*\\mu*\\mu_0**3*\\theta**4*t**2 + 32*\\mu*\\mu_0**3*\\theta**4*t*t' - 16*\\mu*\\mu_0**3*\\theta**4*t'**2 - 16*\\mu*\\mu_0*\\sigma_0**2*\\theta**4*t**2 + 32*\\mu*\\mu_0*\\sigma_0**2*\\theta**4*t*t' - 16*\\mu*\\mu_0*\\sigma_0**2*\\theta**4*t'**2 + 4*\\mu_0**4*\\theta**4*t**2 - 8*\\mu_0**4*\\theta**4*t*t' + 4*\\mu_0**4*\\theta**4*t'**2 + 8*\\mu_0**2*\\sigma_0**2*\\theta**4*t**2 - 16*\\mu_0**2*\\sigma_0**2*\\theta**4*t*t' + 8*\\mu_0**2*\\sigma_0**2*\\theta**4*t'**2 + \\sigma**4 + 4*\\sigma_0**4*\\theta**4*t**2 - 8*\\sigma_0**4*\\theta**4*t*t' + 4*\\sigma_0**4*\\theta**4*t'**2))/\\sigma**2)/4 - sqrt(4*\\mu**4*\\theta**4*t**2 - 8*\\mu**4*\\theta**4*t*t' + 4*\\mu**4*\\theta**4*t'**2 - 16*\\mu**3*\\mu_0*\\theta**4*t**2 + 32*\\mu**3*\\mu_0*\\theta**4*t*t' - 16*\\mu**3*\\mu_0*\\theta**4*t'**2 + 24*\\mu**2*\\mu_0**2*\\theta**4*t**2 - 48*\\mu**2*\\mu_0**2*\\theta**4*t*t' + 24*\\mu**2*\\mu_0**2*\\theta**4*t'**2 + 8*\\mu**2*\\sigma_0**2*\\theta**4*t**2 - 16*\\mu**2*\\sigma_0**2*\\theta**4*t*t' + 8*\\mu**2*\\sigma_0**2*\\theta**4*t'**2 - 16*\\mu*\\mu_0**3*\\theta**4*t**2 + 32*\\mu*\\mu_0**3*\\theta**4*t*t' - 16*\\mu*\\mu_0**3*\\theta**4*t'**2 - 16*\\mu*\\mu_0*\\sigma_0**2*\\theta**4*t**2 + 32*\\mu*\\mu_0*\\sigma_0**2*\\theta**4*t*t' - 16*\\mu*\\mu_0*\\sigma_0**2*\\theta**4*t'**2 + 4*\\mu_0**4*\\theta**4*t**2 - 8*\\mu_0**4*\\theta**4*t*t' + 4*\\mu_0**4*\\theta**4*t'**2 + 8*\\mu_0**2*\\sigma_0**2*\\theta**4*t**2 - 16*\\mu_0**2*\\sigma_0**2*\\theta**4*t*t' + 8*\\mu_0**2*\\sigma_0**2*\\theta**4*t'**2 + \\sigma**4 + 4*\\sigma_0**4*\\theta**4*t**2 - 8*\\sigma_0**4*\\theta**4*t*t' + 4*\\sigma_0**4*\\theta**4*t'**2)/4)*exp((-2*\\mu**2*\\theta**2*t + 2*\\mu**2*\\theta**2*t' + 4*\\mu*\\mu_0*\\theta**2*t - 4*\\mu*\\mu_0*\\theta**2*t' - 2*\\mu_0**2*\\theta**2*t + 2*\\mu_0**2*\\theta**2*t' - \\sigma**2 - 2*\\sigma_0**2*\\theta**2*t + 2*\\sigma_0**2*\\theta**2*t' - sqrt(4*\\mu**4*\\theta**4*t**2 - 8*\\mu**4*\\theta**4*t*t' + 4*\\mu**4*\\theta**4*t'**2 - 16*\\mu**3*\\mu_0*\\theta**4*t**2 + 32*\\mu**3*\\mu_0*\\theta**4*t*t' - 16*\\mu**3*\\mu_0*\\theta**4*t'**2 + 24*\\mu**2*\\mu_0**2*\\theta**4*t**2 - 48*\\mu**2*\\mu_0**2*\\theta**4*t*t' + 24*\\mu**2*\\mu_0**2*\\theta**4*t'**2 + 8*\\mu**2*\\sigma_0**2*\\theta**4*t**2 - 16*\\mu**2*\\sigma_0**2*\\theta**4*t*t' + 8*\\mu**2*\\sigma_0**2*\\theta**4*t'**2 - 16*\\mu*\\mu_0**3*\\theta**4*t**2 + 32*\\mu*\\mu_0**3*\\theta**4*t*t' - 16*\\mu*\\mu_0**3*\\theta**4*t'**2 - 16*\\mu*\\mu_0*\\sigma_0**2*\\theta**4*t**2 + 32*\\mu*\\mu_0*\\sigma_0**2*\\theta**4*t*t' - 16*\\mu*\\mu_0*\\sigma_0**2*\\theta**4*t'**2 + 4*\\mu_0**4*\\theta**4*t**2 - 8*\\mu_0**4*\\theta**4*t*t' + 4*\\mu_0**4*\\theta**4*t'**2 + 8*\\mu_0**2*\\sigma_0**2*\\theta**4*t**2 - 16*\\mu_0**2*\\sigma_0**2*\\theta**4*t*t' + 8*\\mu_0**2*\\sigma_0**2*\\theta**4*t'**2 + \\sigma**4 + 4*\\sigma_0**4*\\theta**4*t**2 - 8*\\sigma_0**4*\\theta**4*t*t' + 4*\\sigma_0**4*\\theta**4*t'**2))/\\sigma**2)/(\\theta**2*(t - t'))"
      ]
     },
     "execution_count": 381,
     "metadata": {},
     "output_type": "execute_result"
    }
   ],
   "source": [
    "optimal_loss_over_time"
   ]
  },
  {
   "cell_type": "code",
   "execution_count": 335,
   "metadata": {},
   "outputs": [
    {
     "data": {
      "text/plain": [
       "[0, 2*\\theta*(\\mu**2 - 2*\\mu*\\mu_0 + \\mu_0**2 + \\sigma_0**2)/\\sigma**2]"
      ]
     },
     "execution_count": 335,
     "metadata": {},
     "output_type": "execute_result"
    }
   ],
   "source": [
    "solve(diff(loss,t),eta)"
   ]
  },
  {
   "cell_type": "code",
   "execution_count": 340,
   "metadata": {},
   "outputs": [],
   "source": [
    "optimal_loss_eta = solve(diff(loss,t),eta)[1]"
   ]
  },
  {
   "cell_type": "code",
   "execution_count": 343,
   "metadata": {},
   "outputs": [
    {
     "data": {
      "text/latex": [
       "$\\displaystyle 2 \\mu^{2} - 2 \\mu \\mu_{0} - 2 \\mu \\left(\\mu + \\left(- \\mu + \\mu_{0}\\right) e^{- \\frac{2 \\theta^{2} \\left(t - t'\\right) \\left(\\mu^{2} - 2 \\mu \\mu_{0} + \\mu_{0}^{2} + \\sigma_{0}^{2}\\right)}{\\sigma^{2}}}\\right) + \\mu_{0}^{2} + \\sigma_{0}^{2} + \\left(\\mu + \\left(- \\mu + \\mu_{0}\\right) e^{- \\frac{2 \\theta^{2} \\left(t - t'\\right) \\left(\\mu^{2} - 2 \\mu \\mu_{0} + \\mu_{0}^{2} + \\sigma_{0}^{2}\\right)}{\\sigma^{2}}}\\right)^{2} + \\left(- \\mu^{2} + 2 \\mu \\mu_{0} - \\mu_{0}^{2}\\right) e^{- \\frac{4 \\theta^{2} \\left(t - t'\\right) \\left(\\mu^{2} - 2 \\mu \\mu_{0} + \\mu_{0}^{2} + \\sigma_{0}^{2}\\right)}{\\sigma^{2}}}$"
      ],
      "text/plain": [
       "2*\\mu**2 - 2*\\mu*\\mu_0 - 2*\\mu*(\\mu + (-\\mu + \\mu_0)*exp(-2*\\theta**2*(t - t')*(\\mu**2 - 2*\\mu*\\mu_0 + \\mu_0**2 + \\sigma_0**2)/\\sigma**2)) + \\mu_0**2 + \\sigma_0**2 + (\\mu + (-\\mu + \\mu_0)*exp(-2*\\theta**2*(t - t')*(\\mu**2 - 2*\\mu*\\mu_0 + \\mu_0**2 + \\sigma_0**2)/\\sigma**2))**2 + (-\\mu**2 + 2*\\mu*\\mu_0 - \\mu_0**2)*exp(-4*\\theta**2*(t - t')*(\\mu**2 - 2*\\mu*\\mu_0 + \\mu_0**2 + \\sigma_0**2)/\\sigma**2)"
      ]
     },
     "execution_count": 343,
     "metadata": {},
     "output_type": "execute_result"
    }
   ],
   "source": [
    "loss.subs(eta,optimal_loss_eta)"
   ]
  },
  {
   "cell_type": "code",
   "execution_count": 327,
   "metadata": {},
   "outputs": [
    {
     "data": {
      "text/latex": [
       "$\\displaystyle \\frac{\\frac{\\sigma^{2}}{2} + \\sigma_{0}^{2} \\theta^{2} t - \\sigma_{0}^{2} \\theta^{2} t' + \\frac{\\sqrt{\\sigma^{4} + 4 \\sigma_{0}^{4} \\theta^{4} t^{2} - 8 \\sigma_{0}^{4} \\theta^{4} t t' + 4 \\sigma_{0}^{4} \\theta^{4} t'^{2}}}{2}}{\\sigma^{2} \\theta \\left(t - t'\\right)}$"
      ],
      "text/plain": [
       "(\\sigma**2/2 + \\sigma_0**2*\\theta**2*t - \\sigma_0**2*\\theta**2*t' + sqrt(\\sigma**4 + 4*\\sigma_0**4*\\theta**4*t**2 - 8*\\sigma_0**4*\\theta**4*t*t' + 4*\\sigma_0**4*\\theta**4*t'**2)/2)/(\\sigma**2*\\theta*(t - t'))"
      ]
     },
     "execution_count": 327,
     "metadata": {},
     "output_type": "execute_result"
    }
   ],
   "source": [
    "solve(diff(diff(variance,t),eta),eta)[1]"
   ]
  },
  {
   "cell_type": "code",
   "execution_count": 296,
   "metadata": {},
   "outputs": [],
   "source": [
    "variance_decay_rate = simplify(-eta*theta/(1+1/(2*theta*(sigma_0**2/(eta*sigma**2)-1/(2*theta)))))"
   ]
  },
  {
   "cell_type": "code",
   "execution_count": 298,
   "metadata": {},
   "outputs": [
    {
     "data": {
      "text/latex": [
       "$\\displaystyle \\frac{2 \\sigma_{0}^{2} \\theta}{\\sigma^{2}}$"
      ],
      "text/plain": [
       "2*\\sigma_0**2*\\theta/\\sigma**2"
      ]
     },
     "execution_count": 298,
     "metadata": {},
     "output_type": "execute_result"
    }
   ],
   "source": [
    "solve(variance_decay_rate,eta)[1]"
   ]
  },
  {
   "cell_type": "code",
   "execution_count": 303,
   "metadata": {},
   "outputs": [
    {
     "data": {
      "text/latex": [
       "$\\displaystyle \\frac{\\sigma_{0}^{2} \\theta}{\\sigma^{2}}$"
      ],
      "text/plain": [
       "\\sigma_0**2*\\theta/\\sigma**2"
      ]
     },
     "execution_count": 303,
     "metadata": {},
     "output_type": "execute_result"
    }
   ],
   "source": [
    "solve(diff(variance_decay_rate,eta),eta)[0]"
   ]
  },
  {
   "cell_type": "code",
   "execution_count": 542,
   "metadata": {},
   "outputs": [],
   "source": [
    "n, a, b, p = symbols('n a b p')"
   ]
  },
  {
   "cell_type": "code",
   "execution_count": 597,
   "metadata": {},
   "outputs": [],
   "source": [
    "mean = (a+n*p)/(a+b+n)\n",
    "variance = n*p*(1-p)/(a+b+n)**2"
   ]
  },
  {
   "cell_type": "code",
   "execution_count": 601,
   "metadata": {},
   "outputs": [
    {
     "data": {
      "text/latex": [
       "$\\displaystyle \\frac{n p^{2}}{2 n^{2} p^{2} - 2 n^{2} p} - \\frac{n p}{2 n^{2} p^{2} - 2 n^{2} p} - \\frac{n_{0}^{2} p^{2}}{2 n^{2} p^{2} - 2 n^{2} p} + \\frac{2 n_{0}^{2} p p_{0}}{2 n^{2} p^{2} - 2 n^{2} p} - \\frac{n_{0}^{2} p_{0}^{2}}{2 n^{2} p^{2} - 2 n^{2} p} - \\frac{n_{0} p^{2}}{2 n^{2} p^{2} - 2 n^{2} p} + \\frac{n_{0} p}{2 n^{2} p^{2} - 2 n^{2} p}$"
      ],
      "text/plain": [
       "n*p**2/(2*n**2*p**2 - 2*n**2*p) - n*p/(2*n**2*p**2 - 2*n**2*p) - n_0**2*p**2/(2*n**2*p**2 - 2*n**2*p) + 2*n_0**2*p*p_0/(2*n**2*p**2 - 2*n**2*p) - n_0**2*p_0**2/(2*n**2*p**2 - 2*n**2*p) - n_0*p**2/(2*n**2*p**2 - 2*n**2*p) + n_0*p/(2*n**2*p**2 - 2*n**2*p)"
      ]
     },
     "execution_count": 601,
     "metadata": {},
     "output_type": "execute_result"
    }
   ],
   "source": [
    "sympy.expand(simplify((1/(2*p*(1-p))*(variance+mean**2-2*p*mean+p**2)).subs(n,n-a-b).subs(a,n_0*p_0).subs(b,n_0*(1-p_0))))"
   ]
  },
  {
   "cell_type": "code",
   "execution_count": 595,
   "metadata": {},
   "outputs": [
    {
     "data": {
      "text/latex": [
       "$\\displaystyle - \\frac{a^{2} p^{2}}{2 n^{2} p^{2} - 2 n^{2} p} + \\frac{2 a^{2} p}{2 n^{2} p^{2} - 2 n^{2} p} - \\frac{a^{2}}{2 n^{2} p^{2} - 2 n^{2} p} - \\frac{2 a b p^{2}}{2 n^{2} p^{2} - 2 n^{2} p} + \\frac{2 a b p}{2 n^{2} p^{2} - 2 n^{2} p} - \\frac{a p^{2}}{2 n^{2} p^{2} - 2 n^{2} p} + \\frac{a p}{2 n^{2} p^{2} - 2 n^{2} p} - \\frac{b^{2} p^{2}}{2 n^{2} p^{2} - 2 n^{2} p} - \\frac{b p^{2}}{2 n^{2} p^{2} - 2 n^{2} p} + \\frac{b p}{2 n^{2} p^{2} - 2 n^{2} p} + \\frac{n p^{2}}{2 n^{2} p^{2} - 2 n^{2} p} - \\frac{n p}{2 n^{2} p^{2} - 2 n^{2} p}$"
      ],
      "text/plain": [
       "-a**2*p**2/(2*n**2*p**2 - 2*n**2*p) + 2*a**2*p/(2*n**2*p**2 - 2*n**2*p) - a**2/(2*n**2*p**2 - 2*n**2*p) - 2*a*b*p**2/(2*n**2*p**2 - 2*n**2*p) + 2*a*b*p/(2*n**2*p**2 - 2*n**2*p) - a*p**2/(2*n**2*p**2 - 2*n**2*p) + a*p/(2*n**2*p**2 - 2*n**2*p) - b**2*p**2/(2*n**2*p**2 - 2*n**2*p) - b*p**2/(2*n**2*p**2 - 2*n**2*p) + b*p/(2*n**2*p**2 - 2*n**2*p) + n*p**2/(2*n**2*p**2 - 2*n**2*p) - n*p/(2*n**2*p**2 - 2*n**2*p)"
      ]
     },
     "execution_count": 595,
     "metadata": {},
     "output_type": "execute_result"
    }
   ],
   "source": [
    "sympy.expand(simplify((1/(2*p*(1-p))*(variance+mean**2-2*p*mean+p**2)).subs(n,n-a-b)))"
   ]
  },
  {
   "cell_type": "code",
   "execution_count": 594,
   "metadata": {},
   "outputs": [
    {
     "data": {
      "text/latex": [
       "$\\displaystyle \\frac{a^{2} p^{2} - 2 a^{2} p + a^{2} + 2 a b p^{2} - 2 a b p + a p^{2} - a p + b^{2} p^{2} + b p^{2} - b p}{p \\left(1 - p\\right) \\left(2 a + 2 b\\right)}$"
      ],
      "text/plain": [
       "(a**2*p**2 - 2*a**2*p + a**2 + 2*a*b*p**2 - 2*a*b*p + a*p**2 - a*p + b**2*p**2 + b*p**2 - b*p)/(p*(1 - p)*(2*a + 2*b))"
      ]
     },
     "execution_count": 594,
     "metadata": {},
     "output_type": "execute_result"
    }
   ],
   "source": [
    "sympy.expand(simplify(((1/(2*p*(1-p))*(variance+mean**2-2*p*mean+p**2)).subs(n,n-a-b)*2*p*(1-p)+p**2/n-p/n)*n**2))/(2*(a+b)*p*(1-p))"
   ]
  },
  {
   "cell_type": "code",
   "execution_count": 596,
   "metadata": {},
   "outputs": [
    {
     "data": {
      "text/latex": [
       "$\\displaystyle \\frac{a^{2} p^{2} - 2 a^{2} p + a^{2} + 2 a b p^{2} - 2 a b p + a p^{2} - a p + b^{2} p^{2} + b p^{2} - b p}{p \\left(1 - p\\right) \\left(2 a + 2 b\\right)}$"
      ],
      "text/plain": [
       "(a**2*p**2 - 2*a**2*p + a**2 + 2*a*b*p**2 - 2*a*b*p + a*p**2 - a*p + b**2*p**2 + b*p**2 - b*p)/(p*(1 - p)*(2*a + 2*b))"
      ]
     },
     "execution_count": 596,
     "metadata": {},
     "output_type": "execute_result"
    }
   ],
   "source": [
    "loss = sympy.expand(simplify(((1/(2*p*(1-p))*(variance+mean**2-2*p*mean+p**2)).subs(n,n-a-b)*2*p*(1-p)+p**2/n-p/n)*n**2))/(2*(a+b)*p*(1-p))\n",
    "loss"
   ]
  },
  {
   "cell_type": "code",
   "execution_count": 590,
   "metadata": {},
   "outputs": [],
   "source": [
    "n_0, p_0 = symbols('n_0 p_0')"
   ]
  },
  {
   "cell_type": "code",
   "execution_count": 593,
   "metadata": {},
   "outputs": [
    {
     "data": {
      "text/latex": [
       "$\\displaystyle \\frac{- n_{0} p^{2} + 2 n_{0} p p_{0} - n_{0} p_{0}^{2} - p^{2} + p}{2 p \\left(p - 1\\right)}$"
      ],
      "text/plain": [
       "(-n_0*p**2 + 2*n_0*p*p_0 - n_0*p_0**2 - p**2 + p)/(2*p*(p - 1))"
      ]
     },
     "execution_count": 593,
     "metadata": {},
     "output_type": "execute_result"
    }
   ],
   "source": [
    "simplify(loss.subs(a,n_0*p_0).subs(b,n_0*(1-p_0)))"
   ]
  },
  {
   "cell_type": "code",
   "execution_count": 551,
   "metadata": {},
   "outputs": [
    {
     "data": {
      "text/latex": [
       "$\\displaystyle \\frac{p}{2 n \\left(p - 1\\right)}$"
      ],
      "text/plain": [
       "p/(2*n*(p - 1))"
      ]
     },
     "execution_count": 551,
     "metadata": {},
     "output_type": "execute_result"
    }
   ],
   "source": [
    "simplify(-n*p**2/(-2*n**2*p**2+2*n**2*p))"
   ]
  },
  {
   "cell_type": "code",
   "execution_count": 559,
   "metadata": {},
   "outputs": [
    {
     "data": {
      "text/latex": [
       "$\\displaystyle a^{2} p^{2} - 2 a^{2} p + a^{2} + 2 a b p^{2} - 2 a b p + a p^{2} - a p + b^{2} p^{2} + b p^{2} - b p$"
      ],
      "text/plain": [
       "a**2*p**2 - 2*a**2*p + a**2 + 2*a*b*p**2 - 2*a*b*p + a*p**2 - a*p + b**2*p**2 + b*p**2 - b*p"
      ]
     },
     "execution_count": 559,
     "metadata": {},
     "output_type": "execute_result"
    }
   ],
   "source": [
    "(a**2*p**2-2*a**2*p+a**2+2*a*b*p**2-2*a*b*p+a*p**2-a*p+b**2*p**2+b*p**2-b*p)"
   ]
  },
  {
   "cell_type": "code",
   "execution_count": 610,
   "metadata": {},
   "outputs": [],
   "source": [
    "alpha, beta, gamma = symbols(r'\\alpha \\beta \\gamma')"
   ]
  },
  {
   "cell_type": "code",
   "execution_count": 608,
   "metadata": {},
   "outputs": [
    {
     "data": {
      "text/latex": [
       "$\\displaystyle \\frac{p^{\\alpha - 1} \\left(1 - p\\right)^{\\beta - 1}}{\\operatorname{B}\\left(\\alpha, \\beta\\right)}$"
      ],
      "text/plain": [
       "p**(\\alpha - 1)*(1 - p)**(\\beta - 1)/beta(\\alpha, \\beta)"
      ]
     },
     "execution_count": 608,
     "metadata": {},
     "output_type": "execute_result"
    }
   ],
   "source": [
    "beta_pdf = p**(alpha-1)*(1-p)**(beta-1)/sympy.functions.special.beta_functions.beta(alpha,beta)\n",
    "beta_pdf"
   ]
  },
  {
   "cell_type": "code",
   "execution_count": 611,
   "metadata": {},
   "outputs": [
    {
     "data": {
      "text/latex": [
       "$\\displaystyle \\frac{\\alpha \\left(\\frac{p^{\\alpha - 1} \\left(1 - p\\right)^{\\beta - 1} \\left(- \\operatorname{polygamma}{\\left(0,\\alpha \\right)} + \\operatorname{polygamma}{\\left(0,\\alpha + \\beta \\right)}\\right)}{\\operatorname{B}\\left(\\alpha, \\beta\\right)} + \\frac{p^{\\alpha - 1} \\left(1 - p\\right)^{\\beta - 1} \\log{\\left(p \\right)}}{\\operatorname{B}\\left(\\alpha, \\beta\\right)}\\right)}{\\alpha + \\beta}$"
      ],
      "text/plain": [
       "\\alpha*(p**(\\alpha - 1)*(1 - p)**(\\beta - 1)*(-polygamma(0, \\alpha) + polygamma(0, \\alpha + \\beta))/beta(\\alpha, \\beta) + p**(\\alpha - 1)*(1 - p)**(\\beta - 1)*log(p)/beta(\\alpha, \\beta))/(\\alpha + \\beta)"
      ]
     },
     "execution_count": 611,
     "metadata": {},
     "output_type": "execute_result"
    }
   ],
   "source": [
    "gamma*diff(beta_pdf,alpha)*alpha/(alpha+beta) + (1-gamma)"
   ]
  },
  {
   "cell_type": "code",
   "execution_count": 613,
   "metadata": {},
   "outputs": [],
   "source": [
    "alpha_0, beta_0, p_0 = symbols(r'\\alpha_0 \\beta_0 p_0')"
   ]
  },
  {
   "cell_type": "code",
   "execution_count": 622,
   "metadata": {},
   "outputs": [
    {
     "data": {
      "text/latex": [
       "$\\displaystyle \\frac{\\alpha_{0}^{3} p_{0}^{2}}{\\alpha_{0}^{2} \\beta_{0} - \\alpha_{0}^{2} + \\alpha_{0} \\beta_{0}^{2} - 4 \\alpha_{0} \\beta_{0} + 3 \\alpha_{0} - \\beta_{0}^{2} + 3 \\beta_{0} - 2} - \\frac{2 \\alpha_{0}^{3} p_{0}}{\\alpha_{0}^{2} \\beta_{0} - \\alpha_{0}^{2} + \\alpha_{0} \\beta_{0}^{2} - 4 \\alpha_{0} \\beta_{0} + 3 \\alpha_{0} - \\beta_{0}^{2} + 3 \\beta_{0} - 2} + \\frac{\\alpha_{0}^{3}}{\\alpha_{0}^{2} \\beta_{0} - \\alpha_{0}^{2} + \\alpha_{0} \\beta_{0}^{2} - 4 \\alpha_{0} \\beta_{0} + 3 \\alpha_{0} - \\beta_{0}^{2} + 3 \\beta_{0} - 2} + \\frac{3 \\alpha_{0}^{2} \\beta_{0} p_{0}^{2}}{\\alpha_{0}^{2} \\beta_{0} - \\alpha_{0}^{2} + \\alpha_{0} \\beta_{0}^{2} - 4 \\alpha_{0} \\beta_{0} + 3 \\alpha_{0} - \\beta_{0}^{2} + 3 \\beta_{0} - 2} - \\frac{4 \\alpha_{0}^{2} \\beta_{0} p_{0}}{\\alpha_{0}^{2} \\beta_{0} - \\alpha_{0}^{2} + \\alpha_{0} \\beta_{0}^{2} - 4 \\alpha_{0} \\beta_{0} + 3 \\alpha_{0} - \\beta_{0}^{2} + 3 \\beta_{0} - 2} + \\frac{\\alpha_{0}^{2} \\beta_{0}}{\\alpha_{0}^{2} \\beta_{0} - \\alpha_{0}^{2} + \\alpha_{0} \\beta_{0}^{2} - 4 \\alpha_{0} \\beta_{0} + 3 \\alpha_{0} - \\beta_{0}^{2} + 3 \\beta_{0} - 2} - \\frac{5 \\alpha_{0}^{2} p_{0}^{2}}{\\alpha_{0}^{2} \\beta_{0} - \\alpha_{0}^{2} + \\alpha_{0} \\beta_{0}^{2} - 4 \\alpha_{0} \\beta_{0} + 3 \\alpha_{0} - \\beta_{0}^{2} + 3 \\beta_{0} - 2} + \\frac{8 \\alpha_{0}^{2} p_{0}}{\\alpha_{0}^{2} \\beta_{0} - \\alpha_{0}^{2} + \\alpha_{0} \\beta_{0}^{2} - 4 \\alpha_{0} \\beta_{0} + 3 \\alpha_{0} - \\beta_{0}^{2} + 3 \\beta_{0} - 2} - \\frac{3 \\alpha_{0}^{2}}{\\alpha_{0}^{2} \\beta_{0} - \\alpha_{0}^{2} + \\alpha_{0} \\beta_{0}^{2} - 4 \\alpha_{0} \\beta_{0} + 3 \\alpha_{0} - \\beta_{0}^{2} + 3 \\beta_{0} - 2} + \\frac{3 \\alpha_{0} \\beta_{0}^{2} p_{0}^{2}}{\\alpha_{0}^{2} \\beta_{0} - \\alpha_{0}^{2} + \\alpha_{0} \\beta_{0}^{2} - 4 \\alpha_{0} \\beta_{0} + 3 \\alpha_{0} - \\beta_{0}^{2} + 3 \\beta_{0} - 2} - \\frac{2 \\alpha_{0} \\beta_{0}^{2} p_{0}}{\\alpha_{0}^{2} \\beta_{0} - \\alpha_{0}^{2} + \\alpha_{0} \\beta_{0}^{2} - 4 \\alpha_{0} \\beta_{0} + 3 \\alpha_{0} - \\beta_{0}^{2} + 3 \\beta_{0} - 2} - \\frac{10 \\alpha_{0} \\beta_{0} p_{0}^{2}}{\\alpha_{0}^{2} \\beta_{0} - \\alpha_{0}^{2} + \\alpha_{0} \\beta_{0}^{2} - 4 \\alpha_{0} \\beta_{0} + 3 \\alpha_{0} - \\beta_{0}^{2} + 3 \\beta_{0} - 2} + \\frac{10 \\alpha_{0} \\beta_{0} p_{0}}{\\alpha_{0}^{2} \\beta_{0} - \\alpha_{0}^{2} + \\alpha_{0} \\beta_{0}^{2} - 4 \\alpha_{0} \\beta_{0} + 3 \\alpha_{0} - \\beta_{0}^{2} + 3 \\beta_{0} - 2} - \\frac{\\alpha_{0} \\beta_{0}}{\\alpha_{0}^{2} \\beta_{0} - \\alpha_{0}^{2} + \\alpha_{0} \\beta_{0}^{2} - 4 \\alpha_{0} \\beta_{0} + 3 \\alpha_{0} - \\beta_{0}^{2} + 3 \\beta_{0} - 2} + \\frac{8 \\alpha_{0} p_{0}^{2}}{\\alpha_{0}^{2} \\beta_{0} - \\alpha_{0}^{2} + \\alpha_{0} \\beta_{0}^{2} - 4 \\alpha_{0} \\beta_{0} + 3 \\alpha_{0} - \\beta_{0}^{2} + 3 \\beta_{0} - 2} - \\frac{10 \\alpha_{0} p_{0}}{\\alpha_{0}^{2} \\beta_{0} - \\alpha_{0}^{2} + \\alpha_{0} \\beta_{0}^{2} - 4 \\alpha_{0} \\beta_{0} + 3 \\alpha_{0} - \\beta_{0}^{2} + 3 \\beta_{0} - 2} + \\frac{2 \\alpha_{0}}{\\alpha_{0}^{2} \\beta_{0} - \\alpha_{0}^{2} + \\alpha_{0} \\beta_{0}^{2} - 4 \\alpha_{0} \\beta_{0} + 3 \\alpha_{0} - \\beta_{0}^{2} + 3 \\beta_{0} - 2} + \\frac{\\beta_{0}^{3} p_{0}^{2}}{\\alpha_{0}^{2} \\beta_{0} - \\alpha_{0}^{2} + \\alpha_{0} \\beta_{0}^{2} - 4 \\alpha_{0} \\beta_{0} + 3 \\alpha_{0} - \\beta_{0}^{2} + 3 \\beta_{0} - 2} - \\frac{5 \\beta_{0}^{2} p_{0}^{2}}{\\alpha_{0}^{2} \\beta_{0} - \\alpha_{0}^{2} + \\alpha_{0} \\beta_{0}^{2} - 4 \\alpha_{0} \\beta_{0} + 3 \\alpha_{0} - \\beta_{0}^{2} + 3 \\beta_{0} - 2} + \\frac{2 \\beta_{0}^{2} p_{0}}{\\alpha_{0}^{2} \\beta_{0} - \\alpha_{0}^{2} + \\alpha_{0} \\beta_{0}^{2} - 4 \\alpha_{0} \\beta_{0} + 3 \\alpha_{0} - \\beta_{0}^{2} + 3 \\beta_{0} - 2} + \\frac{8 \\beta_{0} p_{0}^{2}}{\\alpha_{0}^{2} \\beta_{0} - \\alpha_{0}^{2} + \\alpha_{0} \\beta_{0}^{2} - 4 \\alpha_{0} \\beta_{0} + 3 \\alpha_{0} - \\beta_{0}^{2} + 3 \\beta_{0} - 2} - \\frac{6 \\beta_{0} p_{0}}{\\alpha_{0}^{2} \\beta_{0} - \\alpha_{0}^{2} + \\alpha_{0} \\beta_{0}^{2} - 4 \\alpha_{0} \\beta_{0} + 3 \\alpha_{0} - \\beta_{0}^{2} + 3 \\beta_{0} - 2} - \\frac{4 p_{0}^{2}}{\\alpha_{0}^{2} \\beta_{0} - \\alpha_{0}^{2} + \\alpha_{0} \\beta_{0}^{2} - 4 \\alpha_{0} \\beta_{0} + 3 \\alpha_{0} - \\beta_{0}^{2} + 3 \\beta_{0} - 2} + \\frac{4 p_{0}}{\\alpha_{0}^{2} \\beta_{0} - \\alpha_{0}^{2} + \\alpha_{0} \\beta_{0}^{2} - 4 \\alpha_{0} \\beta_{0} + 3 \\alpha_{0} - \\beta_{0}^{2} + 3 \\beta_{0} - 2}$"
      ],
      "text/plain": [
       "\\alpha_0**3*p_0**2/(\\alpha_0**2*\\beta_0 - \\alpha_0**2 + \\alpha_0*\\beta_0**2 - 4*\\alpha_0*\\beta_0 + 3*\\alpha_0 - \\beta_0**2 + 3*\\beta_0 - 2) - 2*\\alpha_0**3*p_0/(\\alpha_0**2*\\beta_0 - \\alpha_0**2 + \\alpha_0*\\beta_0**2 - 4*\\alpha_0*\\beta_0 + 3*\\alpha_0 - \\beta_0**2 + 3*\\beta_0 - 2) + \\alpha_0**3/(\\alpha_0**2*\\beta_0 - \\alpha_0**2 + \\alpha_0*\\beta_0**2 - 4*\\alpha_0*\\beta_0 + 3*\\alpha_0 - \\beta_0**2 + 3*\\beta_0 - 2) + 3*\\alpha_0**2*\\beta_0*p_0**2/(\\alpha_0**2*\\beta_0 - \\alpha_0**2 + \\alpha_0*\\beta_0**2 - 4*\\alpha_0*\\beta_0 + 3*\\alpha_0 - \\beta_0**2 + 3*\\beta_0 - 2) - 4*\\alpha_0**2*\\beta_0*p_0/(\\alpha_0**2*\\beta_0 - \\alpha_0**2 + \\alpha_0*\\beta_0**2 - 4*\\alpha_0*\\beta_0 + 3*\\alpha_0 - \\beta_0**2 + 3*\\beta_0 - 2) + \\alpha_0**2*\\beta_0/(\\alpha_0**2*\\beta_0 - \\alpha_0**2 + \\alpha_0*\\beta_0**2 - 4*\\alpha_0*\\beta_0 + 3*\\alpha_0 - \\beta_0**2 + 3*\\beta_0 - 2) - 5*\\alpha_0**2*p_0**2/(\\alpha_0**2*\\beta_0 - \\alpha_0**2 + \\alpha_0*\\beta_0**2 - 4*\\alpha_0*\\beta_0 + 3*\\alpha_0 - \\beta_0**2 + 3*\\beta_0 - 2) + 8*\\alpha_0**2*p_0/(\\alpha_0**2*\\beta_0 - \\alpha_0**2 + \\alpha_0*\\beta_0**2 - 4*\\alpha_0*\\beta_0 + 3*\\alpha_0 - \\beta_0**2 + 3*\\beta_0 - 2) - 3*\\alpha_0**2/(\\alpha_0**2*\\beta_0 - \\alpha_0**2 + \\alpha_0*\\beta_0**2 - 4*\\alpha_0*\\beta_0 + 3*\\alpha_0 - \\beta_0**2 + 3*\\beta_0 - 2) + 3*\\alpha_0*\\beta_0**2*p_0**2/(\\alpha_0**2*\\beta_0 - \\alpha_0**2 + \\alpha_0*\\beta_0**2 - 4*\\alpha_0*\\beta_0 + 3*\\alpha_0 - \\beta_0**2 + 3*\\beta_0 - 2) - 2*\\alpha_0*\\beta_0**2*p_0/(\\alpha_0**2*\\beta_0 - \\alpha_0**2 + \\alpha_0*\\beta_0**2 - 4*\\alpha_0*\\beta_0 + 3*\\alpha_0 - \\beta_0**2 + 3*\\beta_0 - 2) - 10*\\alpha_0*\\beta_0*p_0**2/(\\alpha_0**2*\\beta_0 - \\alpha_0**2 + \\alpha_0*\\beta_0**2 - 4*\\alpha_0*\\beta_0 + 3*\\alpha_0 - \\beta_0**2 + 3*\\beta_0 - 2) + 10*\\alpha_0*\\beta_0*p_0/(\\alpha_0**2*\\beta_0 - \\alpha_0**2 + \\alpha_0*\\beta_0**2 - 4*\\alpha_0*\\beta_0 + 3*\\alpha_0 - \\beta_0**2 + 3*\\beta_0 - 2) - \\alpha_0*\\beta_0/(\\alpha_0**2*\\beta_0 - \\alpha_0**2 + \\alpha_0*\\beta_0**2 - 4*\\alpha_0*\\beta_0 + 3*\\alpha_0 - \\beta_0**2 + 3*\\beta_0 - 2) + 8*\\alpha_0*p_0**2/(\\alpha_0**2*\\beta_0 - \\alpha_0**2 + \\alpha_0*\\beta_0**2 - 4*\\alpha_0*\\beta_0 + 3*\\alpha_0 - \\beta_0**2 + 3*\\beta_0 - 2) - 10*\\alpha_0*p_0/(\\alpha_0**2*\\beta_0 - \\alpha_0**2 + \\alpha_0*\\beta_0**2 - 4*\\alpha_0*\\beta_0 + 3*\\alpha_0 - \\beta_0**2 + 3*\\beta_0 - 2) + 2*\\alpha_0/(\\alpha_0**2*\\beta_0 - \\alpha_0**2 + \\alpha_0*\\beta_0**2 - 4*\\alpha_0*\\beta_0 + 3*\\alpha_0 - \\beta_0**2 + 3*\\beta_0 - 2) + \\beta_0**3*p_0**2/(\\alpha_0**2*\\beta_0 - \\alpha_0**2 + \\alpha_0*\\beta_0**2 - 4*\\alpha_0*\\beta_0 + 3*\\alpha_0 - \\beta_0**2 + 3*\\beta_0 - 2) - 5*\\beta_0**2*p_0**2/(\\alpha_0**2*\\beta_0 - \\alpha_0**2 + \\alpha_0*\\beta_0**2 - 4*\\alpha_0*\\beta_0 + 3*\\alpha_0 - \\beta_0**2 + 3*\\beta_0 - 2) + 2*\\beta_0**2*p_0/(\\alpha_0**2*\\beta_0 - \\alpha_0**2 + \\alpha_0*\\beta_0**2 - 4*\\alpha_0*\\beta_0 + 3*\\alpha_0 - \\beta_0**2 + 3*\\beta_0 - 2) + 8*\\beta_0*p_0**2/(\\alpha_0**2*\\beta_0 - \\alpha_0**2 + \\alpha_0*\\beta_0**2 - 4*\\alpha_0*\\beta_0 + 3*\\alpha_0 - \\beta_0**2 + 3*\\beta_0 - 2) - 6*\\beta_0*p_0/(\\alpha_0**2*\\beta_0 - \\alpha_0**2 + \\alpha_0*\\beta_0**2 - 4*\\alpha_0*\\beta_0 + 3*\\alpha_0 - \\beta_0**2 + 3*\\beta_0 - 2) - 4*p_0**2/(\\alpha_0**2*\\beta_0 - \\alpha_0**2 + \\alpha_0*\\beta_0**2 - 4*\\alpha_0*\\beta_0 + 3*\\alpha_0 - \\beta_0**2 + 3*\\beta_0 - 2) + 4*p_0/(\\alpha_0**2*\\beta_0 - \\alpha_0**2 + \\alpha_0*\\beta_0**2 - 4*\\alpha_0*\\beta_0 + 3*\\alpha_0 - \\beta_0**2 + 3*\\beta_0 - 2)"
      ]
     },
     "execution_count": 622,
     "metadata": {},
     "output_type": "execute_result"
    }
   ],
   "source": [
    "simplify(((alpha_0-1)*(beta_0-1)/((alpha_0+beta_0-2)**2*(alpha_0+beta_0-1))+((alpha_0-1)/(alpha_0+beta_0-2))**2-2*p_0*(alpha_0-1)/(alpha_0+beta_0-2)+p_0**2)*(alpha_0+beta_0-1)*(alpha_0+beta_0-2)/((alpha_0-1)*(beta_0-1)))"
   ]
  },
  {
   "cell_type": "code",
   "execution_count": 618,
   "metadata": {},
   "outputs": [
    {
     "data": {
      "text/latex": [
       "$\\displaystyle \\frac{\\operatorname{B}\\left(\\alpha_{0} - 1, \\beta_{0} - 1\\right)}{\\operatorname{B}\\left(\\alpha_{0}, \\beta_{0}\\right)}$"
      ],
      "text/plain": [
       "beta(\\alpha_0 - 1, \\beta_0 - 1)/beta(\\alpha_0, \\beta_0)"
      ]
     },
     "execution_count": 618,
     "metadata": {},
     "output_type": "execute_result"
    }
   ],
   "source": [
    "simplify(sympy.functions.special.beta_functions.beta(alpha_0-1,beta_0-1)/sympy.functions.special.beta_functions.beta(alpha_0, beta_0))"
   ]
  },
  {
   "cell_type": "code",
   "execution_count": 623,
   "metadata": {},
   "outputs": [
    {
     "data": {
      "text/latex": [
       "$\\displaystyle n_{0}$"
      ],
      "text/plain": [
       "n_0"
      ]
     },
     "execution_count": 623,
     "metadata": {},
     "output_type": "execute_result"
    }
   ],
   "source": [
    "n_0"
   ]
  },
  {
   "cell_type": "code",
   "execution_count": 630,
   "metadata": {},
   "outputs": [],
   "source": [
    "a_0, b_0 = symbols('a_0 b_0')"
   ]
  },
  {
   "cell_type": "code",
   "execution_count": 639,
   "metadata": {},
   "outputs": [],
   "source": [
    "loss_derivative = -a_0/(a_0+b_0)*sympy.log(p_0)-b_0/(a_0+b_0)*sympy.log(1-p_0) + a_0/(a_0+b_0)*sympy.digamma(a_0+1) + b_0/(a_0+b_0)*sympy.digamma(b_0+1) - sympy.digamma(a_0+b_0+1) -1/(2*n_0)"
   ]
  },
  {
   "cell_type": "code",
   "execution_count": 643,
   "metadata": {},
   "outputs": [
    {
     "data": {
      "text/latex": [
       "$\\displaystyle - \\frac{\\log{\\left(8235430000000000 \\right)}}{17} - \\frac{1662371}{2450448} + \\log{\\left(17 \\right)}$"
      ],
      "text/plain": [
       "-log(8235430000000000)/17 - 1662371/2450448 + log(17)"
      ]
     },
     "execution_count": 643,
     "metadata": {},
     "output_type": "execute_result"
    }
   ],
   "source": [
    "simplify(loss_derivative.subs(n_0, a_0+b_0).subs(p_0, a_0/(a_0+b_0)).subs(a_0,10).subs(b_0,7))"
   ]
  },
  {
   "cell_type": "code",
   "execution_count": 644,
   "metadata": {},
   "outputs": [],
   "source": [
    "import numpy as np"
   ]
  },
  {
   "cell_type": "code",
   "execution_count": 647,
   "metadata": {},
   "outputs": [
    {
     "data": {
      "text/plain": [
       "-0.0009003217401364338"
      ]
     },
     "execution_count": 647,
     "metadata": {},
     "output_type": "execute_result"
    }
   ],
   "source": [
    "-np.log(8235430000000000)/17 - 1662371/2450448 + np.log(17)"
   ]
  },
  {
   "cell_type": "code",
   "execution_count": 651,
   "metadata": {},
   "outputs": [],
   "source": [
    "p_hat, n_hat = symbols(r'\\hat{p} \\hat{n}')\n",
    "k=symbols('k')"
   ]
  },
  {
   "cell_type": "code",
   "execution_count": 656,
   "metadata": {},
   "outputs": [
    {
     "data": {
      "text/latex": [
       "$\\displaystyle \\frac{- \\hat{p}^{2} \\left(k + n_{0} p_{0}\\right) \\left(\\hat{n} \\left(\\hat{p} - 1\\right) + k - n\\right)^{2} + \\left(\\hat{p} - 1\\right)^{2} \\left(\\hat{n} \\hat{p} + k\\right)^{2} \\left(k - n + n_{0} \\left(p_{0} - 1\\right)\\right)}{\\left(\\hat{n} \\hat{p} + k\\right)^{2} \\left(\\hat{n} \\left(\\hat{p} - 1\\right) + k - n\\right)^{2}}$"
      ],
      "text/plain": [
       "(-\\hat{p}**2*(k + n_0*p_0)*(\\hat{n}*(\\hat{p} - 1) + k - n)**2 + (\\hat{p} - 1)**2*(\\hat{n}*\\hat{p} + k)**2*(k - n + n_0*(p_0 - 1)))/((\\hat{n}*\\hat{p} + k)**2*(\\hat{n}*(\\hat{p} - 1) + k - n)**2)"
      ]
     },
     "execution_count": 656,
     "metadata": {},
     "output_type": "execute_result"
    }
   ],
   "source": [
    "simplify(-(k+n_0*p_0)*p_hat**2/(n_hat*p_hat+k)**2 - (n-k+n_0*(1-p_0))*(1-p_hat)**2/(n_hat*(1-p_hat)+n-k)**2)"
   ]
  },
  {
   "cell_type": "code",
   "execution_count": 661,
   "metadata": {},
   "outputs": [
    {
     "data": {
      "text/latex": [
       "$\\displaystyle \\frac{n p_{0} \\cdot \\left(1 - p_{0}\\right) \\left(n + n_{0}\\right) \\left(\\frac{\\hat{n} \\hat{p}}{\\left(\\hat{n} \\hat{p} + n_{0} p_{0}\\right)^{2}} + \\frac{2 \\hat{n} \\left(1 - \\hat{p}\\right) + n - n_{0}}{2 \\hat{n} \\left(1 - \\hat{p}\\right) + 2 n - 2 n_{0} p_{0}}\\right)}{n_{0} + 1} + 2 n_{0} p_{0} \\log{\\left(\\hat{n} \\hat{p} + n_{0} p_{0} \\right)} + \\left(n - 2 n_{0} p_{0} + n_{0}\\right) \\log{\\left(\\hat{n} \\left(1 - \\hat{p}\\right) + n - n_{0} p_{0} \\right)}$"
      ],
      "text/plain": [
       "n*p_0*(1 - p_0)*(n + n_0)*(\\hat{n}*\\hat{p}/(\\hat{n}*\\hat{p} + n_0*p_0)**2 + (2*\\hat{n}*(1 - \\hat{p}) + n - n_0)/(2*\\hat{n}*(1 - \\hat{p}) + 2*n - 2*n_0*p_0))/(n_0 + 1) + 2*n_0*p_0*log(\\hat{n}*\\hat{p} + n_0*p_0) + (n - 2*n_0*p_0 + n_0)*log(\\hat{n}*(1 - \\hat{p}) + n - n_0*p_0)"
      ]
     },
     "execution_count": 661,
     "metadata": {},
     "output_type": "execute_result"
    }
   ],
   "source": [
    "2*n_0*p_0*sympy.log(n_0*p_0+n_hat*p_hat) + (-2*n_0*p_0+n+n_0)*sympy.log(n+n_hat*(1-p_hat)-n_0*p_0) + (n_hat*p_hat/(n_0*p_0+n_hat*p_hat)**2+(n-n_0+2*n_hat*(1-p_hat))/(2*(n-n_0*p_0+n_hat*(1-p_hat))))*(n*n_0**2*p_0*(1-p_0))*(n_0+n)/(n_0**2*(n_0+1))"
   ]
  },
  {
   "cell_type": "code",
   "execution_count": 662,
   "metadata": {},
   "outputs": [
    {
     "data": {
      "text/latex": [
       "$\\displaystyle \\frac{- \\frac{n p_{0} \\left(n + n_{0}\\right) \\left(p_{0} - 1\\right) \\left(2 \\hat{n} \\hat{p} \\left(\\hat{n} \\left(\\hat{p} - 1\\right) - n + n_{0} p_{0}\\right) + \\left(\\hat{n} \\hat{p} + n_{0} p_{0}\\right)^{2} \\cdot \\left(2 \\hat{n} \\left(\\hat{p} - 1\\right) - n + n_{0}\\right)\\right)}{2} + \\left(n_{0} + 1\\right) \\left(\\hat{n} \\hat{p} + n_{0} p_{0}\\right)^{2} \\cdot \\left(2 n_{0} p_{0} \\log{\\left(\\hat{n} \\hat{p} + n_{0} p_{0} \\right)} + \\left(n - 2 n_{0} p_{0} + n_{0}\\right) \\log{\\left(- \\hat{n} \\left(\\hat{p} - 1\\right) + n - n_{0} p_{0} \\right)}\\right) \\left(\\hat{n} \\left(\\hat{p} - 1\\right) - n + n_{0} p_{0}\\right)}{\\left(n_{0} + 1\\right) \\left(\\hat{n} \\hat{p} + n_{0} p_{0}\\right)^{2} \\left(\\hat{n} \\left(\\hat{p} - 1\\right) - n + n_{0} p_{0}\\right)}$"
      ],
      "text/plain": [
       "(-n*p_0*(n + n_0)*(p_0 - 1)*(2*\\hat{n}*\\hat{p}*(\\hat{n}*(\\hat{p} - 1) - n + n_0*p_0) + (\\hat{n}*\\hat{p} + n_0*p_0)**2*(2*\\hat{n}*(\\hat{p} - 1) - n + n_0))/2 + (n_0 + 1)*(\\hat{n}*\\hat{p} + n_0*p_0)**2*(2*n_0*p_0*log(\\hat{n}*\\hat{p} + n_0*p_0) + (n - 2*n_0*p_0 + n_0)*log(-\\hat{n}*(\\hat{p} - 1) + n - n_0*p_0))*(\\hat{n}*(\\hat{p} - 1) - n + n_0*p_0))/((n_0 + 1)*(\\hat{n}*\\hat{p} + n_0*p_0)**2*(\\hat{n}*(\\hat{p} - 1) - n + n_0*p_0))"
      ]
     },
     "execution_count": 662,
     "metadata": {},
     "output_type": "execute_result"
    }
   ],
   "source": [
    "simplify(2*n_0*p_0*sympy.log(n_0*p_0+n_hat*p_hat) + (-2*n_0*p_0+n+n_0)*sympy.log(n+n_hat*(1-p_hat)-n_0*p_0) + (n_hat*p_hat/(n_0*p_0+n_hat*p_hat)**2+(n-n_0+2*n_hat*(1-p_hat))/(2*(n-n_0*p_0+n_hat*(1-p_hat))))*(n*n_0**2*p_0*(1-p_0))*(n_0+n)/(n_0**2*(n_0+1)))"
   ]
  },
  {
   "cell_type": "code",
   "execution_count": 667,
   "metadata": {},
   "outputs": [
    {
     "data": {
      "text/latex": [
       "$\\displaystyle - \\frac{2 \\hat{p}^{2} n_{0} p_{0}}{\\left(\\hat{p} n_{0} + n_{0} p_{0}\\right)^{2}} + \\frac{n p_{0} \\cdot \\left(1 - p_{0}\\right) \\left(n + n_{0}\\right) \\left(\\frac{6 \\hat{p}^{3} n_{0}}{\\left(\\hat{p} n_{0} + n_{0} p_{0}\\right)^{4}} - \\frac{4 \\hat{p}^{2}}{\\left(\\hat{p} n_{0} + n_{0} p_{0}\\right)^{3}} + \\frac{2 \\cdot \\left(2 - 2 \\hat{p}\\right) \\left(2 \\hat{p} - 2\\right)}{\\left(2 n - 2 n_{0} p_{0} + 2 n_{0} \\cdot \\left(1 - \\hat{p}\\right)\\right)^{2}} + \\frac{\\left(2 \\hat{p} - 2\\right) \\left(4 \\hat{p} - 4\\right) \\left(n + 2 n_{0} \\cdot \\left(1 - \\hat{p}\\right) - n_{0}\\right)}{\\left(2 n - 2 n_{0} p_{0} + 2 n_{0} \\cdot \\left(1 - \\hat{p}\\right)\\right)^{3}}\\right)}{n_{0} + 1} + \\frac{\\left(1 - \\hat{p}\\right) \\left(\\hat{p} - 1\\right) \\left(n - 2 n_{0} p_{0} + n_{0}\\right)}{\\left(n - n_{0} p_{0} + n_{0} \\cdot \\left(1 - \\hat{p}\\right)\\right)^{2}}$"
      ],
      "text/plain": [
       "-2*\\hat{p}**2*n_0*p_0/(\\hat{p}*n_0 + n_0*p_0)**2 + n*p_0*(1 - p_0)*(n + n_0)*(6*\\hat{p}**3*n_0/(\\hat{p}*n_0 + n_0*p_0)**4 - 4*\\hat{p}**2/(\\hat{p}*n_0 + n_0*p_0)**3 + 2*(2 - 2*\\hat{p})*(2*\\hat{p} - 2)/(2*n - 2*n_0*p_0 + 2*n_0*(1 - \\hat{p}))**2 + (2*\\hat{p} - 2)*(4*\\hat{p} - 4)*(n + 2*n_0*(1 - \\hat{p}) - n_0)/(2*n - 2*n_0*p_0 + 2*n_0*(1 - \\hat{p}))**3)/(n_0 + 1) + (1 - \\hat{p})*(\\hat{p} - 1)*(n - 2*n_0*p_0 + n_0)/(n - n_0*p_0 + n_0*(1 - \\hat{p}))**2"
      ]
     },
     "execution_count": 667,
     "metadata": {},
     "output_type": "execute_result"
    }
   ],
   "source": [
    "diff(diff(2*n_0*p_0*sympy.log(n_0*p_0+n_hat*p_hat) + (-2*n_0*p_0+n+n_0)*sympy.log(n+n_hat*(1-p_hat)-n_0*p_0) + (n_hat*p_hat/(n_0*p_0+n_hat*p_hat)**2+(n-n_0+2*n_hat*(1-p_hat))/(2*(n-n_0*p_0+n_hat*(1-p_hat))))*(n*n_0**2*p_0*(1-p_0))*(n_0+n)/(n_0**2*(n_0+1)),n_hat),n_hat).subs(n_hat,n_0)"
   ]
  },
  {
   "cell_type": "code",
   "execution_count": 669,
   "metadata": {},
   "outputs": [],
   "source": [
    "a_hat, b_hat=sympy.symbols('\\hat{a} \\hat{b}')"
   ]
  },
  {
   "cell_type": "code",
   "execution_count": 680,
   "metadata": {},
   "outputs": [
    {
     "data": {
      "text/latex": [
       "$\\displaystyle \\log{\\left(\\frac{\\Gamma\\left(\\hat{a}\\right) \\Gamma\\left(\\hat{b}\\right) \\Gamma\\left(\\hat{a} + \\hat{b} + n\\right)}{\\Gamma\\left(\\hat{a} + \\hat{b}\\right)} \\right)} - \\frac{\\Gamma\\left(a_{0} + b_{0}\\right) \\Gamma\\left(n + 1\\right) \\sum_{k=0}^{n} \\frac{\\log{\\left(\\Gamma\\left(\\hat{a} + k\\right) \\Gamma\\left(\\hat{b} - k + n\\right) \\right)} \\Gamma\\left(a_{0} + k\\right) \\Gamma\\left(b_{0} - k + n\\right)}{\\Gamma\\left(k + 1\\right) \\Gamma\\left(- k + n + 1\\right)}}{\\Gamma\\left(a_{0}\\right) \\Gamma\\left(b_{0}\\right) \\Gamma\\left(a_{0} + b_{0} + n\\right)}$"
      ],
      "text/plain": [
       "log(gamma(\\hat{a})*gamma(\\hat{b})*gamma(\\hat{a} + \\hat{b} + n)/gamma(\\hat{a} + \\hat{b})) - gamma(a_0 + b_0)*gamma(n + 1)*Sum(log(gamma(\\hat{a} + k)*gamma(\\hat{b} - k + n))*gamma(a_0 + k)*gamma(b_0 - k + n)/(gamma(k + 1)*gamma(-k + n + 1)), (k, 0, n))/(gamma(a_0)*gamma(b_0)*gamma(a_0 + b_0 + n))"
      ]
     },
     "execution_count": 680,
     "metadata": {},
     "output_type": "execute_result"
    }
   ],
   "source": [
    "divergence = sympy.log(sympy.gamma(a_hat+b_hat+n)*sympy.gamma(a_hat)*sympy.gamma(b_hat)/(sympy.gamma(a_hat+b_hat)))-sympy.gamma(n+1)*sympy.gamma(a_0+b_0)/(sympy.gamma(a_0)*sympy.gamma(b_0)*sympy.gamma(a_0+b_0+n))*sympy.Sum(sympy.gamma(a_0+k)*sympy.gamma(b_0+n-k)/(sympy.gamma(k+1)*sympy.gamma(n-k+1))*sympy.log(sympy.gamma(a_hat+k)*sympy.gamma(b_hat+n-k)), (k, 0, n))\n",
    "divergence"
   ]
  },
  {
   "cell_type": "code",
   "execution_count": 685,
   "metadata": {},
   "outputs": [
    {
     "data": {
      "text/latex": [
       "$\\displaystyle \\frac{a_{0} \\operatorname{polygamma}{\\left(1,\\hat{a} \\right)}}{a_{0} + b_{0}} - \\frac{a_{0} \\operatorname{polygamma}{\\left(1,\\hat{a} + \\hat{b} \\right)}}{a_{0} + b_{0}} + \\frac{a_{0} \\operatorname{polygamma}{\\left(1,\\hat{a} + \\hat{b} + n \\right)}}{a_{0} + b_{0}} + \\frac{b_{0} \\operatorname{polygamma}{\\left(1,\\hat{a} \\right)}}{a_{0} + b_{0}} - \\frac{b_{0} \\operatorname{polygamma}{\\left(1,\\hat{a} + \\hat{b} \\right)}}{a_{0} + b_{0}} + \\frac{b_{0} \\operatorname{polygamma}{\\left(1,\\hat{a} + \\hat{b} + n \\right)}}{a_{0} + b_{0}} - \\frac{\\left(\\frac{n}{a_{0} + b_{0}} + 1\\right) \\Gamma\\left(n + 1\\right) \\Gamma\\left(a_{0} + b_{0} + 1\\right) \\sum_{k=0}^{n} \\frac{\\Gamma\\left(a_{0} + k + 1\\right) \\Gamma\\left(b_{0} - k + n + 1\\right) \\operatorname{polygamma}{\\left(1,\\hat{a} + k \\right)}}{\\left(a_{0} b_{0} - a_{0} k + a_{0} n + b_{0} k - k^{2} + k n\\right) \\Gamma\\left(k + 1\\right) \\Gamma\\left(- k + n + 1\\right)}}{\\Gamma\\left(a_{0}\\right) \\Gamma\\left(b_{0}\\right) \\Gamma\\left(a_{0} + b_{0} + n + 1\\right)}$"
      ],
      "text/plain": [
       "a_0*polygamma(1, \\hat{a})/(a_0 + b_0) - a_0*polygamma(1, \\hat{a} + \\hat{b})/(a_0 + b_0) + a_0*polygamma(1, \\hat{a} + \\hat{b} + n)/(a_0 + b_0) + b_0*polygamma(1, \\hat{a})/(a_0 + b_0) - b_0*polygamma(1, \\hat{a} + \\hat{b})/(a_0 + b_0) + b_0*polygamma(1, \\hat{a} + \\hat{b} + n)/(a_0 + b_0) - (n/(a_0 + b_0) + 1)*gamma(n + 1)*gamma(a_0 + b_0 + 1)*Sum(gamma(a_0 + k + 1)*gamma(b_0 - k + n + 1)*polygamma(1, \\hat{a} + k)/((a_0*b_0 - a_0*k + a_0*n + b_0*k - k**2 + k*n)*gamma(k + 1)*gamma(-k + n + 1)), (k, 0, n))/(gamma(a_0)*gamma(b_0)*gamma(a_0 + b_0 + n + 1))"
      ]
     },
     "execution_count": 685,
     "metadata": {},
     "output_type": "execute_result"
    }
   ],
   "source": [
    "simplify(divergence.diff(a_hat).diff(a_hat))"
   ]
  },
  {
   "cell_type": "code",
   "execution_count": 676,
   "metadata": {},
   "outputs": [
    {
     "data": {
      "text/latex": [
       "$\\displaystyle \\sum_{k=0}^{n} k$"
      ],
      "text/plain": [
       "Sum(k, (k, 0, n))"
      ]
     },
     "execution_count": 676,
     "metadata": {},
     "output_type": "execute_result"
    }
   ],
   "source": [
    "sympy.Sum(k, (k, 0, n))"
   ]
  },
  {
   "cell_type": "code",
   "execution_count": 695,
   "metadata": {},
   "outputs": [
    {
     "data": {
      "text/latex": [
       "$\\displaystyle \\frac{a_{0}^{2} \\operatorname{polygamma}{\\left(1,a_{0} \\right)}}{a_{0} + b_{0}} + \\frac{a_{0} b_{0} \\operatorname{polygamma}{\\left(1,a_{0} \\right)}}{a_{0} + b_{0}} - \\frac{a_{0} b_{0} \\operatorname{polygamma}{\\left(1,b_{0} \\right)}}{a_{0} + b_{0}} + \\frac{a_{0} \\operatorname{polygamma}{\\left(0,a_{0} \\right)}}{a_{0} + b_{0}} - \\frac{a_{0} \\operatorname{polygamma}{\\left(0,b_{0} \\right)}}{a_{0} + b_{0}} - \\frac{b_{0}^{2} \\operatorname{polygamma}{\\left(1,b_{0} \\right)}}{a_{0} + b_{0}} + \\frac{b_{0} \\operatorname{polygamma}{\\left(0,a_{0} \\right)}}{a_{0} + b_{0}} - \\frac{b_{0} \\operatorname{polygamma}{\\left(0,b_{0} \\right)}}{a_{0} + b_{0}} + \\frac{\\Gamma\\left(n + 1\\right) \\Gamma\\left(a_{0} + b_{0} + 1\\right) \\sum_{k=0}^{n} \\frac{\\left(- \\frac{a_{0}^{2} \\operatorname{polygamma}{\\left(1,a_{0} + k \\right)}}{a_{0} + b_{0}} - \\frac{a_{0} b_{0} \\operatorname{polygamma}{\\left(1,a_{0} + k \\right)}}{a_{0} + b_{0}} + \\frac{a_{0} b_{0} \\operatorname{polygamma}{\\left(1,b_{0} - k + n \\right)}}{a_{0} + b_{0}} - \\frac{a_{0} n \\operatorname{polygamma}{\\left(1,a_{0} + k \\right)}}{a_{0} + b_{0}} + \\frac{a_{0} \\operatorname{polygamma}{\\left(0,b_{0} - k + n \\right)}}{a_{0} + b_{0}} + \\frac{b_{0}^{2} \\operatorname{polygamma}{\\left(1,b_{0} - k + n \\right)}}{a_{0} + b_{0}} + \\frac{b_{0} n \\operatorname{polygamma}{\\left(1,b_{0} - k + n \\right)}}{a_{0} + b_{0}} + \\frac{b_{0} \\operatorname{polygamma}{\\left(0,b_{0} - k + n \\right)}}{a_{0} + b_{0}} + \\frac{n \\operatorname{polygamma}{\\left(0,b_{0} - k + n \\right)}}{a_{0} + b_{0}} - \\left(\\frac{n}{a_{0} + b_{0}} + 1\\right) \\operatorname{polygamma}{\\left(0,a_{0} + k \\right)}\\right) \\Gamma\\left(a_{0} + k + 1\\right) \\Gamma\\left(b_{0} - k + n + 1\\right)}{\\left(a_{0} b_{0} - a_{0} k + a_{0} n + b_{0} k - k^{2} + k n\\right) \\Gamma\\left(k + 1\\right) \\Gamma\\left(- k + n + 1\\right)}}{\\Gamma\\left(a_{0}\\right) \\Gamma\\left(b_{0}\\right) \\Gamma\\left(a_{0} + b_{0} + n + 1\\right)}$"
      ],
      "text/plain": [
       "a_0**2*polygamma(1, a_0)/(a_0 + b_0) + a_0*b_0*polygamma(1, a_0)/(a_0 + b_0) - a_0*b_0*polygamma(1, b_0)/(a_0 + b_0) + a_0*polygamma(0, a_0)/(a_0 + b_0) - a_0*polygamma(0, b_0)/(a_0 + b_0) - b_0**2*polygamma(1, b_0)/(a_0 + b_0) + b_0*polygamma(0, a_0)/(a_0 + b_0) - b_0*polygamma(0, b_0)/(a_0 + b_0) + gamma(n + 1)*gamma(a_0 + b_0 + 1)*Sum((-a_0**2*polygamma(1, a_0 + k)/(a_0 + b_0) - a_0*b_0*polygamma(1, a_0 + k)/(a_0 + b_0) + a_0*b_0*polygamma(1, b_0 - k + n)/(a_0 + b_0) - a_0*n*polygamma(1, a_0 + k)/(a_0 + b_0) + a_0*polygamma(0, b_0 - k + n)/(a_0 + b_0) + b_0**2*polygamma(1, b_0 - k + n)/(a_0 + b_0) + b_0*n*polygamma(1, b_0 - k + n)/(a_0 + b_0) + b_0*polygamma(0, b_0 - k + n)/(a_0 + b_0) + n*polygamma(0, b_0 - k + n)/(a_0 + b_0) - (n/(a_0 + b_0) + 1)*polygamma(0, a_0 + k))*gamma(a_0 + k + 1)*gamma(b_0 - k + n + 1)/((a_0*b_0 - a_0*k + a_0*n + b_0*k - k**2 + k*n)*gamma(k + 1)*gamma(-k + n + 1)), (k, 0, n))/(gamma(a_0)*gamma(b_0)*gamma(a_0 + b_0 + n + 1))"
      ]
     },
     "execution_count": 695,
     "metadata": {},
     "output_type": "execute_result"
    }
   ],
   "source": [
    "simplify(divergence.subs(a_hat,n_hat*p_hat).subs(b_hat,n_hat*(1-p_hat)).diff(p_hat).diff(n_hat).subs(n_hat,a_0+b_0).subs(p_hat,a_0/(a_0+b_0)))"
   ]
  },
  {
   "cell_type": "code",
   "execution_count": 6,
   "metadata": {},
   "outputs": [],
   "source": [
    "x = symbols('x')\n",
    "y = symbols('y')\n",
    "sigma_1 = symbols(r'\\sigma_1')\n",
    "mu_1 = symbols(r'\\mu_1')"
   ]
  },
  {
   "cell_type": "code",
   "execution_count": 8,
   "metadata": {},
   "outputs": [
    {
     "data": {
      "text/latex": [
       "$\\displaystyle \\mu_{1}$"
      ],
      "text/plain": [
       "\\mu_1"
      ]
     },
     "execution_count": 8,
     "metadata": {},
     "output_type": "execute_result"
    }
   ],
   "source": [
    "mu_1"
   ]
  },
  {
   "cell_type": "code",
   "execution_count": 4,
   "metadata": {},
   "outputs": [],
   "source": [
    "f = Function('f')(x,y)\n",
    "g = Function('g')(x,y)"
   ]
  },
  {
   "cell_type": "code",
   "execution_count": 11,
   "metadata": {},
   "outputs": [],
   "source": [
    "divergence = sympy.log((sympy.sqrt(f))/sigma_1) + (sigma_1**2+(mu_1-g)**2)/(2*f)"
   ]
  },
  {
   "cell_type": "code",
   "execution_count": 14,
   "metadata": {},
   "outputs": [
    {
     "data": {
      "text/latex": [
       "$\\displaystyle - \\frac{\\left(\\mu_{1} - g{\\left(x,y \\right)}\\right) \\frac{\\partial^{2}}{\\partial x^{2}} g{\\left(x,y \\right)}}{f{\\left(x,y \\right)}} + \\frac{2 \\left(\\mu_{1} - g{\\left(x,y \\right)}\\right) \\frac{\\partial}{\\partial x} f{\\left(x,y \\right)} \\frac{\\partial}{\\partial x} g{\\left(x,y \\right)}}{f^{2}{\\left(x,y \\right)}} - \\frac{\\left(\\sigma_{1}^{2} + \\left(\\mu_{1} - g{\\left(x,y \\right)}\\right)^{2}\\right) \\frac{\\partial^{2}}{\\partial x^{2}} f{\\left(x,y \\right)}}{2 f^{2}{\\left(x,y \\right)}} + \\frac{\\left(\\sigma_{1}^{2} + \\left(\\mu_{1} - g{\\left(x,y \\right)}\\right)^{2}\\right) \\left(\\frac{\\partial}{\\partial x} f{\\left(x,y \\right)}\\right)^{2}}{f^{3}{\\left(x,y \\right)}} + \\frac{\\frac{\\partial^{2}}{\\partial x^{2}} f{\\left(x,y \\right)}}{2 f{\\left(x,y \\right)}} + \\frac{\\left(\\frac{\\partial}{\\partial x} g{\\left(x,y \\right)}\\right)^{2}}{f{\\left(x,y \\right)}} - \\frac{\\left(\\frac{\\partial}{\\partial x} f{\\left(x,y \\right)}\\right)^{2}}{2 f^{2}{\\left(x,y \\right)}}$"
      ],
      "text/plain": [
       "-(\\mu_1 - g(x, y))*Derivative(g(x, y), (x, 2))/f(x, y) + 2*(\\mu_1 - g(x, y))*Derivative(f(x, y), x)*Derivative(g(x, y), x)/f(x, y)**2 - (\\sigma_1**2 + (\\mu_1 - g(x, y))**2)*Derivative(f(x, y), (x, 2))/(2*f(x, y)**2) + (\\sigma_1**2 + (\\mu_1 - g(x, y))**2)*Derivative(f(x, y), x)**2/f(x, y)**3 + Derivative(f(x, y), (x, 2))/(2*f(x, y)) + Derivative(g(x, y), x)**2/f(x, y) - Derivative(f(x, y), x)**2/(2*f(x, y)**2)"
      ]
     },
     "execution_count": 14,
     "metadata": {},
     "output_type": "execute_result"
    }
   ],
   "source": [
    "divergence.diff(x).diff(x)"
   ]
  },
  {
   "cell_type": "code",
   "execution_count": 15,
   "metadata": {},
   "outputs": [
    {
     "data": {
      "text/latex": [
       "$\\displaystyle - \\frac{\\left(\\mu_{1} - g{\\left(x,y \\right)}\\right) \\frac{\\partial^{2}}{\\partial y\\partial x} g{\\left(x,y \\right)}}{f{\\left(x,y \\right)}} + \\frac{\\left(\\mu_{1} - g{\\left(x,y \\right)}\\right) \\frac{\\partial}{\\partial x} f{\\left(x,y \\right)} \\frac{\\partial}{\\partial y} g{\\left(x,y \\right)}}{f^{2}{\\left(x,y \\right)}} + \\frac{\\left(\\mu_{1} - g{\\left(x,y \\right)}\\right) \\frac{\\partial}{\\partial y} f{\\left(x,y \\right)} \\frac{\\partial}{\\partial x} g{\\left(x,y \\right)}}{f^{2}{\\left(x,y \\right)}} - \\frac{\\left(\\sigma_{1}^{2} + \\left(\\mu_{1} - g{\\left(x,y \\right)}\\right)^{2}\\right) \\frac{\\partial^{2}}{\\partial y\\partial x} f{\\left(x,y \\right)}}{2 f^{2}{\\left(x,y \\right)}} + \\frac{\\left(\\sigma_{1}^{2} + \\left(\\mu_{1} - g{\\left(x,y \\right)}\\right)^{2}\\right) \\frac{\\partial}{\\partial x} f{\\left(x,y \\right)} \\frac{\\partial}{\\partial y} f{\\left(x,y \\right)}}{f^{3}{\\left(x,y \\right)}} + \\frac{\\frac{\\partial}{\\partial x} g{\\left(x,y \\right)} \\frac{\\partial}{\\partial y} g{\\left(x,y \\right)}}{f{\\left(x,y \\right)}} + \\frac{\\frac{\\partial^{2}}{\\partial y\\partial x} f{\\left(x,y \\right)}}{2 f{\\left(x,y \\right)}} - \\frac{\\frac{\\partial}{\\partial x} f{\\left(x,y \\right)} \\frac{\\partial}{\\partial y} f{\\left(x,y \\right)}}{2 f^{2}{\\left(x,y \\right)}}$"
      ],
      "text/plain": [
       "-(\\mu_1 - g(x, y))*Derivative(g(x, y), x, y)/f(x, y) + (\\mu_1 - g(x, y))*Derivative(f(x, y), x)*Derivative(g(x, y), y)/f(x, y)**2 + (\\mu_1 - g(x, y))*Derivative(f(x, y), y)*Derivative(g(x, y), x)/f(x, y)**2 - (\\sigma_1**2 + (\\mu_1 - g(x, y))**2)*Derivative(f(x, y), x, y)/(2*f(x, y)**2) + (\\sigma_1**2 + (\\mu_1 - g(x, y))**2)*Derivative(f(x, y), x)*Derivative(f(x, y), y)/f(x, y)**3 + Derivative(g(x, y), x)*Derivative(g(x, y), y)/f(x, y) + Derivative(f(x, y), x, y)/(2*f(x, y)) - Derivative(f(x, y), x)*Derivative(f(x, y), y)/(2*f(x, y)**2)"
      ]
     },
     "execution_count": 15,
     "metadata": {},
     "output_type": "execute_result"
    }
   ],
   "source": [
    "divergence.diff(x).diff(y)"
   ]
  },
  {
   "cell_type": "code",
   "execution_count": 16,
   "metadata": {},
   "outputs": [],
   "source": [
    "c_1=symbols('c_1')\n",
    "c_2 = symbols('c_2')"
   ]
  },
  {
   "cell_type": "code",
   "execution_count": 17,
   "metadata": {},
   "outputs": [],
   "source": [
    "f = c_1*(x**2+y**2)/(4*c_2) + c_1*sympy.sqrt(x**2+y**2)+c_2"
   ]
  },
  {
   "cell_type": "code",
   "execution_count": 20,
   "metadata": {},
   "outputs": [
    {
     "data": {
      "text/latex": [
       "$\\displaystyle \\frac{c_{1} x}{\\sqrt{x^{2} + y^{2}}} + \\frac{c_{1} x}{2 c_{2}}$"
      ],
      "text/plain": [
       "c_1*x/sqrt(x**2 + y**2) + c_1*x/(2*c_2)"
      ]
     },
     "execution_count": 20,
     "metadata": {},
     "output_type": "execute_result"
    }
   ],
   "source": [
    "f.diff(x)"
   ]
  },
  {
   "cell_type": "code",
   "execution_count": 21,
   "metadata": {},
   "outputs": [
    {
     "data": {
      "text/latex": [
       "$\\displaystyle \\frac{c_{1} y}{\\sqrt{x^{2} + y^{2}}} + \\frac{c_{1} y}{2 c_{2}}$"
      ],
      "text/plain": [
       "c_1*y/sqrt(x**2 + y**2) + c_1*y/(2*c_2)"
      ]
     },
     "execution_count": 21,
     "metadata": {},
     "output_type": "execute_result"
    }
   ],
   "source": [
    "f.diff(y)"
   ]
  },
  {
   "cell_type": "code",
   "execution_count": 22,
   "metadata": {},
   "outputs": [
    {
     "data": {
      "text/latex": [
       "$\\displaystyle - \\frac{c_{1} x^{2}}{\\left(x^{2} + y^{2}\\right)^{\\frac{3}{2}}} + \\frac{c_{1}}{\\sqrt{x^{2} + y^{2}}} + \\frac{c_{1}}{2 c_{2}}$"
      ],
      "text/plain": [
       "-c_1*x**2/(x**2 + y**2)**(3/2) + c_1/sqrt(x**2 + y**2) + c_1/(2*c_2)"
      ]
     },
     "execution_count": 22,
     "metadata": {},
     "output_type": "execute_result"
    }
   ],
   "source": [
    "f.diff(x).diff(x)"
   ]
  },
  {
   "cell_type": "code",
   "execution_count": 23,
   "metadata": {},
   "outputs": [
    {
     "data": {
      "text/latex": [
       "$\\displaystyle - \\frac{c_{1} y^{2}}{\\left(x^{2} + y^{2}\\right)^{\\frac{3}{2}}} + \\frac{c_{1}}{\\sqrt{x^{2} + y^{2}}} + \\frac{c_{1}}{2 c_{2}}$"
      ],
      "text/plain": [
       "-c_1*y**2/(x**2 + y**2)**(3/2) + c_1/sqrt(x**2 + y**2) + c_1/(2*c_2)"
      ]
     },
     "execution_count": 23,
     "metadata": {},
     "output_type": "execute_result"
    }
   ],
   "source": [
    "f.diff(y).diff(y)"
   ]
  },
  {
   "cell_type": "code",
   "execution_count": 29,
   "metadata": {},
   "outputs": [
    {
     "data": {
      "text/latex": [
       "$\\displaystyle 2 c_{1}^{2} + \\frac{5 c_{1}^{2} x^{2}}{2 c_{2} \\sqrt{x^{2} + y^{2}}} + \\frac{5 c_{1}^{2} y^{2}}{2 c_{2} \\sqrt{x^{2} + y^{2}}} + \\frac{c_{1}^{2} x^{2}}{2 c_{2}^{2}} + \\frac{c_{1}^{2} y^{2}}{2 c_{2}^{2}} + \\frac{2 c_{1} c_{2}}{\\sqrt{x^{2} + y^{2}}} + 2 c_{1}$"
      ],
      "text/plain": [
       "2*c_1**2 + 5*c_1**2*x**2/(2*c_2*sqrt(x**2 + y**2)) + 5*c_1**2*y**2/(2*c_2*sqrt(x**2 + y**2)) + c_1**2*x**2/(2*c_2**2) + c_1**2*y**2/(2*c_2**2) + 2*c_1*c_2/sqrt(x**2 + y**2) + 2*c_1"
      ]
     },
     "execution_count": 29,
     "metadata": {},
     "output_type": "execute_result"
    }
   ],
   "source": [
    "sympy.simplify(sympy.expand(2*f*(f.diff(x).diff(x)+f.diff(y).diff(y))))"
   ]
  },
  {
   "cell_type": "code",
   "execution_count": 27,
   "metadata": {},
   "outputs": [
    {
     "data": {
      "text/latex": [
       "$\\displaystyle \\frac{c_{1}^{2} x^{2}}{x^{2} + y^{2}} + \\frac{c_{1}^{2} y^{2}}{x^{2} + y^{2}} + \\frac{c_{1}^{2} x^{2}}{c_{2} \\sqrt{x^{2} + y^{2}}} + \\frac{c_{1}^{2} y^{2}}{c_{2} \\sqrt{x^{2} + y^{2}}} + \\frac{c_{1}^{2} x^{2}}{4 c_{2}^{2}} + \\frac{c_{1}^{2} y^{2}}{4 c_{2}^{2}}$"
      ],
      "text/plain": [
       "c_1**2*x**2/(x**2 + y**2) + c_1**2*y**2/(x**2 + y**2) + c_1**2*x**2/(c_2*sqrt(x**2 + y**2)) + c_1**2*y**2/(c_2*sqrt(x**2 + y**2)) + c_1**2*x**2/(4*c_2**2) + c_1**2*y**2/(4*c_2**2)"
      ]
     },
     "execution_count": 27,
     "metadata": {},
     "output_type": "execute_result"
    }
   ],
   "source": [
    "sympy.expand(f.diff(x)**2 + f.diff(y)**2)"
   ]
  },
  {
   "cell_type": "code",
   "execution_count": 44,
   "metadata": {},
   "outputs": [],
   "source": [
    "gamma = Function(r'\\Gamma')"
   ]
  },
  {
   "cell_type": "code",
   "execution_count": 47,
   "metadata": {},
   "outputs": [],
   "source": [
    "alpha_g = symbols(r'\\alpha_g')\n",
    "beta_g = symbols(r'\\beta_g')\n",
    "alpha_f = symbols(r'\\alpha_f')\n",
    "beta_f = symbols(r'\\beta_f')"
   ]
  },
  {
   "cell_type": "code",
   "execution_count": 72,
   "metadata": {},
   "outputs": [],
   "source": [
    "beta_div = sympy.log(sympy.functions.special.gamma_functions.gamma(alpha_g)*sympy.functions.special.gamma_functions.gamma(beta_g)/(sympy.functions.special.gamma_functions.gamma(alpha_g+beta_g))) + (alpha_f-alpha_g)*(sympy.polygamma(0,alpha_f)-sympy.polygamma(0,alpha_f+beta_f)) + (beta_f-beta_g)*(sympy.polygamma(0,beta_f)-sympy.polygamma(0,alpha_f+beta_f))"
   ]
  },
  {
   "cell_type": "code",
   "execution_count": 73,
   "metadata": {},
   "outputs": [
    {
     "data": {
      "text/latex": [
       "$\\displaystyle \\left(\\alpha_{f} - \\alpha_{g}\\right) \\left(\\operatorname{polygamma}{\\left(0,\\alpha_{f} \\right)} - \\operatorname{polygamma}{\\left(0,\\alpha_{f} + \\beta_{f} \\right)}\\right) + \\left(\\beta_{f} - \\beta_{g}\\right) \\left(\\operatorname{polygamma}{\\left(0,\\beta_{f} \\right)} - \\operatorname{polygamma}{\\left(0,\\alpha_{f} + \\beta_{f} \\right)}\\right) + \\log{\\left(\\frac{\\Gamma\\left(\\alpha_{g}\\right) \\Gamma\\left(\\beta_{g}\\right)}{\\Gamma\\left(\\alpha_{g} + \\beta_{g}\\right)} \\right)}$"
      ],
      "text/plain": [
       "(\\alpha_f - \\alpha_g)*(polygamma(0, \\alpha_f) - polygamma(0, \\alpha_f + \\beta_f)) + (\\beta_f - \\beta_g)*(polygamma(0, \\beta_f) - polygamma(0, \\alpha_f + \\beta_f)) + log(gamma(\\alpha_g)*gamma(\\beta_g)/gamma(\\alpha_g + \\beta_g))"
      ]
     },
     "execution_count": 73,
     "metadata": {},
     "output_type": "execute_result"
    }
   ],
   "source": [
    "beta_div"
   ]
  },
  {
   "cell_type": "code",
   "execution_count": 74,
   "metadata": {},
   "outputs": [
    {
     "data": {
      "text/latex": [
       "$\\displaystyle \\operatorname{polygamma}{\\left(1,\\alpha_{g} \\right)} - \\operatorname{polygamma}{\\left(1,\\alpha_{g} + \\beta_{g} \\right)}$"
      ],
      "text/plain": [
       "polygamma(1, \\alpha_g) - polygamma(1, \\alpha_g + \\beta_g)"
      ]
     },
     "execution_count": 74,
     "metadata": {},
     "output_type": "execute_result"
    }
   ],
   "source": [
    "sympy.expand(beta_div.diff(alpha_g).diff(alpha_g))"
   ]
  },
  {
   "cell_type": "code",
   "execution_count": 75,
   "metadata": {},
   "outputs": [
    {
     "data": {
      "text/latex": [
       "$\\displaystyle \\operatorname{polygamma}{\\left(1,\\beta_{g} \\right)} - \\operatorname{polygamma}{\\left(1,\\alpha_{g} + \\beta_{g} \\right)}$"
      ],
      "text/plain": [
       "polygamma(1, \\beta_g) - polygamma(1, \\alpha_g + \\beta_g)"
      ]
     },
     "execution_count": 75,
     "metadata": {},
     "output_type": "execute_result"
    }
   ],
   "source": [
    "sympy.expand(beta_div.diff(beta_g).diff(beta_g))"
   ]
  },
  {
   "cell_type": "code",
   "execution_count": 76,
   "metadata": {},
   "outputs": [
    {
     "data": {
      "text/latex": [
       "$\\displaystyle - \\operatorname{polygamma}{\\left(1,\\alpha_{g} + \\beta_{g} \\right)}$"
      ],
      "text/plain": [
       "-polygamma(1, \\alpha_g + \\beta_g)"
      ]
     },
     "execution_count": 76,
     "metadata": {},
     "output_type": "execute_result"
    }
   ],
   "source": [
    "sympy.expand(beta_div.diff(beta_g).diff(alpha_g))"
   ]
  },
  {
   "cell_type": "code",
   "execution_count": 77,
   "metadata": {},
   "outputs": [],
   "source": [
    "fisher_information_matrix = sympy.expand(sympy.matrices.dense.hessian(beta_div,[alpha_g,beta_g]))"
   ]
  },
  {
   "cell_type": "code",
   "execution_count": 78,
   "metadata": {},
   "outputs": [
    {
     "data": {
      "text/latex": [
       "$\\displaystyle \\left[\\begin{matrix}\\frac{- \\operatorname{polygamma}{\\left(1,\\beta_{g} \\right)} + \\operatorname{polygamma}{\\left(1,\\alpha_{g} + \\beta_{g} \\right)}}{- \\operatorname{polygamma}{\\left(1,\\alpha_{g} \\right)} \\operatorname{polygamma}{\\left(1,\\beta_{g} \\right)} + \\operatorname{polygamma}{\\left(1,\\alpha_{g} \\right)} \\operatorname{polygamma}{\\left(1,\\alpha_{g} + \\beta_{g} \\right)} + \\operatorname{polygamma}{\\left(1,\\beta_{g} \\right)} \\operatorname{polygamma}{\\left(1,\\alpha_{g} + \\beta_{g} \\right)}} & - \\frac{\\operatorname{polygamma}{\\left(1,\\alpha_{g} + \\beta_{g} \\right)}}{- \\operatorname{polygamma}{\\left(1,\\alpha_{g} \\right)} \\operatorname{polygamma}{\\left(1,\\beta_{g} \\right)} + \\operatorname{polygamma}{\\left(1,\\alpha_{g} \\right)} \\operatorname{polygamma}{\\left(1,\\alpha_{g} + \\beta_{g} \\right)} + \\operatorname{polygamma}{\\left(1,\\beta_{g} \\right)} \\operatorname{polygamma}{\\left(1,\\alpha_{g} + \\beta_{g} \\right)}}\\\\- \\frac{\\operatorname{polygamma}{\\left(1,\\alpha_{g} + \\beta_{g} \\right)}}{- \\operatorname{polygamma}{\\left(1,\\alpha_{g} \\right)} \\operatorname{polygamma}{\\left(1,\\beta_{g} \\right)} + \\operatorname{polygamma}{\\left(1,\\alpha_{g} \\right)} \\operatorname{polygamma}{\\left(1,\\alpha_{g} + \\beta_{g} \\right)} + \\operatorname{polygamma}{\\left(1,\\beta_{g} \\right)} \\operatorname{polygamma}{\\left(1,\\alpha_{g} + \\beta_{g} \\right)}} & \\frac{- \\operatorname{polygamma}{\\left(1,\\alpha_{g} \\right)} + \\operatorname{polygamma}{\\left(1,\\alpha_{g} + \\beta_{g} \\right)}}{- \\operatorname{polygamma}{\\left(1,\\alpha_{g} \\right)} \\operatorname{polygamma}{\\left(1,\\beta_{g} \\right)} + \\operatorname{polygamma}{\\left(1,\\alpha_{g} \\right)} \\operatorname{polygamma}{\\left(1,\\alpha_{g} + \\beta_{g} \\right)} + \\operatorname{polygamma}{\\left(1,\\beta_{g} \\right)} \\operatorname{polygamma}{\\left(1,\\alpha_{g} + \\beta_{g} \\right)}}\\end{matrix}\\right]$"
      ],
      "text/plain": [
       "Matrix([\n",
       "[(-polygamma(1, \\beta_g) + polygamma(1, \\alpha_g + \\beta_g))/(-polygamma(1, \\alpha_g)*polygamma(1, \\beta_g) + polygamma(1, \\alpha_g)*polygamma(1, \\alpha_g + \\beta_g) + polygamma(1, \\beta_g)*polygamma(1, \\alpha_g + \\beta_g)),                            -polygamma(1, \\alpha_g + \\beta_g)/(-polygamma(1, \\alpha_g)*polygamma(1, \\beta_g) + polygamma(1, \\alpha_g)*polygamma(1, \\alpha_g + \\beta_g) + polygamma(1, \\beta_g)*polygamma(1, \\alpha_g + \\beta_g))],\n",
       "[                          -polygamma(1, \\alpha_g + \\beta_g)/(-polygamma(1, \\alpha_g)*polygamma(1, \\beta_g) + polygamma(1, \\alpha_g)*polygamma(1, \\alpha_g + \\beta_g) + polygamma(1, \\beta_g)*polygamma(1, \\alpha_g + \\beta_g)), (-polygamma(1, \\alpha_g) + polygamma(1, \\alpha_g + \\beta_g))/(-polygamma(1, \\alpha_g)*polygamma(1, \\beta_g) + polygamma(1, \\alpha_g)*polygamma(1, \\alpha_g + \\beta_g) + polygamma(1, \\beta_g)*polygamma(1, \\alpha_g + \\beta_g))]])"
      ]
     },
     "execution_count": 78,
     "metadata": {},
     "output_type": "execute_result"
    }
   ],
   "source": [
    "sympy.simplify(sympy.expand(fisher_information_matrix**-1))"
   ]
  },
  {
   "cell_type": "code",
   "execution_count": 83,
   "metadata": {},
   "outputs": [
    {
     "name": "stdout",
     "output_type": "stream",
     "text": [
      "[(-sqrt(polygamma(1, \\alpha_g)**2 - 2*polygamma(1, \\alpha_g)*polygamma(1, \\beta_g) + polygamma(1, \\beta_g)**2 + 4*polygamma(1, \\alpha_g + \\beta_g)**2)/2 + polygamma(1, \\alpha_g)/2 + polygamma(1, \\beta_g)/2 - polygamma(1, \\alpha_g + \\beta_g), 1, [Matrix([\n",
      "[2*polygamma(1, \\alpha_g + \\beta_g)/(sqrt(polygamma(1, \\alpha_g)**2 - 2*polygamma(1, \\alpha_g)*polygamma(1, \\beta_g) + polygamma(1, \\beta_g)**2 + 4*polygamma(1, \\alpha_g + \\beta_g)**2) + polygamma(1, \\alpha_g) - polygamma(1, \\beta_g))],\n",
      "[                                                                                                                                                                                                                                        1]])]), (sqrt(polygamma(1, \\alpha_g)**2 - 2*polygamma(1, \\alpha_g)*polygamma(1, \\beta_g) + polygamma(1, \\beta_g)**2 + 4*polygamma(1, \\alpha_g + \\beta_g)**2)/2 + polygamma(1, \\alpha_g)/2 + polygamma(1, \\beta_g)/2 - polygamma(1, \\alpha_g + \\beta_g), 1, [Matrix([\n",
      "[2*polygamma(1, \\alpha_g + \\beta_g)/(-sqrt(polygamma(1, \\alpha_g)**2 - 2*polygamma(1, \\alpha_g)*polygamma(1, \\beta_g) + polygamma(1, \\beta_g)**2 + 4*polygamma(1, \\alpha_g + \\beta_g)**2) + polygamma(1, \\alpha_g) - polygamma(1, \\beta_g))],\n",
      "[                                                                                                                                                                                                                                         1]])])]\n"
     ]
    }
   ],
   "source": [
    "print([x for x in fisher_information_matrix.eigenvects()])"
   ]
  },
  {
   "cell_type": "code",
   "execution_count": 87,
   "metadata": {},
   "outputs": [
    {
     "name": "stdout",
     "output_type": "stream",
     "text": [
      "eigenvalue 1:\n",
      "-sqrt(polygamma(1, \\alpha_g)**2 - 2*polygamma(1, \\alpha_g)*polygamma(1, \\beta_g) + polygamma(1, \\beta_g)**2 + 4*polygamma(1, \\alpha_g + \\beta_g)**2)/2 + polygamma(1, \\alpha_g)/2 + polygamma(1, \\beta_g)/2 - polygamma(1, \\alpha_g + \\beta_g)\n",
      "eigenvalue 2:\n",
      "sqrt(polygamma(1, \\alpha_g)**2 - 2*polygamma(1, \\alpha_g)*polygamma(1, \\beta_g) + polygamma(1, \\beta_g)**2 + 4*polygamma(1, \\alpha_g + \\beta_g)**2)/2 + polygamma(1, \\alpha_g)/2 + polygamma(1, \\beta_g)/2 - polygamma(1, \\alpha_g + \\beta_g)\n"
     ]
    }
   ],
   "source": [
    "es = fisher_information_matrix.eigenvects()\n",
    "for i in range(len(es)):\n",
    "    print(f'eigenvalue {i+1}:')\n",
    "    print(es[i][0])"
   ]
  },
  {
   "cell_type": "code",
   "execution_count": 88,
   "metadata": {},
   "outputs": [
    {
     "data": {
      "text/latex": [
       "$\\displaystyle - \\frac{\\sqrt{\\operatorname{polygamma}^{2}{\\left(1,\\alpha_{g} \\right)} - 2 \\operatorname{polygamma}{\\left(1,\\alpha_{g} \\right)} \\operatorname{polygamma}{\\left(1,\\beta_{g} \\right)} + \\operatorname{polygamma}^{2}{\\left(1,\\beta_{g} \\right)} + 4 \\operatorname{polygamma}^{2}{\\left(1,\\alpha_{g} + \\beta_{g} \\right)}}}{2} + \\frac{\\operatorname{polygamma}{\\left(1,\\alpha_{g} \\right)}}{2} + \\frac{\\operatorname{polygamma}{\\left(1,\\beta_{g} \\right)}}{2} - \\operatorname{polygamma}{\\left(1,\\alpha_{g} + \\beta_{g} \\right)}$"
      ],
      "text/plain": [
       "-sqrt(polygamma(1, \\alpha_g)**2 - 2*polygamma(1, \\alpha_g)*polygamma(1, \\beta_g) + polygamma(1, \\beta_g)**2 + 4*polygamma(1, \\alpha_g + \\beta_g)**2)/2 + polygamma(1, \\alpha_g)/2 + polygamma(1, \\beta_g)/2 - polygamma(1, \\alpha_g + \\beta_g)"
      ]
     },
     "execution_count": 88,
     "metadata": {},
     "output_type": "execute_result"
    }
   ],
   "source": [
    "es[0][0]"
   ]
  },
  {
   "cell_type": "code",
   "execution_count": 90,
   "metadata": {},
   "outputs": [
    {
     "data": {
      "text/latex": [
       "$\\displaystyle \\left[\\begin{matrix}\\frac{2 \\operatorname{polygamma}{\\left(1,\\alpha_{g} + \\beta_{g} \\right)}}{\\sqrt{\\operatorname{polygamma}^{2}{\\left(1,\\alpha_{g} \\right)} - 2 \\operatorname{polygamma}{\\left(1,\\alpha_{g} \\right)} \\operatorname{polygamma}{\\left(1,\\beta_{g} \\right)} + \\operatorname{polygamma}^{2}{\\left(1,\\beta_{g} \\right)} + 4 \\operatorname{polygamma}^{2}{\\left(1,\\alpha_{g} + \\beta_{g} \\right)}} + \\operatorname{polygamma}{\\left(1,\\alpha_{g} \\right)} - \\operatorname{polygamma}{\\left(1,\\beta_{g} \\right)}}\\\\1\\end{matrix}\\right]$"
      ],
      "text/plain": [
       "Matrix([\n",
       "[2*polygamma(1, \\alpha_g + \\beta_g)/(sqrt(polygamma(1, \\alpha_g)**2 - 2*polygamma(1, \\alpha_g)*polygamma(1, \\beta_g) + polygamma(1, \\beta_g)**2 + 4*polygamma(1, \\alpha_g + \\beta_g)**2) + polygamma(1, \\alpha_g) - polygamma(1, \\beta_g))],\n",
       "[                                                                                                                                                                                                                                        1]])"
      ]
     },
     "execution_count": 90,
     "metadata": {},
     "output_type": "execute_result"
    }
   ],
   "source": [
    "es[0][2][0]"
   ]
  },
  {
   "cell_type": "code",
   "execution_count": 91,
   "metadata": {},
   "outputs": [
    {
     "data": {
      "text/latex": [
       "$\\displaystyle \\frac{\\sqrt{\\operatorname{polygamma}^{2}{\\left(1,\\alpha_{g} \\right)} - 2 \\operatorname{polygamma}{\\left(1,\\alpha_{g} \\right)} \\operatorname{polygamma}{\\left(1,\\beta_{g} \\right)} + \\operatorname{polygamma}^{2}{\\left(1,\\beta_{g} \\right)} + 4 \\operatorname{polygamma}^{2}{\\left(1,\\alpha_{g} + \\beta_{g} \\right)}}}{2} + \\frac{\\operatorname{polygamma}{\\left(1,\\alpha_{g} \\right)}}{2} + \\frac{\\operatorname{polygamma}{\\left(1,\\beta_{g} \\right)}}{2} - \\operatorname{polygamma}{\\left(1,\\alpha_{g} + \\beta_{g} \\right)}$"
      ],
      "text/plain": [
       "sqrt(polygamma(1, \\alpha_g)**2 - 2*polygamma(1, \\alpha_g)*polygamma(1, \\beta_g) + polygamma(1, \\beta_g)**2 + 4*polygamma(1, \\alpha_g + \\beta_g)**2)/2 + polygamma(1, \\alpha_g)/2 + polygamma(1, \\beta_g)/2 - polygamma(1, \\alpha_g + \\beta_g)"
      ]
     },
     "execution_count": 91,
     "metadata": {},
     "output_type": "execute_result"
    }
   ],
   "source": [
    "es[1][0]"
   ]
  },
  {
   "cell_type": "code",
   "execution_count": 92,
   "metadata": {},
   "outputs": [
    {
     "data": {
      "text/latex": [
       "$\\displaystyle \\left[\\begin{matrix}\\frac{2 \\operatorname{polygamma}{\\left(1,\\alpha_{g} + \\beta_{g} \\right)}}{- \\sqrt{\\operatorname{polygamma}^{2}{\\left(1,\\alpha_{g} \\right)} - 2 \\operatorname{polygamma}{\\left(1,\\alpha_{g} \\right)} \\operatorname{polygamma}{\\left(1,\\beta_{g} \\right)} + \\operatorname{polygamma}^{2}{\\left(1,\\beta_{g} \\right)} + 4 \\operatorname{polygamma}^{2}{\\left(1,\\alpha_{g} + \\beta_{g} \\right)}} + \\operatorname{polygamma}{\\left(1,\\alpha_{g} \\right)} - \\operatorname{polygamma}{\\left(1,\\beta_{g} \\right)}}\\\\1\\end{matrix}\\right]$"
      ],
      "text/plain": [
       "Matrix([\n",
       "[2*polygamma(1, \\alpha_g + \\beta_g)/(-sqrt(polygamma(1, \\alpha_g)**2 - 2*polygamma(1, \\alpha_g)*polygamma(1, \\beta_g) + polygamma(1, \\beta_g)**2 + 4*polygamma(1, \\alpha_g + \\beta_g)**2) + polygamma(1, \\alpha_g) - polygamma(1, \\beta_g))],\n",
       "[                                                                                                                                                                                                                                         1]])"
      ]
     },
     "execution_count": 92,
     "metadata": {},
     "output_type": "execute_result"
    }
   ],
   "source": [
    "es[1][2][0]"
   ]
  },
  {
   "cell_type": "code",
   "execution_count": 170,
   "metadata": {},
   "outputs": [],
   "source": [
    "alpha, beta, n, x, p, n_0, p_0, n_hat, p_hat, alpha_0, beta_0 = symbols(r'\\alpha \\beta n x p n_0 p_0, \\hat{n} \\hat{p} \\alpha_0 \\beta_0')"
   ]
  },
  {
   "cell_type": "code",
   "execution_count": 99,
   "metadata": {},
   "outputs": [
    {
     "data": {
      "text/latex": [
       "$\\displaystyle \\frac{\\left(\\alpha + \\beta + n\\right)^{2}}{\\left(\\alpha + x\\right) \\left(\\beta + n - x\\right)}$"
      ],
      "text/plain": [
       "(\\alpha + \\beta + n)**2/((\\alpha + x)*(\\beta + n - x))"
      ]
     },
     "execution_count": 99,
     "metadata": {},
     "output_type": "execute_result"
    }
   ],
   "source": [
    "loss = (alpha+beta+n)**2/((alpha+x)*(beta+n-x))\n",
    "loss"
   ]
  },
  {
   "cell_type": "code",
   "execution_count": 100,
   "metadata": {},
   "outputs": [
    {
     "data": {
      "text/latex": [
       "$\\displaystyle \\frac{\\left(\\alpha + \\beta + n\\right)^{2}}{\\left(\\alpha + n p\\right) \\left(\\beta - n p + n\\right)}$"
      ],
      "text/plain": [
       "(\\alpha + \\beta + n)**2/((\\alpha + n*p)*(\\beta - n*p + n))"
      ]
     },
     "execution_count": 100,
     "metadata": {},
     "output_type": "execute_result"
    }
   ],
   "source": [
    "loss.subs(x,n*p)"
   ]
  },
  {
   "cell_type": "code",
   "execution_count": 130,
   "metadata": {},
   "outputs": [
    {
     "data": {
      "text/latex": [
       "$\\displaystyle \\frac{\\hat{n}^{2} \\hat{p}^{2}}{- 2 \\hat{n}^{2} p^{2} + 2 \\hat{n}^{2} p - 4 \\hat{n} n p^{2} + 4 \\hat{n} n p - 2 n^{2} p^{2} + 2 n^{2} p} + \\frac{2 \\hat{n} \\hat{p} n p}{- 2 \\hat{n}^{2} p^{2} + 2 \\hat{n}^{2} p - 4 \\hat{n} n p^{2} + 4 \\hat{n} n p - 2 n^{2} p^{2} + 2 n^{2} p} - \\frac{2 \\hat{n} \\hat{p} p}{- 2 \\hat{n} p^{2} + 2 \\hat{n} p - 2 n p^{2} + 2 n p} + \\frac{n^{2} p^{2}}{- 2 \\hat{n}^{2} p^{2} + 2 \\hat{n}^{2} p - 4 \\hat{n} n p^{2} + 4 \\hat{n} n p - 2 n^{2} p^{2} + 2 n^{2} p} - \\frac{n p^{2}}{- 2 \\hat{n}^{2} p^{2} + 2 \\hat{n}^{2} p - 4 \\hat{n} n p^{2} + 4 \\hat{n} n p - 2 n^{2} p^{2} + 2 n^{2} p} - \\frac{2 n p^{2}}{- 2 \\hat{n} p^{2} + 2 \\hat{n} p - 2 n p^{2} + 2 n p} + \\frac{n p}{- 2 \\hat{n}^{2} p^{2} + 2 \\hat{n}^{2} p - 4 \\hat{n} n p^{2} + 4 \\hat{n} n p - 2 n^{2} p^{2} + 2 n^{2} p} + \\frac{p^{2}}{- 2 p^{2} + 2 p}$"
      ],
      "text/plain": [
       "\\hat{n}**2*\\hat{p}**2/(-2*\\hat{n}**2*p**2 + 2*\\hat{n}**2*p - 4*\\hat{n}*n*p**2 + 4*\\hat{n}*n*p - 2*n**2*p**2 + 2*n**2*p) + 2*\\hat{n}*\\hat{p}*n*p/(-2*\\hat{n}**2*p**2 + 2*\\hat{n}**2*p - 4*\\hat{n}*n*p**2 + 4*\\hat{n}*n*p - 2*n**2*p**2 + 2*n**2*p) - 2*\\hat{n}*\\hat{p}*p/(-2*\\hat{n}*p**2 + 2*\\hat{n}*p - 2*n*p**2 + 2*n*p) + n**2*p**2/(-2*\\hat{n}**2*p**2 + 2*\\hat{n}**2*p - 4*\\hat{n}*n*p**2 + 4*\\hat{n}*n*p - 2*n**2*p**2 + 2*n**2*p) - n*p**2/(-2*\\hat{n}**2*p**2 + 2*\\hat{n}**2*p - 4*\\hat{n}*n*p**2 + 4*\\hat{n}*n*p - 2*n**2*p**2 + 2*n**2*p) - 2*n*p**2/(-2*\\hat{n}*p**2 + 2*\\hat{n}*p - 2*n*p**2 + 2*n*p) + n*p/(-2*\\hat{n}**2*p**2 + 2*\\hat{n}**2*p - 4*\\hat{n}*n*p**2 + 4*\\hat{n}*n*p - 2*n**2*p**2 + 2*n**2*p) + p**2/(-2*p**2 + 2*p)"
      ]
     },
     "execution_count": 130,
     "metadata": {},
     "output_type": "execute_result"
    }
   ],
   "source": [
    "sympy.expand(1/(2*p*(1-p))*(n*p*(1-p)/(n_hat+n)**2+(n_hat*p_hat+n*p)**2/(n_hat+n)**2-2*p*(n_hat*p_hat+n*p)/(n_hat+n)+p**2))"
   ]
  },
  {
   "cell_type": "code",
   "execution_count": 138,
   "metadata": {},
   "outputs": [
    {
     "data": {
      "text/latex": [
       "$\\displaystyle 1$"
      ],
      "text/plain": [
       "1"
      ]
     },
     "execution_count": 138,
     "metadata": {},
     "output_type": "execute_result"
    }
   ],
   "source": [
    "sympy.limit(x/(x+1),x,sympy.oo)"
   ]
  },
  {
   "cell_type": "code",
   "execution_count": 145,
   "metadata": {},
   "outputs": [
    {
     "data": {
      "text/latex": [
       "$\\displaystyle \\frac{n p \\left(p - 1\\right) - p^{2} \\left(\\hat{n} + n\\right)^{2} + 2 p \\left(\\hat{n} + n\\right) \\left(\\hat{n} \\hat{p} + n p\\right) - \\left(\\hat{n} \\hat{p} + n p\\right)^{2}}{2 p \\left(\\hat{n} + n\\right)^{2} \\left(p - 1\\right)}$"
      ],
      "text/plain": [
       "(n*p*(p - 1) - p**2*(\\hat{n} + n)**2 + 2*p*(\\hat{n} + n)*(\\hat{n}*\\hat{p} + n*p) - (\\hat{n}*\\hat{p} + n*p)**2)/(2*p*(\\hat{n} + n)**2*(p - 1))"
      ]
     },
     "execution_count": 145,
     "metadata": {},
     "output_type": "execute_result"
    }
   ],
   "source": [
    "one_over_n = simplify(1/(2*p*(1-p))*(n*p*(1-p)/(n_hat+n)**2+(n_hat*p_hat+n*p)**2/(n_hat+n)**2-2*p*(n_hat*p_hat+n*p)/(n_hat+n)+p**2))\n",
    "one_over_n"
   ]
  },
  {
   "cell_type": "code",
   "execution_count": 144,
   "metadata": {},
   "outputs": [
    {
     "data": {
      "text/latex": [
       "$\\displaystyle 0$"
      ],
      "text/plain": [
       "0"
      ]
     },
     "execution_count": 144,
     "metadata": {},
     "output_type": "execute_result"
    }
   ],
   "source": [
    "sympy.limit(one_over_n,n,sympy.oo)"
   ]
  },
  {
   "cell_type": "code",
   "execution_count": 146,
   "metadata": {},
   "outputs": [
    {
     "data": {
      "text/latex": [
       "$\\displaystyle \\frac{p^{2} - p}{2 p \\left(p - 1\\right)}$"
      ],
      "text/plain": [
       "(p**2 - p)/(2*p*(p - 1))"
      ]
     },
     "execution_count": 146,
     "metadata": {},
     "output_type": "execute_result"
    }
   ],
   "source": [
    "sympy.limit(one_over_n*n,n,sympy.oo)"
   ]
  },
  {
   "cell_type": "code",
   "execution_count": 148,
   "metadata": {},
   "outputs": [
    {
     "data": {
      "text/latex": [
       "$\\displaystyle n \\left(\\frac{n \\left(n p \\left(p - 1\\right) - p^{2} \\left(\\hat{n} + n\\right)^{2} + 2 p \\left(\\hat{n} + n\\right) \\left(\\hat{n} \\hat{p} + n p\\right) - \\left(\\hat{n} \\hat{p} + n p\\right)^{2}\\right)}{2 p \\left(\\hat{n} + n\\right)^{2} \\left(p - 1\\right)} - 0.5\\right)$"
      ],
      "text/plain": [
       "n*(n*(n*p*(p - 1) - p**2*(\\hat{n} + n)**2 + 2*p*(\\hat{n} + n)*(\\hat{n}*\\hat{p} + n*p) - (\\hat{n}*\\hat{p} + n*p)**2)/(2*p*(\\hat{n} + n)**2*(p - 1)) - 0.5)"
      ]
     },
     "execution_count": 148,
     "metadata": {},
     "output_type": "execute_result"
    }
   ],
   "source": [
    "(one_over_n*n-1/2)*n"
   ]
  },
  {
   "cell_type": "code",
   "execution_count": 150,
   "metadata": {},
   "outputs": [
    {
     "data": {
      "text/latex": [
       "$\\displaystyle \\frac{\\hat{n} \\left(- \\hat{n} \\hat{p}^{2} + 2 \\hat{n} \\hat{p} p - \\hat{n} p^{2} - 2 p^{2} + 2 p\\right)}{2 p \\left(p - 1\\right)}$"
      ],
      "text/plain": [
       "\\hat{n}*(-\\hat{n}*\\hat{p}**2 + 2*\\hat{n}*\\hat{p}*p - \\hat{n}*p**2 - 2*p**2 + 2*p)/(2*p*(p - 1))"
      ]
     },
     "execution_count": 150,
     "metadata": {},
     "output_type": "execute_result"
    }
   ],
   "source": [
    "simplify(sympy.limit((one_over_n*n-1/2)*n,n,sympy.oo))"
   ]
  },
  {
   "cell_type": "code",
   "execution_count": 168,
   "metadata": {},
   "outputs": [
    {
     "data": {
      "text/latex": [
       "$\\displaystyle \\frac{n p \\left(p - 1\\right) - p^{2} \\left(\\hat{n} + n\\right)^{2} + 2 p \\left(\\hat{n} + n\\right) \\left(\\hat{n} \\hat{p} + n p\\right) - \\left(\\hat{n} \\hat{p} + n p\\right)^{2}}{2 p \\left(\\hat{n} + n\\right)^{2} \\left(p - 1\\right)}$"
      ],
      "text/plain": [
       "(n*p*(p - 1) - p**2*(\\hat{n} + n)**2 + 2*p*(\\hat{n} + n)*(\\hat{n}*\\hat{p} + n*p) - (\\hat{n}*\\hat{p} + n*p)**2)/(2*p*(\\hat{n} + n)**2*(p - 1))"
      ]
     },
     "execution_count": 168,
     "metadata": {},
     "output_type": "execute_result"
    }
   ],
   "source": [
    "one_over_n"
   ]
  },
  {
   "cell_type": "code",
   "execution_count": 161,
   "metadata": {},
   "outputs": [
    {
     "data": {
      "text/latex": [
       "$\\displaystyle \\frac{p^{2} - p}{2 p \\left(p - 1\\right)}$"
      ],
      "text/plain": [
       "(p**2 - p)/(2*p*(p - 1))"
      ]
     },
     "execution_count": 161,
     "metadata": {},
     "output_type": "execute_result"
    }
   ],
   "source": [
    "sympy.limit(one_over_n*(n_hat+n),n, sympy.oo)"
   ]
  },
  {
   "cell_type": "code",
   "execution_count": 163,
   "metadata": {},
   "outputs": [
    {
     "data": {
      "text/latex": [
       "$\\displaystyle \\frac{\\hat{n} \\left(- \\hat{n} \\hat{p}^{2} + 2 \\hat{n} \\hat{p} p - \\hat{n} p^{2} - p^{2} + p\\right)}{2 p \\left(p - 1\\right)}$"
      ],
      "text/plain": [
       "\\hat{n}*(-\\hat{n}*\\hat{p}**2 + 2*\\hat{n}*\\hat{p}*p - \\hat{n}*p**2 - p**2 + p)/(2*p*(p - 1))"
      ]
     },
     "execution_count": 163,
     "metadata": {},
     "output_type": "execute_result"
    }
   ],
   "source": [
    "sympy.simplify(sympy.limit((one_over_n*(n_hat+n)-1/2)*(n_hat+n),n, sympy.oo))"
   ]
  },
  {
   "cell_type": "code",
   "execution_count": 179,
   "metadata": {},
   "outputs": [],
   "source": [
    "quadratic_approx = simplify(((p_hat-(alpha_0-1)/(alpha_0+beta_0-2))**2 + (alpha_0-1)*(beta_0-1)/((alpha_0+beta_0-2)**2*(alpha_0+beta_0-1)))*(alpha_0+beta_0-1)*(alpha_0+beta_0-2)/((alpha_0-1)*(beta_0-1)))"
   ]
  },
  {
   "cell_type": "code",
   "execution_count": 195,
   "metadata": {},
   "outputs": [
    {
     "name": "stdout",
     "output_type": "stream",
     "text": [
      "- \\frac{\\hat{p}^{2} n_{0}^{2} - 3 \\hat{p}^{2} n_{0} + 2 \\hat{p}^{2} - 2 \\hat{p} n_{0}^{2} p_{0} + 2 \\hat{p} n_{0} p_{0} + 2 \\hat{p} n_{0} - 2 \\hat{p} + n_{0}^{2} p_{0}^{2} - n_{0} p_{0}}{\\left(n_{0} p_{0} - 1\\right) \\left(n_{0} p_{0} - n_{0} + 1\\right)}\n"
     ]
    }
   ],
   "source": [
    "sympy.print_latex(sympy.factor(simplify(sympy.expand(quadratic_approx.subs(alpha_0,n_0*p_0).subs(beta_0,n_0*(1-p_0))))))"
   ]
  },
  {
   "cell_type": "code",
   "execution_count": 201,
   "metadata": {},
   "outputs": [],
   "source": [
    "quadratic_lifetime_loss = (n_hat**2*sympy.factor(simplify(sympy.expand(quadratic_approx.subs(alpha_0,n_0*p_0).subs(beta_0,n_0*(1-p_0)))))-n_hat/2)*sympy.polygamma(1,n_hat)-(sympy.polygamma(0,n_hat)-sympy.polygamma(0,1))/2"
   ]
  },
  {
   "cell_type": "code",
   "execution_count": 204,
   "metadata": {},
   "outputs": [
    {
     "data": {
      "text/latex": [
       "$\\displaystyle - \\frac{n_{0}^{2} \\left(- 4 n_{0} p_{0} + 2 n_{0} + 4 p_{0} - 2\\right) \\operatorname{polygamma}{\\left(1,n_{0} \\right)}}{\\left(n_{0} p_{0} - 1\\right) \\left(n_{0} p_{0} - n_{0} + 1\\right)}$"
      ],
      "text/plain": [
       "-n_0**2*(-4*n_0*p_0 + 2*n_0 + 4*p_0 - 2)*polygamma(1, n_0)/((n_0*p_0 - 1)*(n_0*p_0 - n_0 + 1))"
      ]
     },
     "execution_count": 204,
     "metadata": {},
     "output_type": "execute_result"
    }
   ],
   "source": [
    "quadratic_lifetime_loss.diff(p_hat).subs(n_hat,n_0).subs(p_hat,p_0)"
   ]
  },
  {
   "cell_type": "code",
   "execution_count": 205,
   "metadata": {},
   "outputs": [
    {
     "data": {
      "text/latex": [
       "$\\displaystyle \\left(- \\frac{2 n_{0} \\left(- n_{0} p_{0}^{2} + n_{0} p_{0} + 2 p_{0}^{2} - 2 p_{0}\\right)}{\\left(n_{0} p_{0} - 1\\right) \\left(n_{0} p_{0} - n_{0} + 1\\right)} - \\frac{1}{2}\\right) \\operatorname{polygamma}{\\left(1,n_{0} \\right)} + \\left(- \\frac{n_{0}^{2} \\left(- n_{0} p_{0}^{2} + n_{0} p_{0} + 2 p_{0}^{2} - 2 p_{0}\\right)}{\\left(n_{0} p_{0} - 1\\right) \\left(n_{0} p_{0} - n_{0} + 1\\right)} - \\frac{n_{0}}{2}\\right) \\operatorname{polygamma}{\\left(2,n_{0} \\right)} - \\frac{\\operatorname{polygamma}{\\left(1,n_{0} \\right)}}{2}$"
      ],
      "text/plain": [
       "(-2*n_0*(-n_0*p_0**2 + n_0*p_0 + 2*p_0**2 - 2*p_0)/((n_0*p_0 - 1)*(n_0*p_0 - n_0 + 1)) - 1/2)*polygamma(1, n_0) + (-n_0**2*(-n_0*p_0**2 + n_0*p_0 + 2*p_0**2 - 2*p_0)/((n_0*p_0 - 1)*(n_0*p_0 - n_0 + 1)) - n_0/2)*polygamma(2, n_0) - polygamma(1, n_0)/2"
      ]
     },
     "execution_count": 205,
     "metadata": {},
     "output_type": "execute_result"
    }
   ],
   "source": [
    "quadratic_lifetime_loss.diff(n_hat).subs(n_hat,n_0).subs(p_hat,p_0)"
   ]
  },
  {
   "cell_type": "code",
   "execution_count": 206,
   "metadata": {},
   "outputs": [
    {
     "data": {
      "text/latex": [
       "$\\displaystyle \\frac{n_{0} \\cdot \\left(2 n_{0} p_{0} \\left(n_{0} p_{0} - n_{0} - 2 p_{0} + 2\\right) - \\left(n_{0} p_{0} - 1\\right) \\left(n_{0} p_{0} - n_{0} + 1\\right)\\right) \\operatorname{polygamma}{\\left(2,n_{0} \\right)} - \\left(n_{0} p_{0} - 1\\right) \\left(n_{0} p_{0} - n_{0} + 1\\right) \\operatorname{polygamma}{\\left(1,n_{0} \\right)} + \\left(4 n_{0} p_{0} \\left(n_{0} p_{0} - n_{0} - 2 p_{0} + 2\\right) - \\left(n_{0} p_{0} - 1\\right) \\left(n_{0} p_{0} - n_{0} + 1\\right)\\right) \\operatorname{polygamma}{\\left(1,n_{0} \\right)}}{2 \\left(n_{0} p_{0} - 1\\right) \\left(n_{0} p_{0} - n_{0} + 1\\right)}$"
      ],
      "text/plain": [
       "(n_0*(2*n_0*p_0*(n_0*p_0 - n_0 - 2*p_0 + 2) - (n_0*p_0 - 1)*(n_0*p_0 - n_0 + 1))*polygamma(2, n_0) - (n_0*p_0 - 1)*(n_0*p_0 - n_0 + 1)*polygamma(1, n_0) + (4*n_0*p_0*(n_0*p_0 - n_0 - 2*p_0 + 2) - (n_0*p_0 - 1)*(n_0*p_0 - n_0 + 1))*polygamma(1, n_0))/(2*(n_0*p_0 - 1)*(n_0*p_0 - n_0 + 1))"
      ]
     },
     "execution_count": 206,
     "metadata": {},
     "output_type": "execute_result"
    }
   ],
   "source": [
    "simplify(quadratic_lifetime_loss.diff(n_hat).subs(n_hat,n_0).subs(p_hat,p_0))"
   ]
  },
  {
   "cell_type": "code",
   "execution_count": 215,
   "metadata": {},
   "outputs": [],
   "source": [
    "conjectured_lifetime_loss = -(sympy.polygamma(0,n_hat)-sympy.polygamma(0,1))/2+(n_hat**2*(p_0*(sympy.polygamma(0,n_0*p_0+1)-sympy.log(p_hat)) + (1-p_0)*(sympy.polygamma(0,n_0*(1-p_0)+1)-sympy.log(1-p_hat))-sympy.polygamma(0,n_0+1))-n_hat/2)*sympy.polygamma(1,n_hat)"
   ]
  },
  {
   "cell_type": "code",
   "execution_count": 227,
   "metadata": {},
   "outputs": [
    {
     "data": {
      "text/latex": [
       "$\\displaystyle n_{0}^{2} \\cdot \\left(\\frac{1}{1 - p_{0}} + \\frac{1}{p_{0}}\\right) \\operatorname{polygamma}{\\left(1,n_{0} \\right)}$"
      ],
      "text/plain": [
       "n_0**2*(1/(1 - p_0) + 1/p_0)*polygamma(1, n_0)"
      ]
     },
     "execution_count": 227,
     "metadata": {},
     "output_type": "execute_result"
    }
   ],
   "source": [
    "conjectured_lifetime_loss.diff(p_hat).diff(p_hat).subs(p_hat,p_0).subs(n_hat,n_0)"
   ]
  },
  {
   "cell_type": "code",
   "execution_count": 234,
   "metadata": {},
   "outputs": [
    {
     "data": {
      "text/latex": [
       "$\\displaystyle 0$"
      ],
      "text/plain": [
       "0"
      ]
     },
     "execution_count": 234,
     "metadata": {},
     "output_type": "execute_result"
    }
   ],
   "source": [
    "conjectured_lifetime_loss.diff(n_hat).diff(p_hat).subs(p_hat,p_0)"
   ]
  },
  {
   "cell_type": "code",
   "execution_count": 245,
   "metadata": {},
   "outputs": [
    {
     "name": "stdout",
     "output_type": "stream",
     "text": [
      "- n_{0}^{2} p_{0} \\log{\\left(p_{0} \\right)} \\operatorname{polygamma}{\\left(3,n_{0} \\right)} + n_{0}^{2} p_{0} \\log{\\left(1 - p_{0} \\right)} \\operatorname{polygamma}{\\left(3,n_{0} \\right)} + n_{0}^{2} p_{0} \\operatorname{polygamma}{\\left(0,n_{0} p_{0} + 1 \\right)} \\operatorname{polygamma}{\\left(3,n_{0} \\right)} - n_{0}^{2} p_{0} \\operatorname{polygamma}{\\left(0,- n_{0} p_{0} + n_{0} + 1 \\right)} \\operatorname{polygamma}{\\left(3,n_{0} \\right)} - n_{0}^{2} \\log{\\left(1 - p_{0} \\right)} \\operatorname{polygamma}{\\left(3,n_{0} \\right)} - n_{0}^{2} \\operatorname{polygamma}{\\left(0,n_{0} + 1 \\right)} \\operatorname{polygamma}{\\left(3,n_{0} \\right)} + n_{0}^{2} \\operatorname{polygamma}{\\left(0,- n_{0} p_{0} + n_{0} + 1 \\right)} \\operatorname{polygamma}{\\left(3,n_{0} \\right)} - 4 n_{0} p_{0} \\log{\\left(p_{0} \\right)} \\operatorname{polygamma}{\\left(2,n_{0} \\right)} + 4 n_{0} p_{0} \\log{\\left(1 - p_{0} \\right)} \\operatorname{polygamma}{\\left(2,n_{0} \\right)} + 4 n_{0} p_{0} \\operatorname{polygamma}{\\left(0,n_{0} p_{0} + 1 \\right)} \\operatorname{polygamma}{\\left(2,n_{0} \\right)} - 4 n_{0} p_{0} \\operatorname{polygamma}{\\left(0,- n_{0} p_{0} + n_{0} + 1 \\right)} \\operatorname{polygamma}{\\left(2,n_{0} \\right)} - 4 n_{0} \\log{\\left(1 - p_{0} \\right)} \\operatorname{polygamma}{\\left(2,n_{0} \\right)} - 4 n_{0} \\operatorname{polygamma}{\\left(0,n_{0} + 1 \\right)} \\operatorname{polygamma}{\\left(2,n_{0} \\right)} + 4 n_{0} \\operatorname{polygamma}{\\left(0,- n_{0} p_{0} + n_{0} + 1 \\right)} \\operatorname{polygamma}{\\left(2,n_{0} \\right)} - \\frac{n_{0} \\operatorname{polygamma}{\\left(3,n_{0} \\right)}}{2} - 2 p_{0} \\log{\\left(p_{0} \\right)} \\operatorname{polygamma}{\\left(1,n_{0} \\right)} + 2 p_{0} \\log{\\left(1 - p_{0} \\right)} \\operatorname{polygamma}{\\left(1,n_{0} \\right)} + 2 p_{0} \\operatorname{polygamma}{\\left(0,n_{0} p_{0} + 1 \\right)} \\operatorname{polygamma}{\\left(1,n_{0} \\right)} - 2 p_{0} \\operatorname{polygamma}{\\left(0,- n_{0} p_{0} + n_{0} + 1 \\right)} \\operatorname{polygamma}{\\left(1,n_{0} \\right)} - 2 \\log{\\left(1 - p_{0} \\right)} \\operatorname{polygamma}{\\left(1,n_{0} \\right)} - 2 \\operatorname{polygamma}{\\left(0,n_{0} + 1 \\right)} \\operatorname{polygamma}{\\left(1,n_{0} \\right)} + 2 \\operatorname{polygamma}{\\left(0,- n_{0} p_{0} + n_{0} + 1 \\right)} \\operatorname{polygamma}{\\left(1,n_{0} \\right)} - \\frac{3 \\operatorname{polygamma}{\\left(2,n_{0} \\right)}}{2}\n"
     ]
    }
   ],
   "source": [
    "sympy.print_latex(sympy.expand(conjectured_lifetime_loss.diff(n_hat).diff(n_hat).subs(p_hat,p_0).subs(n_hat,n_0)))"
   ]
  },
  {
   "cell_type": "code",
   "execution_count": 249,
   "metadata": {},
   "outputs": [
    {
     "data": {
      "text/latex": [
       "$\\displaystyle - \\frac{n_{0} \\cdot \\left(2 n_{0} \\left(p_{0} \\left(\\log{\\left(p_{0} \\right)} - \\operatorname{polygamma}{\\left(0,n_{0} p_{0} + 1 \\right)}\\right) - \\left(p_{0} - 1\\right) \\left(\\log{\\left(1 - p_{0} \\right)} - \\operatorname{polygamma}{\\left(0,- n_{0} \\left(p_{0} - 1\\right) + 1 \\right)}\\right) + \\operatorname{polygamma}{\\left(0,n_{0} + 1 \\right)}\\right) + 1\\right) \\operatorname{polygamma}{\\left(3,n_{0} \\right)}}{2} - \\left(4 n_{0} \\left(p_{0} \\left(\\log{\\left(p_{0} \\right)} - \\operatorname{polygamma}{\\left(0,n_{0} p_{0} + 1 \\right)}\\right) - \\left(p_{0} - 1\\right) \\left(\\log{\\left(1 - p_{0} \\right)} - \\operatorname{polygamma}{\\left(0,- n_{0} \\left(p_{0} - 1\\right) + 1 \\right)}\\right) + \\operatorname{polygamma}{\\left(0,n_{0} + 1 \\right)}\\right) + 1\\right) \\operatorname{polygamma}{\\left(2,n_{0} \\right)} - 2 \\left(p_{0} \\left(\\log{\\left(p_{0} \\right)} - \\operatorname{polygamma}{\\left(0,n_{0} p_{0} + 1 \\right)}\\right) - \\left(p_{0} - 1\\right) \\left(\\log{\\left(1 - p_{0} \\right)} - \\operatorname{polygamma}{\\left(0,- n_{0} \\left(p_{0} - 1\\right) + 1 \\right)}\\right) + \\operatorname{polygamma}{\\left(0,n_{0} + 1 \\right)}\\right) \\operatorname{polygamma}{\\left(1,n_{0} \\right)} - \\frac{\\operatorname{polygamma}{\\left(2,n_{0} \\right)}}{2}$"
      ],
      "text/plain": [
       "-n_0*(2*n_0*(p_0*(log(p_0) - polygamma(0, n_0*p_0 + 1)) - (p_0 - 1)*(log(1 - p_0) - polygamma(0, -n_0*(p_0 - 1) + 1)) + polygamma(0, n_0 + 1)) + 1)*polygamma(3, n_0)/2 - (4*n_0*(p_0*(log(p_0) - polygamma(0, n_0*p_0 + 1)) - (p_0 - 1)*(log(1 - p_0) - polygamma(0, -n_0*(p_0 - 1) + 1)) + polygamma(0, n_0 + 1)) + 1)*polygamma(2, n_0) - 2*(p_0*(log(p_0) - polygamma(0, n_0*p_0 + 1)) - (p_0 - 1)*(log(1 - p_0) - polygamma(0, -n_0*(p_0 - 1) + 1)) + polygamma(0, n_0 + 1))*polygamma(1, n_0) - polygamma(2, n_0)/2"
      ]
     },
     "execution_count": 249,
     "metadata": {},
     "output_type": "execute_result"
    }
   ],
   "source": [
    "sympy.simplify(conjectured_lifetime_loss.diff(n_hat).diff(n_hat).subs(p_hat,p_0).subs(n_hat,n_0))"
   ]
  },
  {
   "cell_type": "code",
   "execution_count": 251,
   "metadata": {},
   "outputs": [
    {
     "data": {
      "text/latex": [
       "$\\displaystyle \\hat{n}^{2} \\left(\\frac{1 - p_{0}}{1 - \\hat{p}} - \\frac{p_{0}}{\\hat{p}}\\right) \\operatorname{polygamma}{\\left(1,\\hat{n} \\right)}$"
      ],
      "text/plain": [
       "\\hat{n}**2*((1 - p_0)/(1 - \\hat{p}) - p_0/\\hat{p})*polygamma(1, \\hat{n})"
      ]
     },
     "execution_count": 251,
     "metadata": {},
     "output_type": "execute_result"
    }
   ],
   "source": [
    "conjectured_lifetime_loss.diff(p_hat)"
   ]
  },
  {
   "cell_type": "code",
   "execution_count": 2,
   "metadata": {},
   "outputs": [],
   "source": [
    "p,p_0 = symbols('p p_0')"
   ]
  },
  {
   "cell_type": "code",
   "execution_count": 6,
   "metadata": {},
   "outputs": [
    {
     "data": {
      "text/latex": [
       "$\\displaystyle \\frac{\\left(p - p_{0}\\right)^{2}}{2 p_{0} \\cdot \\left(1 - p_{0}\\right)}$"
      ],
      "text/plain": [
       "(p - p_0)**2/(2*p_0*(1 - p_0))"
      ]
     },
     "execution_count": 6,
     "metadata": {},
     "output_type": "execute_result"
    }
   ],
   "source": [
    "kl = (p-p_0)**2/(2*p_0*(1-p_0))\n",
    "kl"
   ]
  },
  {
   "cell_type": "code",
   "execution_count": 7,
   "metadata": {},
   "outputs": [
    {
     "data": {
      "text/latex": [
       "$\\displaystyle - \\frac{p - p_{0}}{p_{0}} + \\frac{\\left(p - p_{0}\\right)^{2}}{2 p_{0}^{2}}$"
      ],
      "text/plain": [
       "-(p - p_0)/p_0 + (p - p_0)**2/(2*p_0**2)"
      ]
     },
     "execution_count": 7,
     "metadata": {},
     "output_type": "execute_result"
    }
   ],
   "source": [
    "loss_change = -1/p_0*(p-p_0)+1/(2*p_0**2)*(p-p_0)**2\n",
    "loss_change"
   ]
  },
  {
   "cell_type": "code",
   "execution_count": 9,
   "metadata": {},
   "outputs": [
    {
     "data": {
      "text/latex": [
       "$\\displaystyle \\frac{\\left(- p + 3 p_{0}\\right) \\left(p_{0} - 1\\right)}{p_{0} \\left(p - p_{0}\\right)}$"
      ],
      "text/plain": [
       "(-p + 3*p_0)*(p_0 - 1)/(p_0*(p - p_0))"
      ]
     },
     "execution_count": 9,
     "metadata": {},
     "output_type": "execute_result"
    }
   ],
   "source": [
    "simplify(loss_change/kl)"
   ]
  },
  {
   "cell_type": "code",
   "execution_count": 11,
   "metadata": {},
   "outputs": [],
   "source": [
    "l = Function('l')"
   ]
  },
  {
   "cell_type": "code",
   "execution_count": 15,
   "metadata": {},
   "outputs": [
    {
     "data": {
      "text/latex": [
       "$\\displaystyle \\sin^{2}{\\left(\\frac{x}{2} + \\frac{\\pi}{4} \\right)}$"
      ],
      "text/plain": [
       "sin(x/2 + pi/4)**2"
      ]
     },
     "execution_count": 15,
     "metadata": {},
     "output_type": "execute_result"
    }
   ],
   "source": [
    "p = sympy.sin(x/2+sympy.pi/4)**2\n",
    "p"
   ]
  },
  {
   "cell_type": "code",
   "execution_count": 108,
   "metadata": {},
   "outputs": [
    {
     "data": {
      "text/latex": [
       "$\\displaystyle \\log{\\left(\\sin^{2}{\\left(\\frac{x}{2} + \\frac{\\pi}{4} \\right)} \\right)}$"
      ],
      "text/plain": [
       "log(sin(x/2 + pi/4)**2)"
      ]
     },
     "execution_count": 108,
     "metadata": {},
     "output_type": "execute_result"
    }
   ],
   "source": [
    "l=sympy.log(p)\n",
    "l"
   ]
  },
  {
   "cell_type": "code",
   "execution_count": 29,
   "metadata": {},
   "outputs": [
    {
     "data": {
      "text/latex": [
       "$\\displaystyle \\frac{\\left(x - x_{0}\\right) \\left(x - x_{0} - 2 \\cos{\\left(x_{0} \\right)}\\right)}{2 \\left(\\sin{\\left(x_{0} \\right)} + 1\\right)}$"
      ],
      "text/plain": [
       "(x - x_0)*(x - x_0 - 2*cos(x_0))/(2*(sin(x_0) + 1))"
      ]
     },
     "execution_count": 29,
     "metadata": {},
     "output_type": "execute_result"
    }
   ],
   "source": [
    "loss_diff = simplify((x-x_0)*l.diff(x).subs(x,x_0) + (x-x_0)**2/2*l.diff(x,x).subs(x,x_0))\n",
    "loss_diff"
   ]
  },
  {
   "cell_type": "code",
   "execution_count": 31,
   "metadata": {},
   "outputs": [
    {
     "data": {
      "text/latex": [
       "$\\displaystyle \\frac{\\left(x - x_{0}\\right)^{3}}{6}$"
      ],
      "text/plain": [
       "(x - x_0)**3/6"
      ]
     },
     "execution_count": 31,
     "metadata": {},
     "output_type": "execute_result"
    }
   ],
   "source": [
    "kl_diff = (x-x_0)**3/6\n",
    "kl_diff"
   ]
  },
  {
   "cell_type": "code",
   "execution_count": 40,
   "metadata": {},
   "outputs": [],
   "source": [
    "s, c  = symbols('s c')"
   ]
  },
  {
   "cell_type": "code",
   "execution_count": 39,
   "metadata": {},
   "outputs": [
    {
     "data": {
      "text/latex": [
       "$\\displaystyle \\frac{3 \\left(s - 2 \\cos{\\left(x_{0} \\right)}\\right)}{s^{2} \\left(\\sin{\\left(x_{0} \\right)} + 1\\right)}$"
      ],
      "text/plain": [
       "3*(s - 2*cos(x_0))/(s**2*(sin(x_0) + 1))"
      ]
     },
     "execution_count": 39,
     "metadata": {},
     "output_type": "execute_result"
    }
   ],
   "source": [
    "step_ratio = (loss_diff/kl_diff).subs(x-x_0,s)\n",
    "step_ratio"
   ]
  },
  {
   "cell_type": "code",
   "execution_count": 45,
   "metadata": {},
   "outputs": [],
   "source": [
    "solutions = solve(step_ratio-c,s)"
   ]
  },
  {
   "cell_type": "code",
   "execution_count": 48,
   "metadata": {},
   "outputs": [
    {
     "data": {
      "text/latex": [
       "$\\displaystyle \\frac{\\frac{3}{2} - \\frac{\\sqrt{- 12 c \\sin{\\left(2 x_{0} \\right)} - 24 c \\cos{\\left(x_{0} \\right)} + 9}}{2}}{c \\left(\\sin{\\left(x_{0} \\right)} + 1\\right)}$"
      ],
      "text/plain": [
       "(3/2 - sqrt(-12*c*sin(2*x_0) - 24*c*cos(x_0) + 9)/2)/(c*(sin(x_0) + 1))"
      ]
     },
     "execution_count": 48,
     "metadata": {},
     "output_type": "execute_result"
    }
   ],
   "source": [
    "simplify(solutions[0])"
   ]
  },
  {
   "cell_type": "code",
   "execution_count": 55,
   "metadata": {},
   "outputs": [
    {
     "data": {
      "text/latex": [
       "$\\displaystyle \\frac{\\sqrt{- 12 c \\sin{\\left(2 x_{0} \\right)} - 24 c \\cos{\\left(x_{0} \\right)} + 9}}{2 c \\sin{\\left(x_{0} \\right)} + 2 c} + \\frac{3}{2 c \\sin{\\left(x_{0} \\right)} + 2 c}$"
      ],
      "text/plain": [
       "sqrt(-12*c*sin(2*x_0) - 24*c*cos(x_0) + 9)/(2*c*sin(x_0) + 2*c) + 3/(2*c*sin(x_0) + 2*c)"
      ]
     },
     "execution_count": 55,
     "metadata": {},
     "output_type": "execute_result"
    }
   ],
   "source": [
    "step_size = sympy.expand(solutions[1])\n",
    "step_size"
   ]
  },
  {
   "cell_type": "code",
   "execution_count": 57,
   "metadata": {},
   "outputs": [
    {
     "data": {
      "text/latex": [
       "$\\displaystyle \\frac{\\sqrt{3} \\left(\\sqrt{- 2 \\sqrt{3} \\sin{\\left(2 x_{0} \\right)} - 4 \\sqrt{3} \\cos{\\left(x_{0} \\right)} + 9} + 3\\right)}{\\sin{\\left(x_{0} \\right)} + 1}$"
      ],
      "text/plain": [
       "sqrt(3)*(sqrt(-2*sqrt(3)*sin(2*x_0) - 4*sqrt(3)*cos(x_0) + 9) + 3)/(sin(x_0) + 1)"
      ]
     },
     "execution_count": 57,
     "metadata": {},
     "output_type": "execute_result"
    }
   ],
   "source": [
    "simplify(step_size.subs(c,1/(2*sympy.sqrt(3))))"
   ]
  },
  {
   "cell_type": "code",
   "execution_count": 20,
   "metadata": {},
   "outputs": [],
   "source": [
    "x_0 = symbols('x_0')"
   ]
  },
  {
   "cell_type": "code",
   "execution_count": 25,
   "metadata": {},
   "outputs": [
    {
     "data": {
      "text/latex": [
       "$\\displaystyle - \\frac{\\cos{\\left(\\frac{x}{2} + \\frac{\\pi}{4} \\right)}}{\\sin{\\left(\\frac{x}{2} + \\frac{\\pi}{4} \\right)}}$"
      ],
      "text/plain": [
       "-cos(x/2 + pi/4)/sin(x/2 + pi/4)"
      ]
     },
     "execution_count": 25,
     "metadata": {},
     "output_type": "execute_result"
    }
   ],
   "source": [
    "l.diff(x)"
   ]
  },
  {
   "cell_type": "code",
   "execution_count": 60,
   "metadata": {},
   "outputs": [
    {
     "data": {
      "text/latex": [
       "$\\displaystyle \\frac{\\sqrt{3} \\cdot \\left(4 c \\sin{\\left(x_{0} \\right)} - c \\cos{\\left(2 x_{0} \\right)} + 3 c - \\frac{\\sqrt{- 12 c \\sin{\\left(2 x_{0} \\right)} - 24 c \\cos{\\left(x_{0} \\right)} + 9} \\cos{\\left(x_{0} \\right)}}{2} - \\frac{3 \\cos{\\left(x_{0} \\right)}}{2}\\right)}{c \\left(\\sin{\\left(x_{0} \\right)} + 1\\right)^{2} \\sqrt{- 4 c \\sin{\\left(2 x_{0} \\right)} - 8 c \\cos{\\left(x_{0} \\right)} + 3}}$"
      ],
      "text/plain": [
       "sqrt(3)*(4*c*sin(x_0) - c*cos(2*x_0) + 3*c - sqrt(-12*c*sin(2*x_0) - 24*c*cos(x_0) + 9)*cos(x_0)/2 - 3*cos(x_0)/2)/(c*(sin(x_0) + 1)**2*sqrt(-4*c*sin(2*x_0) - 8*c*cos(x_0) + 3))"
      ]
     },
     "execution_count": 60,
     "metadata": {},
     "output_type": "execute_result"
    }
   ],
   "source": [
    "simplify(step_size.diff(x_0))"
   ]
  },
  {
   "cell_type": "code",
   "execution_count": 61,
   "metadata": {},
   "outputs": [
    {
     "data": {
      "text/plain": [
       "[-pi, pi]"
      ]
     },
     "execution_count": 61,
     "metadata": {},
     "output_type": "execute_result"
    }
   ],
   "source": [
    "solve(step_size.diff(x_0),x_0)"
   ]
  },
  {
   "cell_type": "code",
   "execution_count": 62,
   "metadata": {},
   "outputs": [
    {
     "data": {
      "text/latex": [
       "$\\displaystyle \\sin^{2}{\\left(\\frac{x}{2} + \\frac{\\pi}{4} \\right)}$"
      ],
      "text/plain": [
       "sin(x/2 + pi/4)**2"
      ]
     },
     "execution_count": 62,
     "metadata": {},
     "output_type": "execute_result"
    }
   ],
   "source": [
    "p"
   ]
  },
  {
   "cell_type": "code",
   "execution_count": 67,
   "metadata": {},
   "outputs": [
    {
     "data": {
      "text/latex": [
       "$\\displaystyle \\sin^{2}{\\left(\\frac{x_{0}}{2} + \\frac{\\pi}{4} \\right)}$"
      ],
      "text/plain": [
       "sin(x_0/2 + pi/4)**2"
      ]
     },
     "execution_count": 67,
     "metadata": {},
     "output_type": "execute_result"
    }
   ],
   "source": [
    "p_0 = sympy.sin(x_0/2+sympy.pi/4)**2\n",
    "p_0"
   ]
  },
  {
   "cell_type": "code",
   "execution_count": 77,
   "metadata": {},
   "outputs": [],
   "source": [
    "kl = (-p_0*sympy.log(p) - (1-p_0)*sympy.log(1-p)).subs(x,s+x_0)"
   ]
  },
  {
   "cell_type": "code",
   "execution_count": 78,
   "metadata": {},
   "outputs": [
    {
     "data": {
      "text/latex": [
       "$\\displaystyle - \\left(1 - \\sin^{2}{\\left(\\frac{x_{0}}{2} + \\frac{\\pi}{4} \\right)}\\right) \\log{\\left(1 - \\sin^{2}{\\left(\\frac{s}{2} + \\frac{x_{0}}{2} + \\frac{\\pi}{4} \\right)} \\right)} - \\log{\\left(\\sin^{2}{\\left(\\frac{s}{2} + \\frac{x_{0}}{2} + \\frac{\\pi}{4} \\right)} \\right)} \\sin^{2}{\\left(\\frac{x_{0}}{2} + \\frac{\\pi}{4} \\right)}$"
      ],
      "text/plain": [
       "-(1 - sin(x_0/2 + pi/4)**2)*log(1 - sin(s/2 + x_0/2 + pi/4)**2) - log(sin(s/2 + x_0/2 + pi/4)**2)*sin(x_0/2 + pi/4)**2"
      ]
     },
     "execution_count": 78,
     "metadata": {},
     "output_type": "execute_result"
    }
   ],
   "source": [
    "kl"
   ]
  },
  {
   "cell_type": "code",
   "execution_count": 80,
   "metadata": {},
   "outputs": [
    {
     "data": {
      "text/latex": [
       "$\\displaystyle - \\log{\\left(\\sin^{2}{\\left(\\frac{x_{0}}{2} + \\frac{\\pi}{4} \\right)} \\right)} + \\log{\\left(\\sin^{2}{\\left(\\frac{s}{2} + \\frac{x_{0}}{2} + \\frac{\\pi}{4} \\right)} \\right)}$"
      ],
      "text/plain": [
       "-log(sin(x_0/2 + pi/4)**2) + log(sin(s/2 + x_0/2 + pi/4)**2)"
      ]
     },
     "execution_count": 80,
     "metadata": {},
     "output_type": "execute_result"
    }
   ],
   "source": [
    "loss_diff = sympy.log(p.subs(x,s+x_0)) - sympy.log(p_0)\n",
    "loss_diff"
   ]
  },
  {
   "cell_type": "code",
   "execution_count": 90,
   "metadata": {},
   "outputs": [],
   "source": [
    "objective = simplify(loss_diff/kl)"
   ]
  },
  {
   "cell_type": "code",
   "execution_count": 92,
   "metadata": {},
   "outputs": [
    {
     "data": {
      "text/latex": [
       "$\\displaystyle s \\left(- \\frac{4 \\log{\\left(1 - \\sin{\\left(x_{0} \\right)} \\right)} \\sin{\\left(x_{0} \\right)} \\cos{\\left(x_{0} \\right)}}{2 \\log{\\left(1 - \\sin{\\left(x_{0} \\right)} \\right)}^{2} \\sin^{3}{\\left(x_{0} \\right)} - 2 \\log{\\left(1 - \\sin{\\left(x_{0} \\right)} \\right)}^{2} \\sin^{2}{\\left(x_{0} \\right)} - 2 \\log{\\left(1 - \\sin{\\left(x_{0} \\right)} \\right)}^{2} \\sin{\\left(x_{0} \\right)} + 2 \\log{\\left(1 - \\sin{\\left(x_{0} \\right)} \\right)}^{2} - 4 \\log{\\left(1 - \\sin{\\left(x_{0} \\right)} \\right)} \\log{\\left(\\sin{\\left(x_{0} \\right)} + 1 \\right)} \\sin^{3}{\\left(x_{0} \\right)} - 4 \\log{\\left(1 - \\sin{\\left(x_{0} \\right)} \\right)} \\log{\\left(\\sin{\\left(x_{0} \\right)} + 1 \\right)} \\sin^{2}{\\left(x_{0} \\right)} + 4 \\log{\\left(1 - \\sin{\\left(x_{0} \\right)} \\right)} \\log{\\left(\\sin{\\left(x_{0} \\right)} + 1 \\right)} \\sin{\\left(x_{0} \\right)} + 4 \\log{\\left(1 - \\sin{\\left(x_{0} \\right)} \\right)} \\log{\\left(\\sin{\\left(x_{0} \\right)} + 1 \\right)} + 8 \\log{\\left(2 \\right)} \\log{\\left(1 - \\sin{\\left(x_{0} \\right)} \\right)} \\sin^{2}{\\left(x_{0} \\right)} - 8 \\log{\\left(2 \\right)} \\log{\\left(1 - \\sin{\\left(x_{0} \\right)} \\right)} + 2 \\log{\\left(\\sin{\\left(x_{0} \\right)} + 1 \\right)}^{2} \\sin^{3}{\\left(x_{0} \\right)} + 6 \\log{\\left(\\sin{\\left(x_{0} \\right)} + 1 \\right)}^{2} \\sin^{2}{\\left(x_{0} \\right)} + 6 \\log{\\left(\\sin{\\left(x_{0} \\right)} + 1 \\right)}^{2} \\sin{\\left(x_{0} \\right)} + 2 \\log{\\left(\\sin{\\left(x_{0} \\right)} + 1 \\right)}^{2} - 8 \\log{\\left(2 \\right)} \\log{\\left(\\sin{\\left(x_{0} \\right)} + 1 \\right)} \\sin^{2}{\\left(x_{0} \\right)} - 16 \\log{\\left(2 \\right)} \\log{\\left(\\sin{\\left(x_{0} \\right)} + 1 \\right)} \\sin{\\left(x_{0} \\right)} - 8 \\log{\\left(2 \\right)} \\log{\\left(\\sin{\\left(x_{0} \\right)} + 1 \\right)} + 8 \\log{\\left(2 \\right)}^{2} \\sin{\\left(x_{0} \\right)} + 8 \\log{\\left(2 \\right)}^{2}} + \\frac{4 \\log{\\left(1 - \\sin{\\left(x_{0} \\right)} \\right)} \\cos{\\left(x_{0} \\right)}}{2 \\log{\\left(1 - \\sin{\\left(x_{0} \\right)} \\right)}^{2} \\sin^{3}{\\left(x_{0} \\right)} - 2 \\log{\\left(1 - \\sin{\\left(x_{0} \\right)} \\right)}^{2} \\sin^{2}{\\left(x_{0} \\right)} - 2 \\log{\\left(1 - \\sin{\\left(x_{0} \\right)} \\right)}^{2} \\sin{\\left(x_{0} \\right)} + 2 \\log{\\left(1 - \\sin{\\left(x_{0} \\right)} \\right)}^{2} - 4 \\log{\\left(1 - \\sin{\\left(x_{0} \\right)} \\right)} \\log{\\left(\\sin{\\left(x_{0} \\right)} + 1 \\right)} \\sin^{3}{\\left(x_{0} \\right)} - 4 \\log{\\left(1 - \\sin{\\left(x_{0} \\right)} \\right)} \\log{\\left(\\sin{\\left(x_{0} \\right)} + 1 \\right)} \\sin^{2}{\\left(x_{0} \\right)} + 4 \\log{\\left(1 - \\sin{\\left(x_{0} \\right)} \\right)} \\log{\\left(\\sin{\\left(x_{0} \\right)} + 1 \\right)} \\sin{\\left(x_{0} \\right)} + 4 \\log{\\left(1 - \\sin{\\left(x_{0} \\right)} \\right)} \\log{\\left(\\sin{\\left(x_{0} \\right)} + 1 \\right)} + 8 \\log{\\left(2 \\right)} \\log{\\left(1 - \\sin{\\left(x_{0} \\right)} \\right)} \\sin^{2}{\\left(x_{0} \\right)} - 8 \\log{\\left(2 \\right)} \\log{\\left(1 - \\sin{\\left(x_{0} \\right)} \\right)} + 2 \\log{\\left(\\sin{\\left(x_{0} \\right)} + 1 \\right)}^{2} \\sin^{3}{\\left(x_{0} \\right)} + 6 \\log{\\left(\\sin{\\left(x_{0} \\right)} + 1 \\right)}^{2} \\sin^{2}{\\left(x_{0} \\right)} + 6 \\log{\\left(\\sin{\\left(x_{0} \\right)} + 1 \\right)}^{2} \\sin{\\left(x_{0} \\right)} + 2 \\log{\\left(\\sin{\\left(x_{0} \\right)} + 1 \\right)}^{2} - 8 \\log{\\left(2 \\right)} \\log{\\left(\\sin{\\left(x_{0} \\right)} + 1 \\right)} \\sin^{2}{\\left(x_{0} \\right)} - 16 \\log{\\left(2 \\right)} \\log{\\left(\\sin{\\left(x_{0} \\right)} + 1 \\right)} \\sin{\\left(x_{0} \\right)} - 8 \\log{\\left(2 \\right)} \\log{\\left(\\sin{\\left(x_{0} \\right)} + 1 \\right)} + 8 \\log{\\left(2 \\right)}^{2} \\sin{\\left(x_{0} \\right)} + 8 \\log{\\left(2 \\right)}^{2}} + \\frac{4 \\log{\\left(\\sin{\\left(x_{0} \\right)} + 1 \\right)} \\sin{\\left(x_{0} \\right)} \\cos{\\left(x_{0} \\right)}}{2 \\log{\\left(1 - \\sin{\\left(x_{0} \\right)} \\right)}^{2} \\sin^{3}{\\left(x_{0} \\right)} - 2 \\log{\\left(1 - \\sin{\\left(x_{0} \\right)} \\right)}^{2} \\sin^{2}{\\left(x_{0} \\right)} - 2 \\log{\\left(1 - \\sin{\\left(x_{0} \\right)} \\right)}^{2} \\sin{\\left(x_{0} \\right)} + 2 \\log{\\left(1 - \\sin{\\left(x_{0} \\right)} \\right)}^{2} - 4 \\log{\\left(1 - \\sin{\\left(x_{0} \\right)} \\right)} \\log{\\left(\\sin{\\left(x_{0} \\right)} + 1 \\right)} \\sin^{3}{\\left(x_{0} \\right)} - 4 \\log{\\left(1 - \\sin{\\left(x_{0} \\right)} \\right)} \\log{\\left(\\sin{\\left(x_{0} \\right)} + 1 \\right)} \\sin^{2}{\\left(x_{0} \\right)} + 4 \\log{\\left(1 - \\sin{\\left(x_{0} \\right)} \\right)} \\log{\\left(\\sin{\\left(x_{0} \\right)} + 1 \\right)} \\sin{\\left(x_{0} \\right)} + 4 \\log{\\left(1 - \\sin{\\left(x_{0} \\right)} \\right)} \\log{\\left(\\sin{\\left(x_{0} \\right)} + 1 \\right)} + 8 \\log{\\left(2 \\right)} \\log{\\left(1 - \\sin{\\left(x_{0} \\right)} \\right)} \\sin^{2}{\\left(x_{0} \\right)} - 8 \\log{\\left(2 \\right)} \\log{\\left(1 - \\sin{\\left(x_{0} \\right)} \\right)} + 2 \\log{\\left(\\sin{\\left(x_{0} \\right)} + 1 \\right)}^{2} \\sin^{3}{\\left(x_{0} \\right)} + 6 \\log{\\left(\\sin{\\left(x_{0} \\right)} + 1 \\right)}^{2} \\sin^{2}{\\left(x_{0} \\right)} + 6 \\log{\\left(\\sin{\\left(x_{0} \\right)} + 1 \\right)}^{2} \\sin{\\left(x_{0} \\right)} + 2 \\log{\\left(\\sin{\\left(x_{0} \\right)} + 1 \\right)}^{2} - 8 \\log{\\left(2 \\right)} \\log{\\left(\\sin{\\left(x_{0} \\right)} + 1 \\right)} \\sin^{2}{\\left(x_{0} \\right)} - 16 \\log{\\left(2 \\right)} \\log{\\left(\\sin{\\left(x_{0} \\right)} + 1 \\right)} \\sin{\\left(x_{0} \\right)} - 8 \\log{\\left(2 \\right)} \\log{\\left(\\sin{\\left(x_{0} \\right)} + 1 \\right)} + 8 \\log{\\left(2 \\right)}^{2} \\sin{\\left(x_{0} \\right)} + 8 \\log{\\left(2 \\right)}^{2}} + \\frac{4 \\log{\\left(\\sin{\\left(x_{0} \\right)} + 1 \\right)} \\cos{\\left(x_{0} \\right)}}{2 \\log{\\left(1 - \\sin{\\left(x_{0} \\right)} \\right)}^{2} \\sin^{3}{\\left(x_{0} \\right)} - 2 \\log{\\left(1 - \\sin{\\left(x_{0} \\right)} \\right)}^{2} \\sin^{2}{\\left(x_{0} \\right)} - 2 \\log{\\left(1 - \\sin{\\left(x_{0} \\right)} \\right)}^{2} \\sin{\\left(x_{0} \\right)} + 2 \\log{\\left(1 - \\sin{\\left(x_{0} \\right)} \\right)}^{2} - 4 \\log{\\left(1 - \\sin{\\left(x_{0} \\right)} \\right)} \\log{\\left(\\sin{\\left(x_{0} \\right)} + 1 \\right)} \\sin^{3}{\\left(x_{0} \\right)} - 4 \\log{\\left(1 - \\sin{\\left(x_{0} \\right)} \\right)} \\log{\\left(\\sin{\\left(x_{0} \\right)} + 1 \\right)} \\sin^{2}{\\left(x_{0} \\right)} + 4 \\log{\\left(1 - \\sin{\\left(x_{0} \\right)} \\right)} \\log{\\left(\\sin{\\left(x_{0} \\right)} + 1 \\right)} \\sin{\\left(x_{0} \\right)} + 4 \\log{\\left(1 - \\sin{\\left(x_{0} \\right)} \\right)} \\log{\\left(\\sin{\\left(x_{0} \\right)} + 1 \\right)} + 8 \\log{\\left(2 \\right)} \\log{\\left(1 - \\sin{\\left(x_{0} \\right)} \\right)} \\sin^{2}{\\left(x_{0} \\right)} - 8 \\log{\\left(2 \\right)} \\log{\\left(1 - \\sin{\\left(x_{0} \\right)} \\right)} + 2 \\log{\\left(\\sin{\\left(x_{0} \\right)} + 1 \\right)}^{2} \\sin^{3}{\\left(x_{0} \\right)} + 6 \\log{\\left(\\sin{\\left(x_{0} \\right)} + 1 \\right)}^{2} \\sin^{2}{\\left(x_{0} \\right)} + 6 \\log{\\left(\\sin{\\left(x_{0} \\right)} + 1 \\right)}^{2} \\sin{\\left(x_{0} \\right)} + 2 \\log{\\left(\\sin{\\left(x_{0} \\right)} + 1 \\right)}^{2} - 8 \\log{\\left(2 \\right)} \\log{\\left(\\sin{\\left(x_{0} \\right)} + 1 \\right)} \\sin^{2}{\\left(x_{0} \\right)} - 16 \\log{\\left(2 \\right)} \\log{\\left(\\sin{\\left(x_{0} \\right)} + 1 \\right)} \\sin{\\left(x_{0} \\right)} - 8 \\log{\\left(2 \\right)} \\log{\\left(\\sin{\\left(x_{0} \\right)} + 1 \\right)} + 8 \\log{\\left(2 \\right)}^{2} \\sin{\\left(x_{0} \\right)} + 8 \\log{\\left(2 \\right)}^{2}} - \\frac{8 \\log{\\left(2 \\right)} \\cos{\\left(x_{0} \\right)}}{2 \\log{\\left(1 - \\sin{\\left(x_{0} \\right)} \\right)}^{2} \\sin^{3}{\\left(x_{0} \\right)} - 2 \\log{\\left(1 - \\sin{\\left(x_{0} \\right)} \\right)}^{2} \\sin^{2}{\\left(x_{0} \\right)} - 2 \\log{\\left(1 - \\sin{\\left(x_{0} \\right)} \\right)}^{2} \\sin{\\left(x_{0} \\right)} + 2 \\log{\\left(1 - \\sin{\\left(x_{0} \\right)} \\right)}^{2} - 4 \\log{\\left(1 - \\sin{\\left(x_{0} \\right)} \\right)} \\log{\\left(\\sin{\\left(x_{0} \\right)} + 1 \\right)} \\sin^{3}{\\left(x_{0} \\right)} - 4 \\log{\\left(1 - \\sin{\\left(x_{0} \\right)} \\right)} \\log{\\left(\\sin{\\left(x_{0} \\right)} + 1 \\right)} \\sin^{2}{\\left(x_{0} \\right)} + 4 \\log{\\left(1 - \\sin{\\left(x_{0} \\right)} \\right)} \\log{\\left(\\sin{\\left(x_{0} \\right)} + 1 \\right)} \\sin{\\left(x_{0} \\right)} + 4 \\log{\\left(1 - \\sin{\\left(x_{0} \\right)} \\right)} \\log{\\left(\\sin{\\left(x_{0} \\right)} + 1 \\right)} + 8 \\log{\\left(2 \\right)} \\log{\\left(1 - \\sin{\\left(x_{0} \\right)} \\right)} \\sin^{2}{\\left(x_{0} \\right)} - 8 \\log{\\left(2 \\right)} \\log{\\left(1 - \\sin{\\left(x_{0} \\right)} \\right)} + 2 \\log{\\left(\\sin{\\left(x_{0} \\right)} + 1 \\right)}^{2} \\sin^{3}{\\left(x_{0} \\right)} + 6 \\log{\\left(\\sin{\\left(x_{0} \\right)} + 1 \\right)}^{2} \\sin^{2}{\\left(x_{0} \\right)} + 6 \\log{\\left(\\sin{\\left(x_{0} \\right)} + 1 \\right)}^{2} \\sin{\\left(x_{0} \\right)} + 2 \\log{\\left(\\sin{\\left(x_{0} \\right)} + 1 \\right)}^{2} - 8 \\log{\\left(2 \\right)} \\log{\\left(\\sin{\\left(x_{0} \\right)} + 1 \\right)} \\sin^{2}{\\left(x_{0} \\right)} - 16 \\log{\\left(2 \\right)} \\log{\\left(\\sin{\\left(x_{0} \\right)} + 1 \\right)} \\sin{\\left(x_{0} \\right)} - 8 \\log{\\left(2 \\right)} \\log{\\left(\\sin{\\left(x_{0} \\right)} + 1 \\right)} + 8 \\log{\\left(2 \\right)}^{2} \\sin{\\left(x_{0} \\right)} + 8 \\log{\\left(2 \\right)}^{2}} - \\frac{4 \\cos{\\left(x_{0} \\right)}}{- \\log{\\left(1 - \\sin{\\left(x_{0} \\right)} \\right)} \\sin^{2}{\\left(x_{0} \\right)} + \\log{\\left(1 - \\sin{\\left(x_{0} \\right)} \\right)} + \\log{\\left(\\sin{\\left(x_{0} \\right)} + 1 \\right)} \\sin^{2}{\\left(x_{0} \\right)} + 2 \\log{\\left(\\sin{\\left(x_{0} \\right)} + 1 \\right)} \\sin{\\left(x_{0} \\right)} + \\log{\\left(\\sin{\\left(x_{0} \\right)} + 1 \\right)} - 2 \\log{\\left(2 \\right)} \\sin{\\left(x_{0} \\right)} - 2 \\log{\\left(2 \\right)}}\\right) + s^{2} \\cdot \\left(\\frac{4 \\log{\\left(1 - \\sin{\\left(x_{0} \\right)} \\right)} \\sin{\\left(x_{0} \\right)} \\cos^{2}{\\left(x_{0} \\right)}}{4 \\log{\\left(1 - \\sin{\\left(x_{0} \\right)} \\right)}^{2} \\sin^{4}{\\left(x_{0} \\right)} - 8 \\log{\\left(1 - \\sin{\\left(x_{0} \\right)} \\right)}^{2} \\sin^{2}{\\left(x_{0} \\right)} + 4 \\log{\\left(1 - \\sin{\\left(x_{0} \\right)} \\right)}^{2} - 8 \\log{\\left(1 - \\sin{\\left(x_{0} \\right)} \\right)} \\log{\\left(\\sin{\\left(x_{0} \\right)} + 1 \\right)} \\sin^{4}{\\left(x_{0} \\right)} - 16 \\log{\\left(1 - \\sin{\\left(x_{0} \\right)} \\right)} \\log{\\left(\\sin{\\left(x_{0} \\right)} + 1 \\right)} \\sin^{3}{\\left(x_{0} \\right)} + 16 \\log{\\left(1 - \\sin{\\left(x_{0} \\right)} \\right)} \\log{\\left(\\sin{\\left(x_{0} \\right)} + 1 \\right)} \\sin{\\left(x_{0} \\right)} + 8 \\log{\\left(1 - \\sin{\\left(x_{0} \\right)} \\right)} \\log{\\left(\\sin{\\left(x_{0} \\right)} + 1 \\right)} + 16 \\log{\\left(2 \\right)} \\log{\\left(1 - \\sin{\\left(x_{0} \\right)} \\right)} \\sin^{3}{\\left(x_{0} \\right)} + 16 \\log{\\left(2 \\right)} \\log{\\left(1 - \\sin{\\left(x_{0} \\right)} \\right)} \\sin^{2}{\\left(x_{0} \\right)} - 16 \\log{\\left(2 \\right)} \\log{\\left(1 - \\sin{\\left(x_{0} \\right)} \\right)} \\sin{\\left(x_{0} \\right)} - 16 \\log{\\left(2 \\right)} \\log{\\left(1 - \\sin{\\left(x_{0} \\right)} \\right)} + 4 \\log{\\left(\\sin{\\left(x_{0} \\right)} + 1 \\right)}^{2} \\sin^{4}{\\left(x_{0} \\right)} + 16 \\log{\\left(\\sin{\\left(x_{0} \\right)} + 1 \\right)}^{2} \\sin^{3}{\\left(x_{0} \\right)} + 24 \\log{\\left(\\sin{\\left(x_{0} \\right)} + 1 \\right)}^{2} \\sin^{2}{\\left(x_{0} \\right)} + 16 \\log{\\left(\\sin{\\left(x_{0} \\right)} + 1 \\right)}^{2} \\sin{\\left(x_{0} \\right)} + 4 \\log{\\left(\\sin{\\left(x_{0} \\right)} + 1 \\right)}^{2} - 16 \\log{\\left(2 \\right)} \\log{\\left(\\sin{\\left(x_{0} \\right)} + 1 \\right)} \\sin^{3}{\\left(x_{0} \\right)} - 48 \\log{\\left(2 \\right)} \\log{\\left(\\sin{\\left(x_{0} \\right)} + 1 \\right)} \\sin^{2}{\\left(x_{0} \\right)} - 48 \\log{\\left(2 \\right)} \\log{\\left(\\sin{\\left(x_{0} \\right)} + 1 \\right)} \\sin{\\left(x_{0} \\right)} - 16 \\log{\\left(2 \\right)} \\log{\\left(\\sin{\\left(x_{0} \\right)} + 1 \\right)} + 16 \\log{\\left(2 \\right)}^{2} \\sin^{2}{\\left(x_{0} \\right)} + 32 \\log{\\left(2 \\right)}^{2} \\sin{\\left(x_{0} \\right)} + 16 \\log{\\left(2 \\right)}^{2}} - \\frac{4 \\log{\\left(1 - \\sin{\\left(x_{0} \\right)} \\right)} \\cos^{2}{\\left(x_{0} \\right)}}{4 \\log{\\left(1 - \\sin{\\left(x_{0} \\right)} \\right)}^{2} \\sin^{4}{\\left(x_{0} \\right)} - 8 \\log{\\left(1 - \\sin{\\left(x_{0} \\right)} \\right)}^{2} \\sin^{2}{\\left(x_{0} \\right)} + 4 \\log{\\left(1 - \\sin{\\left(x_{0} \\right)} \\right)}^{2} - 8 \\log{\\left(1 - \\sin{\\left(x_{0} \\right)} \\right)} \\log{\\left(\\sin{\\left(x_{0} \\right)} + 1 \\right)} \\sin^{4}{\\left(x_{0} \\right)} - 16 \\log{\\left(1 - \\sin{\\left(x_{0} \\right)} \\right)} \\log{\\left(\\sin{\\left(x_{0} \\right)} + 1 \\right)} \\sin^{3}{\\left(x_{0} \\right)} + 16 \\log{\\left(1 - \\sin{\\left(x_{0} \\right)} \\right)} \\log{\\left(\\sin{\\left(x_{0} \\right)} + 1 \\right)} \\sin{\\left(x_{0} \\right)} + 8 \\log{\\left(1 - \\sin{\\left(x_{0} \\right)} \\right)} \\log{\\left(\\sin{\\left(x_{0} \\right)} + 1 \\right)} + 16 \\log{\\left(2 \\right)} \\log{\\left(1 - \\sin{\\left(x_{0} \\right)} \\right)} \\sin^{3}{\\left(x_{0} \\right)} + 16 \\log{\\left(2 \\right)} \\log{\\left(1 - \\sin{\\left(x_{0} \\right)} \\right)} \\sin^{2}{\\left(x_{0} \\right)} - 16 \\log{\\left(2 \\right)} \\log{\\left(1 - \\sin{\\left(x_{0} \\right)} \\right)} \\sin{\\left(x_{0} \\right)} - 16 \\log{\\left(2 \\right)} \\log{\\left(1 - \\sin{\\left(x_{0} \\right)} \\right)} + 4 \\log{\\left(\\sin{\\left(x_{0} \\right)} + 1 \\right)}^{2} \\sin^{4}{\\left(x_{0} \\right)} + 16 \\log{\\left(\\sin{\\left(x_{0} \\right)} + 1 \\right)}^{2} \\sin^{3}{\\left(x_{0} \\right)} + 24 \\log{\\left(\\sin{\\left(x_{0} \\right)} + 1 \\right)}^{2} \\sin^{2}{\\left(x_{0} \\right)} + 16 \\log{\\left(\\sin{\\left(x_{0} \\right)} + 1 \\right)}^{2} \\sin{\\left(x_{0} \\right)} + 4 \\log{\\left(\\sin{\\left(x_{0} \\right)} + 1 \\right)}^{2} - 16 \\log{\\left(2 \\right)} \\log{\\left(\\sin{\\left(x_{0} \\right)} + 1 \\right)} \\sin^{3}{\\left(x_{0} \\right)} - 48 \\log{\\left(2 \\right)} \\log{\\left(\\sin{\\left(x_{0} \\right)} + 1 \\right)} \\sin^{2}{\\left(x_{0} \\right)} - 48 \\log{\\left(2 \\right)} \\log{\\left(\\sin{\\left(x_{0} \\right)} + 1 \\right)} \\sin{\\left(x_{0} \\right)} - 16 \\log{\\left(2 \\right)} \\log{\\left(\\sin{\\left(x_{0} \\right)} + 1 \\right)} + 16 \\log{\\left(2 \\right)}^{2} \\sin^{2}{\\left(x_{0} \\right)} + 32 \\log{\\left(2 \\right)}^{2} \\sin{\\left(x_{0} \\right)} + 16 \\log{\\left(2 \\right)}^{2}} - \\frac{4 \\log{\\left(\\sin{\\left(x_{0} \\right)} + 1 \\right)} \\sin{\\left(x_{0} \\right)} \\cos^{2}{\\left(x_{0} \\right)}}{4 \\log{\\left(1 - \\sin{\\left(x_{0} \\right)} \\right)}^{2} \\sin^{4}{\\left(x_{0} \\right)} - 8 \\log{\\left(1 - \\sin{\\left(x_{0} \\right)} \\right)}^{2} \\sin^{2}{\\left(x_{0} \\right)} + 4 \\log{\\left(1 - \\sin{\\left(x_{0} \\right)} \\right)}^{2} - 8 \\log{\\left(1 - \\sin{\\left(x_{0} \\right)} \\right)} \\log{\\left(\\sin{\\left(x_{0} \\right)} + 1 \\right)} \\sin^{4}{\\left(x_{0} \\right)} - 16 \\log{\\left(1 - \\sin{\\left(x_{0} \\right)} \\right)} \\log{\\left(\\sin{\\left(x_{0} \\right)} + 1 \\right)} \\sin^{3}{\\left(x_{0} \\right)} + 16 \\log{\\left(1 - \\sin{\\left(x_{0} \\right)} \\right)} \\log{\\left(\\sin{\\left(x_{0} \\right)} + 1 \\right)} \\sin{\\left(x_{0} \\right)} + 8 \\log{\\left(1 - \\sin{\\left(x_{0} \\right)} \\right)} \\log{\\left(\\sin{\\left(x_{0} \\right)} + 1 \\right)} + 16 \\log{\\left(2 \\right)} \\log{\\left(1 - \\sin{\\left(x_{0} \\right)} \\right)} \\sin^{3}{\\left(x_{0} \\right)} + 16 \\log{\\left(2 \\right)} \\log{\\left(1 - \\sin{\\left(x_{0} \\right)} \\right)} \\sin^{2}{\\left(x_{0} \\right)} - 16 \\log{\\left(2 \\right)} \\log{\\left(1 - \\sin{\\left(x_{0} \\right)} \\right)} \\sin{\\left(x_{0} \\right)} - 16 \\log{\\left(2 \\right)} \\log{\\left(1 - \\sin{\\left(x_{0} \\right)} \\right)} + 4 \\log{\\left(\\sin{\\left(x_{0} \\right)} + 1 \\right)}^{2} \\sin^{4}{\\left(x_{0} \\right)} + 16 \\log{\\left(\\sin{\\left(x_{0} \\right)} + 1 \\right)}^{2} \\sin^{3}{\\left(x_{0} \\right)} + 24 \\log{\\left(\\sin{\\left(x_{0} \\right)} + 1 \\right)}^{2} \\sin^{2}{\\left(x_{0} \\right)} + 16 \\log{\\left(\\sin{\\left(x_{0} \\right)} + 1 \\right)}^{2} \\sin{\\left(x_{0} \\right)} + 4 \\log{\\left(\\sin{\\left(x_{0} \\right)} + 1 \\right)}^{2} - 16 \\log{\\left(2 \\right)} \\log{\\left(\\sin{\\left(x_{0} \\right)} + 1 \\right)} \\sin^{3}{\\left(x_{0} \\right)} - 48 \\log{\\left(2 \\right)} \\log{\\left(\\sin{\\left(x_{0} \\right)} + 1 \\right)} \\sin^{2}{\\left(x_{0} \\right)} - 48 \\log{\\left(2 \\right)} \\log{\\left(\\sin{\\left(x_{0} \\right)} + 1 \\right)} \\sin{\\left(x_{0} \\right)} - 16 \\log{\\left(2 \\right)} \\log{\\left(\\sin{\\left(x_{0} \\right)} + 1 \\right)} + 16 \\log{\\left(2 \\right)}^{2} \\sin^{2}{\\left(x_{0} \\right)} + 32 \\log{\\left(2 \\right)}^{2} \\sin{\\left(x_{0} \\right)} + 16 \\log{\\left(2 \\right)}^{2}} - \\frac{4 \\log{\\left(\\sin{\\left(x_{0} \\right)} + 1 \\right)} \\cos^{2}{\\left(x_{0} \\right)}}{4 \\log{\\left(1 - \\sin{\\left(x_{0} \\right)} \\right)}^{2} \\sin^{4}{\\left(x_{0} \\right)} - 8 \\log{\\left(1 - \\sin{\\left(x_{0} \\right)} \\right)}^{2} \\sin^{2}{\\left(x_{0} \\right)} + 4 \\log{\\left(1 - \\sin{\\left(x_{0} \\right)} \\right)}^{2} - 8 \\log{\\left(1 - \\sin{\\left(x_{0} \\right)} \\right)} \\log{\\left(\\sin{\\left(x_{0} \\right)} + 1 \\right)} \\sin^{4}{\\left(x_{0} \\right)} - 16 \\log{\\left(1 - \\sin{\\left(x_{0} \\right)} \\right)} \\log{\\left(\\sin{\\left(x_{0} \\right)} + 1 \\right)} \\sin^{3}{\\left(x_{0} \\right)} + 16 \\log{\\left(1 - \\sin{\\left(x_{0} \\right)} \\right)} \\log{\\left(\\sin{\\left(x_{0} \\right)} + 1 \\right)} \\sin{\\left(x_{0} \\right)} + 8 \\log{\\left(1 - \\sin{\\left(x_{0} \\right)} \\right)} \\log{\\left(\\sin{\\left(x_{0} \\right)} + 1 \\right)} + 16 \\log{\\left(2 \\right)} \\log{\\left(1 - \\sin{\\left(x_{0} \\right)} \\right)} \\sin^{3}{\\left(x_{0} \\right)} + 16 \\log{\\left(2 \\right)} \\log{\\left(1 - \\sin{\\left(x_{0} \\right)} \\right)} \\sin^{2}{\\left(x_{0} \\right)} - 16 \\log{\\left(2 \\right)} \\log{\\left(1 - \\sin{\\left(x_{0} \\right)} \\right)} \\sin{\\left(x_{0} \\right)} - 16 \\log{\\left(2 \\right)} \\log{\\left(1 - \\sin{\\left(x_{0} \\right)} \\right)} + 4 \\log{\\left(\\sin{\\left(x_{0} \\right)} + 1 \\right)}^{2} \\sin^{4}{\\left(x_{0} \\right)} + 16 \\log{\\left(\\sin{\\left(x_{0} \\right)} + 1 \\right)}^{2} \\sin^{3}{\\left(x_{0} \\right)} + 24 \\log{\\left(\\sin{\\left(x_{0} \\right)} + 1 \\right)}^{2} \\sin^{2}{\\left(x_{0} \\right)} + 16 \\log{\\left(\\sin{\\left(x_{0} \\right)} + 1 \\right)}^{2} \\sin{\\left(x_{0} \\right)} + 4 \\log{\\left(\\sin{\\left(x_{0} \\right)} + 1 \\right)}^{2} - 16 \\log{\\left(2 \\right)} \\log{\\left(\\sin{\\left(x_{0} \\right)} + 1 \\right)} \\sin^{3}{\\left(x_{0} \\right)} - 48 \\log{\\left(2 \\right)} \\log{\\left(\\sin{\\left(x_{0} \\right)} + 1 \\right)} \\sin^{2}{\\left(x_{0} \\right)} - 48 \\log{\\left(2 \\right)} \\log{\\left(\\sin{\\left(x_{0} \\right)} + 1 \\right)} \\sin{\\left(x_{0} \\right)} - 16 \\log{\\left(2 \\right)} \\log{\\left(\\sin{\\left(x_{0} \\right)} + 1 \\right)} + 16 \\log{\\left(2 \\right)}^{2} \\sin^{2}{\\left(x_{0} \\right)} + 32 \\log{\\left(2 \\right)}^{2} \\sin{\\left(x_{0} \\right)} + 16 \\log{\\left(2 \\right)}^{2}} + \\frac{8 \\log{\\left(2 \\right)} \\cos^{2}{\\left(x_{0} \\right)}}{4 \\log{\\left(1 - \\sin{\\left(x_{0} \\right)} \\right)}^{2} \\sin^{4}{\\left(x_{0} \\right)} - 8 \\log{\\left(1 - \\sin{\\left(x_{0} \\right)} \\right)}^{2} \\sin^{2}{\\left(x_{0} \\right)} + 4 \\log{\\left(1 - \\sin{\\left(x_{0} \\right)} \\right)}^{2} - 8 \\log{\\left(1 - \\sin{\\left(x_{0} \\right)} \\right)} \\log{\\left(\\sin{\\left(x_{0} \\right)} + 1 \\right)} \\sin^{4}{\\left(x_{0} \\right)} - 16 \\log{\\left(1 - \\sin{\\left(x_{0} \\right)} \\right)} \\log{\\left(\\sin{\\left(x_{0} \\right)} + 1 \\right)} \\sin^{3}{\\left(x_{0} \\right)} + 16 \\log{\\left(1 - \\sin{\\left(x_{0} \\right)} \\right)} \\log{\\left(\\sin{\\left(x_{0} \\right)} + 1 \\right)} \\sin{\\left(x_{0} \\right)} + 8 \\log{\\left(1 - \\sin{\\left(x_{0} \\right)} \\right)} \\log{\\left(\\sin{\\left(x_{0} \\right)} + 1 \\right)} + 16 \\log{\\left(2 \\right)} \\log{\\left(1 - \\sin{\\left(x_{0} \\right)} \\right)} \\sin^{3}{\\left(x_{0} \\right)} + 16 \\log{\\left(2 \\right)} \\log{\\left(1 - \\sin{\\left(x_{0} \\right)} \\right)} \\sin^{2}{\\left(x_{0} \\right)} - 16 \\log{\\left(2 \\right)} \\log{\\left(1 - \\sin{\\left(x_{0} \\right)} \\right)} \\sin{\\left(x_{0} \\right)} - 16 \\log{\\left(2 \\right)} \\log{\\left(1 - \\sin{\\left(x_{0} \\right)} \\right)} + 4 \\log{\\left(\\sin{\\left(x_{0} \\right)} + 1 \\right)}^{2} \\sin^{4}{\\left(x_{0} \\right)} + 16 \\log{\\left(\\sin{\\left(x_{0} \\right)} + 1 \\right)}^{2} \\sin^{3}{\\left(x_{0} \\right)} + 24 \\log{\\left(\\sin{\\left(x_{0} \\right)} + 1 \\right)}^{2} \\sin^{2}{\\left(x_{0} \\right)} + 16 \\log{\\left(\\sin{\\left(x_{0} \\right)} + 1 \\right)}^{2} \\sin{\\left(x_{0} \\right)} + 4 \\log{\\left(\\sin{\\left(x_{0} \\right)} + 1 \\right)}^{2} - 16 \\log{\\left(2 \\right)} \\log{\\left(\\sin{\\left(x_{0} \\right)} + 1 \\right)} \\sin^{3}{\\left(x_{0} \\right)} - 48 \\log{\\left(2 \\right)} \\log{\\left(\\sin{\\left(x_{0} \\right)} + 1 \\right)} \\sin^{2}{\\left(x_{0} \\right)} - 48 \\log{\\left(2 \\right)} \\log{\\left(\\sin{\\left(x_{0} \\right)} + 1 \\right)} \\sin{\\left(x_{0} \\right)} - 16 \\log{\\left(2 \\right)} \\log{\\left(\\sin{\\left(x_{0} \\right)} + 1 \\right)} + 16 \\log{\\left(2 \\right)}^{2} \\sin^{2}{\\left(x_{0} \\right)} + 32 \\log{\\left(2 \\right)}^{2} \\sin{\\left(x_{0} \\right)} + 16 \\log{\\left(2 \\right)}^{2}} + \\frac{2 \\log{\\left(1 - \\sin{\\left(x_{0} \\right)} \\right)} \\sin^{2}{\\left(x_{0} \\right)}}{2 \\log{\\left(1 - \\sin{\\left(x_{0} \\right)} \\right)}^{2} \\sin^{3}{\\left(x_{0} \\right)} - 2 \\log{\\left(1 - \\sin{\\left(x_{0} \\right)} \\right)}^{2} \\sin^{2}{\\left(x_{0} \\right)} - 2 \\log{\\left(1 - \\sin{\\left(x_{0} \\right)} \\right)}^{2} \\sin{\\left(x_{0} \\right)} + 2 \\log{\\left(1 - \\sin{\\left(x_{0} \\right)} \\right)}^{2} - 4 \\log{\\left(1 - \\sin{\\left(x_{0} \\right)} \\right)} \\log{\\left(\\sin{\\left(x_{0} \\right)} + 1 \\right)} \\sin^{3}{\\left(x_{0} \\right)} - 4 \\log{\\left(1 - \\sin{\\left(x_{0} \\right)} \\right)} \\log{\\left(\\sin{\\left(x_{0} \\right)} + 1 \\right)} \\sin^{2}{\\left(x_{0} \\right)} + 4 \\log{\\left(1 - \\sin{\\left(x_{0} \\right)} \\right)} \\log{\\left(\\sin{\\left(x_{0} \\right)} + 1 \\right)} \\sin{\\left(x_{0} \\right)} + 4 \\log{\\left(1 - \\sin{\\left(x_{0} \\right)} \\right)} \\log{\\left(\\sin{\\left(x_{0} \\right)} + 1 \\right)} + 8 \\log{\\left(2 \\right)} \\log{\\left(1 - \\sin{\\left(x_{0} \\right)} \\right)} \\sin^{2}{\\left(x_{0} \\right)} - 8 \\log{\\left(2 \\right)} \\log{\\left(1 - \\sin{\\left(x_{0} \\right)} \\right)} + 2 \\log{\\left(\\sin{\\left(x_{0} \\right)} + 1 \\right)}^{2} \\sin^{3}{\\left(x_{0} \\right)} + 6 \\log{\\left(\\sin{\\left(x_{0} \\right)} + 1 \\right)}^{2} \\sin^{2}{\\left(x_{0} \\right)} + 6 \\log{\\left(\\sin{\\left(x_{0} \\right)} + 1 \\right)}^{2} \\sin{\\left(x_{0} \\right)} + 2 \\log{\\left(\\sin{\\left(x_{0} \\right)} + 1 \\right)}^{2} - 8 \\log{\\left(2 \\right)} \\log{\\left(\\sin{\\left(x_{0} \\right)} + 1 \\right)} \\sin^{2}{\\left(x_{0} \\right)} - 16 \\log{\\left(2 \\right)} \\log{\\left(\\sin{\\left(x_{0} \\right)} + 1 \\right)} \\sin{\\left(x_{0} \\right)} - 8 \\log{\\left(2 \\right)} \\log{\\left(\\sin{\\left(x_{0} \\right)} + 1 \\right)} + 8 \\log{\\left(2 \\right)}^{2} \\sin{\\left(x_{0} \\right)} + 8 \\log{\\left(2 \\right)}^{2}} - \\frac{2 \\log{\\left(1 - \\sin{\\left(x_{0} \\right)} \\right)} \\sin{\\left(x_{0} \\right)}}{2 \\log{\\left(1 - \\sin{\\left(x_{0} \\right)} \\right)}^{2} \\sin^{3}{\\left(x_{0} \\right)} - 2 \\log{\\left(1 - \\sin{\\left(x_{0} \\right)} \\right)}^{2} \\sin^{2}{\\left(x_{0} \\right)} - 2 \\log{\\left(1 - \\sin{\\left(x_{0} \\right)} \\right)}^{2} \\sin{\\left(x_{0} \\right)} + 2 \\log{\\left(1 - \\sin{\\left(x_{0} \\right)} \\right)}^{2} - 4 \\log{\\left(1 - \\sin{\\left(x_{0} \\right)} \\right)} \\log{\\left(\\sin{\\left(x_{0} \\right)} + 1 \\right)} \\sin^{3}{\\left(x_{0} \\right)} - 4 \\log{\\left(1 - \\sin{\\left(x_{0} \\right)} \\right)} \\log{\\left(\\sin{\\left(x_{0} \\right)} + 1 \\right)} \\sin^{2}{\\left(x_{0} \\right)} + 4 \\log{\\left(1 - \\sin{\\left(x_{0} \\right)} \\right)} \\log{\\left(\\sin{\\left(x_{0} \\right)} + 1 \\right)} \\sin{\\left(x_{0} \\right)} + 4 \\log{\\left(1 - \\sin{\\left(x_{0} \\right)} \\right)} \\log{\\left(\\sin{\\left(x_{0} \\right)} + 1 \\right)} + 8 \\log{\\left(2 \\right)} \\log{\\left(1 - \\sin{\\left(x_{0} \\right)} \\right)} \\sin^{2}{\\left(x_{0} \\right)} - 8 \\log{\\left(2 \\right)} \\log{\\left(1 - \\sin{\\left(x_{0} \\right)} \\right)} + 2 \\log{\\left(\\sin{\\left(x_{0} \\right)} + 1 \\right)}^{2} \\sin^{3}{\\left(x_{0} \\right)} + 6 \\log{\\left(\\sin{\\left(x_{0} \\right)} + 1 \\right)}^{2} \\sin^{2}{\\left(x_{0} \\right)} + 6 \\log{\\left(\\sin{\\left(x_{0} \\right)} + 1 \\right)}^{2} \\sin{\\left(x_{0} \\right)} + 2 \\log{\\left(\\sin{\\left(x_{0} \\right)} + 1 \\right)}^{2} - 8 \\log{\\left(2 \\right)} \\log{\\left(\\sin{\\left(x_{0} \\right)} + 1 \\right)} \\sin^{2}{\\left(x_{0} \\right)} - 16 \\log{\\left(2 \\right)} \\log{\\left(\\sin{\\left(x_{0} \\right)} + 1 \\right)} \\sin{\\left(x_{0} \\right)} - 8 \\log{\\left(2 \\right)} \\log{\\left(\\sin{\\left(x_{0} \\right)} + 1 \\right)} + 8 \\log{\\left(2 \\right)}^{2} \\sin{\\left(x_{0} \\right)} + 8 \\log{\\left(2 \\right)}^{2}} - \\frac{2 \\log{\\left(\\sin{\\left(x_{0} \\right)} + 1 \\right)} \\sin^{2}{\\left(x_{0} \\right)}}{2 \\log{\\left(1 - \\sin{\\left(x_{0} \\right)} \\right)}^{2} \\sin^{3}{\\left(x_{0} \\right)} - 2 \\log{\\left(1 - \\sin{\\left(x_{0} \\right)} \\right)}^{2} \\sin^{2}{\\left(x_{0} \\right)} - 2 \\log{\\left(1 - \\sin{\\left(x_{0} \\right)} \\right)}^{2} \\sin{\\left(x_{0} \\right)} + 2 \\log{\\left(1 - \\sin{\\left(x_{0} \\right)} \\right)}^{2} - 4 \\log{\\left(1 - \\sin{\\left(x_{0} \\right)} \\right)} \\log{\\left(\\sin{\\left(x_{0} \\right)} + 1 \\right)} \\sin^{3}{\\left(x_{0} \\right)} - 4 \\log{\\left(1 - \\sin{\\left(x_{0} \\right)} \\right)} \\log{\\left(\\sin{\\left(x_{0} \\right)} + 1 \\right)} \\sin^{2}{\\left(x_{0} \\right)} + 4 \\log{\\left(1 - \\sin{\\left(x_{0} \\right)} \\right)} \\log{\\left(\\sin{\\left(x_{0} \\right)} + 1 \\right)} \\sin{\\left(x_{0} \\right)} + 4 \\log{\\left(1 - \\sin{\\left(x_{0} \\right)} \\right)} \\log{\\left(\\sin{\\left(x_{0} \\right)} + 1 \\right)} + 8 \\log{\\left(2 \\right)} \\log{\\left(1 - \\sin{\\left(x_{0} \\right)} \\right)} \\sin^{2}{\\left(x_{0} \\right)} - 8 \\log{\\left(2 \\right)} \\log{\\left(1 - \\sin{\\left(x_{0} \\right)} \\right)} + 2 \\log{\\left(\\sin{\\left(x_{0} \\right)} + 1 \\right)}^{2} \\sin^{3}{\\left(x_{0} \\right)} + 6 \\log{\\left(\\sin{\\left(x_{0} \\right)} + 1 \\right)}^{2} \\sin^{2}{\\left(x_{0} \\right)} + 6 \\log{\\left(\\sin{\\left(x_{0} \\right)} + 1 \\right)}^{2} \\sin{\\left(x_{0} \\right)} + 2 \\log{\\left(\\sin{\\left(x_{0} \\right)} + 1 \\right)}^{2} - 8 \\log{\\left(2 \\right)} \\log{\\left(\\sin{\\left(x_{0} \\right)} + 1 \\right)} \\sin^{2}{\\left(x_{0} \\right)} - 16 \\log{\\left(2 \\right)} \\log{\\left(\\sin{\\left(x_{0} \\right)} + 1 \\right)} \\sin{\\left(x_{0} \\right)} - 8 \\log{\\left(2 \\right)} \\log{\\left(\\sin{\\left(x_{0} \\right)} + 1 \\right)} + 8 \\log{\\left(2 \\right)}^{2} \\sin{\\left(x_{0} \\right)} + 8 \\log{\\left(2 \\right)}^{2}} - \\frac{2 \\log{\\left(\\sin{\\left(x_{0} \\right)} + 1 \\right)} \\sin{\\left(x_{0} \\right)}}{2 \\log{\\left(1 - \\sin{\\left(x_{0} \\right)} \\right)}^{2} \\sin^{3}{\\left(x_{0} \\right)} - 2 \\log{\\left(1 - \\sin{\\left(x_{0} \\right)} \\right)}^{2} \\sin^{2}{\\left(x_{0} \\right)} - 2 \\log{\\left(1 - \\sin{\\left(x_{0} \\right)} \\right)}^{2} \\sin{\\left(x_{0} \\right)} + 2 \\log{\\left(1 - \\sin{\\left(x_{0} \\right)} \\right)}^{2} - 4 \\log{\\left(1 - \\sin{\\left(x_{0} \\right)} \\right)} \\log{\\left(\\sin{\\left(x_{0} \\right)} + 1 \\right)} \\sin^{3}{\\left(x_{0} \\right)} - 4 \\log{\\left(1 - \\sin{\\left(x_{0} \\right)} \\right)} \\log{\\left(\\sin{\\left(x_{0} \\right)} + 1 \\right)} \\sin^{2}{\\left(x_{0} \\right)} + 4 \\log{\\left(1 - \\sin{\\left(x_{0} \\right)} \\right)} \\log{\\left(\\sin{\\left(x_{0} \\right)} + 1 \\right)} \\sin{\\left(x_{0} \\right)} + 4 \\log{\\left(1 - \\sin{\\left(x_{0} \\right)} \\right)} \\log{\\left(\\sin{\\left(x_{0} \\right)} + 1 \\right)} + 8 \\log{\\left(2 \\right)} \\log{\\left(1 - \\sin{\\left(x_{0} \\right)} \\right)} \\sin^{2}{\\left(x_{0} \\right)} - 8 \\log{\\left(2 \\right)} \\log{\\left(1 - \\sin{\\left(x_{0} \\right)} \\right)} + 2 \\log{\\left(\\sin{\\left(x_{0} \\right)} + 1 \\right)}^{2} \\sin^{3}{\\left(x_{0} \\right)} + 6 \\log{\\left(\\sin{\\left(x_{0} \\right)} + 1 \\right)}^{2} \\sin^{2}{\\left(x_{0} \\right)} + 6 \\log{\\left(\\sin{\\left(x_{0} \\right)} + 1 \\right)}^{2} \\sin{\\left(x_{0} \\right)} + 2 \\log{\\left(\\sin{\\left(x_{0} \\right)} + 1 \\right)}^{2} - 8 \\log{\\left(2 \\right)} \\log{\\left(\\sin{\\left(x_{0} \\right)} + 1 \\right)} \\sin^{2}{\\left(x_{0} \\right)} - 16 \\log{\\left(2 \\right)} \\log{\\left(\\sin{\\left(x_{0} \\right)} + 1 \\right)} \\sin{\\left(x_{0} \\right)} - 8 \\log{\\left(2 \\right)} \\log{\\left(\\sin{\\left(x_{0} \\right)} + 1 \\right)} + 8 \\log{\\left(2 \\right)}^{2} \\sin{\\left(x_{0} \\right)} + 8 \\log{\\left(2 \\right)}^{2}} + \\frac{4 \\log{\\left(2 \\right)} \\sin{\\left(x_{0} \\right)}}{2 \\log{\\left(1 - \\sin{\\left(x_{0} \\right)} \\right)}^{2} \\sin^{3}{\\left(x_{0} \\right)} - 2 \\log{\\left(1 - \\sin{\\left(x_{0} \\right)} \\right)}^{2} \\sin^{2}{\\left(x_{0} \\right)} - 2 \\log{\\left(1 - \\sin{\\left(x_{0} \\right)} \\right)}^{2} \\sin{\\left(x_{0} \\right)} + 2 \\log{\\left(1 - \\sin{\\left(x_{0} \\right)} \\right)}^{2} - 4 \\log{\\left(1 - \\sin{\\left(x_{0} \\right)} \\right)} \\log{\\left(\\sin{\\left(x_{0} \\right)} + 1 \\right)} \\sin^{3}{\\left(x_{0} \\right)} - 4 \\log{\\left(1 - \\sin{\\left(x_{0} \\right)} \\right)} \\log{\\left(\\sin{\\left(x_{0} \\right)} + 1 \\right)} \\sin^{2}{\\left(x_{0} \\right)} + 4 \\log{\\left(1 - \\sin{\\left(x_{0} \\right)} \\right)} \\log{\\left(\\sin{\\left(x_{0} \\right)} + 1 \\right)} \\sin{\\left(x_{0} \\right)} + 4 \\log{\\left(1 - \\sin{\\left(x_{0} \\right)} \\right)} \\log{\\left(\\sin{\\left(x_{0} \\right)} + 1 \\right)} + 8 \\log{\\left(2 \\right)} \\log{\\left(1 - \\sin{\\left(x_{0} \\right)} \\right)} \\sin^{2}{\\left(x_{0} \\right)} - 8 \\log{\\left(2 \\right)} \\log{\\left(1 - \\sin{\\left(x_{0} \\right)} \\right)} + 2 \\log{\\left(\\sin{\\left(x_{0} \\right)} + 1 \\right)}^{2} \\sin^{3}{\\left(x_{0} \\right)} + 6 \\log{\\left(\\sin{\\left(x_{0} \\right)} + 1 \\right)}^{2} \\sin^{2}{\\left(x_{0} \\right)} + 6 \\log{\\left(\\sin{\\left(x_{0} \\right)} + 1 \\right)}^{2} \\sin{\\left(x_{0} \\right)} + 2 \\log{\\left(\\sin{\\left(x_{0} \\right)} + 1 \\right)}^{2} - 8 \\log{\\left(2 \\right)} \\log{\\left(\\sin{\\left(x_{0} \\right)} + 1 \\right)} \\sin^{2}{\\left(x_{0} \\right)} - 16 \\log{\\left(2 \\right)} \\log{\\left(\\sin{\\left(x_{0} \\right)} + 1 \\right)} \\sin{\\left(x_{0} \\right)} - 8 \\log{\\left(2 \\right)} \\log{\\left(\\sin{\\left(x_{0} \\right)} + 1 \\right)} + 8 \\log{\\left(2 \\right)}^{2} \\sin{\\left(x_{0} \\right)} + 8 \\log{\\left(2 \\right)}^{2}} + \\frac{4 \\cos^{2}{\\left(x_{0} \\right)}}{- 2 \\log{\\left(1 - \\sin{\\left(x_{0} \\right)} \\right)} \\sin^{3}{\\left(x_{0} \\right)} - 2 \\log{\\left(1 - \\sin{\\left(x_{0} \\right)} \\right)} \\sin^{2}{\\left(x_{0} \\right)} + 2 \\log{\\left(1 - \\sin{\\left(x_{0} \\right)} \\right)} \\sin{\\left(x_{0} \\right)} + 2 \\log{\\left(1 - \\sin{\\left(x_{0} \\right)} \\right)} + 2 \\log{\\left(\\sin{\\left(x_{0} \\right)} + 1 \\right)} \\sin^{3}{\\left(x_{0} \\right)} + 6 \\log{\\left(\\sin{\\left(x_{0} \\right)} + 1 \\right)} \\sin^{2}{\\left(x_{0} \\right)} + 6 \\log{\\left(\\sin{\\left(x_{0} \\right)} + 1 \\right)} \\sin{\\left(x_{0} \\right)} + 2 \\log{\\left(\\sin{\\left(x_{0} \\right)} + 1 \\right)} - 4 \\log{\\left(2 \\right)} \\sin^{2}{\\left(x_{0} \\right)} - 8 \\log{\\left(2 \\right)} \\sin{\\left(x_{0} \\right)} - 4 \\log{\\left(2 \\right)}} + \\frac{2 \\sin{\\left(x_{0} \\right)}}{- \\log{\\left(1 - \\sin{\\left(x_{0} \\right)} \\right)} \\sin^{2}{\\left(x_{0} \\right)} + \\log{\\left(1 - \\sin{\\left(x_{0} \\right)} \\right)} + \\log{\\left(\\sin{\\left(x_{0} \\right)} + 1 \\right)} \\sin^{2}{\\left(x_{0} \\right)} + 2 \\log{\\left(\\sin{\\left(x_{0} \\right)} + 1 \\right)} \\sin{\\left(x_{0} \\right)} + \\log{\\left(\\sin{\\left(x_{0} \\right)} + 1 \\right)} - 2 \\log{\\left(2 \\right)} \\sin{\\left(x_{0} \\right)} - 2 \\log{\\left(2 \\right)}}\\right) + O\\left(s^{3}\\right)$"
      ],
      "text/plain": [
       "s*(-4*log(1 - sin(x_0))*sin(x_0)*cos(x_0)/(2*log(1 - sin(x_0))**2*sin(x_0)**3 - 2*log(1 - sin(x_0))**2*sin(x_0)**2 - 2*log(1 - sin(x_0))**2*sin(x_0) + 2*log(1 - sin(x_0))**2 - 4*log(1 - sin(x_0))*log(sin(x_0) + 1)*sin(x_0)**3 - 4*log(1 - sin(x_0))*log(sin(x_0) + 1)*sin(x_0)**2 + 4*log(1 - sin(x_0))*log(sin(x_0) + 1)*sin(x_0) + 4*log(1 - sin(x_0))*log(sin(x_0) + 1) + 8*log(2)*log(1 - sin(x_0))*sin(x_0)**2 - 8*log(2)*log(1 - sin(x_0)) + 2*log(sin(x_0) + 1)**2*sin(x_0)**3 + 6*log(sin(x_0) + 1)**2*sin(x_0)**2 + 6*log(sin(x_0) + 1)**2*sin(x_0) + 2*log(sin(x_0) + 1)**2 - 8*log(2)*log(sin(x_0) + 1)*sin(x_0)**2 - 16*log(2)*log(sin(x_0) + 1)*sin(x_0) - 8*log(2)*log(sin(x_0) + 1) + 8*log(2)**2*sin(x_0) + 8*log(2)**2) + 4*log(1 - sin(x_0))*cos(x_0)/(2*log(1 - sin(x_0))**2*sin(x_0)**3 - 2*log(1 - sin(x_0))**2*sin(x_0)**2 - 2*log(1 - sin(x_0))**2*sin(x_0) + 2*log(1 - sin(x_0))**2 - 4*log(1 - sin(x_0))*log(sin(x_0) + 1)*sin(x_0)**3 - 4*log(1 - sin(x_0))*log(sin(x_0) + 1)*sin(x_0)**2 + 4*log(1 - sin(x_0))*log(sin(x_0) + 1)*sin(x_0) + 4*log(1 - sin(x_0))*log(sin(x_0) + 1) + 8*log(2)*log(1 - sin(x_0))*sin(x_0)**2 - 8*log(2)*log(1 - sin(x_0)) + 2*log(sin(x_0) + 1)**2*sin(x_0)**3 + 6*log(sin(x_0) + 1)**2*sin(x_0)**2 + 6*log(sin(x_0) + 1)**2*sin(x_0) + 2*log(sin(x_0) + 1)**2 - 8*log(2)*log(sin(x_0) + 1)*sin(x_0)**2 - 16*log(2)*log(sin(x_0) + 1)*sin(x_0) - 8*log(2)*log(sin(x_0) + 1) + 8*log(2)**2*sin(x_0) + 8*log(2)**2) + 4*log(sin(x_0) + 1)*sin(x_0)*cos(x_0)/(2*log(1 - sin(x_0))**2*sin(x_0)**3 - 2*log(1 - sin(x_0))**2*sin(x_0)**2 - 2*log(1 - sin(x_0))**2*sin(x_0) + 2*log(1 - sin(x_0))**2 - 4*log(1 - sin(x_0))*log(sin(x_0) + 1)*sin(x_0)**3 - 4*log(1 - sin(x_0))*log(sin(x_0) + 1)*sin(x_0)**2 + 4*log(1 - sin(x_0))*log(sin(x_0) + 1)*sin(x_0) + 4*log(1 - sin(x_0))*log(sin(x_0) + 1) + 8*log(2)*log(1 - sin(x_0))*sin(x_0)**2 - 8*log(2)*log(1 - sin(x_0)) + 2*log(sin(x_0) + 1)**2*sin(x_0)**3 + 6*log(sin(x_0) + 1)**2*sin(x_0)**2 + 6*log(sin(x_0) + 1)**2*sin(x_0) + 2*log(sin(x_0) + 1)**2 - 8*log(2)*log(sin(x_0) + 1)*sin(x_0)**2 - 16*log(2)*log(sin(x_0) + 1)*sin(x_0) - 8*log(2)*log(sin(x_0) + 1) + 8*log(2)**2*sin(x_0) + 8*log(2)**2) + 4*log(sin(x_0) + 1)*cos(x_0)/(2*log(1 - sin(x_0))**2*sin(x_0)**3 - 2*log(1 - sin(x_0))**2*sin(x_0)**2 - 2*log(1 - sin(x_0))**2*sin(x_0) + 2*log(1 - sin(x_0))**2 - 4*log(1 - sin(x_0))*log(sin(x_0) + 1)*sin(x_0)**3 - 4*log(1 - sin(x_0))*log(sin(x_0) + 1)*sin(x_0)**2 + 4*log(1 - sin(x_0))*log(sin(x_0) + 1)*sin(x_0) + 4*log(1 - sin(x_0))*log(sin(x_0) + 1) + 8*log(2)*log(1 - sin(x_0))*sin(x_0)**2 - 8*log(2)*log(1 - sin(x_0)) + 2*log(sin(x_0) + 1)**2*sin(x_0)**3 + 6*log(sin(x_0) + 1)**2*sin(x_0)**2 + 6*log(sin(x_0) + 1)**2*sin(x_0) + 2*log(sin(x_0) + 1)**2 - 8*log(2)*log(sin(x_0) + 1)*sin(x_0)**2 - 16*log(2)*log(sin(x_0) + 1)*sin(x_0) - 8*log(2)*log(sin(x_0) + 1) + 8*log(2)**2*sin(x_0) + 8*log(2)**2) - 8*log(2)*cos(x_0)/(2*log(1 - sin(x_0))**2*sin(x_0)**3 - 2*log(1 - sin(x_0))**2*sin(x_0)**2 - 2*log(1 - sin(x_0))**2*sin(x_0) + 2*log(1 - sin(x_0))**2 - 4*log(1 - sin(x_0))*log(sin(x_0) + 1)*sin(x_0)**3 - 4*log(1 - sin(x_0))*log(sin(x_0) + 1)*sin(x_0)**2 + 4*log(1 - sin(x_0))*log(sin(x_0) + 1)*sin(x_0) + 4*log(1 - sin(x_0))*log(sin(x_0) + 1) + 8*log(2)*log(1 - sin(x_0))*sin(x_0)**2 - 8*log(2)*log(1 - sin(x_0)) + 2*log(sin(x_0) + 1)**2*sin(x_0)**3 + 6*log(sin(x_0) + 1)**2*sin(x_0)**2 + 6*log(sin(x_0) + 1)**2*sin(x_0) + 2*log(sin(x_0) + 1)**2 - 8*log(2)*log(sin(x_0) + 1)*sin(x_0)**2 - 16*log(2)*log(sin(x_0) + 1)*sin(x_0) - 8*log(2)*log(sin(x_0) + 1) + 8*log(2)**2*sin(x_0) + 8*log(2)**2) - 4*cos(x_0)/(-log(1 - sin(x_0))*sin(x_0)**2 + log(1 - sin(x_0)) + log(sin(x_0) + 1)*sin(x_0)**2 + 2*log(sin(x_0) + 1)*sin(x_0) + log(sin(x_0) + 1) - 2*log(2)*sin(x_0) - 2*log(2))) + s**2*(4*log(1 - sin(x_0))*sin(x_0)*cos(x_0)**2/(4*log(1 - sin(x_0))**2*sin(x_0)**4 - 8*log(1 - sin(x_0))**2*sin(x_0)**2 + 4*log(1 - sin(x_0))**2 - 8*log(1 - sin(x_0))*log(sin(x_0) + 1)*sin(x_0)**4 - 16*log(1 - sin(x_0))*log(sin(x_0) + 1)*sin(x_0)**3 + 16*log(1 - sin(x_0))*log(sin(x_0) + 1)*sin(x_0) + 8*log(1 - sin(x_0))*log(sin(x_0) + 1) + 16*log(2)*log(1 - sin(x_0))*sin(x_0)**3 + 16*log(2)*log(1 - sin(x_0))*sin(x_0)**2 - 16*log(2)*log(1 - sin(x_0))*sin(x_0) - 16*log(2)*log(1 - sin(x_0)) + 4*log(sin(x_0) + 1)**2*sin(x_0)**4 + 16*log(sin(x_0) + 1)**2*sin(x_0)**3 + 24*log(sin(x_0) + 1)**2*sin(x_0)**2 + 16*log(sin(x_0) + 1)**2*sin(x_0) + 4*log(sin(x_0) + 1)**2 - 16*log(2)*log(sin(x_0) + 1)*sin(x_0)**3 - 48*log(2)*log(sin(x_0) + 1)*sin(x_0)**2 - 48*log(2)*log(sin(x_0) + 1)*sin(x_0) - 16*log(2)*log(sin(x_0) + 1) + 16*log(2)**2*sin(x_0)**2 + 32*log(2)**2*sin(x_0) + 16*log(2)**2) - 4*log(1 - sin(x_0))*cos(x_0)**2/(4*log(1 - sin(x_0))**2*sin(x_0)**4 - 8*log(1 - sin(x_0))**2*sin(x_0)**2 + 4*log(1 - sin(x_0))**2 - 8*log(1 - sin(x_0))*log(sin(x_0) + 1)*sin(x_0)**4 - 16*log(1 - sin(x_0))*log(sin(x_0) + 1)*sin(x_0)**3 + 16*log(1 - sin(x_0))*log(sin(x_0) + 1)*sin(x_0) + 8*log(1 - sin(x_0))*log(sin(x_0) + 1) + 16*log(2)*log(1 - sin(x_0))*sin(x_0)**3 + 16*log(2)*log(1 - sin(x_0))*sin(x_0)**2 - 16*log(2)*log(1 - sin(x_0))*sin(x_0) - 16*log(2)*log(1 - sin(x_0)) + 4*log(sin(x_0) + 1)**2*sin(x_0)**4 + 16*log(sin(x_0) + 1)**2*sin(x_0)**3 + 24*log(sin(x_0) + 1)**2*sin(x_0)**2 + 16*log(sin(x_0) + 1)**2*sin(x_0) + 4*log(sin(x_0) + 1)**2 - 16*log(2)*log(sin(x_0) + 1)*sin(x_0)**3 - 48*log(2)*log(sin(x_0) + 1)*sin(x_0)**2 - 48*log(2)*log(sin(x_0) + 1)*sin(x_0) - 16*log(2)*log(sin(x_0) + 1) + 16*log(2)**2*sin(x_0)**2 + 32*log(2)**2*sin(x_0) + 16*log(2)**2) - 4*log(sin(x_0) + 1)*sin(x_0)*cos(x_0)**2/(4*log(1 - sin(x_0))**2*sin(x_0)**4 - 8*log(1 - sin(x_0))**2*sin(x_0)**2 + 4*log(1 - sin(x_0))**2 - 8*log(1 - sin(x_0))*log(sin(x_0) + 1)*sin(x_0)**4 - 16*log(1 - sin(x_0))*log(sin(x_0) + 1)*sin(x_0)**3 + 16*log(1 - sin(x_0))*log(sin(x_0) + 1)*sin(x_0) + 8*log(1 - sin(x_0))*log(sin(x_0) + 1) + 16*log(2)*log(1 - sin(x_0))*sin(x_0)**3 + 16*log(2)*log(1 - sin(x_0))*sin(x_0)**2 - 16*log(2)*log(1 - sin(x_0))*sin(x_0) - 16*log(2)*log(1 - sin(x_0)) + 4*log(sin(x_0) + 1)**2*sin(x_0)**4 + 16*log(sin(x_0) + 1)**2*sin(x_0)**3 + 24*log(sin(x_0) + 1)**2*sin(x_0)**2 + 16*log(sin(x_0) + 1)**2*sin(x_0) + 4*log(sin(x_0) + 1)**2 - 16*log(2)*log(sin(x_0) + 1)*sin(x_0)**3 - 48*log(2)*log(sin(x_0) + 1)*sin(x_0)**2 - 48*log(2)*log(sin(x_0) + 1)*sin(x_0) - 16*log(2)*log(sin(x_0) + 1) + 16*log(2)**2*sin(x_0)**2 + 32*log(2)**2*sin(x_0) + 16*log(2)**2) - 4*log(sin(x_0) + 1)*cos(x_0)**2/(4*log(1 - sin(x_0))**2*sin(x_0)**4 - 8*log(1 - sin(x_0))**2*sin(x_0)**2 + 4*log(1 - sin(x_0))**2 - 8*log(1 - sin(x_0))*log(sin(x_0) + 1)*sin(x_0)**4 - 16*log(1 - sin(x_0))*log(sin(x_0) + 1)*sin(x_0)**3 + 16*log(1 - sin(x_0))*log(sin(x_0) + 1)*sin(x_0) + 8*log(1 - sin(x_0))*log(sin(x_0) + 1) + 16*log(2)*log(1 - sin(x_0))*sin(x_0)**3 + 16*log(2)*log(1 - sin(x_0))*sin(x_0)**2 - 16*log(2)*log(1 - sin(x_0))*sin(x_0) - 16*log(2)*log(1 - sin(x_0)) + 4*log(sin(x_0) + 1)**2*sin(x_0)**4 + 16*log(sin(x_0) + 1)**2*sin(x_0)**3 + 24*log(sin(x_0) + 1)**2*sin(x_0)**2 + 16*log(sin(x_0) + 1)**2*sin(x_0) + 4*log(sin(x_0) + 1)**2 - 16*log(2)*log(sin(x_0) + 1)*sin(x_0)**3 - 48*log(2)*log(sin(x_0) + 1)*sin(x_0)**2 - 48*log(2)*log(sin(x_0) + 1)*sin(x_0) - 16*log(2)*log(sin(x_0) + 1) + 16*log(2)**2*sin(x_0)**2 + 32*log(2)**2*sin(x_0) + 16*log(2)**2) + 8*log(2)*cos(x_0)**2/(4*log(1 - sin(x_0))**2*sin(x_0)**4 - 8*log(1 - sin(x_0))**2*sin(x_0)**2 + 4*log(1 - sin(x_0))**2 - 8*log(1 - sin(x_0))*log(sin(x_0) + 1)*sin(x_0)**4 - 16*log(1 - sin(x_0))*log(sin(x_0) + 1)*sin(x_0)**3 + 16*log(1 - sin(x_0))*log(sin(x_0) + 1)*sin(x_0) + 8*log(1 - sin(x_0))*log(sin(x_0) + 1) + 16*log(2)*log(1 - sin(x_0))*sin(x_0)**3 + 16*log(2)*log(1 - sin(x_0))*sin(x_0)**2 - 16*log(2)*log(1 - sin(x_0))*sin(x_0) - 16*log(2)*log(1 - sin(x_0)) + 4*log(sin(x_0) + 1)**2*sin(x_0)**4 + 16*log(sin(x_0) + 1)**2*sin(x_0)**3 + 24*log(sin(x_0) + 1)**2*sin(x_0)**2 + 16*log(sin(x_0) + 1)**2*sin(x_0) + 4*log(sin(x_0) + 1)**2 - 16*log(2)*log(sin(x_0) + 1)*sin(x_0)**3 - 48*log(2)*log(sin(x_0) + 1)*sin(x_0)**2 - 48*log(2)*log(sin(x_0) + 1)*sin(x_0) - 16*log(2)*log(sin(x_0) + 1) + 16*log(2)**2*sin(x_0)**2 + 32*log(2)**2*sin(x_0) + 16*log(2)**2) + 2*log(1 - sin(x_0))*sin(x_0)**2/(2*log(1 - sin(x_0))**2*sin(x_0)**3 - 2*log(1 - sin(x_0))**2*sin(x_0)**2 - 2*log(1 - sin(x_0))**2*sin(x_0) + 2*log(1 - sin(x_0))**2 - 4*log(1 - sin(x_0))*log(sin(x_0) + 1)*sin(x_0)**3 - 4*log(1 - sin(x_0))*log(sin(x_0) + 1)*sin(x_0)**2 + 4*log(1 - sin(x_0))*log(sin(x_0) + 1)*sin(x_0) + 4*log(1 - sin(x_0))*log(sin(x_0) + 1) + 8*log(2)*log(1 - sin(x_0))*sin(x_0)**2 - 8*log(2)*log(1 - sin(x_0)) + 2*log(sin(x_0) + 1)**2*sin(x_0)**3 + 6*log(sin(x_0) + 1)**2*sin(x_0)**2 + 6*log(sin(x_0) + 1)**2*sin(x_0) + 2*log(sin(x_0) + 1)**2 - 8*log(2)*log(sin(x_0) + 1)*sin(x_0)**2 - 16*log(2)*log(sin(x_0) + 1)*sin(x_0) - 8*log(2)*log(sin(x_0) + 1) + 8*log(2)**2*sin(x_0) + 8*log(2)**2) - 2*log(1 - sin(x_0))*sin(x_0)/(2*log(1 - sin(x_0))**2*sin(x_0)**3 - 2*log(1 - sin(x_0))**2*sin(x_0)**2 - 2*log(1 - sin(x_0))**2*sin(x_0) + 2*log(1 - sin(x_0))**2 - 4*log(1 - sin(x_0))*log(sin(x_0) + 1)*sin(x_0)**3 - 4*log(1 - sin(x_0))*log(sin(x_0) + 1)*sin(x_0)**2 + 4*log(1 - sin(x_0))*log(sin(x_0) + 1)*sin(x_0) + 4*log(1 - sin(x_0))*log(sin(x_0) + 1) + 8*log(2)*log(1 - sin(x_0))*sin(x_0)**2 - 8*log(2)*log(1 - sin(x_0)) + 2*log(sin(x_0) + 1)**2*sin(x_0)**3 + 6*log(sin(x_0) + 1)**2*sin(x_0)**2 + 6*log(sin(x_0) + 1)**2*sin(x_0) + 2*log(sin(x_0) + 1)**2 - 8*log(2)*log(sin(x_0) + 1)*sin(x_0)**2 - 16*log(2)*log(sin(x_0) + 1)*sin(x_0) - 8*log(2)*log(sin(x_0) + 1) + 8*log(2)**2*sin(x_0) + 8*log(2)**2) - 2*log(sin(x_0) + 1)*sin(x_0)**2/(2*log(1 - sin(x_0))**2*sin(x_0)**3 - 2*log(1 - sin(x_0))**2*sin(x_0)**2 - 2*log(1 - sin(x_0))**2*sin(x_0) + 2*log(1 - sin(x_0))**2 - 4*log(1 - sin(x_0))*log(sin(x_0) + 1)*sin(x_0)**3 - 4*log(1 - sin(x_0))*log(sin(x_0) + 1)*sin(x_0)**2 + 4*log(1 - sin(x_0))*log(sin(x_0) + 1)*sin(x_0) + 4*log(1 - sin(x_0))*log(sin(x_0) + 1) + 8*log(2)*log(1 - sin(x_0))*sin(x_0)**2 - 8*log(2)*log(1 - sin(x_0)) + 2*log(sin(x_0) + 1)**2*sin(x_0)**3 + 6*log(sin(x_0) + 1)**2*sin(x_0)**2 + 6*log(sin(x_0) + 1)**2*sin(x_0) + 2*log(sin(x_0) + 1)**2 - 8*log(2)*log(sin(x_0) + 1)*sin(x_0)**2 - 16*log(2)*log(sin(x_0) + 1)*sin(x_0) - 8*log(2)*log(sin(x_0) + 1) + 8*log(2)**2*sin(x_0) + 8*log(2)**2) - 2*log(sin(x_0) + 1)*sin(x_0)/(2*log(1 - sin(x_0))**2*sin(x_0)**3 - 2*log(1 - sin(x_0))**2*sin(x_0)**2 - 2*log(1 - sin(x_0))**2*sin(x_0) + 2*log(1 - sin(x_0))**2 - 4*log(1 - sin(x_0))*log(sin(x_0) + 1)*sin(x_0)**3 - 4*log(1 - sin(x_0))*log(sin(x_0) + 1)*sin(x_0)**2 + 4*log(1 - sin(x_0))*log(sin(x_0) + 1)*sin(x_0) + 4*log(1 - sin(x_0))*log(sin(x_0) + 1) + 8*log(2)*log(1 - sin(x_0))*sin(x_0)**2 - 8*log(2)*log(1 - sin(x_0)) + 2*log(sin(x_0) + 1)**2*sin(x_0)**3 + 6*log(sin(x_0) + 1)**2*sin(x_0)**2 + 6*log(sin(x_0) + 1)**2*sin(x_0) + 2*log(sin(x_0) + 1)**2 - 8*log(2)*log(sin(x_0) + 1)*sin(x_0)**2 - 16*log(2)*log(sin(x_0) + 1)*sin(x_0) - 8*log(2)*log(sin(x_0) + 1) + 8*log(2)**2*sin(x_0) + 8*log(2)**2) + 4*log(2)*sin(x_0)/(2*log(1 - sin(x_0))**2*sin(x_0)**3 - 2*log(1 - sin(x_0))**2*sin(x_0)**2 - 2*log(1 - sin(x_0))**2*sin(x_0) + 2*log(1 - sin(x_0))**2 - 4*log(1 - sin(x_0))*log(sin(x_0) + 1)*sin(x_0)**3 - 4*log(1 - sin(x_0))*log(sin(x_0) + 1)*sin(x_0)**2 + 4*log(1 - sin(x_0))*log(sin(x_0) + 1)*sin(x_0) + 4*log(1 - sin(x_0))*log(sin(x_0) + 1) + 8*log(2)*log(1 - sin(x_0))*sin(x_0)**2 - 8*log(2)*log(1 - sin(x_0)) + 2*log(sin(x_0) + 1)**2*sin(x_0)**3 + 6*log(sin(x_0) + 1)**2*sin(x_0)**2 + 6*log(sin(x_0) + 1)**2*sin(x_0) + 2*log(sin(x_0) + 1)**2 - 8*log(2)*log(sin(x_0) + 1)*sin(x_0)**2 - 16*log(2)*log(sin(x_0) + 1)*sin(x_0) - 8*log(2)*log(sin(x_0) + 1) + 8*log(2)**2*sin(x_0) + 8*log(2)**2) + 4*cos(x_0)**2/(-2*log(1 - sin(x_0))*sin(x_0)**3 - 2*log(1 - sin(x_0))*sin(x_0)**2 + 2*log(1 - sin(x_0))*sin(x_0) + 2*log(1 - sin(x_0)) + 2*log(sin(x_0) + 1)*sin(x_0)**3 + 6*log(sin(x_0) + 1)*sin(x_0)**2 + 6*log(sin(x_0) + 1)*sin(x_0) + 2*log(sin(x_0) + 1) - 4*log(2)*sin(x_0)**2 - 8*log(2)*sin(x_0) - 4*log(2)) + 2*sin(x_0)/(-log(1 - sin(x_0))*sin(x_0)**2 + log(1 - sin(x_0)) + log(sin(x_0) + 1)*sin(x_0)**2 + 2*log(sin(x_0) + 1)*sin(x_0) + log(sin(x_0) + 1) - 2*log(2)*sin(x_0) - 2*log(2))) + O(s**3)"
      ]
     },
     "execution_count": 92,
     "metadata": {},
     "output_type": "execute_result"
    }
   ],
   "source": [
    "sympy.series(objective, s, n=3)"
   ]
  },
  {
   "cell_type": "code",
   "execution_count": 93,
   "metadata": {},
   "outputs": [
    {
     "data": {
      "text/latex": [
       "$\\displaystyle \\frac{\\log{\\left(\\sin{\\left(x_{0} \\right)} + 1 \\right)} - \\log{\\left(\\sin{\\left(s + x_{0} \\right)} + 1 \\right)}}{- \\frac{\\left(\\sin{\\left(x_{0} \\right)} - 1\\right) \\log{\\left(\\frac{1}{2} - \\frac{\\sin{\\left(s + x_{0} \\right)}}{2} \\right)}}{2} + \\frac{\\left(\\sin{\\left(x_{0} \\right)} + 1\\right) \\log{\\left(\\frac{\\sin{\\left(s + x_{0} \\right)}}{2} + \\frac{1}{2} \\right)}}{2}}$"
      ],
      "text/plain": [
       "(log(sin(x_0) + 1) - log(sin(s + x_0) + 1))/(-(sin(x_0) - 1)*log(1/2 - sin(s + x_0)/2)/2 + (sin(x_0) + 1)*log(sin(s + x_0)/2 + 1/2)/2)"
      ]
     },
     "execution_count": 93,
     "metadata": {},
     "output_type": "execute_result"
    }
   ],
   "source": [
    "objective"
   ]
  },
  {
   "cell_type": "code",
   "execution_count": 94,
   "metadata": {},
   "outputs": [
    {
     "data": {
      "text/latex": [
       "$\\displaystyle \\sin^{2}{\\left(\\frac{x}{2} + \\frac{\\pi}{4} \\right)}$"
      ],
      "text/plain": [
       "sin(x/2 + pi/4)**2"
      ]
     },
     "execution_count": 94,
     "metadata": {},
     "output_type": "execute_result"
    }
   ],
   "source": [
    "p"
   ]
  },
  {
   "cell_type": "code",
   "execution_count": 104,
   "metadata": {},
   "outputs": [
    {
     "data": {
      "text/latex": [
       "$\\displaystyle - \\log{\\left(\\sin^{2}{\\left(\\frac{x}{2} + \\frac{\\pi}{4} \\right)} \\right)}$"
      ],
      "text/plain": [
       "-log(sin(x/2 + pi/4)**2)"
      ]
     },
     "execution_count": 104,
     "metadata": {},
     "output_type": "execute_result"
    }
   ],
   "source": [
    "l"
   ]
  },
  {
   "cell_type": "code",
   "execution_count": 109,
   "metadata": {},
   "outputs": [
    {
     "data": {
      "text/latex": [
       "$\\displaystyle - \\frac{1 + \\frac{\\cos^{2}{\\left(\\frac{2 x + \\pi}{4} \\right)}}{\\sin^{2}{\\left(\\frac{2 x + \\pi}{4} \\right)}}}{2} + \\frac{2 \\cos{\\left(\\frac{x}{2} + \\frac{\\pi}{4} \\right)}}{s \\sin{\\left(\\frac{x}{2} + \\frac{\\pi}{4} \\right)}}$"
      ],
      "text/plain": [
       "-(1 + cos((2*x + pi)/4)**2/sin((2*x + pi)/4)**2)/2 + 2*cos(x/2 + pi/4)/(s*sin(x/2 + pi/4))"
      ]
     },
     "execution_count": 109,
     "metadata": {},
     "output_type": "execute_result"
    }
   ],
   "source": [
    "2*l.diff(x)/s+l.diff(x,x)"
   ]
  },
  {
   "cell_type": "code",
   "execution_count": 110,
   "metadata": {},
   "outputs": [
    {
     "data": {
      "text/latex": [
       "$\\displaystyle - \\frac{s^{2} \\cdot \\left(1 + \\frac{\\cos^{2}{\\left(\\frac{2 x + \\pi}{4} \\right)}}{\\sin^{2}{\\left(\\frac{2 x + \\pi}{4} \\right)}}\\right)}{4} + \\frac{s \\cos{\\left(\\frac{x}{2} + \\frac{\\pi}{4} \\right)}}{\\sin{\\left(\\frac{x}{2} + \\frac{\\pi}{4} \\right)}}$"
      ],
      "text/plain": [
       "-s**2*(1 + cos((2*x + pi)/4)**2/sin((2*x + pi)/4)**2)/4 + s*cos(x/2 + pi/4)/sin(x/2 + pi/4)"
      ]
     },
     "execution_count": 110,
     "metadata": {},
     "output_type": "execute_result"
    }
   ],
   "source": [
    "loss_change = s*l.diff(x) + s**2/2*l.diff(x,x)\n",
    "loss_change"
   ]
  },
  {
   "cell_type": "code",
   "execution_count": 111,
   "metadata": {},
   "outputs": [],
   "source": [
    "ratio = simplify(loss_change/(s**2/2))"
   ]
  },
  {
   "cell_type": "code",
   "execution_count": 112,
   "metadata": {},
   "outputs": [
    {
     "data": {
      "text/latex": [
       "$\\displaystyle \\frac{2 \\cos{\\left(x \\right)}}{c \\sin{\\left(x \\right)} + c + 1}$"
      ],
      "text/plain": [
       "2*cos(x)/(c*sin(x) + c + 1)"
      ]
     },
     "execution_count": 112,
     "metadata": {},
     "output_type": "execute_result"
    }
   ],
   "source": [
    "solve(ratio-c,s)[0]"
   ]
  },
  {
   "cell_type": "code",
   "execution_count": 113,
   "metadata": {},
   "outputs": [],
   "source": [
    "t = symbols('t')"
   ]
  },
  {
   "cell_type": "code",
   "execution_count": 115,
   "metadata": {},
   "outputs": [
    {
     "data": {
      "text/latex": [
       "$\\displaystyle \\frac{\\sqrt{2} \\sqrt{t} \\cos{\\left(x \\right)} - t}{\\sin{\\left(x \\right)} + 1}$"
      ],
      "text/plain": [
       "(sqrt(2)*sqrt(t)*cos(x) - t)/(sin(x) + 1)"
      ]
     },
     "execution_count": 115,
     "metadata": {},
     "output_type": "execute_result"
    }
   ],
   "source": [
    "simplify(loss_change.subs(s, sympy.sqrt(2*t)))"
   ]
  },
  {
   "cell_type": "code",
   "execution_count": 116,
   "metadata": {},
   "outputs": [
    {
     "data": {
      "text/latex": [
       "$\\displaystyle \\sin^{2}{\\left(\\frac{x}{2} + \\frac{\\pi}{4} \\right)}$"
      ],
      "text/plain": [
       "sin(x/2 + pi/4)**2"
      ]
     },
     "execution_count": 116,
     "metadata": {},
     "output_type": "execute_result"
    }
   ],
   "source": [
    "p"
   ]
  },
  {
   "cell_type": "code",
   "execution_count": 130,
   "metadata": {},
   "outputs": [],
   "source": [
    "sigma,n, a = symbols(r'\\sigma n a')"
   ]
  },
  {
   "cell_type": "code",
   "execution_count": 135,
   "metadata": {},
   "outputs": [
    {
     "data": {
      "text/latex": [
       "$\\displaystyle - \\frac{2 \\sigma^{2} s \\left(n - 1\\right)}{a} + \\frac{\\cos{\\left(\\frac{s}{2} + \\frac{x_{0}}{2} + \\frac{\\pi}{4} \\right)}}{\\sin{\\left(\\frac{s}{2} + \\frac{x_{0}}{2} + \\frac{\\pi}{4} \\right)}}$"
      ],
      "text/plain": [
       "-2*\\sigma**2*s*(n - 1)/a + cos(s/2 + x_0/2 + pi/4)/sin(s/2 + x_0/2 + pi/4)"
      ]
     },
     "execution_count": 135,
     "metadata": {},
     "output_type": "execute_result"
    }
   ],
   "source": [
    "sympy.diff(sympy.log(p_0.subs(x_0,x_0+s)) - (n-1)*sigma**2*s**2/a,s)"
   ]
  },
  {
   "cell_type": "code",
   "execution_count": 124,
   "metadata": {},
   "outputs": [
    {
     "data": {
      "text/latex": [
       "$\\displaystyle /sigma$"
      ],
      "text/plain": [
       "/sigma"
      ]
     },
     "execution_count": 124,
     "metadata": {},
     "output_type": "execute_result"
    }
   ],
   "source": [
    "sigma"
   ]
  },
  {
   "cell_type": "code",
   "execution_count": 137,
   "metadata": {},
   "outputs": [],
   "source": [
    "p_1, p_2, q_1, q_2 = symbols('p_1 p_2 q_1 q_2')"
   ]
  },
  {
   "cell_type": "code",
   "execution_count": 139,
   "metadata": {},
   "outputs": [],
   "source": [
    "kl = -p_1*sympy.log(q_1)-p_2*sympy.log(q_2)-(1-p_1-p_2)*sympy.log(1-q_1-q_2)"
   ]
  },
  {
   "cell_type": "code",
   "execution_count": 141,
   "metadata": {},
   "outputs": [],
   "source": [
    "a = sympy.numbered_symbols('p')"
   ]
  },
  {
   "cell_type": "code",
   "execution_count": 144,
   "metadata": {},
   "outputs": [],
   "source": [
    "i = symbols('i')"
   ]
  },
  {
   "cell_type": "code",
   "execution_count": 150,
   "metadata": {},
   "outputs": [
    {
     "ename": "TypeError",
     "evalue": "can't multiply sequence by non-int of type 'Indexed'",
     "output_type": "error",
     "traceback": [
      "\u001b[0;31m---------------------------------------------------------------------------\u001b[0m",
      "\u001b[0;31mTypeError\u001b[0m                                 Traceback (most recent call last)",
      "Cell \u001b[0;32mIn[150], line 1\u001b[0m\n\u001b[0;32m----> 1\u001b[0m sympy\u001b[38;5;241m.\u001b[39mSum(sympy\u001b[38;5;241m.\u001b[39mtensor\u001b[38;5;241m.\u001b[39mindexed\u001b[38;5;241m.\u001b[39mIndexed(\u001b[38;5;124m'\u001b[39m\u001b[38;5;124mp\u001b[39m\u001b[38;5;124m'\u001b[39m,i),(i,\u001b[38;5;241m1\u001b[39m,\u001b[38;5;241m3\u001b[39m)\u001b[38;5;241m*\u001b[39msympy\u001b[38;5;241m.\u001b[39mtensor\u001b[38;5;241m.\u001b[39mindexed\u001b[38;5;241m.\u001b[39mIndexed(\u001b[38;5;124m'\u001b[39m\u001b[38;5;124mq\u001b[39m\u001b[38;5;124m'\u001b[39m,i),(i,\u001b[38;5;241m1\u001b[39m,\u001b[38;5;241m3\u001b[39m))\n",
      "\u001b[0;31mTypeError\u001b[0m: can't multiply sequence by non-int of type 'Indexed'"
     ]
    }
   ],
   "source": [
    "sympy.Sum(sympy.tensor.indexed.Indexed('p',i),(i,1,3)*sympy.tensor.indexed.Indexed('q',i),(i,1,3))"
   ]
  },
  {
   "cell_type": "code",
   "execution_count": 157,
   "metadata": {},
   "outputs": [
    {
     "data": {
      "text/latex": [
       "$\\displaystyle \\sum_{i=1}^{3} - \\log{\\left({q}_{i} \\right)} {p}_{i}$"
      ],
      "text/plain": [
       "Sum(-log(q[i])*p[i], (i, 1, 3))"
      ]
     },
     "execution_count": 157,
     "metadata": {},
     "output_type": "execute_result"
    }
   ],
   "source": []
  },
  {
   "cell_type": "code",
   "execution_count": 218,
   "metadata": {},
   "outputs": [
    {
     "data": {
      "text/latex": [
       "$\\displaystyle \\left(\\sum_{i=1}^{3} {p}_{i} - 1\\right) \\log{\\left(1 - \\sum_{i=1}^{3} {q}_{i} \\right)} + \\sum_{i=1}^{3} - \\log{\\left({q}_{i} \\right)} {p}_{i}$"
      ],
      "text/plain": [
       "(Sum(p[i], (i, 1, 3)) - 1)*log(1 - Sum(q[i], (i, 1, 3))) + Sum(-log(q[i])*p[i], (i, 1, 3))"
      ]
     },
     "execution_count": 218,
     "metadata": {},
     "output_type": "execute_result"
    }
   ],
   "source": [
    "p_i = sympy.tensor.indexed.Indexed('p',i)\n",
    "q_i = sympy.tensor.indexed.Indexed('q',i)\n",
    "k=4\n",
    "kl = -(1 - sympy.Sum(p_i,(i,1,k-1)))*sympy.log(1-sympy.Sum(q_i, (i,1,k-1))) + sympy.Sum(-p_i*sympy.log(q_i), (i, 1, k-1))\n",
    "kl"
   ]
  },
  {
   "cell_type": "code",
   "execution_count": 220,
   "metadata": {},
   "outputs": [
    {
     "ename": "ValueError",
     "evalue": "too many values to unpack (expected 2)",
     "output_type": "error",
     "traceback": [
      "\u001b[0;31m---------------------------------------------------------------------------\u001b[0m",
      "\u001b[0;31mValueError\u001b[0m                                Traceback (most recent call last)",
      "Cell \u001b[0;32mIn[220], line 1\u001b[0m\n\u001b[0;32m----> 1\u001b[0m simplify(kl\u001b[38;5;241m.\u001b[39mdiff(q_i,(i,\u001b[38;5;241m1\u001b[39m,k\u001b[38;5;241m-\u001b[39m\u001b[38;5;241m1\u001b[39m)))\n",
      "File \u001b[0;32m~/anaconda3/lib/python3.11/site-packages/sympy/core/expr.py:3555\u001b[0m, in \u001b[0;36mExpr.diff\u001b[0;34m(self, *symbols, **assumptions)\u001b[0m\n\u001b[1;32m   3553\u001b[0m \u001b[38;5;28;01mdef\u001b[39;00m \u001b[38;5;21mdiff\u001b[39m(\u001b[38;5;28mself\u001b[39m, \u001b[38;5;241m*\u001b[39msymbols, \u001b[38;5;241m*\u001b[39m\u001b[38;5;241m*\u001b[39massumptions):\n\u001b[1;32m   3554\u001b[0m     assumptions\u001b[38;5;241m.\u001b[39msetdefault(\u001b[38;5;124m\"\u001b[39m\u001b[38;5;124mevaluate\u001b[39m\u001b[38;5;124m\"\u001b[39m, \u001b[38;5;28;01mTrue\u001b[39;00m)\n\u001b[0;32m-> 3555\u001b[0m     \u001b[38;5;28;01mreturn\u001b[39;00m _derivative_dispatch(\u001b[38;5;28mself\u001b[39m, \u001b[38;5;241m*\u001b[39msymbols, \u001b[38;5;241m*\u001b[39m\u001b[38;5;241m*\u001b[39massumptions)\n",
      "File \u001b[0;32m~/anaconda3/lib/python3.11/site-packages/sympy/core/function.py:1914\u001b[0m, in \u001b[0;36m_derivative_dispatch\u001b[0;34m(expr, *variables, **kwargs)\u001b[0m\n\u001b[1;32m   1912\u001b[0m     \u001b[38;5;28;01mfrom\u001b[39;00m \u001b[38;5;21;01msympy\u001b[39;00m\u001b[38;5;21;01m.\u001b[39;00m\u001b[38;5;21;01mtensor\u001b[39;00m\u001b[38;5;21;01m.\u001b[39;00m\u001b[38;5;21;01marray\u001b[39;00m\u001b[38;5;21;01m.\u001b[39;00m\u001b[38;5;21;01marray_derivatives\u001b[39;00m \u001b[38;5;28;01mimport\u001b[39;00m ArrayDerivative\n\u001b[1;32m   1913\u001b[0m     \u001b[38;5;28;01mreturn\u001b[39;00m ArrayDerivative(expr, \u001b[38;5;241m*\u001b[39mvariables, \u001b[38;5;241m*\u001b[39m\u001b[38;5;241m*\u001b[39mkwargs)\n\u001b[0;32m-> 1914\u001b[0m \u001b[38;5;28;01mreturn\u001b[39;00m Derivative(expr, \u001b[38;5;241m*\u001b[39mvariables, \u001b[38;5;241m*\u001b[39m\u001b[38;5;241m*\u001b[39mkwargs)\n",
      "File \u001b[0;32m~/anaconda3/lib/python3.11/site-packages/sympy/core/function.py:1292\u001b[0m, in \u001b[0;36mDerivative.__new__\u001b[0;34m(cls, expr, *variables, **kwargs)\u001b[0m\n\u001b[1;32m   1290\u001b[0m         v \u001b[38;5;241m=\u001b[39m Array(v)\n\u001b[1;32m   1291\u001b[0m \u001b[38;5;28;01melse\u001b[39;00m:\n\u001b[0;32m-> 1292\u001b[0m     v, count \u001b[38;5;241m=\u001b[39m v\n\u001b[1;32m   1293\u001b[0m \u001b[38;5;28;01mif\u001b[39;00m count \u001b[38;5;241m==\u001b[39m \u001b[38;5;241m0\u001b[39m:\n\u001b[1;32m   1294\u001b[0m     \u001b[38;5;28;01mcontinue\u001b[39;00m\n",
      "\u001b[0;31mValueError\u001b[0m: too many values to unpack (expected 2)"
     ]
    }
   ],
   "source": [
    "simplify(kl.diff(q_i,(i,1,k-1)))"
   ]
  },
  {
   "cell_type": "code",
   "execution_count": 244,
   "metadata": {},
   "outputs": [
    {
     "data": {
      "text/latex": [
       "$\\displaystyle \\left[\\begin{matrix}\\frac{{p}_{2} - 1}{\\left({p}_{1} + {p}_{2} - 1\\right) {p}_{1}} & - \\frac{1}{{p}_{1} + {p}_{2} - 1}\\\\- \\frac{1}{{p}_{1} + {p}_{2} - 1} & \\frac{{p}_{1} - 1}{\\left({p}_{1} + {p}_{2} - 1\\right) {p}_{2}}\\end{matrix}\\right]$"
      ],
      "text/plain": [
       "Matrix([\n",
       "[(p[2] - 1)/((p[1] + p[2] - 1)*p[1]),                -1/(p[1] + p[2] - 1)],\n",
       "[               -1/(p[1] + p[2] - 1), (p[1] - 1)/((p[1] + p[2] - 1)*p[2])]])"
      ]
     },
     "execution_count": 244,
     "metadata": {},
     "output_type": "execute_result"
    }
   ],
   "source": [
    "k=3\n",
    "p = sympy.IndexedBase('p')\n",
    "q = sympy.IndexedBase('q')\n",
    "p_i = p[i]\n",
    "q_i = q[i]\n",
    "kl = -(1 - sympy.Sum(p_i,(i,1,k-1)))*sympy.log(1-sympy.Sum(q_i, (i,1,k-1))) + sympy.Sum(-p_i*sympy.log(q_i), (i, 1, k-1))\n",
    "hessian = simplify(sympy.matrices.dense.hessian(kl, [q[i] for i in range(1,k)]))\n",
    "fisher_information_matrix = simplify(hessian.subs(q,p))\n",
    "fisher_information_matrix"
   ]
  },
  {
   "cell_type": "code",
   "execution_count": 245,
   "metadata": {},
   "outputs": [],
   "source": [
    "p = Function('p')"
   ]
  },
  {
   "cell_type": "code",
   "execution_count": 262,
   "metadata": {},
   "outputs": [
    {
     "data": {
      "text/latex": [
       "$\\displaystyle \\left[\\begin{matrix}\\sum_{i=1}^{2} \\left(- \\frac{p{\\left({x}_{i} \\right)} \\delta_{1 i} \\frac{\\partial^{2}}{\\partial {\\hat{x}}_{i}^{2}} p{\\left({\\hat{x}}_{i} \\right)}}{p{\\left({\\hat{x}}_{i} \\right)}} + \\frac{p{\\left({x}_{i} \\right)} \\delta_{1 i} \\left(\\frac{\\partial}{\\partial {\\hat{x}}_{i}} p{\\left({\\hat{x}}_{i} \\right)}\\right)^{2}}{p^{2}{\\left({\\hat{x}}_{i} \\right)}}\\right) - \\frac{\\left(\\sum_{i=1}^{2} p{\\left({x}_{i} \\right)} - 1\\right) \\sum_{i=1}^{2} \\delta_{1 i} \\frac{\\partial^{2}}{\\partial {\\hat{x}}_{i}^{2}} p{\\left({\\hat{x}}_{i} \\right)}}{1 - \\sum_{i=1}^{2} p{\\left({\\hat{x}}_{i} \\right)}} - \\frac{\\left(\\sum_{i=1}^{2} p{\\left({x}_{i} \\right)} - 1\\right) \\left(\\sum_{i=1}^{2} \\delta_{1 i} \\frac{\\partial}{\\partial {\\hat{x}}_{i}} p{\\left({\\hat{x}}_{i} \\right)}\\right)^{2}}{\\left(1 - \\sum_{i=1}^{2} p{\\left({\\hat{x}}_{i} \\right)}\\right)^{2}} & \\sum_{i=1}^{2} \\left(- \\frac{p{\\left({x}_{i} \\right)} \\delta_{1 i} \\delta_{2 i} \\frac{\\partial^{2}}{\\partial {\\hat{x}}_{i}^{2}} p{\\left({\\hat{x}}_{i} \\right)}}{p{\\left({\\hat{x}}_{i} \\right)}} + \\frac{p{\\left({x}_{i} \\right)} \\delta_{1 i} \\delta_{2 i} \\left(\\frac{\\partial}{\\partial {\\hat{x}}_{i}} p{\\left({\\hat{x}}_{i} \\right)}\\right)^{2}}{p^{2}{\\left({\\hat{x}}_{i} \\right)}}\\right) - \\frac{\\left(\\sum_{i=1}^{2} p{\\left({x}_{i} \\right)} - 1\\right) \\sum_{i=1}^{2} \\delta_{1 i} \\delta_{2 i} \\frac{\\partial^{2}}{\\partial {\\hat{x}}_{i}^{2}} p{\\left({\\hat{x}}_{i} \\right)}}{1 - \\sum_{i=1}^{2} p{\\left({\\hat{x}}_{i} \\right)}} - \\frac{\\left(\\sum_{i=1}^{2} p{\\left({x}_{i} \\right)} - 1\\right) \\left(\\sum_{i=1}^{2} \\delta_{1 i} \\frac{\\partial}{\\partial {\\hat{x}}_{i}} p{\\left({\\hat{x}}_{i} \\right)}\\right) \\sum_{i=1}^{2} \\delta_{2 i} \\frac{\\partial}{\\partial {\\hat{x}}_{i}} p{\\left({\\hat{x}}_{i} \\right)}}{\\left(1 - \\sum_{i=1}^{2} p{\\left({\\hat{x}}_{i} \\right)}\\right)^{2}}\\\\\\sum_{i=1}^{2} \\left(- \\frac{p{\\left({x}_{i} \\right)} \\delta_{1 i} \\delta_{2 i} \\frac{\\partial^{2}}{\\partial {\\hat{x}}_{i}^{2}} p{\\left({\\hat{x}}_{i} \\right)}}{p{\\left({\\hat{x}}_{i} \\right)}} + \\frac{p{\\left({x}_{i} \\right)} \\delta_{1 i} \\delta_{2 i} \\left(\\frac{\\partial}{\\partial {\\hat{x}}_{i}} p{\\left({\\hat{x}}_{i} \\right)}\\right)^{2}}{p^{2}{\\left({\\hat{x}}_{i} \\right)}}\\right) - \\frac{\\left(\\sum_{i=1}^{2} p{\\left({x}_{i} \\right)} - 1\\right) \\sum_{i=1}^{2} \\delta_{1 i} \\delta_{2 i} \\frac{\\partial^{2}}{\\partial {\\hat{x}}_{i}^{2}} p{\\left({\\hat{x}}_{i} \\right)}}{1 - \\sum_{i=1}^{2} p{\\left({\\hat{x}}_{i} \\right)}} - \\frac{\\left(\\sum_{i=1}^{2} p{\\left({x}_{i} \\right)} - 1\\right) \\left(\\sum_{i=1}^{2} \\delta_{1 i} \\frac{\\partial}{\\partial {\\hat{x}}_{i}} p{\\left({\\hat{x}}_{i} \\right)}\\right) \\sum_{i=1}^{2} \\delta_{2 i} \\frac{\\partial}{\\partial {\\hat{x}}_{i}} p{\\left({\\hat{x}}_{i} \\right)}}{\\left(1 - \\sum_{i=1}^{2} p{\\left({\\hat{x}}_{i} \\right)}\\right)^{2}} & \\sum_{i=1}^{2} \\left(- \\frac{p{\\left({x}_{i} \\right)} \\delta_{2 i} \\frac{\\partial^{2}}{\\partial {\\hat{x}}_{i}^{2}} p{\\left({\\hat{x}}_{i} \\right)}}{p{\\left({\\hat{x}}_{i} \\right)}} + \\frac{p{\\left({x}_{i} \\right)} \\delta_{2 i} \\left(\\frac{\\partial}{\\partial {\\hat{x}}_{i}} p{\\left({\\hat{x}}_{i} \\right)}\\right)^{2}}{p^{2}{\\left({\\hat{x}}_{i} \\right)}}\\right) - \\frac{\\left(\\sum_{i=1}^{2} p{\\left({x}_{i} \\right)} - 1\\right) \\sum_{i=1}^{2} \\delta_{2 i} \\frac{\\partial^{2}}{\\partial {\\hat{x}}_{i}^{2}} p{\\left({\\hat{x}}_{i} \\right)}}{1 - \\sum_{i=1}^{2} p{\\left({\\hat{x}}_{i} \\right)}} - \\frac{\\left(\\sum_{i=1}^{2} p{\\left({x}_{i} \\right)} - 1\\right) \\left(\\sum_{i=1}^{2} \\delta_{2 i} \\frac{\\partial}{\\partial {\\hat{x}}_{i}} p{\\left({\\hat{x}}_{i} \\right)}\\right)^{2}}{\\left(1 - \\sum_{i=1}^{2} p{\\left({\\hat{x}}_{i} \\right)}\\right)^{2}}\\end{matrix}\\right]$"
      ],
      "text/plain": [
       "Matrix([\n",
       "[                                                                                                                                       Sum(-p(x[i])*KroneckerDelta(1, i)*Derivative(p(\\hat{x}[i]), (\\hat{x}[i], 2))/p(\\hat{x}[i]) + p(x[i])*KroneckerDelta(1, i)*Derivative(p(\\hat{x}[i]), \\hat{x}[i])**2/p(\\hat{x}[i])**2, (i, 1, 2)) - (Sum(p(x[i]), (i, 1, 2)) - 1)*Sum(KroneckerDelta(1, i)*Derivative(p(\\hat{x}[i]), (\\hat{x}[i], 2)), (i, 1, 2))/(1 - Sum(p(\\hat{x}[i]), (i, 1, 2))) - (Sum(p(x[i]), (i, 1, 2)) - 1)*Sum(KroneckerDelta(1, i)*Derivative(p(\\hat{x}[i]), \\hat{x}[i]), (i, 1, 2))**2/(1 - Sum(p(\\hat{x}[i]), (i, 1, 2)))**2, Sum(-p(x[i])*KroneckerDelta(1, i)*KroneckerDelta(2, i)*Derivative(p(\\hat{x}[i]), (\\hat{x}[i], 2))/p(\\hat{x}[i]) + p(x[i])*KroneckerDelta(1, i)*KroneckerDelta(2, i)*Derivative(p(\\hat{x}[i]), \\hat{x}[i])**2/p(\\hat{x}[i])**2, (i, 1, 2)) - (Sum(p(x[i]), (i, 1, 2)) - 1)*Sum(KroneckerDelta(1, i)*KroneckerDelta(2, i)*Derivative(p(\\hat{x}[i]), (\\hat{x}[i], 2)), (i, 1, 2))/(1 - Sum(p(\\hat{x}[i]), (i, 1, 2))) - (Sum(p(x[i]), (i, 1, 2)) - 1)*Sum(KroneckerDelta(1, i)*Derivative(p(\\hat{x}[i]), \\hat{x}[i]), (i, 1, 2))*Sum(KroneckerDelta(2, i)*Derivative(p(\\hat{x}[i]), \\hat{x}[i]), (i, 1, 2))/(1 - Sum(p(\\hat{x}[i]), (i, 1, 2)))**2],\n",
       "[Sum(-p(x[i])*KroneckerDelta(1, i)*KroneckerDelta(2, i)*Derivative(p(\\hat{x}[i]), (\\hat{x}[i], 2))/p(\\hat{x}[i]) + p(x[i])*KroneckerDelta(1, i)*KroneckerDelta(2, i)*Derivative(p(\\hat{x}[i]), \\hat{x}[i])**2/p(\\hat{x}[i])**2, (i, 1, 2)) - (Sum(p(x[i]), (i, 1, 2)) - 1)*Sum(KroneckerDelta(1, i)*KroneckerDelta(2, i)*Derivative(p(\\hat{x}[i]), (\\hat{x}[i], 2)), (i, 1, 2))/(1 - Sum(p(\\hat{x}[i]), (i, 1, 2))) - (Sum(p(x[i]), (i, 1, 2)) - 1)*Sum(KroneckerDelta(1, i)*Derivative(p(\\hat{x}[i]), \\hat{x}[i]), (i, 1, 2))*Sum(KroneckerDelta(2, i)*Derivative(p(\\hat{x}[i]), \\hat{x}[i]), (i, 1, 2))/(1 - Sum(p(\\hat{x}[i]), (i, 1, 2)))**2,                                                                                                                                        Sum(-p(x[i])*KroneckerDelta(2, i)*Derivative(p(\\hat{x}[i]), (\\hat{x}[i], 2))/p(\\hat{x}[i]) + p(x[i])*KroneckerDelta(2, i)*Derivative(p(\\hat{x}[i]), \\hat{x}[i])**2/p(\\hat{x}[i])**2, (i, 1, 2)) - (Sum(p(x[i]), (i, 1, 2)) - 1)*Sum(KroneckerDelta(2, i)*Derivative(p(\\hat{x}[i]), (\\hat{x}[i], 2)), (i, 1, 2))/(1 - Sum(p(\\hat{x}[i]), (i, 1, 2))) - (Sum(p(x[i]), (i, 1, 2)) - 1)*Sum(KroneckerDelta(2, i)*Derivative(p(\\hat{x}[i]), \\hat{x}[i]), (i, 1, 2))**2/(1 - Sum(p(\\hat{x}[i]), (i, 1, 2)))**2]])"
      ]
     },
     "execution_count": 262,
     "metadata": {},
     "output_type": "execute_result"
    }
   ],
   "source": [
    "x_hat = sympy.IndexedBase(r'\\hat{x}')\n",
    "x = sympy.IndexedBase('x')\n",
    "x_hat_i = x_hat[i]\n",
    "x_i = x[i]\n",
    "kl = -(1 - sympy.Sum(p(x_i),(i,1,k-1)))*sympy.log(1-sympy.Sum(p(x_hat_i), (i,1,k-1))) + sympy.Sum(-p(x_i)*sympy.log(p(x_hat_i)), (i, 1, k-1))\n",
    "hessian = sympy.matrices.dense.hessian(kl, [x_hat[i] for i in range(1,k)])\n",
    "fisher_information_matrix = "
   ]
  },
  {
   "cell_type": "code",
   "execution_count": 264,
   "metadata": {},
   "outputs": [
    {
     "data": {
      "text/latex": [
       "$\\displaystyle \\left[\\begin{matrix}\\frac{\\left(\\frac{\\partial}{\\partial {x}_{1}} p{\\left({x}_{1} \\right)}\\right)^{2}}{p{\\left({x}_{1} \\right)}} - \\frac{\\left(\\frac{\\partial}{\\partial {x}_{1}} p{\\left({x}_{1} \\right)}\\right)^{2}}{p{\\left({x}_{1} \\right)} + p{\\left({x}_{2} \\right)} - 1} & - \\frac{\\frac{\\partial}{\\partial {x}_{1}} p{\\left({x}_{1} \\right)} \\frac{\\partial}{\\partial {x}_{2}} p{\\left({x}_{2} \\right)}}{p{\\left({x}_{1} \\right)} + p{\\left({x}_{2} \\right)} - 1}\\\\- \\frac{\\frac{\\partial}{\\partial {x}_{1}} p{\\left({x}_{1} \\right)} \\frac{\\partial}{\\partial {x}_{2}} p{\\left({x}_{2} \\right)}}{p{\\left({x}_{1} \\right)} + p{\\left({x}_{2} \\right)} - 1} & \\frac{\\left(\\frac{\\partial}{\\partial {x}_{2}} p{\\left({x}_{2} \\right)}\\right)^{2}}{p{\\left({x}_{2} \\right)}} - \\frac{\\left(\\frac{\\partial}{\\partial {x}_{2}} p{\\left({x}_{2} \\right)}\\right)^{2}}{p{\\left({x}_{1} \\right)} + p{\\left({x}_{2} \\right)} - 1}\\end{matrix}\\right]$"
      ],
      "text/plain": [
       "Matrix([\n",
       "[Derivative(p(x[1]), x[1])**2/p(x[1]) - Derivative(p(x[1]), x[1])**2/(p(x[1]) + p(x[2]) - 1),                -Derivative(p(x[1]), x[1])*Derivative(p(x[2]), x[2])/(p(x[1]) + p(x[2]) - 1)],\n",
       "[               -Derivative(p(x[1]), x[1])*Derivative(p(x[2]), x[2])/(p(x[1]) + p(x[2]) - 1), Derivative(p(x[2]), x[2])**2/p(x[2]) - Derivative(p(x[2]), x[2])**2/(p(x[1]) + p(x[2]) - 1)]])"
      ]
     },
     "execution_count": 264,
     "metadata": {},
     "output_type": "execute_result"
    }
   ],
   "source": [
    "simplify(sympy.matrices.dense.hessian(kl, [x_hat[i] for i in range(1,k)]).subs(x_hat,x))"
   ]
  },
  {
   "cell_type": "code",
   "execution_count": 265,
   "metadata": {},
   "outputs": [
    {
     "data": {
      "text/latex": [
       "$\\displaystyle \\left[\\begin{matrix}\\frac{\\left(- {p}_{1} - {p}_{2} + 1\\right) {q}_{1}^{2} + \\left({q}_{1} + {q}_{2} - 1\\right)^{2} {p}_{1}}{\\left({q}_{1} + {q}_{2} - 1\\right)^{2} {q}_{1}^{2}} & \\frac{- {p}_{1} - {p}_{2} + 1}{\\left({q}_{1} + {q}_{2}\\right)^{2} - 2 {q}_{1} - 2 {q}_{2} + 1}\\\\\\frac{- {p}_{1} - {p}_{2} + 1}{\\left({q}_{1} + {q}_{2}\\right)^{2} - 2 {q}_{1} - 2 {q}_{2} + 1} & \\frac{\\left(- {p}_{1} - {p}_{2} + 1\\right) {q}_{2}^{2} + \\left({q}_{1} + {q}_{2} - 1\\right)^{2} {p}_{2}}{\\left({q}_{1} + {q}_{2} - 1\\right)^{2} {q}_{2}^{2}}\\end{matrix}\\right]$"
      ],
      "text/plain": [
       "Matrix([\n",
       "[((-p[1] - p[2] + 1)*q[1]**2 + (q[1] + q[2] - 1)**2*p[1])/((q[1] + q[2] - 1)**2*q[1]**2),                             (-p[1] - p[2] + 1)/((q[1] + q[2])**2 - 2*q[1] - 2*q[2] + 1)],\n",
       "[                            (-p[1] - p[2] + 1)/((q[1] + q[2])**2 - 2*q[1] - 2*q[2] + 1), ((-p[1] - p[2] + 1)*q[2]**2 + (q[1] + q[2] - 1)**2*p[2])/((q[1] + q[2] - 1)**2*q[2]**2)]])"
      ]
     },
     "execution_count": 265,
     "metadata": {},
     "output_type": "execute_result"
    }
   ],
   "source": [
    "simplify(hessian.subs(x_hat,x))"
   ]
  },
  {
   "cell_type": "code",
   "execution_count": 275,
   "metadata": {},
   "outputs": [
    {
     "data": {
      "text/latex": [
       "$\\displaystyle \\left[\\begin{matrix}\\sum_{i=1}^{3} \\left(- \\frac{\\partial^{2}}{\\partial {x}_{i}^{2}} p{\\left({x}_{i} \\right)} + \\frac{\\left(\\frac{\\partial}{\\partial {x}_{i}} p{\\left({x}_{i} \\right)}\\right)^{2}}{p{\\left({x}_{i} \\right)}}\\right) \\delta_{1 i} & \\sum_{i=1}^{3} \\left(- \\frac{\\partial^{2}}{\\partial {x}_{i}^{2}} p{\\left({x}_{i} \\right)} + \\frac{\\left(\\frac{\\partial}{\\partial {x}_{i}} p{\\left({x}_{i} \\right)}\\right)^{2}}{p{\\left({x}_{i} \\right)}}\\right) \\delta_{1 i} \\delta_{2 i} & \\sum_{i=1}^{3} \\left(- \\frac{\\partial^{2}}{\\partial {x}_{i}^{2}} p{\\left({x}_{i} \\right)} + \\frac{\\left(\\frac{\\partial}{\\partial {x}_{i}} p{\\left({x}_{i} \\right)}\\right)^{2}}{p{\\left({x}_{i} \\right)}}\\right) \\delta_{1 i} \\delta_{3 i}\\\\\\sum_{i=1}^{3} \\left(- \\frac{\\partial^{2}}{\\partial {x}_{i}^{2}} p{\\left({x}_{i} \\right)} + \\frac{\\left(\\frac{\\partial}{\\partial {x}_{i}} p{\\left({x}_{i} \\right)}\\right)^{2}}{p{\\left({x}_{i} \\right)}}\\right) \\delta_{1 i} \\delta_{2 i} & \\sum_{i=1}^{3} \\left(- \\frac{\\partial^{2}}{\\partial {x}_{i}^{2}} p{\\left({x}_{i} \\right)} + \\frac{\\left(\\frac{\\partial}{\\partial {x}_{i}} p{\\left({x}_{i} \\right)}\\right)^{2}}{p{\\left({x}_{i} \\right)}}\\right) \\delta_{2 i} & \\sum_{i=1}^{3} \\left(- \\frac{\\partial^{2}}{\\partial {x}_{i}^{2}} p{\\left({x}_{i} \\right)} + \\frac{\\left(\\frac{\\partial}{\\partial {x}_{i}} p{\\left({x}_{i} \\right)}\\right)^{2}}{p{\\left({x}_{i} \\right)}}\\right) \\delta_{2 i} \\delta_{3 i}\\\\\\sum_{i=1}^{3} \\left(- \\frac{\\partial^{2}}{\\partial {x}_{i}^{2}} p{\\left({x}_{i} \\right)} + \\frac{\\left(\\frac{\\partial}{\\partial {x}_{i}} p{\\left({x}_{i} \\right)}\\right)^{2}}{p{\\left({x}_{i} \\right)}}\\right) \\delta_{1 i} \\delta_{3 i} & \\sum_{i=1}^{3} \\left(- \\frac{\\partial^{2}}{\\partial {x}_{i}^{2}} p{\\left({x}_{i} \\right)} + \\frac{\\left(\\frac{\\partial}{\\partial {x}_{i}} p{\\left({x}_{i} \\right)}\\right)^{2}}{p{\\left({x}_{i} \\right)}}\\right) \\delta_{2 i} \\delta_{3 i} & \\sum_{i=1}^{3} \\left(- \\frac{\\partial^{2}}{\\partial {x}_{i}^{2}} p{\\left({x}_{i} \\right)} + \\frac{\\left(\\frac{\\partial}{\\partial {x}_{i}} p{\\left({x}_{i} \\right)}\\right)^{2}}{p{\\left({x}_{i} \\right)}}\\right) \\delta_{3 i}\\end{matrix}\\right]$"
      ],
      "text/plain": [
       "Matrix([\n",
       "[                     Sum((-Derivative(p(x[i]), (x[i], 2)) + Derivative(p(x[i]), x[i])**2/p(x[i]))*KroneckerDelta(1, i), (i, 1, 3)), Sum((-Derivative(p(x[i]), (x[i], 2)) + Derivative(p(x[i]), x[i])**2/p(x[i]))*KroneckerDelta(1, i)*KroneckerDelta(2, i), (i, 1, 3)), Sum((-Derivative(p(x[i]), (x[i], 2)) + Derivative(p(x[i]), x[i])**2/p(x[i]))*KroneckerDelta(1, i)*KroneckerDelta(3, i), (i, 1, 3))],\n",
       "[Sum((-Derivative(p(x[i]), (x[i], 2)) + Derivative(p(x[i]), x[i])**2/p(x[i]))*KroneckerDelta(1, i)*KroneckerDelta(2, i), (i, 1, 3)),                      Sum((-Derivative(p(x[i]), (x[i], 2)) + Derivative(p(x[i]), x[i])**2/p(x[i]))*KroneckerDelta(2, i), (i, 1, 3)), Sum((-Derivative(p(x[i]), (x[i], 2)) + Derivative(p(x[i]), x[i])**2/p(x[i]))*KroneckerDelta(2, i)*KroneckerDelta(3, i), (i, 1, 3))],\n",
       "[Sum((-Derivative(p(x[i]), (x[i], 2)) + Derivative(p(x[i]), x[i])**2/p(x[i]))*KroneckerDelta(1, i)*KroneckerDelta(3, i), (i, 1, 3)), Sum((-Derivative(p(x[i]), (x[i], 2)) + Derivative(p(x[i]), x[i])**2/p(x[i]))*KroneckerDelta(2, i)*KroneckerDelta(3, i), (i, 1, 3)),                      Sum((-Derivative(p(x[i]), (x[i], 2)) + Derivative(p(x[i]), x[i])**2/p(x[i]))*KroneckerDelta(3, i), (i, 1, 3))]])"
      ]
     },
     "execution_count": 275,
     "metadata": {},
     "output_type": "execute_result"
    }
   ],
   "source": [
    "k=3\n",
    "x_hat = sympy.IndexedBase(r'\\hat{x}')\n",
    "x = sympy.IndexedBase('x')\n",
    "x_hat_i = x_hat[i]\n",
    "x_i = x[i]\n",
    "kl = sympy.Sum(-p(x_i)*sympy.log(p(x_hat_i)), (i, 1, k))\n",
    "hessian = sympy.matrices.dense.hessian(kl, [x_hat[i] for i in range(1,k+1)])\n",
    "fisher_information_matrix = simplify(hessian.subs(x_hat,x))\n",
    "fisher_information_matrix"
   ]
  },
  {
   "cell_type": "code",
   "execution_count": 277,
   "metadata": {},
   "outputs": [
    {
     "data": {
      "text/latex": [
       "$\\displaystyle - \\frac{\\partial^{2}}{\\partial {x}_{1}^{2}} p{\\left({x}_{1} \\right)} - \\frac{\\partial^{2}}{\\partial {x}_{2}^{2}} p{\\left({x}_{2} \\right)} - \\frac{\\partial^{2}}{\\partial {x}_{3}^{2}} p{\\left({x}_{3} \\right)} + \\frac{\\left(\\frac{\\partial}{\\partial {x}_{3}} p{\\left({x}_{3} \\right)}\\right)^{2}}{p{\\left({x}_{3} \\right)}} + \\frac{\\left(\\frac{\\partial}{\\partial {x}_{2}} p{\\left({x}_{2} \\right)}\\right)^{2}}{p{\\left({x}_{2} \\right)}} + \\frac{\\left(\\frac{\\partial}{\\partial {x}_{1}} p{\\left({x}_{1} \\right)}\\right)^{2}}{p{\\left({x}_{1} \\right)}}$"
      ],
      "text/plain": [
       "-Derivative(p(x[1]), (x[1], 2)) - Derivative(p(x[2]), (x[2], 2)) - Derivative(p(x[3]), (x[3], 2)) + Derivative(p(x[3]), x[3])**2/p(x[3]) + Derivative(p(x[2]), x[2])**2/p(x[2]) + Derivative(p(x[1]), x[1])**2/p(x[1])"
      ]
     },
     "execution_count": 277,
     "metadata": {},
     "output_type": "execute_result"
    }
   ],
   "source": [
    "simplify(sympy.matrices.expressions.Trace(fisher_information_matrix))"
   ]
  },
  {
   "cell_type": "code",
   "execution_count": null,
   "metadata": {},
   "outputs": [],
   "source": [
    "sympy.log"
   ]
  },
  {
   "cell_type": "code",
   "execution_count": 3,
   "metadata": {},
   "outputs": [
    {
     "name": "stdout",
     "output_type": "stream",
     "text": [
      "2*E\n"
     ]
    },
    {
     "data": {
      "text/latex": [
       "$\\displaystyle 7$"
      ],
      "text/plain": [
       "7"
      ]
     },
     "execution_count": 3,
     "metadata": {},
     "output_type": "execute_result"
    }
   ],
   "source": [
    "from sympy import re, im, I, E, symbols\n",
    "x, y = symbols('x y', real=True)\n",
    "print(re(2*E))\n",
    "re(2*I + 17)\n",
    "re(2*I)\n",
    "re(im(x) + x*I + 2)\n",
    "re(5 + I + 2)"
   ]
  },
  {
   "cell_type": "code",
   "execution_count": 22,
   "metadata": {},
   "outputs": [],
   "source": [
    "f, v, s, c = symbols('f v s c', real=True)\n",
    "z,w  = symbols('z w')\n"
   ]
  },
  {
   "cell_type": "code",
   "execution_count": 23,
   "metadata": {},
   "outputs": [],
   "source": [
    "sols = solve(re(f-z*w)/im(w)-c, w)\n"
   ]
  },
  {
   "cell_type": "code",
   "execution_count": 24,
   "metadata": {},
   "outputs": [
    {
     "data": {
      "text/latex": [
       "$\\displaystyle \\frac{f + \\left(- c + i \\operatorname{re}{\\left(z\\right)} + \\operatorname{im}{\\left(z\\right)}\\right) \\operatorname{im}{\\left(w\\right)}}{\\operatorname{re}{\\left(z\\right)}}$"
      ],
      "text/plain": [
       "(f + (-c + I*re(z) + im(z))*im(w))/re(z)"
      ]
     },
     "execution_count": 24,
     "metadata": {},
     "output_type": "execute_result"
    }
   ],
   "source": [
    "sols[0][w]"
   ]
  },
  {
   "cell_type": "code",
   "execution_count": 25,
   "metadata": {},
   "outputs": [
    {
     "data": {
      "text/latex": [
       "$\\displaystyle \\frac{f - \\left(c - \\operatorname{im}{\\left(z\\right)}\\right) \\operatorname{im}{\\left(w\\right)}}{\\operatorname{re}{\\left(z\\right)}}$"
      ],
      "text/plain": [
       "(f - (c - im(z))*im(w))/re(z)"
      ]
     },
     "execution_count": 25,
     "metadata": {},
     "output_type": "execute_result"
    }
   ],
   "source": [
    "sols[0][re(w)]"
   ]
  },
  {
   "cell_type": "code",
   "execution_count": 26,
   "metadata": {},
   "outputs": [
    {
     "data": {
      "text/plain": [
       "{w: (f + (-c + I*re(z) + im(z))*im(w))/re(z),\n",
       " re(w): (f - (c - im(z))*im(w))/re(z)}"
      ]
     },
     "execution_count": 26,
     "metadata": {},
     "output_type": "execute_result"
    }
   ],
   "source": [
    "sols[0]"
   ]
  },
  {
   "cell_type": "code",
   "execution_count": 4,
   "metadata": {},
   "outputs": [
    {
     "data": {
      "text/plain": [
       "[-1, 1]"
      ]
     },
     "execution_count": 4,
     "metadata": {},
     "output_type": "execute_result"
    }
   ],
   "source": [
    "from sympy.solvers import solve\n",
    "\n",
    "solve(x**2 - 1, x)"
   ]
  },
  {
   "cell_type": "code",
   "execution_count": null,
   "metadata": {},
   "outputs": [],
   "source": []
  }
 ],
 "metadata": {
  "kernelspec": {
   "display_name": "base",
   "language": "python",
   "name": "python3"
  },
  "language_info": {
   "codemirror_mode": {
    "name": "ipython",
    "version": 3
   },
   "file_extension": ".py",
   "mimetype": "text/x-python",
   "name": "python",
   "nbconvert_exporter": "python",
   "pygments_lexer": "ipython3",
   "version": "3.11.8"
  }
 },
 "nbformat": 4,
 "nbformat_minor": 2
}
