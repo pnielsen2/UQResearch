{
 "cells": [
  {
   "cell_type": "code",
   "execution_count": 1,
   "metadata": {},
   "outputs": [],
   "source": [
    "import torch"
   ]
  },
  {
   "cell_type": "code",
   "execution_count": null,
   "metadata": {},
   "outputs": [],
   "source": [
    "class Network():\n",
    "    pass\n",
    "\n",
    "def play_exploration_game(network):\n",
    "    return explore_x, explore_winner, loss_reduction_preds\n",
    "\n",
    "def condition(network, x, y):\n",
    "    return conditioned_network\n",
    "\n",
    "def play_greedy_game(network):\n",
    "    return x, winner, prob_preds\n",
    "\n",
    "def prob_preds_loss(prob_preds, winner):\n",
    "    pass\n",
    "\n",
    "def loss_reduction_preds_loss(loss_reduction_preds, prob_preds_loss, conditional_prob_preds_loss):\n",
    "    pass\n",
    "\n",
    "def train_step(loss, optimizer):\n",
    "    pass"
   ]
  },
  {
   "cell_type": "code",
   "execution_count": null,
   "metadata": {},
   "outputs": [],
   "source": [
    "network = Network()\n",
    "optimizer = torch.optim.AdamW(network.parameters())\n",
    "while True:\n",
    "    explore_x, explore_winner, explore_network_loss_reduction_preds = play_exploration_game(network)\n",
    "    conditioned_network = condition(network, explore_x, explore_winner)\n",
    "    greedy_x, greedy_winner, greedy_network_prob_preds = play_greedy_game(network)\n",
    "    greedy_conditional_prob_preds, greedy_conditional_loss_reduction_preds = conditioned_network(greedy_x)\n",
    "    greedy_network_prob_preds_loss, greedy_conditional_prob_preds_loss = prob_preds_loss(greedy_network_prob_preds, greedy_winner), prob_preds_loss(greedy_conditional_prob_preds, greedy_winner)\n",
    "    network_loss_reduction_loss = loss_reduction_preds_loss(explore_network_loss_reduction_preds, greedy_network_prob_preds_loss.detach(), greedy_conditional_prob_preds_loss.detach())\n",
    "    conditioned_loss = greedy_conditional_prob_preds_loss + network_loss_reduction_loss\n",
    "    train_step(conditioned_loss, optimizer)"
   ]
  },
  {
   "cell_type": "code",
   "execution_count": null,
   "metadata": {},
   "outputs": [],
   "source": []
  }
 ],
 "metadata": {
  "kernelspec": {
   "display_name": "base",
   "language": "python",
   "name": "python3"
  },
  "language_info": {
   "codemirror_mode": {
    "name": "ipython",
    "version": 3
   },
   "file_extension": ".py",
   "mimetype": "text/x-python",
   "name": "python",
   "nbconvert_exporter": "python",
   "pygments_lexer": "ipython3",
   "version": "3.11.8"
  }
 },
 "nbformat": 4,
 "nbformat_minor": 2
}
